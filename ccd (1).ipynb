{
  "cells": [
    {
      "cell_type": "markdown",
      "metadata": {
        "id": "79b2e052"
      },
      "source": [
        "# Credit Card Default Analysis "
      ],
      "id": "79b2e052"
    },
    {
      "cell_type": "code",
      "execution_count": null,
      "metadata": {
        "id": "c35b73d1"
      },
      "outputs": [],
      "source": [
        "import math\n",
        "import numpy as np\n",
        "import pandas as pd\n",
        "import seaborn as sns\n",
        "import matplotlib.pyplot as plt\n",
        "import statsmodels.api as sm\n",
        "import statsmodels.formula.api as smf\n",
        "\n",
        "from sklearn.model_selection import train_test_split, GridSearchCV, StratifiedKFold\n",
        "from sklearn.impute import SimpleImputer\n",
        "from sklearn.preprocessing import OneHotEncoder, RobustScaler\n",
        "from sklearn.feature_selection import VarianceThreshold\n",
        "from sklearn.metrics import balanced_accuracy_score, roc_auc_score, roc_curve, plot_roc_curve, plot_confusion_matrix, classification_report, confusion_matrix\n",
        "\n",
        "from sklearn.tree import DecisionTreeClassifier\n",
        "from sklearn.ensemble import RandomForestClassifier, AdaBoostClassifier\n",
        "\n",
        "\n",
        "\n",
        "from sklearn.svm import SVC\n",
        "from matplotlib.colors import LinearSegmentedColormap\n",
        "import matplotlib.cm as cm\n",
        "import matplotlib.pyplot as plt\n",
        "from sklearn.metrics import classification_report\n",
        "from xgboost import XGBClassifier\n",
        "from sklearn.neural_network import MLPClassifier\n",
        "from sklearn.preprocessing import StandardScaler \n",
        "\n",
        "\n",
        "import warnings\n",
        "warnings.filterwarnings('ignore')"
      ],
      "id": "c35b73d1"
    },
    {
      "cell_type": "code",
      "execution_count": null,
      "metadata": {
        "id": "db337474"
      },
      "outputs": [],
      "source": [
        "from imblearn.over_sampling import RandomOverSampler\n",
        "from imblearn.over_sampling import SMOTE"
      ],
      "id": "db337474"
    },
    {
      "cell_type": "code",
      "execution_count": null,
      "metadata": {
        "id": "4f315c43"
      },
      "outputs": [],
      "source": [
        "from sklearn.linear_model import LogisticRegression"
      ],
      "id": "4f315c43"
    },
    {
      "cell_type": "code",
      "execution_count": null,
      "metadata": {
        "id": "ad6c365f"
      },
      "outputs": [],
      "source": [
        "from sklearn.preprocessing import MinMaxScaler\n",
        "from imblearn.over_sampling import ADASYN"
      ],
      "id": "ad6c365f"
    },
    {
      "cell_type": "code",
      "execution_count": null,
      "metadata": {
        "id": "e78234c4"
      },
      "outputs": [],
      "source": [
        "from sklearn.model_selection import KFold\n",
        "from sklearn.model_selection import RandomizedSearchCV\n",
        "from sklearn.model_selection import GridSearchCV\n",
        "from sklearn.model_selection import train_test_split\n",
        "from sklearn.model_selection import StratifiedShuffleSplit\n",
        "from sklearn.model_selection import cross_val_score\n",
        "from sklearn.model_selection import cross_validate\n",
        "\n",
        "from sklearn.preprocessing import StandardScaler\n",
        "from sklearn.pipeline import make_pipeline\n",
        "from sklearn.pipeline import Pipeline\n",
        "\n",
        "from sklearn import metrics  \n",
        "from sklearn.metrics import roc_auc_score\n",
        "from sklearn.metrics import confusion_matrix\n",
        "from sklearn.metrics import plot_confusion_matrix\n",
        "from sklearn.metrics import classification_report\n",
        "from sklearn.metrics import plot_roc_curve\n",
        "from sklearn.metrics import precision_recall_curve\n",
        "from sklearn.metrics import plot_precision_recall_curve\n"
      ],
      "id": "e78234c4"
    },
    {
      "cell_type": "code",
      "execution_count": null,
      "metadata": {
        "id": "e25c1249"
      },
      "outputs": [],
      "source": [
        "from imblearn.over_sampling import ADASYN"
      ],
      "id": "e25c1249"
    },
    {
      "cell_type": "code",
      "execution_count": null,
      "metadata": {
        "id": "f5a3042b"
      },
      "outputs": [],
      "source": [],
      "id": "f5a3042b"
    },
    {
      "cell_type": "code",
      "execution_count": null,
      "metadata": {
        "colab": {
          "base_uri": "https://localhost:8080/"
        },
        "id": "2a8f4bbd",
        "outputId": "3e2683ea-ab88-46d4-d49b-3e12936a0938"
      },
      "outputs": [
        {
          "output_type": "execute_result",
          "data": {
            "text/plain": [
              "(30000, 25)"
            ]
          },
          "metadata": {},
          "execution_count": 19
        }
      ],
      "source": [
        "df = pd.read_csv(\"UCI_Credit_Card.csv\")\n",
        "df.shape"
      ],
      "id": "2a8f4bbd"
    },
    {
      "cell_type": "markdown",
      "metadata": {
        "id": "ed81e406"
      },
      "source": [
        "##  Understanding the Data"
      ],
      "id": "ed81e406"
    },
    {
      "cell_type": "code",
      "execution_count": null,
      "metadata": {
        "colab": {
          "base_uri": "https://localhost:8080/",
          "height": 299
        },
        "id": "e886ec77",
        "outputId": "ae65cbc6-26f9-4c13-db2c-385e130e70d7"
      },
      "outputs": [
        {
          "output_type": "execute_result",
          "data": {
            "text/plain": [
              "   ID  LIMIT_BAL  SEX  EDUCATION  MARRIAGE  AGE  PAY_0  PAY_2  PAY_3  PAY_4  \\\n",
              "0   1    20000.0    2          2         1   24      2      2     -1     -1   \n",
              "1   2   120000.0    2          2         2   26     -1      2      0      0   \n",
              "2   3    90000.0    2          2         2   34      0      0      0      0   \n",
              "3   4    50000.0    2          2         1   37      0      0      0      0   \n",
              "4   5    50000.0    1          2         1   57     -1      0     -1      0   \n",
              "\n",
              "   ...  BILL_AMT4  BILL_AMT5  BILL_AMT6  PAY_AMT1  PAY_AMT2  PAY_AMT3  \\\n",
              "0  ...        0.0        0.0        0.0       0.0     689.0       0.0   \n",
              "1  ...     3272.0     3455.0     3261.0       0.0    1000.0    1000.0   \n",
              "2  ...    14331.0    14948.0    15549.0    1518.0    1500.0    1000.0   \n",
              "3  ...    28314.0    28959.0    29547.0    2000.0    2019.0    1200.0   \n",
              "4  ...    20940.0    19146.0    19131.0    2000.0   36681.0   10000.0   \n",
              "\n",
              "   PAY_AMT4  PAY_AMT5  PAY_AMT6  default.payment.next.month  \n",
              "0       0.0       0.0       0.0                           1  \n",
              "1    1000.0       0.0    2000.0                           1  \n",
              "2    1000.0    1000.0    5000.0                           0  \n",
              "3    1100.0    1069.0    1000.0                           0  \n",
              "4    9000.0     689.0     679.0                           0  \n",
              "\n",
              "[5 rows x 25 columns]"
            ],
            "text/html": [
              "\n",
              "  <div id=\"df-ee9c7e44-871e-4334-b55e-90c67a2436da\">\n",
              "    <div class=\"colab-df-container\">\n",
              "      <div>\n",
              "<style scoped>\n",
              "    .dataframe tbody tr th:only-of-type {\n",
              "        vertical-align: middle;\n",
              "    }\n",
              "\n",
              "    .dataframe tbody tr th {\n",
              "        vertical-align: top;\n",
              "    }\n",
              "\n",
              "    .dataframe thead th {\n",
              "        text-align: right;\n",
              "    }\n",
              "</style>\n",
              "<table border=\"1\" class=\"dataframe\">\n",
              "  <thead>\n",
              "    <tr style=\"text-align: right;\">\n",
              "      <th></th>\n",
              "      <th>ID</th>\n",
              "      <th>LIMIT_BAL</th>\n",
              "      <th>SEX</th>\n",
              "      <th>EDUCATION</th>\n",
              "      <th>MARRIAGE</th>\n",
              "      <th>AGE</th>\n",
              "      <th>PAY_0</th>\n",
              "      <th>PAY_2</th>\n",
              "      <th>PAY_3</th>\n",
              "      <th>PAY_4</th>\n",
              "      <th>...</th>\n",
              "      <th>BILL_AMT4</th>\n",
              "      <th>BILL_AMT5</th>\n",
              "      <th>BILL_AMT6</th>\n",
              "      <th>PAY_AMT1</th>\n",
              "      <th>PAY_AMT2</th>\n",
              "      <th>PAY_AMT3</th>\n",
              "      <th>PAY_AMT4</th>\n",
              "      <th>PAY_AMT5</th>\n",
              "      <th>PAY_AMT6</th>\n",
              "      <th>default.payment.next.month</th>\n",
              "    </tr>\n",
              "  </thead>\n",
              "  <tbody>\n",
              "    <tr>\n",
              "      <th>0</th>\n",
              "      <td>1</td>\n",
              "      <td>20000.0</td>\n",
              "      <td>2</td>\n",
              "      <td>2</td>\n",
              "      <td>1</td>\n",
              "      <td>24</td>\n",
              "      <td>2</td>\n",
              "      <td>2</td>\n",
              "      <td>-1</td>\n",
              "      <td>-1</td>\n",
              "      <td>...</td>\n",
              "      <td>0.0</td>\n",
              "      <td>0.0</td>\n",
              "      <td>0.0</td>\n",
              "      <td>0.0</td>\n",
              "      <td>689.0</td>\n",
              "      <td>0.0</td>\n",
              "      <td>0.0</td>\n",
              "      <td>0.0</td>\n",
              "      <td>0.0</td>\n",
              "      <td>1</td>\n",
              "    </tr>\n",
              "    <tr>\n",
              "      <th>1</th>\n",
              "      <td>2</td>\n",
              "      <td>120000.0</td>\n",
              "      <td>2</td>\n",
              "      <td>2</td>\n",
              "      <td>2</td>\n",
              "      <td>26</td>\n",
              "      <td>-1</td>\n",
              "      <td>2</td>\n",
              "      <td>0</td>\n",
              "      <td>0</td>\n",
              "      <td>...</td>\n",
              "      <td>3272.0</td>\n",
              "      <td>3455.0</td>\n",
              "      <td>3261.0</td>\n",
              "      <td>0.0</td>\n",
              "      <td>1000.0</td>\n",
              "      <td>1000.0</td>\n",
              "      <td>1000.0</td>\n",
              "      <td>0.0</td>\n",
              "      <td>2000.0</td>\n",
              "      <td>1</td>\n",
              "    </tr>\n",
              "    <tr>\n",
              "      <th>2</th>\n",
              "      <td>3</td>\n",
              "      <td>90000.0</td>\n",
              "      <td>2</td>\n",
              "      <td>2</td>\n",
              "      <td>2</td>\n",
              "      <td>34</td>\n",
              "      <td>0</td>\n",
              "      <td>0</td>\n",
              "      <td>0</td>\n",
              "      <td>0</td>\n",
              "      <td>...</td>\n",
              "      <td>14331.0</td>\n",
              "      <td>14948.0</td>\n",
              "      <td>15549.0</td>\n",
              "      <td>1518.0</td>\n",
              "      <td>1500.0</td>\n",
              "      <td>1000.0</td>\n",
              "      <td>1000.0</td>\n",
              "      <td>1000.0</td>\n",
              "      <td>5000.0</td>\n",
              "      <td>0</td>\n",
              "    </tr>\n",
              "    <tr>\n",
              "      <th>3</th>\n",
              "      <td>4</td>\n",
              "      <td>50000.0</td>\n",
              "      <td>2</td>\n",
              "      <td>2</td>\n",
              "      <td>1</td>\n",
              "      <td>37</td>\n",
              "      <td>0</td>\n",
              "      <td>0</td>\n",
              "      <td>0</td>\n",
              "      <td>0</td>\n",
              "      <td>...</td>\n",
              "      <td>28314.0</td>\n",
              "      <td>28959.0</td>\n",
              "      <td>29547.0</td>\n",
              "      <td>2000.0</td>\n",
              "      <td>2019.0</td>\n",
              "      <td>1200.0</td>\n",
              "      <td>1100.0</td>\n",
              "      <td>1069.0</td>\n",
              "      <td>1000.0</td>\n",
              "      <td>0</td>\n",
              "    </tr>\n",
              "    <tr>\n",
              "      <th>4</th>\n",
              "      <td>5</td>\n",
              "      <td>50000.0</td>\n",
              "      <td>1</td>\n",
              "      <td>2</td>\n",
              "      <td>1</td>\n",
              "      <td>57</td>\n",
              "      <td>-1</td>\n",
              "      <td>0</td>\n",
              "      <td>-1</td>\n",
              "      <td>0</td>\n",
              "      <td>...</td>\n",
              "      <td>20940.0</td>\n",
              "      <td>19146.0</td>\n",
              "      <td>19131.0</td>\n",
              "      <td>2000.0</td>\n",
              "      <td>36681.0</td>\n",
              "      <td>10000.0</td>\n",
              "      <td>9000.0</td>\n",
              "      <td>689.0</td>\n",
              "      <td>679.0</td>\n",
              "      <td>0</td>\n",
              "    </tr>\n",
              "  </tbody>\n",
              "</table>\n",
              "<p>5 rows × 25 columns</p>\n",
              "</div>\n",
              "      <button class=\"colab-df-convert\" onclick=\"convertToInteractive('df-ee9c7e44-871e-4334-b55e-90c67a2436da')\"\n",
              "              title=\"Convert this dataframe to an interactive table.\"\n",
              "              style=\"display:none;\">\n",
              "        \n",
              "  <svg xmlns=\"http://www.w3.org/2000/svg\" height=\"24px\"viewBox=\"0 0 24 24\"\n",
              "       width=\"24px\">\n",
              "    <path d=\"M0 0h24v24H0V0z\" fill=\"none\"/>\n",
              "    <path d=\"M18.56 5.44l.94 2.06.94-2.06 2.06-.94-2.06-.94-.94-2.06-.94 2.06-2.06.94zm-11 1L8.5 8.5l.94-2.06 2.06-.94-2.06-.94L8.5 2.5l-.94 2.06-2.06.94zm10 10l.94 2.06.94-2.06 2.06-.94-2.06-.94-.94-2.06-.94 2.06-2.06.94z\"/><path d=\"M17.41 7.96l-1.37-1.37c-.4-.4-.92-.59-1.43-.59-.52 0-1.04.2-1.43.59L10.3 9.45l-7.72 7.72c-.78.78-.78 2.05 0 2.83L4 21.41c.39.39.9.59 1.41.59.51 0 1.02-.2 1.41-.59l7.78-7.78 2.81-2.81c.8-.78.8-2.07 0-2.86zM5.41 20L4 18.59l7.72-7.72 1.47 1.35L5.41 20z\"/>\n",
              "  </svg>\n",
              "      </button>\n",
              "      \n",
              "  <style>\n",
              "    .colab-df-container {\n",
              "      display:flex;\n",
              "      flex-wrap:wrap;\n",
              "      gap: 12px;\n",
              "    }\n",
              "\n",
              "    .colab-df-convert {\n",
              "      background-color: #E8F0FE;\n",
              "      border: none;\n",
              "      border-radius: 50%;\n",
              "      cursor: pointer;\n",
              "      display: none;\n",
              "      fill: #1967D2;\n",
              "      height: 32px;\n",
              "      padding: 0 0 0 0;\n",
              "      width: 32px;\n",
              "    }\n",
              "\n",
              "    .colab-df-convert:hover {\n",
              "      background-color: #E2EBFA;\n",
              "      box-shadow: 0px 1px 2px rgba(60, 64, 67, 0.3), 0px 1px 3px 1px rgba(60, 64, 67, 0.15);\n",
              "      fill: #174EA6;\n",
              "    }\n",
              "\n",
              "    [theme=dark] .colab-df-convert {\n",
              "      background-color: #3B4455;\n",
              "      fill: #D2E3FC;\n",
              "    }\n",
              "\n",
              "    [theme=dark] .colab-df-convert:hover {\n",
              "      background-color: #434B5C;\n",
              "      box-shadow: 0px 1px 3px 1px rgba(0, 0, 0, 0.15);\n",
              "      filter: drop-shadow(0px 1px 2px rgba(0, 0, 0, 0.3));\n",
              "      fill: #FFFFFF;\n",
              "    }\n",
              "  </style>\n",
              "\n",
              "      <script>\n",
              "        const buttonEl =\n",
              "          document.querySelector('#df-ee9c7e44-871e-4334-b55e-90c67a2436da button.colab-df-convert');\n",
              "        buttonEl.style.display =\n",
              "          google.colab.kernel.accessAllowed ? 'block' : 'none';\n",
              "\n",
              "        async function convertToInteractive(key) {\n",
              "          const element = document.querySelector('#df-ee9c7e44-871e-4334-b55e-90c67a2436da');\n",
              "          const dataTable =\n",
              "            await google.colab.kernel.invokeFunction('convertToInteractive',\n",
              "                                                     [key], {});\n",
              "          if (!dataTable) return;\n",
              "\n",
              "          const docLinkHtml = 'Like what you see? Visit the ' +\n",
              "            '<a target=\"_blank\" href=https://colab.research.google.com/notebooks/data_table.ipynb>data table notebook</a>'\n",
              "            + ' to learn more about interactive tables.';\n",
              "          element.innerHTML = '';\n",
              "          dataTable['output_type'] = 'display_data';\n",
              "          await google.colab.output.renderOutput(dataTable, element);\n",
              "          const docLink = document.createElement('div');\n",
              "          docLink.innerHTML = docLinkHtml;\n",
              "          element.appendChild(docLink);\n",
              "        }\n",
              "      </script>\n",
              "    </div>\n",
              "  </div>\n",
              "  "
            ]
          },
          "metadata": {},
          "execution_count": 20
        }
      ],
      "source": [
        "df.head()"
      ],
      "id": "e886ec77"
    },
    {
      "cell_type": "code",
      "execution_count": null,
      "metadata": {
        "colab": {
          "base_uri": "https://localhost:8080/"
        },
        "id": "a3d90d10",
        "outputId": "b05fa20a-0603-4ad0-8c11-23b6402ccf38"
      },
      "outputs": [
        {
          "data": {
            "text/plain": [
              "Index(['ID', 'LIMIT_BAL', 'SEX', 'EDUCATION', 'MARRIAGE', 'AGE', 'PAY_0',\n",
              "       'PAY_2', 'PAY_3', 'PAY_4', 'PAY_5', 'PAY_6', 'BILL_AMT1', 'BILL_AMT2',\n",
              "       'BILL_AMT3', 'BILL_AMT4', 'BILL_AMT5', 'BILL_AMT6', 'PAY_AMT1',\n",
              "       'PAY_AMT2', 'PAY_AMT3', 'PAY_AMT4', 'PAY_AMT5', 'PAY_AMT6',\n",
              "       'default.payment.next.month'],\n",
              "      dtype='object')"
            ]
          },
          "execution_count": 8,
          "metadata": {},
          "output_type": "execute_result"
        }
      ],
      "source": [
        "df.columns"
      ],
      "id": "a3d90d10"
    },
    {
      "cell_type": "code",
      "execution_count": null,
      "metadata": {
        "id": "f20392f0"
      },
      "outputs": [],
      "source": [],
      "id": "f20392f0"
    },
    {
      "cell_type": "code",
      "execution_count": null,
      "metadata": {
        "colab": {
          "base_uri": "https://localhost:8080/"
        },
        "id": "e13ba3ec",
        "outputId": "d460327e-c95c-4135-e982-be925ba1d2aa"
      },
      "outputs": [
        {
          "name": "stdout",
          "output_type": "stream",
          "text": [
            " 0    95919\n",
            "-1    34640\n",
            "-2    24415\n",
            " 2    18964\n",
            " 1     3722\n",
            " 3     1430\n",
            " 4      453\n",
            " 7      218\n",
            " 5      137\n",
            " 6       74\n",
            " 8       28\n",
            "Name: value, dtype: int64\n"
          ]
        }
      ],
      "source": [
        "pay = df[['PAY_0','PAY_2','PAY_3','PAY_4','PAY_5','PAY_6']]\n",
        "pay_melt = pd.melt(pay)\n",
        "print(pay_melt['value'].value_counts())"
      ],
      "id": "e13ba3ec"
    },
    {
      "cell_type": "code",
      "execution_count": null,
      "metadata": {
        "colab": {
          "base_uri": "https://localhost:8080/"
        },
        "id": "104f8e22",
        "outputId": "8a96ae52-28d2-4bb9-c5b5-868280c8589c"
      },
      "outputs": [
        {
          "data": {
            "text/plain": [
              "0    0.7788\n",
              "1    0.2212\n",
              "Name: default.payment.next.month, dtype: float64"
            ]
          },
          "execution_count": 10,
          "metadata": {},
          "output_type": "execute_result"
        }
      ],
      "source": [
        "df['default.payment.next.month'].value_counts(normalize=True)"
      ],
      "id": "104f8e22"
    },
    {
      "cell_type": "code",
      "execution_count": null,
      "metadata": {
        "colab": {
          "base_uri": "https://localhost:8080/"
        },
        "id": "b80b6a4d",
        "outputId": "fa6614d3-3bc6-4554-ff91-9c34ee81f8b6"
      },
      "outputs": [
        {
          "data": {
            "text/plain": [
              "0    23364\n",
              "1     6636\n",
              "Name: default.payment.next.month, dtype: int64"
            ]
          },
          "execution_count": 11,
          "metadata": {},
          "output_type": "execute_result"
        }
      ],
      "source": [
        "df['default.payment.next.month'].value_counts()"
      ],
      "id": "b80b6a4d"
    },
    {
      "cell_type": "markdown",
      "metadata": {
        "id": "5dd55b35"
      },
      "source": [],
      "id": "5dd55b35"
    },
    {
      "cell_type": "code",
      "execution_count": null,
      "metadata": {
        "colab": {
          "base_uri": "https://localhost:8080/",
          "height": 296
        },
        "id": "c3613f7d",
        "outputId": "cf2f26f8-40c5-4000-eeef-fe23fb9fa902"
      },
      "outputs": [
        {
          "data": {
            "text/plain": [
              "<matplotlib.axes._subplots.AxesSubplot at 0x7fdd3f653a90>"
            ]
          },
          "execution_count": 12,
          "metadata": {},
          "output_type": "execute_result"
        },
        {
          "data": {
            "image/png": "[encoded data removed]",
            "text/plain": [
              "<Figure size 432x288 with 1 Axes>"
            ]
          },
          "metadata": {},
          "output_type": "display_data"
        }
      ],
      "source": [
        "sns.countplot(x = df['default.payment.next.month'])"
      ],
      "id": "c3613f7d"
    },
    {
      "cell_type": "markdown",
      "metadata": {
        "id": "75da6712"
      },
      "source": [
        "## About 22% customers had default payment next month"
      ],
      "id": "75da6712"
    },
    {
      "cell_type": "markdown",
      "metadata": {
        "id": "661ad8ee"
      },
      "source": [
        "##  Data Cleanning"
      ],
      "id": "661ad8ee"
    },
    {
      "cell_type": "markdown",
      "metadata": {
        "id": "956beb31"
      },
      "source": [
        "### (1) Check missing values, column type and column names"
      ],
      "id": "956beb31"
    },
    {
      "cell_type": "code",
      "execution_count": null,
      "metadata": {
        "colab": {
          "base_uri": "https://localhost:8080/"
        },
        "id": "d1ad4b39",
        "outputId": "0763bbb4-03fd-41cd-96c7-880e40c8f7a5"
      },
      "outputs": [
        {
          "output_type": "stream",
          "name": "stdout",
          "text": [
            "<class 'pandas.core.frame.DataFrame'>\n",
            "RangeIndex: 30000 entries, 0 to 29999\n",
            "Data columns (total 25 columns):\n",
            " #   Column                      Non-Null Count  Dtype  \n",
            "---  ------                      --------------  -----  \n",
            " 0   ID                          30000 non-null  int64  \n",
            " 1   LIMIT_BAL                   30000 non-null  float64\n",
            " 2   SEX                         30000 non-null  int64  \n",
            " 3   EDUCATION                   30000 non-null  int64  \n",
            " 4   MARRIAGE                    30000 non-null  int64  \n",
            " 5   AGE                         30000 non-null  int64  \n",
            " 6   PAY_0                       30000 non-null  int64  \n",
            " 7   PAY_2                       30000 non-null  int64  \n",
            " 8   PAY_3                       30000 non-null  int64  \n",
            " 9   PAY_4                       30000 non-null  int64  \n",
            " 10  PAY_5                       30000 non-null  int64  \n",
            " 11  PAY_6                       30000 non-null  int64  \n",
            " 12  BILL_AMT1                   30000 non-null  float64\n",
            " 13  BILL_AMT2                   30000 non-null  float64\n",
            " 14  BILL_AMT3                   30000 non-null  float64\n",
            " 15  BILL_AMT4                   30000 non-null  float64\n",
            " 16  BILL_AMT5                   30000 non-null  float64\n",
            " 17  BILL_AMT6                   30000 non-null  float64\n",
            " 18  PAY_AMT1                    30000 non-null  float64\n",
            " 19  PAY_AMT2                    30000 non-null  float64\n",
            " 20  PAY_AMT3                    30000 non-null  float64\n",
            " 21  PAY_AMT4                    30000 non-null  float64\n",
            " 22  PAY_AMT5                    30000 non-null  float64\n",
            " 23  PAY_AMT6                    30000 non-null  float64\n",
            " 24  default.payment.next.month  30000 non-null  int64  \n",
            "dtypes: float64(13), int64(12)\n",
            "memory usage: 5.7 MB\n"
          ]
        }
      ],
      "source": [
        "df.info()"
      ],
      "id": "d1ad4b39"
    },
    {
      "cell_type": "markdown",
      "metadata": {
        "id": "f1734741"
      },
      "source": [
        "### Change inconsistent column names \"PAY_0\" to 'PAY_1', 'default.payment.next.month'to 'DEF_PAY_NMO'"
      ],
      "id": "f1734741"
    },
    {
      "cell_type": "code",
      "execution_count": null,
      "metadata": {
        "colab": {
          "base_uri": "https://localhost:8080/"
        },
        "id": "d21d5e2c",
        "outputId": "113be14d-fc24-4c45-b916-07c4caf641ff"
      },
      "outputs": [
        {
          "output_type": "execute_result",
          "data": {
            "text/plain": [
              "Index(['ID', 'LIMIT_BAL', 'SEX', 'EDUCATION', 'MARRIAGE', 'AGE', 'PAY_1',\n",
              "       'PAY_2', 'PAY_3', 'PAY_4', 'PAY_5', 'PAY_6', 'BILL_AMT1', 'BILL_AMT2',\n",
              "       'BILL_AMT3', 'BILL_AMT4', 'BILL_AMT5', 'BILL_AMT6', 'PAY_AMT1',\n",
              "       'PAY_AMT2', 'PAY_AMT3', 'PAY_AMT4', 'PAY_AMT5', 'PAY_AMT6',\n",
              "       'DEF_PAY_NMO'],\n",
              "      dtype='object')"
            ]
          },
          "metadata": {},
          "execution_count": 22
        }
      ],
      "source": [
        "df.rename(columns={'PAY_0':'PAY_1','default.payment.next.month':'DEF_PAY_NMO'},inplace = True)\n",
        "df.columns"
      ],
      "id": "d21d5e2c"
    },
    {
      "cell_type": "markdown",
      "metadata": {
        "id": "26f407f9"
      },
      "source": [
        "### Check duplicate records"
      ],
      "id": "26f407f9"
    },
    {
      "cell_type": "code",
      "execution_count": null,
      "metadata": {
        "colab": {
          "base_uri": "https://localhost:8080/"
        },
        "id": "b5fbcb5d",
        "outputId": "fdc0f833-cbb5-4947-c085-b10da7c721b9"
      },
      "outputs": [
        {
          "data": {
            "text/plain": [
              "False"
            ]
          },
          "execution_count": 15,
          "metadata": {},
          "output_type": "execute_result"
        }
      ],
      "source": [
        "df.duplicated(subset = 'ID').any()"
      ],
      "id": "b5fbcb5d"
    },
    {
      "cell_type": "markdown",
      "metadata": {
        "id": "b10de5c1"
      },
      "source": [
        " so no duplicates"
      ],
      "id": "b10de5c1"
    },
    {
      "cell_type": "code",
      "execution_count": null,
      "metadata": {
        "colab": {
          "base_uri": "https://localhost:8080/",
          "height": 280
        },
        "id": "297060af",
        "outputId": "df270489-f0a7-4b31-807e-8a8f849fe479"
      },
      "outputs": [
        {
          "data": {
            "image/png": "[encoded data removed]",
            "text/plain": [
              "<Figure size 432x288 with 1 Axes>"
            ]
          },
          "metadata": {},
          "output_type": "display_data"
        }
      ],
      "source": [
        "# Use histogram to view the distribution of credit limit\n",
        "\n",
        "plt.hist(df[\"LIMIT_BAL\"])\n",
        "plt.xlabel('Credit_Limit in NT$', fontweight='bold')\n",
        "plt.ylabel('# of Customers', fontweight='bold')\n",
        "plt.show()"
      ],
      "id": "297060af"
    },
    {
      "cell_type": "code",
      "execution_count": null,
      "metadata": {
        "colab": {
          "base_uri": "https://localhost:8080/",
          "height": 394
        },
        "id": "b343b6e1",
        "outputId": "a0e65b65-a6cd-43e0-f8a7-9d496f101ddc"
      },
      "outputs": [
        {
          "data": {
            "text/html": [
              "\n",
              "  <div id=\"df-60db9194-cb83-4414-af59-7dc97646c34e\">\n",
              "    <div class=\"colab-df-container\">\n",
              "      <div>\n",
              "<style scoped>\n",
              "    .dataframe tbody tr th:only-of-type {\n",
              "        vertical-align: middle;\n",
              "    }\n",
              "\n",
              "    .dataframe tbody tr th {\n",
              "        vertical-align: top;\n",
              "    }\n",
              "\n",
              "    .dataframe thead th {\n",
              "        text-align: right;\n",
              "    }\n",
              "</style>\n",
              "<table border=\"1\" class=\"dataframe\">\n",
              "  <thead>\n",
              "    <tr style=\"text-align: right;\">\n",
              "      <th></th>\n",
              "      <th>ID</th>\n",
              "      <th>LIMIT_BAL</th>\n",
              "      <th>SEX</th>\n",
              "      <th>EDUCATION</th>\n",
              "      <th>MARRIAGE</th>\n",
              "      <th>AGE</th>\n",
              "      <th>PAY_1</th>\n",
              "      <th>PAY_2</th>\n",
              "      <th>PAY_3</th>\n",
              "      <th>PAY_4</th>\n",
              "      <th>...</th>\n",
              "      <th>BILL_AMT4</th>\n",
              "      <th>BILL_AMT5</th>\n",
              "      <th>BILL_AMT6</th>\n",
              "      <th>PAY_AMT1</th>\n",
              "      <th>PAY_AMT2</th>\n",
              "      <th>PAY_AMT3</th>\n",
              "      <th>PAY_AMT4</th>\n",
              "      <th>PAY_AMT5</th>\n",
              "      <th>PAY_AMT6</th>\n",
              "      <th>DEF_PAY_NMO</th>\n",
              "    </tr>\n",
              "  </thead>\n",
              "  <tbody>\n",
              "    <tr>\n",
              "      <th>count</th>\n",
              "      <td>30000.000000</td>\n",
              "      <td>30000.000000</td>\n",
              "      <td>30000.000000</td>\n",
              "      <td>30000.000000</td>\n",
              "      <td>30000.000000</td>\n",
              "      <td>30000.000000</td>\n",
              "      <td>30000.000000</td>\n",
              "      <td>30000.000000</td>\n",
              "      <td>30000.000000</td>\n",
              "      <td>30000.000000</td>\n",
              "      <td>...</td>\n",
              "      <td>30000.000000</td>\n",
              "      <td>30000.000000</td>\n",
              "      <td>30000.000000</td>\n",
              "      <td>30000.000000</td>\n",
              "      <td>3.000000e+04</td>\n",
              "      <td>30000.00000</td>\n",
              "      <td>30000.000000</td>\n",
              "      <td>30000.000000</td>\n",
              "      <td>30000.000000</td>\n",
              "      <td>30000.000000</td>\n",
              "    </tr>\n",
              "    <tr>\n",
              "      <th>mean</th>\n",
              "      <td>15000.500000</td>\n",
              "      <td>167484.322667</td>\n",
              "      <td>1.603733</td>\n",
              "      <td>1.853133</td>\n",
              "      <td>1.551867</td>\n",
              "      <td>35.485500</td>\n",
              "      <td>-0.016700</td>\n",
              "      <td>-0.133767</td>\n",
              "      <td>-0.166200</td>\n",
              "      <td>-0.220667</td>\n",
              "      <td>...</td>\n",
              "      <td>43262.948967</td>\n",
              "      <td>40311.400967</td>\n",
              "      <td>38871.760400</td>\n",
              "      <td>5663.580500</td>\n",
              "      <td>5.921163e+03</td>\n",
              "      <td>5225.68150</td>\n",
              "      <td>4826.076867</td>\n",
              "      <td>4799.387633</td>\n",
              "      <td>5215.502567</td>\n",
              "      <td>0.221200</td>\n",
              "    </tr>\n",
              "    <tr>\n",
              "      <th>std</th>\n",
              "      <td>8660.398374</td>\n",
              "      <td>129747.661567</td>\n",
              "      <td>0.489129</td>\n",
              "      <td>0.790349</td>\n",
              "      <td>0.521970</td>\n",
              "      <td>9.217904</td>\n",
              "      <td>1.123802</td>\n",
              "      <td>1.197186</td>\n",
              "      <td>1.196868</td>\n",
              "      <td>1.169139</td>\n",
              "      <td>...</td>\n",
              "      <td>64332.856134</td>\n",
              "      <td>60797.155770</td>\n",
              "      <td>59554.107537</td>\n",
              "      <td>16563.280354</td>\n",
              "      <td>2.304087e+04</td>\n",
              "      <td>17606.96147</td>\n",
              "      <td>15666.159744</td>\n",
              "      <td>15278.305679</td>\n",
              "      <td>17777.465775</td>\n",
              "      <td>0.415062</td>\n",
              "    </tr>\n",
              "    <tr>\n",
              "      <th>min</th>\n",
              "      <td>1.000000</td>\n",
              "      <td>10000.000000</td>\n",
              "      <td>1.000000</td>\n",
              "      <td>0.000000</td>\n",
              "      <td>0.000000</td>\n",
              "      <td>21.000000</td>\n",
              "      <td>-2.000000</td>\n",
              "      <td>-2.000000</td>\n",
              "      <td>-2.000000</td>\n",
              "      <td>-2.000000</td>\n",
              "      <td>...</td>\n",
              "      <td>-170000.000000</td>\n",
              "      <td>-81334.000000</td>\n",
              "      <td>-339603.000000</td>\n",
              "      <td>0.000000</td>\n",
              "      <td>0.000000e+00</td>\n",
              "      <td>0.00000</td>\n",
              "      <td>0.000000</td>\n",
              "      <td>0.000000</td>\n",
              "      <td>0.000000</td>\n",
              "      <td>0.000000</td>\n",
              "    </tr>\n",
              "    <tr>\n",
              "      <th>25%</th>\n",
              "      <td>7500.750000</td>\n",
              "      <td>50000.000000</td>\n",
              "      <td>1.000000</td>\n",
              "      <td>1.000000</td>\n",
              "      <td>1.000000</td>\n",
              "      <td>28.000000</td>\n",
              "      <td>-1.000000</td>\n",
              "      <td>-1.000000</td>\n",
              "      <td>-1.000000</td>\n",
              "      <td>-1.000000</td>\n",
              "      <td>...</td>\n",
              "      <td>2326.750000</td>\n",
              "      <td>1763.000000</td>\n",
              "      <td>1256.000000</td>\n",
              "      <td>1000.000000</td>\n",
              "      <td>8.330000e+02</td>\n",
              "      <td>390.00000</td>\n",
              "      <td>296.000000</td>\n",
              "      <td>252.500000</td>\n",
              "      <td>117.750000</td>\n",
              "      <td>0.000000</td>\n",
              "    </tr>\n",
              "    <tr>\n",
              "      <th>50%</th>\n",
              "      <td>15000.500000</td>\n",
              "      <td>140000.000000</td>\n",
              "      <td>2.000000</td>\n",
              "      <td>2.000000</td>\n",
              "      <td>2.000000</td>\n",
              "      <td>34.000000</td>\n",
              "      <td>0.000000</td>\n",
              "      <td>0.000000</td>\n",
              "      <td>0.000000</td>\n",
              "      <td>0.000000</td>\n",
              "      <td>...</td>\n",
              "      <td>19052.000000</td>\n",
              "      <td>18104.500000</td>\n",
              "      <td>17071.000000</td>\n",
              "      <td>2100.000000</td>\n",
              "      <td>2.009000e+03</td>\n",
              "      <td>1800.00000</td>\n",
              "      <td>1500.000000</td>\n",
              "      <td>1500.000000</td>\n",
              "      <td>1500.000000</td>\n",
              "      <td>0.000000</td>\n",
              "    </tr>\n",
              "    <tr>\n",
              "      <th>75%</th>\n",
              "      <td>22500.250000</td>\n",
              "      <td>240000.000000</td>\n",
              "      <td>2.000000</td>\n",
              "      <td>2.000000</td>\n",
              "      <td>2.000000</td>\n",
              "      <td>41.000000</td>\n",
              "      <td>0.000000</td>\n",
              "      <td>0.000000</td>\n",
              "      <td>0.000000</td>\n",
              "      <td>0.000000</td>\n",
              "      <td>...</td>\n",
              "      <td>54506.000000</td>\n",
              "      <td>50190.500000</td>\n",
              "      <td>49198.250000</td>\n",
              "      <td>5006.000000</td>\n",
              "      <td>5.000000e+03</td>\n",
              "      <td>4505.00000</td>\n",
              "      <td>4013.250000</td>\n",
              "      <td>4031.500000</td>\n",
              "      <td>4000.000000</td>\n",
              "      <td>0.000000</td>\n",
              "    </tr>\n",
              "    <tr>\n",
              "      <th>max</th>\n",
              "      <td>30000.000000</td>\n",
              "      <td>1000000.000000</td>\n",
              "      <td>2.000000</td>\n",
              "      <td>6.000000</td>\n",
              "      <td>3.000000</td>\n",
              "      <td>79.000000</td>\n",
              "      <td>8.000000</td>\n",
              "      <td>8.000000</td>\n",
              "      <td>8.000000</td>\n",
              "      <td>8.000000</td>\n",
              "      <td>...</td>\n",
              "      <td>891586.000000</td>\n",
              "      <td>927171.000000</td>\n",
              "      <td>961664.000000</td>\n",
              "      <td>873552.000000</td>\n",
              "      <td>1.684259e+06</td>\n",
              "      <td>896040.00000</td>\n",
              "      <td>621000.000000</td>\n",
              "      <td>426529.000000</td>\n",
              "      <td>528666.000000</td>\n",
              "      <td>1.000000</td>\n",
              "    </tr>\n",
              "  </tbody>\n",
              "</table>\n",
              "<p>8 rows × 25 columns</p>\n",
              "</div>\n",
              "      <button class=\"colab-df-convert\" onclick=\"convertToInteractive('df-60db9194-cb83-4414-af59-7dc97646c34e')\"\n",
              "              title=\"Convert this dataframe to an interactive table.\"\n",
              "              style=\"display:none;\">\n",
              "        \n",
              "  <svg xmlns=\"http://www.w3.org/2000/svg\" height=\"24px\"viewBox=\"0 0 24 24\"\n",
              "       width=\"24px\">\n",
              "    <path d=\"M0 0h24v24H0V0z\" fill=\"none\"/>\n",
              "    <path d=\"M18.56 5.44l.94 2.06.94-2.06 2.06-.94-2.06-.94-.94-2.06-.94 2.06-2.06.94zm-11 1L8.5 8.5l.94-2.06 2.06-.94-2.06-.94L8.5 2.5l-.94 2.06-2.06.94zm10 10l.94 2.06.94-2.06 2.06-.94-2.06-.94-.94-2.06-.94 2.06-2.06.94z\"/><path d=\"M17.41 7.96l-1.37-1.37c-.4-.4-.92-.59-1.43-.59-.52 0-1.04.2-1.43.59L10.3 9.45l-7.72 7.72c-.78.78-.78 2.05 0 2.83L4 21.41c.39.39.9.59 1.41.59.51 0 1.02-.2 1.41-.59l7.78-7.78 2.81-2.81c.8-.78.8-2.07 0-2.86zM5.41 20L4 18.59l7.72-7.72 1.47 1.35L5.41 20z\"/>\n",
              "  </svg>\n",
              "      </button>\n",
              "      \n",
              "  <style>\n",
              "    .colab-df-container {\n",
              "      display:flex;\n",
              "      flex-wrap:wrap;\n",
              "      gap: 12px;\n",
              "    }\n",
              "\n",
              "    .colab-df-convert {\n",
              "      background-color: #E8F0FE;\n",
              "      border: none;\n",
              "      border-radius: 50%;\n",
              "      cursor: pointer;\n",
              "      display: none;\n",
              "      fill: #1967D2;\n",
              "      height: 32px;\n",
              "      padding: 0 0 0 0;\n",
              "      width: 32px;\n",
              "    }\n",
              "\n",
              "    .colab-df-convert:hover {\n",
              "      background-color: #E2EBFA;\n",
              "      box-shadow: 0px 1px 2px rgba(60, 64, 67, 0.3), 0px 1px 3px 1px rgba(60, 64, 67, 0.15);\n",
              "      fill: #174EA6;\n",
              "    }\n",
              "\n",
              "    [theme=dark] .colab-df-convert {\n",
              "      background-color: #3B4455;\n",
              "      fill: #D2E3FC;\n",
              "    }\n",
              "\n",
              "    [theme=dark] .colab-df-convert:hover {\n",
              "      background-color: #434B5C;\n",
              "      box-shadow: 0px 1px 3px 1px rgba(0, 0, 0, 0.15);\n",
              "      filter: drop-shadow(0px 1px 2px rgba(0, 0, 0, 0.3));\n",
              "      fill: #FFFFFF;\n",
              "    }\n",
              "  </style>\n",
              "\n",
              "      <script>\n",
              "        const buttonEl =\n",
              "          document.querySelector('#df-60db9194-cb83-4414-af59-7dc97646c34e button.colab-df-convert');\n",
              "        buttonEl.style.display =\n",
              "          google.colab.kernel.accessAllowed ? 'block' : 'none';\n",
              "\n",
              "        async function convertToInteractive(key) {\n",
              "          const element = document.querySelector('#df-60db9194-cb83-4414-af59-7dc97646c34e');\n",
              "          const dataTable =\n",
              "            await google.colab.kernel.invokeFunction('convertToInteractive',\n",
              "                                                     [key], {});\n",
              "          if (!dataTable) return;\n",
              "\n",
              "          const docLinkHtml = 'Like what you see? Visit the ' +\n",
              "            '<a target=\"_blank\" href=https://colab.research.google.com/notebooks/data_table.ipynb>data table notebook</a>'\n",
              "            + ' to learn more about interactive tables.';\n",
              "          element.innerHTML = '';\n",
              "          dataTable['output_type'] = 'display_data';\n",
              "          await google.colab.output.renderOutput(dataTable, element);\n",
              "          const docLink = document.createElement('div');\n",
              "          docLink.innerHTML = docLinkHtml;\n",
              "          element.appendChild(docLink);\n",
              "        }\n",
              "      </script>\n",
              "    </div>\n",
              "  </div>\n",
              "  "
            ],
            "text/plain": [
              "                 ID       LIMIT_BAL           SEX     EDUCATION      MARRIAGE  \\\n",
              "count  30000.000000    30000.000000  30000.000000  30000.000000  30000.000000   \n",
              "mean   15000.500000   167484.322667      1.603733      1.853133      1.551867   \n",
              "std     8660.398374   129747.661567      0.489129      0.790349      0.521970   \n",
              "min        1.000000    10000.000000      1.000000      0.000000      0.000000   \n",
              "25%     7500.750000    50000.000000      1.000000      1.000000      1.000000   \n",
              "50%    15000.500000   140000.000000      2.000000      2.000000      2.000000   \n",
              "75%    22500.250000   240000.000000      2.000000      2.000000      2.000000   \n",
              "max    30000.000000  1000000.000000      2.000000      6.000000      3.000000   \n",
              "\n",
              "                AGE         PAY_1         PAY_2         PAY_3         PAY_4  \\\n",
              "count  30000.000000  30000.000000  30000.000000  30000.000000  30000.000000   \n",
              "mean      35.485500     -0.016700     -0.133767     -0.166200     -0.220667   \n",
              "std        9.217904      1.123802      1.197186      1.196868      1.169139   \n",
              "min       21.000000     -2.000000     -2.000000     -2.000000     -2.000000   \n",
              "25%       28.000000     -1.000000     -1.000000     -1.000000     -1.000000   \n",
              "50%       34.000000      0.000000      0.000000      0.000000      0.000000   \n",
              "75%       41.000000      0.000000      0.000000      0.000000      0.000000   \n",
              "max       79.000000      8.000000      8.000000      8.000000      8.000000   \n",
              "\n",
              "       ...      BILL_AMT4      BILL_AMT5      BILL_AMT6       PAY_AMT1  \\\n",
              "count  ...   30000.000000   30000.000000   30000.000000   30000.000000   \n",
              "mean   ...   43262.948967   40311.400967   38871.760400    5663.580500   \n",
              "std    ...   64332.856134   60797.155770   59554.107537   16563.280354   \n",
              "min    ... -170000.000000  -81334.000000 -339603.000000       0.000000   \n",
              "25%    ...    2326.750000    1763.000000    1256.000000    1000.000000   \n",
              "50%    ...   19052.000000   18104.500000   17071.000000    2100.000000   \n",
              "75%    ...   54506.000000   50190.500000   49198.250000    5006.000000   \n",
              "max    ...  891586.000000  927171.000000  961664.000000  873552.000000   \n",
              "\n",
              "           PAY_AMT2      PAY_AMT3       PAY_AMT4       PAY_AMT5  \\\n",
              "count  3.000000e+04   30000.00000   30000.000000   30000.000000   \n",
              "mean   5.921163e+03    5225.68150    4826.076867    4799.387633   \n",
              "std    2.304087e+04   17606.96147   15666.159744   15278.305679   \n",
              "min    0.000000e+00       0.00000       0.000000       0.000000   \n",
              "25%    8.330000e+02     390.00000     296.000000     252.500000   \n",
              "50%    2.009000e+03    1800.00000    1500.000000    1500.000000   \n",
              "75%    5.000000e+03    4505.00000    4013.250000    4031.500000   \n",
              "max    1.684259e+06  896040.00000  621000.000000  426529.000000   \n",
              "\n",
              "            PAY_AMT6   DEF_PAY_NMO  \n",
              "count   30000.000000  30000.000000  \n",
              "mean     5215.502567      0.221200  \n",
              "std     17777.465775      0.415062  \n",
              "min         0.000000      0.000000  \n",
              "25%       117.750000      0.000000  \n",
              "50%      1500.000000      0.000000  \n",
              "75%      4000.000000      0.000000  \n",
              "max    528666.000000      1.000000  \n",
              "\n",
              "[8 rows x 25 columns]"
            ]
          },
          "execution_count": 17,
          "metadata": {},
          "output_type": "execute_result"
        }
      ],
      "source": [
        "df.describe()"
      ],
      "id": "b343b6e1"
    },
    {
      "cell_type": "markdown",
      "metadata": {
        "id": "2e9d46cd"
      },
      "source": [
        "No data is extremly unresonable in these columns"
      ],
      "id": "2e9d46cd"
    },
    {
      "cell_type": "code",
      "execution_count": null,
      "metadata": {
        "id": "1f61b4ac"
      },
      "outputs": [],
      "source": [
        "#Save processed csv file for part 2 - modeling\n",
        "df.to_csv(\"UCI_Credit_Card_Processed.csv\", index=None)"
      ],
      "id": "1f61b4ac"
    },
    {
      "cell_type": "markdown",
      "metadata": {
        "id": "b7cb4d9e"
      },
      "source": [
        "### Check categorical columns ('SEX',\t'EDUCATION' and\t'MARRIAGE')"
      ],
      "id": "b7cb4d9e"
    },
    {
      "cell_type": "code",
      "execution_count": null,
      "metadata": {
        "colab": {
          "base_uri": "https://localhost:8080/"
        },
        "id": "92e46e99",
        "outputId": "1802dc6b-e41e-47e9-9b23-c588580e457c"
      },
      "outputs": [
        {
          "data": {
            "text/plain": [
              "2    18112\n",
              "1    11888\n",
              "Name: SEX, dtype: int64"
            ]
          },
          "execution_count": 19,
          "metadata": {},
          "output_type": "execute_result"
        }
      ],
      "source": [
        "df[\"SEX\"].value_counts()"
      ],
      "id": "92e46e99"
    },
    {
      "cell_type": "code",
      "execution_count": null,
      "metadata": {
        "colab": {
          "base_uri": "https://localhost:8080/",
          "height": 296
        },
        "id": "629c3aba",
        "outputId": "96e7524d-a5e9-42b7-9035-056b1dc9fc94",
        "scrolled": true
      },
      "outputs": [
        {
          "data": {
            "text/plain": [
              "<matplotlib.axes._subplots.AxesSubplot at 0x7fdd3ef84b50>"
            ]
          },
          "execution_count": 20,
          "metadata": {},
          "output_type": "execute_result"
        },
        {
          "data": {
            "image/png": "[encoded data removed]",
            "text/plain": [
              "<Figure size 432x288 with 1 Axes>"
            ]
          },
          "metadata": {},
          "output_type": "display_data"
        }
      ],
      "source": [
        "sns.countplot(x = 'SEX' ,data = df)"
      ],
      "id": "629c3aba"
    },
    {
      "cell_type": "markdown",
      "metadata": {
        "id": "55ce69a9"
      },
      "source": [
        "SEX column's distribution. 1: male; 2: female\n",
        "No undocumented 'SEX' code"
      ],
      "id": "55ce69a9"
    },
    {
      "cell_type": "code",
      "execution_count": null,
      "metadata": {
        "colab": {
          "base_uri": "https://localhost:8080/"
        },
        "id": "6a2b7191",
        "outputId": "b2c2d3ad-5f1f-4fec-a549-de86b3d17b5b"
      },
      "outputs": [
        {
          "data": {
            "text/plain": [
              "2    0.603733\n",
              "1    0.396267\n",
              "Name: SEX, dtype: float64"
            ]
          },
          "execution_count": 21,
          "metadata": {},
          "output_type": "execute_result"
        }
      ],
      "source": [
        "df[\"SEX\"].value_counts(normalize=True)"
      ],
      "id": "6a2b7191"
    },
    {
      "cell_type": "code",
      "execution_count": null,
      "metadata": {
        "colab": {
          "base_uri": "https://localhost:8080/"
        },
        "id": "13fa2fb0",
        "outputId": "1f94dd57-1a3f-42d3-ec65-f884e63a8e8c"
      },
      "outputs": [
        {
          "data": {
            "text/plain": [
              "array([2, 1, 3, 5, 4, 6, 0])"
            ]
          },
          "execution_count": 22,
          "metadata": {},
          "output_type": "execute_result"
        }
      ],
      "source": [
        "df[\"EDUCATION\"].unique()"
      ],
      "id": "13fa2fb0"
    },
    {
      "cell_type": "markdown",
      "metadata": {
        "id": "1ff65433"
      },
      "source": [
        "EDUCATION: (1=graduate school, 2=university, 3=high school, 4=others, 5=unknown, 6=unknown)"
      ],
      "id": "1ff65433"
    },
    {
      "cell_type": "code",
      "execution_count": null,
      "metadata": {
        "colab": {
          "base_uri": "https://localhost:8080/"
        },
        "id": "f875acc4",
        "outputId": "718aadc3-2422-4521-e516-77e712c8f0df"
      },
      "outputs": [
        {
          "data": {
            "text/plain": [
              "2    14030\n",
              "1    10585\n",
              "3     4917\n",
              "5      280\n",
              "4      123\n",
              "6       51\n",
              "0       14\n",
              "Name: EDUCATION, dtype: int64"
            ]
          },
          "execution_count": 23,
          "metadata": {},
          "output_type": "execute_result"
        }
      ],
      "source": [
        "df[\"EDUCATION\"].value_counts()"
      ],
      "id": "f875acc4"
    },
    {
      "cell_type": "code",
      "execution_count": null,
      "metadata": {
        "colab": {
          "base_uri": "https://localhost:8080/",
          "height": 296
        },
        "id": "875c9511",
        "outputId": "24a82c85-a8af-4455-b30a-6cfda2f5cacb"
      },
      "outputs": [
        {
          "data": {
            "text/plain": [
              "<matplotlib.axes._subplots.AxesSubplot at 0x7fdd3ef635d0>"
            ]
          },
          "execution_count": 24,
          "metadata": {},
          "output_type": "execute_result"
        },
        {
          "data": {
            "image/png": "[encoded data removed]",
            "text/plain": [
              "<Figure size 432x288 with 1 Axes>"
            ]
          },
          "metadata": {},
          "output_type": "display_data"
        }
      ],
      "source": [
        "sns.countplot(x = 'EDUCATION' ,data = df)"
      ],
      "id": "875c9511"
    },
    {
      "cell_type": "code",
      "execution_count": null,
      "metadata": {
        "id": "2ffb268e"
      },
      "outputs": [],
      "source": [
        "df[\"EDUCATION\"] = df[\"EDUCATION\"].replace({5:4,0:4,6:0})"
      ],
      "id": "2ffb268e"
    },
    {
      "cell_type": "code",
      "execution_count": null,
      "metadata": {
        "colab": {
          "base_uri": "https://localhost:8080/"
        },
        "id": "c6c1e75b",
        "outputId": "8757f4f4-f51e-4643-f48e-4c3362183909"
      },
      "outputs": [
        {
          "data": {
            "text/plain": [
              "2    0.467667\n",
              "1    0.352833\n",
              "3    0.163900\n",
              "4    0.015600\n",
              "Name: EDUCATION, dtype: float64"
            ]
          },
          "execution_count": 29,
          "metadata": {},
          "output_type": "execute_result"
        }
      ],
      "source": [
        "df[\"EDUCATION\"].value_counts(normalize=True)"
      ],
      "id": "c6c1e75b"
    },
    {
      "cell_type": "code",
      "execution_count": null,
      "metadata": {
        "colab": {
          "base_uri": "https://localhost:8080/",
          "height": 296
        },
        "id": "288e9e1c",
        "outputId": "c1a0f19b-7972-4841-ec2f-186f64b08a11"
      },
      "outputs": [
        {
          "data": {
            "text/plain": [
              "<matplotlib.axes._subplots.AxesSubplot at 0x7fdd3ee4c310>"
            ]
          },
          "execution_count": 30,
          "metadata": {},
          "output_type": "execute_result"
        },
        {
          "data": {
            "image/png": "[encoded data removed]",
            "text/plain": [
              "<Figure size 432x288 with 1 Axes>"
            ]
          },
          "metadata": {},
          "output_type": "display_data"
        }
      ],
      "source": [
        "sns.countplot(x = 'EDUCATION',data = df)"
      ],
      "id": "288e9e1c"
    },
    {
      "cell_type": "markdown",
      "metadata": {
        "id": "c16387f5"
      },
      "source": [
        " \n",
        " 0 = others , 1 = graduate school,  2 = university,  3 = high school,"
      ],
      "id": "c16387f5"
    },
    {
      "cell_type": "code",
      "execution_count": null,
      "metadata": {
        "colab": {
          "base_uri": "https://localhost:8080/"
        },
        "id": "51311a3e",
        "outputId": "02a80400-0e8f-49fe-bdbe-034030d4b156"
      },
      "outputs": [
        {
          "data": {
            "text/plain": [
              "array([1, 2, 3, 0])"
            ]
          },
          "execution_count": 31,
          "metadata": {},
          "output_type": "execute_result"
        }
      ],
      "source": [
        "df[\"MARRIAGE\"].unique()"
      ],
      "id": "51311a3e"
    },
    {
      "cell_type": "code",
      "execution_count": null,
      "metadata": {
        "colab": {
          "base_uri": "https://localhost:8080/"
        },
        "id": "7c792ab4",
        "outputId": "e0eea002-6efa-4794-ca60-5df40919c858"
      },
      "outputs": [
        {
          "data": {
            "text/plain": [
              "2    15964\n",
              "1    13659\n",
              "3      323\n",
              "0       54\n",
              "Name: MARRIAGE, dtype: int64"
            ]
          },
          "execution_count": 32,
          "metadata": {},
          "output_type": "execute_result"
        }
      ],
      "source": [
        "df[\"MARRIAGE\"].value_counts()"
      ],
      "id": "7c792ab4"
    },
    {
      "cell_type": "code",
      "execution_count": null,
      "metadata": {
        "colab": {
          "base_uri": "https://localhost:8080/",
          "height": 296
        },
        "id": "b1c8a5c5",
        "outputId": "85be9826-b5ba-4113-c392-d656f337e38e"
      },
      "outputs": [
        {
          "data": {
            "text/plain": [
              "<matplotlib.axes._subplots.AxesSubplot at 0x7fdd3f5aa2d0>"
            ]
          },
          "execution_count": 33,
          "metadata": {},
          "output_type": "execute_result"
        },
        {
          "data": {
            "image/png": "[encoded data removed]",
            "text/plain": [
              "<Figure size 432x288 with 1 Axes>"
            ]
          },
          "metadata": {},
          "output_type": "display_data"
        }
      ],
      "source": [
        "sns.countplot(x = 'MARRIAGE' ,data = df)"
      ],
      "id": "b1c8a5c5"
    },
    {
      "cell_type": "markdown",
      "metadata": {
        "id": "6899f113"
      },
      "source": [
        "From dataset description: MARRIAGE: Marital status (1=married, 2=single, 3=others)"
      ],
      "id": "6899f113"
    },
    {
      "cell_type": "code",
      "execution_count": null,
      "metadata": {
        "colab": {
          "base_uri": "https://localhost:8080/"
        },
        "id": "ce0b9238",
        "outputId": "b42ff72e-04a9-43ae-80de-bb338f9baf2a"
      },
      "outputs": [
        {
          "data": {
            "text/plain": [
              "2    0.532133\n",
              "1    0.455300\n",
              "3    0.010767\n",
              "0    0.001800\n",
              "Name: MARRIAGE, dtype: float64"
            ]
          },
          "execution_count": 34,
          "metadata": {},
          "output_type": "execute_result"
        }
      ],
      "source": [
        "df[\"MARRIAGE\"].value_counts(normalize=True)"
      ],
      "id": "ce0b9238"
    },
    {
      "cell_type": "code",
      "execution_count": null,
      "metadata": {
        "colab": {
          "base_uri": "https://localhost:8080/"
        },
        "id": "ff7d41fc",
        "outputId": "9bb88c94-4292-455c-8f45-dcef58007103"
      },
      "outputs": [
        {
          "output_type": "execute_result",
          "data": {
            "text/plain": [
              "2    0.532133\n",
              "1    0.455300\n",
              "3    0.012567\n",
              "Name: MARRIAGE, dtype: float64"
            ]
          },
          "metadata": {},
          "execution_count": 25
        }
      ],
      "source": [
        "df[\"MARRIAGE\"] = df[\"MARRIAGE\"].replace({0:3})\n",
        "df[\"MARRIAGE\"].value_counts(normalize=True)"
      ],
      "id": "ff7d41fc"
    },
    {
      "cell_type": "code",
      "execution_count": null,
      "metadata": {
        "id": "d87fffa9"
      },
      "outputs": [],
      "source": [],
      "id": "d87fffa9"
    },
    {
      "cell_type": "code",
      "execution_count": null,
      "metadata": {
        "id": "c42d4835",
        "outputId": "fd7e1642-5af0-44d9-e883-d160bd41f6d7"
      },
      "outputs": [
        {
          "data": {
            "text/plain": [
              "0"
            ]
          },
          "execution_count": 37,
          "metadata": {},
          "output_type": "execute_result"
        }
      ],
      "source": [],
      "id": "c42d4835"
    },
    {
      "cell_type": "code",
      "execution_count": null,
      "metadata": {
        "colab": {
          "base_uri": "https://localhost:8080/"
        },
        "id": "9df732be",
        "outputId": "8062265f-8ba5-45d1-97bc-98e50758388e"
      },
      "outputs": [
        {
          "data": {
            "text/plain": [
              "0    23364\n",
              "1     6636\n",
              "Name: DEF_PAY_NMO, dtype: int64"
            ]
          },
          "execution_count": 36,
          "metadata": {},
          "output_type": "execute_result"
        }
      ],
      "source": [
        "df['DEF_PAY_NMO'].value_counts()"
      ],
      "id": "9df732be"
    },
    {
      "cell_type": "code",
      "execution_count": null,
      "metadata": {
        "colab": {
          "base_uri": "https://localhost:8080/",
          "height": 299
        },
        "id": "c9363955",
        "outputId": "7d87a98a-2201-4bfc-f324-bb9453b01310"
      },
      "outputs": [
        {
          "data": {
            "text/html": [
              "\n",
              "  <div id=\"df-ac8142a0-d954-4a53-88ce-98be4e3f9c9f\">\n",
              "    <div class=\"colab-df-container\">\n",
              "      <div>\n",
              "<style scoped>\n",
              "    .dataframe tbody tr th:only-of-type {\n",
              "        vertical-align: middle;\n",
              "    }\n",
              "\n",
              "    .dataframe tbody tr th {\n",
              "        vertical-align: top;\n",
              "    }\n",
              "\n",
              "    .dataframe thead th {\n",
              "        text-align: right;\n",
              "    }\n",
              "</style>\n",
              "<table border=\"1\" class=\"dataframe\">\n",
              "  <thead>\n",
              "    <tr style=\"text-align: right;\">\n",
              "      <th></th>\n",
              "      <th>ID</th>\n",
              "      <th>LIMIT_BAL</th>\n",
              "      <th>SEX</th>\n",
              "      <th>EDUCATION</th>\n",
              "      <th>MARRIAGE</th>\n",
              "      <th>AGE</th>\n",
              "      <th>PAY_1</th>\n",
              "      <th>PAY_2</th>\n",
              "      <th>PAY_3</th>\n",
              "      <th>PAY_4</th>\n",
              "      <th>...</th>\n",
              "      <th>BILL_AMT4</th>\n",
              "      <th>BILL_AMT5</th>\n",
              "      <th>BILL_AMT6</th>\n",
              "      <th>PAY_AMT1</th>\n",
              "      <th>PAY_AMT2</th>\n",
              "      <th>PAY_AMT3</th>\n",
              "      <th>PAY_AMT4</th>\n",
              "      <th>PAY_AMT5</th>\n",
              "      <th>PAY_AMT6</th>\n",
              "      <th>DEF_PAY_NMO</th>\n",
              "    </tr>\n",
              "  </thead>\n",
              "  <tbody>\n",
              "    <tr>\n",
              "      <th>0</th>\n",
              "      <td>1</td>\n",
              "      <td>20000.0</td>\n",
              "      <td>2</td>\n",
              "      <td>2</td>\n",
              "      <td>1</td>\n",
              "      <td>24</td>\n",
              "      <td>2</td>\n",
              "      <td>2</td>\n",
              "      <td>-1</td>\n",
              "      <td>-1</td>\n",
              "      <td>...</td>\n",
              "      <td>0.0</td>\n",
              "      <td>0.0</td>\n",
              "      <td>0.0</td>\n",
              "      <td>0.0</td>\n",
              "      <td>689.0</td>\n",
              "      <td>0.0</td>\n",
              "      <td>0.0</td>\n",
              "      <td>0.0</td>\n",
              "      <td>0.0</td>\n",
              "      <td>1</td>\n",
              "    </tr>\n",
              "    <tr>\n",
              "      <th>1</th>\n",
              "      <td>2</td>\n",
              "      <td>120000.0</td>\n",
              "      <td>2</td>\n",
              "      <td>2</td>\n",
              "      <td>2</td>\n",
              "      <td>26</td>\n",
              "      <td>-1</td>\n",
              "      <td>2</td>\n",
              "      <td>0</td>\n",
              "      <td>0</td>\n",
              "      <td>...</td>\n",
              "      <td>3272.0</td>\n",
              "      <td>3455.0</td>\n",
              "      <td>3261.0</td>\n",
              "      <td>0.0</td>\n",
              "      <td>1000.0</td>\n",
              "      <td>1000.0</td>\n",
              "      <td>1000.0</td>\n",
              "      <td>0.0</td>\n",
              "      <td>2000.0</td>\n",
              "      <td>1</td>\n",
              "    </tr>\n",
              "    <tr>\n",
              "      <th>2</th>\n",
              "      <td>3</td>\n",
              "      <td>90000.0</td>\n",
              "      <td>2</td>\n",
              "      <td>2</td>\n",
              "      <td>2</td>\n",
              "      <td>34</td>\n",
              "      <td>0</td>\n",
              "      <td>0</td>\n",
              "      <td>0</td>\n",
              "      <td>0</td>\n",
              "      <td>...</td>\n",
              "      <td>14331.0</td>\n",
              "      <td>14948.0</td>\n",
              "      <td>15549.0</td>\n",
              "      <td>1518.0</td>\n",
              "      <td>1500.0</td>\n",
              "      <td>1000.0</td>\n",
              "      <td>1000.0</td>\n",
              "      <td>1000.0</td>\n",
              "      <td>5000.0</td>\n",
              "      <td>0</td>\n",
              "    </tr>\n",
              "    <tr>\n",
              "      <th>3</th>\n",
              "      <td>4</td>\n",
              "      <td>50000.0</td>\n",
              "      <td>2</td>\n",
              "      <td>2</td>\n",
              "      <td>1</td>\n",
              "      <td>37</td>\n",
              "      <td>0</td>\n",
              "      <td>0</td>\n",
              "      <td>0</td>\n",
              "      <td>0</td>\n",
              "      <td>...</td>\n",
              "      <td>28314.0</td>\n",
              "      <td>28959.0</td>\n",
              "      <td>29547.0</td>\n",
              "      <td>2000.0</td>\n",
              "      <td>2019.0</td>\n",
              "      <td>1200.0</td>\n",
              "      <td>1100.0</td>\n",
              "      <td>1069.0</td>\n",
              "      <td>1000.0</td>\n",
              "      <td>0</td>\n",
              "    </tr>\n",
              "    <tr>\n",
              "      <th>4</th>\n",
              "      <td>5</td>\n",
              "      <td>50000.0</td>\n",
              "      <td>1</td>\n",
              "      <td>2</td>\n",
              "      <td>1</td>\n",
              "      <td>57</td>\n",
              "      <td>-1</td>\n",
              "      <td>0</td>\n",
              "      <td>-1</td>\n",
              "      <td>0</td>\n",
              "      <td>...</td>\n",
              "      <td>20940.0</td>\n",
              "      <td>19146.0</td>\n",
              "      <td>19131.0</td>\n",
              "      <td>2000.0</td>\n",
              "      <td>36681.0</td>\n",
              "      <td>10000.0</td>\n",
              "      <td>9000.0</td>\n",
              "      <td>689.0</td>\n",
              "      <td>679.0</td>\n",
              "      <td>0</td>\n",
              "    </tr>\n",
              "  </tbody>\n",
              "</table>\n",
              "<p>5 rows × 25 columns</p>\n",
              "</div>\n",
              "      <button class=\"colab-df-convert\" onclick=\"convertToInteractive('df-ac8142a0-d954-4a53-88ce-98be4e3f9c9f')\"\n",
              "              title=\"Convert this dataframe to an interactive table.\"\n",
              "              style=\"display:none;\">\n",
              "        \n",
              "  <svg xmlns=\"http://www.w3.org/2000/svg\" height=\"24px\"viewBox=\"0 0 24 24\"\n",
              "       width=\"24px\">\n",
              "    <path d=\"M0 0h24v24H0V0z\" fill=\"none\"/>\n",
              "    <path d=\"M18.56 5.44l.94 2.06.94-2.06 2.06-.94-2.06-.94-.94-2.06-.94 2.06-2.06.94zm-11 1L8.5 8.5l.94-2.06 2.06-.94-2.06-.94L8.5 2.5l-.94 2.06-2.06.94zm10 10l.94 2.06.94-2.06 2.06-.94-2.06-.94-.94-2.06-.94 2.06-2.06.94z\"/><path d=\"M17.41 7.96l-1.37-1.37c-.4-.4-.92-.59-1.43-.59-.52 0-1.04.2-1.43.59L10.3 9.45l-7.72 7.72c-.78.78-.78 2.05 0 2.83L4 21.41c.39.39.9.59 1.41.59.51 0 1.02-.2 1.41-.59l7.78-7.78 2.81-2.81c.8-.78.8-2.07 0-2.86zM5.41 20L4 18.59l7.72-7.72 1.47 1.35L5.41 20z\"/>\n",
              "  </svg>\n",
              "      </button>\n",
              "      \n",
              "  <style>\n",
              "    .colab-df-container {\n",
              "      display:flex;\n",
              "      flex-wrap:wrap;\n",
              "      gap: 12px;\n",
              "    }\n",
              "\n",
              "    .colab-df-convert {\n",
              "      background-color: #E8F0FE;\n",
              "      border: none;\n",
              "      border-radius: 50%;\n",
              "      cursor: pointer;\n",
              "      display: none;\n",
              "      fill: #1967D2;\n",
              "      height: 32px;\n",
              "      padding: 0 0 0 0;\n",
              "      width: 32px;\n",
              "    }\n",
              "\n",
              "    .colab-df-convert:hover {\n",
              "      background-color: #E2EBFA;\n",
              "      box-shadow: 0px 1px 2px rgba(60, 64, 67, 0.3), 0px 1px 3px 1px rgba(60, 64, 67, 0.15);\n",
              "      fill: #174EA6;\n",
              "    }\n",
              "\n",
              "    [theme=dark] .colab-df-convert {\n",
              "      background-color: #3B4455;\n",
              "      fill: #D2E3FC;\n",
              "    }\n",
              "\n",
              "    [theme=dark] .colab-df-convert:hover {\n",
              "      background-color: #434B5C;\n",
              "      box-shadow: 0px 1px 3px 1px rgba(0, 0, 0, 0.15);\n",
              "      filter: drop-shadow(0px 1px 2px rgba(0, 0, 0, 0.3));\n",
              "      fill: #FFFFFF;\n",
              "    }\n",
              "  </style>\n",
              "\n",
              "      <script>\n",
              "        const buttonEl =\n",
              "          document.querySelector('#df-ac8142a0-d954-4a53-88ce-98be4e3f9c9f button.colab-df-convert');\n",
              "        buttonEl.style.display =\n",
              "          google.colab.kernel.accessAllowed ? 'block' : 'none';\n",
              "\n",
              "        async function convertToInteractive(key) {\n",
              "          const element = document.querySelector('#df-ac8142a0-d954-4a53-88ce-98be4e3f9c9f');\n",
              "          const dataTable =\n",
              "            await google.colab.kernel.invokeFunction('convertToInteractive',\n",
              "                                                     [key], {});\n",
              "          if (!dataTable) return;\n",
              "\n",
              "          const docLinkHtml = 'Like what you see? Visit the ' +\n",
              "            '<a target=\"_blank\" href=https://colab.research.google.com/notebooks/data_table.ipynb>data table notebook</a>'\n",
              "            + ' to learn more about interactive tables.';\n",
              "          element.innerHTML = '';\n",
              "          dataTable['output_type'] = 'display_data';\n",
              "          await google.colab.output.renderOutput(dataTable, element);\n",
              "          const docLink = document.createElement('div');\n",
              "          docLink.innerHTML = docLinkHtml;\n",
              "          element.appendChild(docLink);\n",
              "        }\n",
              "      </script>\n",
              "    </div>\n",
              "  </div>\n",
              "  "
            ],
            "text/plain": [
              "   ID  LIMIT_BAL  SEX  EDUCATION  MARRIAGE  AGE  PAY_1  PAY_2  PAY_3  PAY_4  \\\n",
              "0   1    20000.0    2          2         1   24      2      2     -1     -1   \n",
              "1   2   120000.0    2          2         2   26     -1      2      0      0   \n",
              "2   3    90000.0    2          2         2   34      0      0      0      0   \n",
              "3   4    50000.0    2          2         1   37      0      0      0      0   \n",
              "4   5    50000.0    1          2         1   57     -1      0     -1      0   \n",
              "\n",
              "   ...  BILL_AMT4  BILL_AMT5  BILL_AMT6  PAY_AMT1  PAY_AMT2  PAY_AMT3  \\\n",
              "0  ...        0.0        0.0        0.0       0.0     689.0       0.0   \n",
              "1  ...     3272.0     3455.0     3261.0       0.0    1000.0    1000.0   \n",
              "2  ...    14331.0    14948.0    15549.0    1518.0    1500.0    1000.0   \n",
              "3  ...    28314.0    28959.0    29547.0    2000.0    2019.0    1200.0   \n",
              "4  ...    20940.0    19146.0    19131.0    2000.0   36681.0   10000.0   \n",
              "\n",
              "   PAY_AMT4  PAY_AMT5  PAY_AMT6  DEF_PAY_NMO  \n",
              "0       0.0       0.0       0.0            1  \n",
              "1    1000.0       0.0    2000.0            1  \n",
              "2    1000.0    1000.0    5000.0            0  \n",
              "3    1100.0    1069.0    1000.0            0  \n",
              "4    9000.0     689.0     679.0            0  \n",
              "\n",
              "[5 rows x 25 columns]"
            ]
          },
          "execution_count": 38,
          "metadata": {},
          "output_type": "execute_result"
        }
      ],
      "source": [
        "df.head()"
      ],
      "id": "c9363955"
    },
    {
      "cell_type": "code",
      "execution_count": null,
      "metadata": {
        "id": "4480faba"
      },
      "outputs": [],
      "source": [],
      "id": "4480faba"
    },
    {
      "cell_type": "code",
      "execution_count": null,
      "metadata": {
        "id": "9e0581e8"
      },
      "outputs": [],
      "source": [
        "df.set_index('ID', inplace = True)"
      ],
      "id": "9e0581e8"
    },
    {
      "cell_type": "code",
      "execution_count": null,
      "metadata": {
        "colab": {
          "base_uri": "https://localhost:8080/",
          "height": 331
        },
        "id": "5efc6fd4",
        "outputId": "fb7bc71a-9c52-4439-f39e-0cc6abd4632c",
        "scrolled": true
      },
      "outputs": [
        {
          "data": {
            "text/html": [
              "\n",
              "  <div id=\"df-7b63a080-0ff0-4118-8069-1edbb1466227\">\n",
              "    <div class=\"colab-df-container\">\n",
              "      <div>\n",
              "<style scoped>\n",
              "    .dataframe tbody tr th:only-of-type {\n",
              "        vertical-align: middle;\n",
              "    }\n",
              "\n",
              "    .dataframe tbody tr th {\n",
              "        vertical-align: top;\n",
              "    }\n",
              "\n",
              "    .dataframe thead th {\n",
              "        text-align: right;\n",
              "    }\n",
              "</style>\n",
              "<table border=\"1\" class=\"dataframe\">\n",
              "  <thead>\n",
              "    <tr style=\"text-align: right;\">\n",
              "      <th></th>\n",
              "      <th>LIMIT_BAL</th>\n",
              "      <th>SEX</th>\n",
              "      <th>EDUCATION</th>\n",
              "      <th>MARRIAGE</th>\n",
              "      <th>AGE</th>\n",
              "      <th>PAY_1</th>\n",
              "      <th>PAY_2</th>\n",
              "      <th>PAY_3</th>\n",
              "      <th>PAY_4</th>\n",
              "      <th>PAY_5</th>\n",
              "      <th>...</th>\n",
              "      <th>BILL_AMT4</th>\n",
              "      <th>BILL_AMT5</th>\n",
              "      <th>BILL_AMT6</th>\n",
              "      <th>PAY_AMT1</th>\n",
              "      <th>PAY_AMT2</th>\n",
              "      <th>PAY_AMT3</th>\n",
              "      <th>PAY_AMT4</th>\n",
              "      <th>PAY_AMT5</th>\n",
              "      <th>PAY_AMT6</th>\n",
              "      <th>DEF_PAY_NMO</th>\n",
              "    </tr>\n",
              "    <tr>\n",
              "      <th>ID</th>\n",
              "      <th></th>\n",
              "      <th></th>\n",
              "      <th></th>\n",
              "      <th></th>\n",
              "      <th></th>\n",
              "      <th></th>\n",
              "      <th></th>\n",
              "      <th></th>\n",
              "      <th></th>\n",
              "      <th></th>\n",
              "      <th></th>\n",
              "      <th></th>\n",
              "      <th></th>\n",
              "      <th></th>\n",
              "      <th></th>\n",
              "      <th></th>\n",
              "      <th></th>\n",
              "      <th></th>\n",
              "      <th></th>\n",
              "      <th></th>\n",
              "      <th></th>\n",
              "    </tr>\n",
              "  </thead>\n",
              "  <tbody>\n",
              "    <tr>\n",
              "      <th>1</th>\n",
              "      <td>20000.0</td>\n",
              "      <td>2</td>\n",
              "      <td>2</td>\n",
              "      <td>1</td>\n",
              "      <td>24</td>\n",
              "      <td>2</td>\n",
              "      <td>2</td>\n",
              "      <td>-1</td>\n",
              "      <td>-1</td>\n",
              "      <td>-2</td>\n",
              "      <td>...</td>\n",
              "      <td>0.0</td>\n",
              "      <td>0.0</td>\n",
              "      <td>0.0</td>\n",
              "      <td>0.0</td>\n",
              "      <td>689.0</td>\n",
              "      <td>0.0</td>\n",
              "      <td>0.0</td>\n",
              "      <td>0.0</td>\n",
              "      <td>0.0</td>\n",
              "      <td>1</td>\n",
              "    </tr>\n",
              "    <tr>\n",
              "      <th>2</th>\n",
              "      <td>120000.0</td>\n",
              "      <td>2</td>\n",
              "      <td>2</td>\n",
              "      <td>2</td>\n",
              "      <td>26</td>\n",
              "      <td>-1</td>\n",
              "      <td>2</td>\n",
              "      <td>0</td>\n",
              "      <td>0</td>\n",
              "      <td>0</td>\n",
              "      <td>...</td>\n",
              "      <td>3272.0</td>\n",
              "      <td>3455.0</td>\n",
              "      <td>3261.0</td>\n",
              "      <td>0.0</td>\n",
              "      <td>1000.0</td>\n",
              "      <td>1000.0</td>\n",
              "      <td>1000.0</td>\n",
              "      <td>0.0</td>\n",
              "      <td>2000.0</td>\n",
              "      <td>1</td>\n",
              "    </tr>\n",
              "    <tr>\n",
              "      <th>3</th>\n",
              "      <td>90000.0</td>\n",
              "      <td>2</td>\n",
              "      <td>2</td>\n",
              "      <td>2</td>\n",
              "      <td>34</td>\n",
              "      <td>0</td>\n",
              "      <td>0</td>\n",
              "      <td>0</td>\n",
              "      <td>0</td>\n",
              "      <td>0</td>\n",
              "      <td>...</td>\n",
              "      <td>14331.0</td>\n",
              "      <td>14948.0</td>\n",
              "      <td>15549.0</td>\n",
              "      <td>1518.0</td>\n",
              "      <td>1500.0</td>\n",
              "      <td>1000.0</td>\n",
              "      <td>1000.0</td>\n",
              "      <td>1000.0</td>\n",
              "      <td>5000.0</td>\n",
              "      <td>0</td>\n",
              "    </tr>\n",
              "    <tr>\n",
              "      <th>4</th>\n",
              "      <td>50000.0</td>\n",
              "      <td>2</td>\n",
              "      <td>2</td>\n",
              "      <td>1</td>\n",
              "      <td>37</td>\n",
              "      <td>0</td>\n",
              "      <td>0</td>\n",
              "      <td>0</td>\n",
              "      <td>0</td>\n",
              "      <td>0</td>\n",
              "      <td>...</td>\n",
              "      <td>28314.0</td>\n",
              "      <td>28959.0</td>\n",
              "      <td>29547.0</td>\n",
              "      <td>2000.0</td>\n",
              "      <td>2019.0</td>\n",
              "      <td>1200.0</td>\n",
              "      <td>1100.0</td>\n",
              "      <td>1069.0</td>\n",
              "      <td>1000.0</td>\n",
              "      <td>0</td>\n",
              "    </tr>\n",
              "    <tr>\n",
              "      <th>5</th>\n",
              "      <td>50000.0</td>\n",
              "      <td>1</td>\n",
              "      <td>2</td>\n",
              "      <td>1</td>\n",
              "      <td>57</td>\n",
              "      <td>-1</td>\n",
              "      <td>0</td>\n",
              "      <td>-1</td>\n",
              "      <td>0</td>\n",
              "      <td>0</td>\n",
              "      <td>...</td>\n",
              "      <td>20940.0</td>\n",
              "      <td>19146.0</td>\n",
              "      <td>19131.0</td>\n",
              "      <td>2000.0</td>\n",
              "      <td>36681.0</td>\n",
              "      <td>10000.0</td>\n",
              "      <td>9000.0</td>\n",
              "      <td>689.0</td>\n",
              "      <td>679.0</td>\n",
              "      <td>0</td>\n",
              "    </tr>\n",
              "  </tbody>\n",
              "</table>\n",
              "<p>5 rows × 24 columns</p>\n",
              "</div>\n",
              "      <button class=\"colab-df-convert\" onclick=\"convertToInteractive('df-7b63a080-0ff0-4118-8069-1edbb1466227')\"\n",
              "              title=\"Convert this dataframe to an interactive table.\"\n",
              "              style=\"display:none;\">\n",
              "        \n",
              "  <svg xmlns=\"http://www.w3.org/2000/svg\" height=\"24px\"viewBox=\"0 0 24 24\"\n",
              "       width=\"24px\">\n",
              "    <path d=\"M0 0h24v24H0V0z\" fill=\"none\"/>\n",
              "    <path d=\"M18.56 5.44l.94 2.06.94-2.06 2.06-.94-2.06-.94-.94-2.06-.94 2.06-2.06.94zm-11 1L8.5 8.5l.94-2.06 2.06-.94-2.06-.94L8.5 2.5l-.94 2.06-2.06.94zm10 10l.94 2.06.94-2.06 2.06-.94-2.06-.94-.94-2.06-.94 2.06-2.06.94z\"/><path d=\"M17.41 7.96l-1.37-1.37c-.4-.4-.92-.59-1.43-.59-.52 0-1.04.2-1.43.59L10.3 9.45l-7.72 7.72c-.78.78-.78 2.05 0 2.83L4 21.41c.39.39.9.59 1.41.59.51 0 1.02-.2 1.41-.59l7.78-7.78 2.81-2.81c.8-.78.8-2.07 0-2.86zM5.41 20L4 18.59l7.72-7.72 1.47 1.35L5.41 20z\"/>\n",
              "  </svg>\n",
              "      </button>\n",
              "      \n",
              "  <style>\n",
              "    .colab-df-container {\n",
              "      display:flex;\n",
              "      flex-wrap:wrap;\n",
              "      gap: 12px;\n",
              "    }\n",
              "\n",
              "    .colab-df-convert {\n",
              "      background-color: #E8F0FE;\n",
              "      border: none;\n",
              "      border-radius: 50%;\n",
              "      cursor: pointer;\n",
              "      display: none;\n",
              "      fill: #1967D2;\n",
              "      height: 32px;\n",
              "      padding: 0 0 0 0;\n",
              "      width: 32px;\n",
              "    }\n",
              "\n",
              "    .colab-df-convert:hover {\n",
              "      background-color: #E2EBFA;\n",
              "      box-shadow: 0px 1px 2px rgba(60, 64, 67, 0.3), 0px 1px 3px 1px rgba(60, 64, 67, 0.15);\n",
              "      fill: #174EA6;\n",
              "    }\n",
              "\n",
              "    [theme=dark] .colab-df-convert {\n",
              "      background-color: #3B4455;\n",
              "      fill: #D2E3FC;\n",
              "    }\n",
              "\n",
              "    [theme=dark] .colab-df-convert:hover {\n",
              "      background-color: #434B5C;\n",
              "      box-shadow: 0px 1px 3px 1px rgba(0, 0, 0, 0.15);\n",
              "      filter: drop-shadow(0px 1px 2px rgba(0, 0, 0, 0.3));\n",
              "      fill: #FFFFFF;\n",
              "    }\n",
              "  </style>\n",
              "\n",
              "      <script>\n",
              "        const buttonEl =\n",
              "          document.querySelector('#df-7b63a080-0ff0-4118-8069-1edbb1466227 button.colab-df-convert');\n",
              "        buttonEl.style.display =\n",
              "          google.colab.kernel.accessAllowed ? 'block' : 'none';\n",
              "\n",
              "        async function convertToInteractive(key) {\n",
              "          const element = document.querySelector('#df-7b63a080-0ff0-4118-8069-1edbb1466227');\n",
              "          const dataTable =\n",
              "            await google.colab.kernel.invokeFunction('convertToInteractive',\n",
              "                                                     [key], {});\n",
              "          if (!dataTable) return;\n",
              "\n",
              "          const docLinkHtml = 'Like what you see? Visit the ' +\n",
              "            '<a target=\"_blank\" href=https://colab.research.google.com/notebooks/data_table.ipynb>data table notebook</a>'\n",
              "            + ' to learn more about interactive tables.';\n",
              "          element.innerHTML = '';\n",
              "          dataTable['output_type'] = 'display_data';\n",
              "          await google.colab.output.renderOutput(dataTable, element);\n",
              "          const docLink = document.createElement('div');\n",
              "          docLink.innerHTML = docLinkHtml;\n",
              "          element.appendChild(docLink);\n",
              "        }\n",
              "      </script>\n",
              "    </div>\n",
              "  </div>\n",
              "  "
            ],
            "text/plain": [
              "    LIMIT_BAL  SEX  EDUCATION  MARRIAGE  AGE  PAY_1  PAY_2  PAY_3  PAY_4  \\\n",
              "ID                                                                         \n",
              "1     20000.0    2          2         1   24      2      2     -1     -1   \n",
              "2    120000.0    2          2         2   26     -1      2      0      0   \n",
              "3     90000.0    2          2         2   34      0      0      0      0   \n",
              "4     50000.0    2          2         1   37      0      0      0      0   \n",
              "5     50000.0    1          2         1   57     -1      0     -1      0   \n",
              "\n",
              "    PAY_5  ...  BILL_AMT4  BILL_AMT5  BILL_AMT6  PAY_AMT1  PAY_AMT2  PAY_AMT3  \\\n",
              "ID         ...                                                                  \n",
              "1      -2  ...        0.0        0.0        0.0       0.0     689.0       0.0   \n",
              "2       0  ...     3272.0     3455.0     3261.0       0.0    1000.0    1000.0   \n",
              "3       0  ...    14331.0    14948.0    15549.0    1518.0    1500.0    1000.0   \n",
              "4       0  ...    28314.0    28959.0    29547.0    2000.0    2019.0    1200.0   \n",
              "5       0  ...    20940.0    19146.0    19131.0    2000.0   36681.0   10000.0   \n",
              "\n",
              "    PAY_AMT4  PAY_AMT5  PAY_AMT6  DEF_PAY_NMO  \n",
              "ID                                             \n",
              "1        0.0       0.0       0.0            1  \n",
              "2     1000.0       0.0    2000.0            1  \n",
              "3     1000.0    1000.0    5000.0            0  \n",
              "4     1100.0    1069.0    1000.0            0  \n",
              "5     9000.0     689.0     679.0            0  \n",
              "\n",
              "[5 rows x 24 columns]"
            ]
          },
          "execution_count": 40,
          "metadata": {},
          "output_type": "execute_result"
        }
      ],
      "source": [
        "df.head()"
      ],
      "id": "5efc6fd4"
    },
    {
      "cell_type": "code",
      "execution_count": null,
      "metadata": {
        "colab": {
          "base_uri": "https://localhost:8080/",
          "height": 279
        },
        "id": "jLLDRjVCSPDt",
        "outputId": "662ce06e-69e9-4975-cd1e-0d40a7bbc8d5"
      },
      "outputs": [
        {
          "data": {
            "image/png": "[encoded data removed]",
            "text/plain": [
              "<Figure size 432x288 with 1 Axes>"
            ]
          },
          "metadata": {},
          "output_type": "display_data"
        }
      ],
      "source": [
        "#Education\n",
        "sns.countplot(x='EDUCATION', hue='DEF_PAY_NMO', data=df)\n",
        "# show plot\n",
        "\n",
        "plt.show()"
      ],
      "id": "jLLDRjVCSPDt"
    },
    {
      "cell_type": "code",
      "execution_count": null,
      "metadata": {
        "colab": {
          "base_uri": "https://localhost:8080/",
          "height": 143
        },
        "id": "32ctjLg3SPLP",
        "outputId": "baaf365d-dacf-4516-b6f1-1250ce191d68"
      },
      "outputs": [
        {
          "data": {
            "text/html": [
              "\n",
              "  <div id=\"df-25c2a7d0-bd82-4f6e-8ce3-b4d1a62c41b7\">\n",
              "    <div class=\"colab-df-container\">\n",
              "      <div>\n",
              "<style scoped>\n",
              "    .dataframe tbody tr th:only-of-type {\n",
              "        vertical-align: middle;\n",
              "    }\n",
              "\n",
              "    .dataframe tbody tr th {\n",
              "        vertical-align: top;\n",
              "    }\n",
              "\n",
              "    .dataframe thead th {\n",
              "        text-align: right;\n",
              "    }\n",
              "</style>\n",
              "<table border=\"1\" class=\"dataframe\">\n",
              "  <thead>\n",
              "    <tr style=\"text-align: right;\">\n",
              "      <th>EDUCATION</th>\n",
              "      <th>1</th>\n",
              "      <th>2</th>\n",
              "      <th>3</th>\n",
              "      <th>4</th>\n",
              "    </tr>\n",
              "    <tr>\n",
              "      <th>DEF_PAY_NMO</th>\n",
              "      <th></th>\n",
              "      <th></th>\n",
              "      <th></th>\n",
              "      <th></th>\n",
              "    </tr>\n",
              "  </thead>\n",
              "  <tbody>\n",
              "    <tr>\n",
              "      <th>0</th>\n",
              "      <td>0.807652</td>\n",
              "      <td>0.762651</td>\n",
              "      <td>0.748424</td>\n",
              "      <td>0.929487</td>\n",
              "    </tr>\n",
              "    <tr>\n",
              "      <th>1</th>\n",
              "      <td>0.192348</td>\n",
              "      <td>0.237349</td>\n",
              "      <td>0.251576</td>\n",
              "      <td>0.070513</td>\n",
              "    </tr>\n",
              "  </tbody>\n",
              "</table>\n",
              "</div>\n",
              "      <button class=\"colab-df-convert\" onclick=\"convertToInteractive('df-25c2a7d0-bd82-4f6e-8ce3-b4d1a62c41b7')\"\n",
              "              title=\"Convert this dataframe to an interactive table.\"\n",
              "              style=\"display:none;\">\n",
              "        \n",
              "  <svg xmlns=\"http://www.w3.org/2000/svg\" height=\"24px\"viewBox=\"0 0 24 24\"\n",
              "       width=\"24px\">\n",
              "    <path d=\"M0 0h24v24H0V0z\" fill=\"none\"/>\n",
              "    <path d=\"M18.56 5.44l.94 2.06.94-2.06 2.06-.94-2.06-.94-.94-2.06-.94 2.06-2.06.94zm-11 1L8.5 8.5l.94-2.06 2.06-.94-2.06-.94L8.5 2.5l-.94 2.06-2.06.94zm10 10l.94 2.06.94-2.06 2.06-.94-2.06-.94-.94-2.06-.94 2.06-2.06.94z\"/><path d=\"M17.41 7.96l-1.37-1.37c-.4-.4-.92-.59-1.43-.59-.52 0-1.04.2-1.43.59L10.3 9.45l-7.72 7.72c-.78.78-.78 2.05 0 2.83L4 21.41c.39.39.9.59 1.41.59.51 0 1.02-.2 1.41-.59l7.78-7.78 2.81-2.81c.8-.78.8-2.07 0-2.86zM5.41 20L4 18.59l7.72-7.72 1.47 1.35L5.41 20z\"/>\n",
              "  </svg>\n",
              "      </button>\n",
              "      \n",
              "  <style>\n",
              "    .colab-df-container {\n",
              "      display:flex;\n",
              "      flex-wrap:wrap;\n",
              "      gap: 12px;\n",
              "    }\n",
              "\n",
              "    .colab-df-convert {\n",
              "      background-color: #E8F0FE;\n",
              "      border: none;\n",
              "      border-radius: 50%;\n",
              "      cursor: pointer;\n",
              "      display: none;\n",
              "      fill: #1967D2;\n",
              "      height: 32px;\n",
              "      padding: 0 0 0 0;\n",
              "      width: 32px;\n",
              "    }\n",
              "\n",
              "    .colab-df-convert:hover {\n",
              "      background-color: #E2EBFA;\n",
              "      box-shadow: 0px 1px 2px rgba(60, 64, 67, 0.3), 0px 1px 3px 1px rgba(60, 64, 67, 0.15);\n",
              "      fill: #174EA6;\n",
              "    }\n",
              "\n",
              "    [theme=dark] .colab-df-convert {\n",
              "      background-color: #3B4455;\n",
              "      fill: #D2E3FC;\n",
              "    }\n",
              "\n",
              "    [theme=dark] .colab-df-convert:hover {\n",
              "      background-color: #434B5C;\n",
              "      box-shadow: 0px 1px 3px 1px rgba(0, 0, 0, 0.15);\n",
              "      filter: drop-shadow(0px 1px 2px rgba(0, 0, 0, 0.3));\n",
              "      fill: #FFFFFF;\n",
              "    }\n",
              "  </style>\n",
              "\n",
              "      <script>\n",
              "        const buttonEl =\n",
              "          document.querySelector('#df-25c2a7d0-bd82-4f6e-8ce3-b4d1a62c41b7 button.colab-df-convert');\n",
              "        buttonEl.style.display =\n",
              "          google.colab.kernel.accessAllowed ? 'block' : 'none';\n",
              "\n",
              "        async function convertToInteractive(key) {\n",
              "          const element = document.querySelector('#df-25c2a7d0-bd82-4f6e-8ce3-b4d1a62c41b7');\n",
              "          const dataTable =\n",
              "            await google.colab.kernel.invokeFunction('convertToInteractive',\n",
              "                                                     [key], {});\n",
              "          if (!dataTable) return;\n",
              "\n",
              "          const docLinkHtml = 'Like what you see? Visit the ' +\n",
              "            '<a target=\"_blank\" href=https://colab.research.google.com/notebooks/data_table.ipynb>data table notebook</a>'\n",
              "            + ' to learn more about interactive tables.';\n",
              "          element.innerHTML = '';\n",
              "          dataTable['output_type'] = 'display_data';\n",
              "          await google.colab.output.renderOutput(dataTable, element);\n",
              "          const docLink = document.createElement('div');\n",
              "          docLink.innerHTML = docLinkHtml;\n",
              "          element.appendChild(docLink);\n",
              "        }\n",
              "      </script>\n",
              "    </div>\n",
              "  </div>\n",
              "  "
            ],
            "text/plain": [
              "EDUCATION           1         2         3         4\n",
              "DEF_PAY_NMO                                        \n",
              "0            0.807652  0.762651  0.748424  0.929487\n",
              "1            0.192348  0.237349  0.251576  0.070513"
            ]
          },
          "execution_count": 45,
          "metadata": {},
          "output_type": "execute_result"
        }
      ],
      "source": [
        "pd.crosstab(index=df['DEF_PAY_NMO'],columns = df['EDUCATION'], normalize = 'columns')"
      ],
      "id": "32ctjLg3SPLP"
    },
    {
      "cell_type": "markdown",
      "metadata": {
        "id": "ARVEt6ecU2WV"
      },
      "source": [
        "## #Although the maximum number of defauts are from University students, highest percentage of the defaults have came from high-school students"
      ],
      "id": "ARVEt6ecU2WV"
    },
    {
      "cell_type": "code",
      "execution_count": null,
      "metadata": {
        "colab": {
          "base_uri": "https://localhost:8080/",
          "height": 279
        },
        "id": "OtFKwDrMSPYy",
        "outputId": "374a1971-8aa3-4a7a-cdfc-3a20855d9425"
      },
      "outputs": [
        {
          "data": {
            "image/png": "[encoded data removed]",
            "text/plain": [
              "<Figure size 432x288 with 1 Axes>"
            ]
          },
          "metadata": {},
          "output_type": "display_data"
        }
      ],
      "source": [
        "#Marriage\n",
        "sns.countplot(x='MARRIAGE', hue='DEF_PAY_NMO', data=df)\n",
        "# show plot\n",
        "plt.show()"
      ],
      "id": "OtFKwDrMSPYy"
    },
    {
      "cell_type": "code",
      "execution_count": null,
      "metadata": {
        "colab": {
          "base_uri": "https://localhost:8080/",
          "height": 143
        },
        "id": "21ypfrKSSPaN",
        "outputId": "49e4a22b-cbb6-4b79-e005-355a5005ffb8"
      },
      "outputs": [
        {
          "data": {
            "text/html": [
              "\n",
              "  <div id=\"df-153a5aff-04da-44e5-aa76-680e840c0cf5\">\n",
              "    <div class=\"colab-df-container\">\n",
              "      <div>\n",
              "<style scoped>\n",
              "    .dataframe tbody tr th:only-of-type {\n",
              "        vertical-align: middle;\n",
              "    }\n",
              "\n",
              "    .dataframe tbody tr th {\n",
              "        vertical-align: top;\n",
              "    }\n",
              "\n",
              "    .dataframe thead th {\n",
              "        text-align: right;\n",
              "    }\n",
              "</style>\n",
              "<table border=\"1\" class=\"dataframe\">\n",
              "  <thead>\n",
              "    <tr style=\"text-align: right;\">\n",
              "      <th>MARRIAGE</th>\n",
              "      <th>1</th>\n",
              "      <th>2</th>\n",
              "      <th>3</th>\n",
              "    </tr>\n",
              "    <tr>\n",
              "      <th>DEF_PAY_NMO</th>\n",
              "      <th></th>\n",
              "      <th></th>\n",
              "      <th></th>\n",
              "    </tr>\n",
              "  </thead>\n",
              "  <tbody>\n",
              "    <tr>\n",
              "      <th>0</th>\n",
              "      <td>0.765283</td>\n",
              "      <td>0.790717</td>\n",
              "      <td>0.763926</td>\n",
              "    </tr>\n",
              "    <tr>\n",
              "      <th>1</th>\n",
              "      <td>0.234717</td>\n",
              "      <td>0.209283</td>\n",
              "      <td>0.236074</td>\n",
              "    </tr>\n",
              "  </tbody>\n",
              "</table>\n",
              "</div>\n",
              "      <button class=\"colab-df-convert\" onclick=\"convertToInteractive('df-153a5aff-04da-44e5-aa76-680e840c0cf5')\"\n",
              "              title=\"Convert this dataframe to an interactive table.\"\n",
              "              style=\"display:none;\">\n",
              "        \n",
              "  <svg xmlns=\"http://www.w3.org/2000/svg\" height=\"24px\"viewBox=\"0 0 24 24\"\n",
              "       width=\"24px\">\n",
              "    <path d=\"M0 0h24v24H0V0z\" fill=\"none\"/>\n",
              "    <path d=\"M18.56 5.44l.94 2.06.94-2.06 2.06-.94-2.06-.94-.94-2.06-.94 2.06-2.06.94zm-11 1L8.5 8.5l.94-2.06 2.06-.94-2.06-.94L8.5 2.5l-.94 2.06-2.06.94zm10 10l.94 2.06.94-2.06 2.06-.94-2.06-.94-.94-2.06-.94 2.06-2.06.94z\"/><path d=\"M17.41 7.96l-1.37-1.37c-.4-.4-.92-.59-1.43-.59-.52 0-1.04.2-1.43.59L10.3 9.45l-7.72 7.72c-.78.78-.78 2.05 0 2.83L4 21.41c.39.39.9.59 1.41.59.51 0 1.02-.2 1.41-.59l7.78-7.78 2.81-2.81c.8-.78.8-2.07 0-2.86zM5.41 20L4 18.59l7.72-7.72 1.47 1.35L5.41 20z\"/>\n",
              "  </svg>\n",
              "      </button>\n",
              "      \n",
              "  <style>\n",
              "    .colab-df-container {\n",
              "      display:flex;\n",
              "      flex-wrap:wrap;\n",
              "      gap: 12px;\n",
              "    }\n",
              "\n",
              "    .colab-df-convert {\n",
              "      background-color: #E8F0FE;\n",
              "      border: none;\n",
              "      border-radius: 50%;\n",
              "      cursor: pointer;\n",
              "      display: none;\n",
              "      fill: #1967D2;\n",
              "      height: 32px;\n",
              "      padding: 0 0 0 0;\n",
              "      width: 32px;\n",
              "    }\n",
              "\n",
              "    .colab-df-convert:hover {\n",
              "      background-color: #E2EBFA;\n",
              "      box-shadow: 0px 1px 2px rgba(60, 64, 67, 0.3), 0px 1px 3px 1px rgba(60, 64, 67, 0.15);\n",
              "      fill: #174EA6;\n",
              "    }\n",
              "\n",
              "    [theme=dark] .colab-df-convert {\n",
              "      background-color: #3B4455;\n",
              "      fill: #D2E3FC;\n",
              "    }\n",
              "\n",
              "    [theme=dark] .colab-df-convert:hover {\n",
              "      background-color: #434B5C;\n",
              "      box-shadow: 0px 1px 3px 1px rgba(0, 0, 0, 0.15);\n",
              "      filter: drop-shadow(0px 1px 2px rgba(0, 0, 0, 0.3));\n",
              "      fill: #FFFFFF;\n",
              "    }\n",
              "  </style>\n",
              "\n",
              "      <script>\n",
              "        const buttonEl =\n",
              "          document.querySelector('#df-153a5aff-04da-44e5-aa76-680e840c0cf5 button.colab-df-convert');\n",
              "        buttonEl.style.display =\n",
              "          google.colab.kernel.accessAllowed ? 'block' : 'none';\n",
              "\n",
              "        async function convertToInteractive(key) {\n",
              "          const element = document.querySelector('#df-153a5aff-04da-44e5-aa76-680e840c0cf5');\n",
              "          const dataTable =\n",
              "            await google.colab.kernel.invokeFunction('convertToInteractive',\n",
              "                                                     [key], {});\n",
              "          if (!dataTable) return;\n",
              "\n",
              "          const docLinkHtml = 'Like what you see? Visit the ' +\n",
              "            '<a target=\"_blank\" href=https://colab.research.google.com/notebooks/data_table.ipynb>data table notebook</a>'\n",
              "            + ' to learn more about interactive tables.';\n",
              "          element.innerHTML = '';\n",
              "          dataTable['output_type'] = 'display_data';\n",
              "          await google.colab.output.renderOutput(dataTable, element);\n",
              "          const docLink = document.createElement('div');\n",
              "          docLink.innerHTML = docLinkHtml;\n",
              "          element.appendChild(docLink);\n",
              "        }\n",
              "      </script>\n",
              "    </div>\n",
              "  </div>\n",
              "  "
            ],
            "text/plain": [
              "MARRIAGE            1         2         3\n",
              "DEF_PAY_NMO                              \n",
              "0            0.765283  0.790717  0.763926\n",
              "1            0.234717  0.209283  0.236074"
            ]
          },
          "execution_count": 47,
          "metadata": {},
          "output_type": "execute_result"
        }
      ],
      "source": [
        "pd.crosstab(index=df['DEF_PAY_NMO'],columns = df['MARRIAGE'], normalize = 'columns')"
      ],
      "id": "21ypfrKSSPaN"
    },
    {
      "cell_type": "code",
      "execution_count": null,
      "metadata": {
        "colab": {
          "base_uri": "https://localhost:8080/",
          "height": 143
        },
        "id": "VsHwwvZaVxxw",
        "outputId": "7ce11657-cdd3-4915-ad45-c72a131c4287"
      },
      "outputs": [
        {
          "data": {
            "text/html": [
              "\n",
              "  <div id=\"df-c9069d0e-a32b-420a-a44f-85a67ecfa1a3\">\n",
              "    <div class=\"colab-df-container\">\n",
              "      <div>\n",
              "<style scoped>\n",
              "    .dataframe tbody tr th:only-of-type {\n",
              "        vertical-align: middle;\n",
              "    }\n",
              "\n",
              "    .dataframe tbody tr th {\n",
              "        vertical-align: top;\n",
              "    }\n",
              "\n",
              "    .dataframe thead th {\n",
              "        text-align: right;\n",
              "    }\n",
              "</style>\n",
              "<table border=\"1\" class=\"dataframe\">\n",
              "  <thead>\n",
              "    <tr style=\"text-align: right;\">\n",
              "      <th>MARRIAGE</th>\n",
              "      <th>1</th>\n",
              "      <th>2</th>\n",
              "      <th>3</th>\n",
              "    </tr>\n",
              "    <tr>\n",
              "      <th>DEF_PAY_NMO</th>\n",
              "      <th></th>\n",
              "      <th></th>\n",
              "      <th></th>\n",
              "    </tr>\n",
              "  </thead>\n",
              "  <tbody>\n",
              "    <tr>\n",
              "      <th>0</th>\n",
              "      <td>10453</td>\n",
              "      <td>12623</td>\n",
              "      <td>288</td>\n",
              "    </tr>\n",
              "    <tr>\n",
              "      <th>1</th>\n",
              "      <td>3206</td>\n",
              "      <td>3341</td>\n",
              "      <td>89</td>\n",
              "    </tr>\n",
              "  </tbody>\n",
              "</table>\n",
              "</div>\n",
              "      <button class=\"colab-df-convert\" onclick=\"convertToInteractive('df-c9069d0e-a32b-420a-a44f-85a67ecfa1a3')\"\n",
              "              title=\"Convert this dataframe to an interactive table.\"\n",
              "              style=\"display:none;\">\n",
              "        \n",
              "  <svg xmlns=\"http://www.w3.org/2000/svg\" height=\"24px\"viewBox=\"0 0 24 24\"\n",
              "       width=\"24px\">\n",
              "    <path d=\"M0 0h24v24H0V0z\" fill=\"none\"/>\n",
              "    <path d=\"M18.56 5.44l.94 2.06.94-2.06 2.06-.94-2.06-.94-.94-2.06-.94 2.06-2.06.94zm-11 1L8.5 8.5l.94-2.06 2.06-.94-2.06-.94L8.5 2.5l-.94 2.06-2.06.94zm10 10l.94 2.06.94-2.06 2.06-.94-2.06-.94-.94-2.06-.94 2.06-2.06.94z\"/><path d=\"M17.41 7.96l-1.37-1.37c-.4-.4-.92-.59-1.43-.59-.52 0-1.04.2-1.43.59L10.3 9.45l-7.72 7.72c-.78.78-.78 2.05 0 2.83L4 21.41c.39.39.9.59 1.41.59.51 0 1.02-.2 1.41-.59l7.78-7.78 2.81-2.81c.8-.78.8-2.07 0-2.86zM5.41 20L4 18.59l7.72-7.72 1.47 1.35L5.41 20z\"/>\n",
              "  </svg>\n",
              "      </button>\n",
              "      \n",
              "  <style>\n",
              "    .colab-df-container {\n",
              "      display:flex;\n",
              "      flex-wrap:wrap;\n",
              "      gap: 12px;\n",
              "    }\n",
              "\n",
              "    .colab-df-convert {\n",
              "      background-color: #E8F0FE;\n",
              "      border: none;\n",
              "      border-radius: 50%;\n",
              "      cursor: pointer;\n",
              "      display: none;\n",
              "      fill: #1967D2;\n",
              "      height: 32px;\n",
              "      padding: 0 0 0 0;\n",
              "      width: 32px;\n",
              "    }\n",
              "\n",
              "    .colab-df-convert:hover {\n",
              "      background-color: #E2EBFA;\n",
              "      box-shadow: 0px 1px 2px rgba(60, 64, 67, 0.3), 0px 1px 3px 1px rgba(60, 64, 67, 0.15);\n",
              "      fill: #174EA6;\n",
              "    }\n",
              "\n",
              "    [theme=dark] .colab-df-convert {\n",
              "      background-color: #3B4455;\n",
              "      fill: #D2E3FC;\n",
              "    }\n",
              "\n",
              "    [theme=dark] .colab-df-convert:hover {\n",
              "      background-color: #434B5C;\n",
              "      box-shadow: 0px 1px 3px 1px rgba(0, 0, 0, 0.15);\n",
              "      filter: drop-shadow(0px 1px 2px rgba(0, 0, 0, 0.3));\n",
              "      fill: #FFFFFF;\n",
              "    }\n",
              "  </style>\n",
              "\n",
              "      <script>\n",
              "        const buttonEl =\n",
              "          document.querySelector('#df-c9069d0e-a32b-420a-a44f-85a67ecfa1a3 button.colab-df-convert');\n",
              "        buttonEl.style.display =\n",
              "          google.colab.kernel.accessAllowed ? 'block' : 'none';\n",
              "\n",
              "        async function convertToInteractive(key) {\n",
              "          const element = document.querySelector('#df-c9069d0e-a32b-420a-a44f-85a67ecfa1a3');\n",
              "          const dataTable =\n",
              "            await google.colab.kernel.invokeFunction('convertToInteractive',\n",
              "                                                     [key], {});\n",
              "          if (!dataTable) return;\n",
              "\n",
              "          const docLinkHtml = 'Like what you see? Visit the ' +\n",
              "            '<a target=\"_blank\" href=https://colab.research.google.com/notebooks/data_table.ipynb>data table notebook</a>'\n",
              "            + ' to learn more about interactive tables.';\n",
              "          element.innerHTML = '';\n",
              "          dataTable['output_type'] = 'display_data';\n",
              "          await google.colab.output.renderOutput(dataTable, element);\n",
              "          const docLink = document.createElement('div');\n",
              "          docLink.innerHTML = docLinkHtml;\n",
              "          element.appendChild(docLink);\n",
              "        }\n",
              "      </script>\n",
              "    </div>\n",
              "  </div>\n",
              "  "
            ],
            "text/plain": [
              "MARRIAGE         1      2    3\n",
              "DEF_PAY_NMO                   \n",
              "0            10453  12623  288\n",
              "1             3206   3341   89"
            ]
          },
          "execution_count": 48,
          "metadata": {},
          "output_type": "execute_result"
        }
      ],
      "source": [
        "pd.crosstab(index=df['DEF_PAY_NMO'],columns = df['MARRIAGE'])"
      ],
      "id": "VsHwwvZaVxxw"
    },
    {
      "cell_type": "markdown",
      "metadata": {
        "id": "O5vvtESpVcFX"
      },
      "source": [
        "Highest number of defaults have happened in singles (Slightly higher than married)\n",
        "But Married peoples percentage of default is higher than singles.\n",
        "Highest percentage of default is in Others category although their number is quite low."
      ],
      "id": "O5vvtESpVcFX"
    },
    {
      "cell_type": "code",
      "execution_count": null,
      "metadata": {
        "colab": {
          "base_uri": "https://localhost:8080/",
          "height": 279
        },
        "id": "hvAmbuLxSPc5",
        "outputId": "92b2677a-040b-47f2-bd0a-c12075690487"
      },
      "outputs": [
        {
          "data": {
            "image/png": "[encoded data removed]",
            "text/plain": [
              "<Figure size 432x288 with 1 Axes>"
            ]
          },
          "metadata": {},
          "output_type": "display_data"
        }
      ],
      "source": [
        "#SEX\n",
        "sns.countplot(x='SEX', hue='DEF_PAY_NMO', data=df)\n",
        "# show plot\n",
        "plt.show()"
      ],
      "id": "hvAmbuLxSPc5"
    },
    {
      "cell_type": "code",
      "execution_count": null,
      "metadata": {
        "colab": {
          "base_uri": "https://localhost:8080/",
          "height": 143
        },
        "id": "3rTn0J8mSPeU",
        "outputId": "0fd475cc-5ca6-4847-b5a3-4860c4436959"
      },
      "outputs": [
        {
          "data": {
            "text/html": [
              "\n",
              "  <div id=\"df-fd584f73-a6a4-44bb-b24a-700c00fe2281\">\n",
              "    <div class=\"colab-df-container\">\n",
              "      <div>\n",
              "<style scoped>\n",
              "    .dataframe tbody tr th:only-of-type {\n",
              "        vertical-align: middle;\n",
              "    }\n",
              "\n",
              "    .dataframe tbody tr th {\n",
              "        vertical-align: top;\n",
              "    }\n",
              "\n",
              "    .dataframe thead th {\n",
              "        text-align: right;\n",
              "    }\n",
              "</style>\n",
              "<table border=\"1\" class=\"dataframe\">\n",
              "  <thead>\n",
              "    <tr style=\"text-align: right;\">\n",
              "      <th>SEX</th>\n",
              "      <th>1</th>\n",
              "      <th>2</th>\n",
              "    </tr>\n",
              "    <tr>\n",
              "      <th>DEF_PAY_NMO</th>\n",
              "      <th></th>\n",
              "      <th></th>\n",
              "    </tr>\n",
              "  </thead>\n",
              "  <tbody>\n",
              "    <tr>\n",
              "      <th>0</th>\n",
              "      <td>9015</td>\n",
              "      <td>14349</td>\n",
              "    </tr>\n",
              "    <tr>\n",
              "      <th>1</th>\n",
              "      <td>2873</td>\n",
              "      <td>3763</td>\n",
              "    </tr>\n",
              "  </tbody>\n",
              "</table>\n",
              "</div>\n",
              "      <button class=\"colab-df-convert\" onclick=\"convertToInteractive('df-fd584f73-a6a4-44bb-b24a-700c00fe2281')\"\n",
              "              title=\"Convert this dataframe to an interactive table.\"\n",
              "              style=\"display:none;\">\n",
              "        \n",
              "  <svg xmlns=\"http://www.w3.org/2000/svg\" height=\"24px\"viewBox=\"0 0 24 24\"\n",
              "       width=\"24px\">\n",
              "    <path d=\"M0 0h24v24H0V0z\" fill=\"none\"/>\n",
              "    <path d=\"M18.56 5.44l.94 2.06.94-2.06 2.06-.94-2.06-.94-.94-2.06-.94 2.06-2.06.94zm-11 1L8.5 8.5l.94-2.06 2.06-.94-2.06-.94L8.5 2.5l-.94 2.06-2.06.94zm10 10l.94 2.06.94-2.06 2.06-.94-2.06-.94-.94-2.06-.94 2.06-2.06.94z\"/><path d=\"M17.41 7.96l-1.37-1.37c-.4-.4-.92-.59-1.43-.59-.52 0-1.04.2-1.43.59L10.3 9.45l-7.72 7.72c-.78.78-.78 2.05 0 2.83L4 21.41c.39.39.9.59 1.41.59.51 0 1.02-.2 1.41-.59l7.78-7.78 2.81-2.81c.8-.78.8-2.07 0-2.86zM5.41 20L4 18.59l7.72-7.72 1.47 1.35L5.41 20z\"/>\n",
              "  </svg>\n",
              "      </button>\n",
              "      \n",
              "  <style>\n",
              "    .colab-df-container {\n",
              "      display:flex;\n",
              "      flex-wrap:wrap;\n",
              "      gap: 12px;\n",
              "    }\n",
              "\n",
              "    .colab-df-convert {\n",
              "      background-color: #E8F0FE;\n",
              "      border: none;\n",
              "      border-radius: 50%;\n",
              "      cursor: pointer;\n",
              "      display: none;\n",
              "      fill: #1967D2;\n",
              "      height: 32px;\n",
              "      padding: 0 0 0 0;\n",
              "      width: 32px;\n",
              "    }\n",
              "\n",
              "    .colab-df-convert:hover {\n",
              "      background-color: #E2EBFA;\n",
              "      box-shadow: 0px 1px 2px rgba(60, 64, 67, 0.3), 0px 1px 3px 1px rgba(60, 64, 67, 0.15);\n",
              "      fill: #174EA6;\n",
              "    }\n",
              "\n",
              "    [theme=dark] .colab-df-convert {\n",
              "      background-color: #3B4455;\n",
              "      fill: #D2E3FC;\n",
              "    }\n",
              "\n",
              "    [theme=dark] .colab-df-convert:hover {\n",
              "      background-color: #434B5C;\n",
              "      box-shadow: 0px 1px 3px 1px rgba(0, 0, 0, 0.15);\n",
              "      filter: drop-shadow(0px 1px 2px rgba(0, 0, 0, 0.3));\n",
              "      fill: #FFFFFF;\n",
              "    }\n",
              "  </style>\n",
              "\n",
              "      <script>\n",
              "        const buttonEl =\n",
              "          document.querySelector('#df-fd584f73-a6a4-44bb-b24a-700c00fe2281 button.colab-df-convert');\n",
              "        buttonEl.style.display =\n",
              "          google.colab.kernel.accessAllowed ? 'block' : 'none';\n",
              "\n",
              "        async function convertToInteractive(key) {\n",
              "          const element = document.querySelector('#df-fd584f73-a6a4-44bb-b24a-700c00fe2281');\n",
              "          const dataTable =\n",
              "            await google.colab.kernel.invokeFunction('convertToInteractive',\n",
              "                                                     [key], {});\n",
              "          if (!dataTable) return;\n",
              "\n",
              "          const docLinkHtml = 'Like what you see? Visit the ' +\n",
              "            '<a target=\"_blank\" href=https://colab.research.google.com/notebooks/data_table.ipynb>data table notebook</a>'\n",
              "            + ' to learn more about interactive tables.';\n",
              "          element.innerHTML = '';\n",
              "          dataTable['output_type'] = 'display_data';\n",
              "          await google.colab.output.renderOutput(dataTable, element);\n",
              "          const docLink = document.createElement('div');\n",
              "          docLink.innerHTML = docLinkHtml;\n",
              "          element.appendChild(docLink);\n",
              "        }\n",
              "      </script>\n",
              "    </div>\n",
              "  </div>\n",
              "  "
            ],
            "text/plain": [
              "SEX             1      2\n",
              "DEF_PAY_NMO             \n",
              "0            9015  14349\n",
              "1            2873   3763"
            ]
          },
          "execution_count": 53,
          "metadata": {},
          "output_type": "execute_result"
        }
      ],
      "source": [
        "pd.crosstab(index=df['DEF_PAY_NMO'],columns = df['SEX'])"
      ],
      "id": "3rTn0J8mSPeU"
    },
    {
      "cell_type": "code",
      "execution_count": null,
      "metadata": {
        "colab": {
          "base_uri": "https://localhost:8080/",
          "height": 143
        },
        "id": "U9JdhOUOSPhn",
        "outputId": "d72ef666-3a75-4738-b81b-f6876ae41ee2"
      },
      "outputs": [
        {
          "data": {
            "text/html": [
              "\n",
              "  <div id=\"df-471e3065-1ac1-4e5a-afa7-3fe1752b0fae\">\n",
              "    <div class=\"colab-df-container\">\n",
              "      <div>\n",
              "<style scoped>\n",
              "    .dataframe tbody tr th:only-of-type {\n",
              "        vertical-align: middle;\n",
              "    }\n",
              "\n",
              "    .dataframe tbody tr th {\n",
              "        vertical-align: top;\n",
              "    }\n",
              "\n",
              "    .dataframe thead th {\n",
              "        text-align: right;\n",
              "    }\n",
              "</style>\n",
              "<table border=\"1\" class=\"dataframe\">\n",
              "  <thead>\n",
              "    <tr style=\"text-align: right;\">\n",
              "      <th>SEX</th>\n",
              "      <th>1</th>\n",
              "      <th>2</th>\n",
              "    </tr>\n",
              "    <tr>\n",
              "      <th>DEF_PAY_NMO</th>\n",
              "      <th></th>\n",
              "      <th></th>\n",
              "    </tr>\n",
              "  </thead>\n",
              "  <tbody>\n",
              "    <tr>\n",
              "      <th>0</th>\n",
              "      <td>0.758328</td>\n",
              "      <td>0.792237</td>\n",
              "    </tr>\n",
              "    <tr>\n",
              "      <th>1</th>\n",
              "      <td>0.241672</td>\n",
              "      <td>0.207763</td>\n",
              "    </tr>\n",
              "  </tbody>\n",
              "</table>\n",
              "</div>\n",
              "      <button class=\"colab-df-convert\" onclick=\"convertToInteractive('df-471e3065-1ac1-4e5a-afa7-3fe1752b0fae')\"\n",
              "              title=\"Convert this dataframe to an interactive table.\"\n",
              "              style=\"display:none;\">\n",
              "        \n",
              "  <svg xmlns=\"http://www.w3.org/2000/svg\" height=\"24px\"viewBox=\"0 0 24 24\"\n",
              "       width=\"24px\">\n",
              "    <path d=\"M0 0h24v24H0V0z\" fill=\"none\"/>\n",
              "    <path d=\"M18.56 5.44l.94 2.06.94-2.06 2.06-.94-2.06-.94-.94-2.06-.94 2.06-2.06.94zm-11 1L8.5 8.5l.94-2.06 2.06-.94-2.06-.94L8.5 2.5l-.94 2.06-2.06.94zm10 10l.94 2.06.94-2.06 2.06-.94-2.06-.94-.94-2.06-.94 2.06-2.06.94z\"/><path d=\"M17.41 7.96l-1.37-1.37c-.4-.4-.92-.59-1.43-.59-.52 0-1.04.2-1.43.59L10.3 9.45l-7.72 7.72c-.78.78-.78 2.05 0 2.83L4 21.41c.39.39.9.59 1.41.59.51 0 1.02-.2 1.41-.59l7.78-7.78 2.81-2.81c.8-.78.8-2.07 0-2.86zM5.41 20L4 18.59l7.72-7.72 1.47 1.35L5.41 20z\"/>\n",
              "  </svg>\n",
              "      </button>\n",
              "      \n",
              "  <style>\n",
              "    .colab-df-container {\n",
              "      display:flex;\n",
              "      flex-wrap:wrap;\n",
              "      gap: 12px;\n",
              "    }\n",
              "\n",
              "    .colab-df-convert {\n",
              "      background-color: #E8F0FE;\n",
              "      border: none;\n",
              "      border-radius: 50%;\n",
              "      cursor: pointer;\n",
              "      display: none;\n",
              "      fill: #1967D2;\n",
              "      height: 32px;\n",
              "      padding: 0 0 0 0;\n",
              "      width: 32px;\n",
              "    }\n",
              "\n",
              "    .colab-df-convert:hover {\n",
              "      background-color: #E2EBFA;\n",
              "      box-shadow: 0px 1px 2px rgba(60, 64, 67, 0.3), 0px 1px 3px 1px rgba(60, 64, 67, 0.15);\n",
              "      fill: #174EA6;\n",
              "    }\n",
              "\n",
              "    [theme=dark] .colab-df-convert {\n",
              "      background-color: #3B4455;\n",
              "      fill: #D2E3FC;\n",
              "    }\n",
              "\n",
              "    [theme=dark] .colab-df-convert:hover {\n",
              "      background-color: #434B5C;\n",
              "      box-shadow: 0px 1px 3px 1px rgba(0, 0, 0, 0.15);\n",
              "      filter: drop-shadow(0px 1px 2px rgba(0, 0, 0, 0.3));\n",
              "      fill: #FFFFFF;\n",
              "    }\n",
              "  </style>\n",
              "\n",
              "      <script>\n",
              "        const buttonEl =\n",
              "          document.querySelector('#df-471e3065-1ac1-4e5a-afa7-3fe1752b0fae button.colab-df-convert');\n",
              "        buttonEl.style.display =\n",
              "          google.colab.kernel.accessAllowed ? 'block' : 'none';\n",
              "\n",
              "        async function convertToInteractive(key) {\n",
              "          const element = document.querySelector('#df-471e3065-1ac1-4e5a-afa7-3fe1752b0fae');\n",
              "          const dataTable =\n",
              "            await google.colab.kernel.invokeFunction('convertToInteractive',\n",
              "                                                     [key], {});\n",
              "          if (!dataTable) return;\n",
              "\n",
              "          const docLinkHtml = 'Like what you see? Visit the ' +\n",
              "            '<a target=\"_blank\" href=https://colab.research.google.com/notebooks/data_table.ipynb>data table notebook</a>'\n",
              "            + ' to learn more about interactive tables.';\n",
              "          element.innerHTML = '';\n",
              "          dataTable['output_type'] = 'display_data';\n",
              "          await google.colab.output.renderOutput(dataTable, element);\n",
              "          const docLink = document.createElement('div');\n",
              "          docLink.innerHTML = docLinkHtml;\n",
              "          element.appendChild(docLink);\n",
              "        }\n",
              "      </script>\n",
              "    </div>\n",
              "  </div>\n",
              "  "
            ],
            "text/plain": [
              "SEX                 1         2\n",
              "DEF_PAY_NMO                    \n",
              "0            0.758328  0.792237\n",
              "1            0.241672  0.207763"
            ]
          },
          "execution_count": 54,
          "metadata": {},
          "output_type": "execute_result"
        }
      ],
      "source": [
        "pd.crosstab(index=df['DEF_PAY_NMO'],columns = df['SEX'],normalize='columns')"
      ],
      "id": "U9JdhOUOSPhn"
    },
    {
      "cell_type": "markdown",
      "metadata": {
        "id": "rLw0a-ASWj6U"
      },
      "source": [
        "More number of females have defaulted. However,  percentage wise, males have higher number of defaults"
      ],
      "id": "rLw0a-ASWj6U"
    },
    {
      "cell_type": "code",
      "execution_count": null,
      "metadata": {
        "id": "b9g_snUIWWYo"
      },
      "outputs": [],
      "source": [
        "#Numerical variables"
      ],
      "id": "b9g_snUIWWYo"
    },
    {
      "cell_type": "code",
      "execution_count": null,
      "metadata": {
        "colab": {
          "base_uri": "https://localhost:8080/",
          "height": 300
        },
        "id": "rEVAbaT1WWaO",
        "outputId": "6bb04875-1bc0-4b3e-a372-340d42df0dd7"
      },
      "outputs": [
        {
          "data": {
            "text/html": [
              "\n",
              "  <div id=\"df-56f9d874-dcff-4602-8faa-855f38aef08e\">\n",
              "    <div class=\"colab-df-container\">\n",
              "      <div>\n",
              "<style scoped>\n",
              "    .dataframe tbody tr th:only-of-type {\n",
              "        vertical-align: middle;\n",
              "    }\n",
              "\n",
              "    .dataframe tbody tr th {\n",
              "        vertical-align: top;\n",
              "    }\n",
              "\n",
              "    .dataframe thead th {\n",
              "        text-align: right;\n",
              "    }\n",
              "</style>\n",
              "<table border=\"1\" class=\"dataframe\">\n",
              "  <thead>\n",
              "    <tr style=\"text-align: right;\">\n",
              "      <th></th>\n",
              "      <th>PAY_1</th>\n",
              "      <th>PAY_2</th>\n",
              "      <th>PAY_3</th>\n",
              "      <th>PAY_4</th>\n",
              "      <th>PAY_5</th>\n",
              "      <th>PAY_6</th>\n",
              "    </tr>\n",
              "  </thead>\n",
              "  <tbody>\n",
              "    <tr>\n",
              "      <th>count</th>\n",
              "      <td>30000.000000</td>\n",
              "      <td>30000.000000</td>\n",
              "      <td>30000.000000</td>\n",
              "      <td>30000.000000</td>\n",
              "      <td>30000.000000</td>\n",
              "      <td>30000.000000</td>\n",
              "    </tr>\n",
              "    <tr>\n",
              "      <th>mean</th>\n",
              "      <td>-0.016700</td>\n",
              "      <td>-0.133767</td>\n",
              "      <td>-0.166200</td>\n",
              "      <td>-0.220667</td>\n",
              "      <td>-0.266200</td>\n",
              "      <td>-0.291100</td>\n",
              "    </tr>\n",
              "    <tr>\n",
              "      <th>std</th>\n",
              "      <td>1.123802</td>\n",
              "      <td>1.197186</td>\n",
              "      <td>1.196868</td>\n",
              "      <td>1.169139</td>\n",
              "      <td>1.133187</td>\n",
              "      <td>1.149988</td>\n",
              "    </tr>\n",
              "    <tr>\n",
              "      <th>min</th>\n",
              "      <td>-2.000000</td>\n",
              "      <td>-2.000000</td>\n",
              "      <td>-2.000000</td>\n",
              "      <td>-2.000000</td>\n",
              "      <td>-2.000000</td>\n",
              "      <td>-2.000000</td>\n",
              "    </tr>\n",
              "    <tr>\n",
              "      <th>25%</th>\n",
              "      <td>-1.000000</td>\n",
              "      <td>-1.000000</td>\n",
              "      <td>-1.000000</td>\n",
              "      <td>-1.000000</td>\n",
              "      <td>-1.000000</td>\n",
              "      <td>-1.000000</td>\n",
              "    </tr>\n",
              "    <tr>\n",
              "      <th>50%</th>\n",
              "      <td>0.000000</td>\n",
              "      <td>0.000000</td>\n",
              "      <td>0.000000</td>\n",
              "      <td>0.000000</td>\n",
              "      <td>0.000000</td>\n",
              "      <td>0.000000</td>\n",
              "    </tr>\n",
              "    <tr>\n",
              "      <th>75%</th>\n",
              "      <td>0.000000</td>\n",
              "      <td>0.000000</td>\n",
              "      <td>0.000000</td>\n",
              "      <td>0.000000</td>\n",
              "      <td>0.000000</td>\n",
              "      <td>0.000000</td>\n",
              "    </tr>\n",
              "    <tr>\n",
              "      <th>max</th>\n",
              "      <td>8.000000</td>\n",
              "      <td>8.000000</td>\n",
              "      <td>8.000000</td>\n",
              "      <td>8.000000</td>\n",
              "      <td>8.000000</td>\n",
              "      <td>8.000000</td>\n",
              "    </tr>\n",
              "  </tbody>\n",
              "</table>\n",
              "</div>\n",
              "      <button class=\"colab-df-convert\" onclick=\"convertToInteractive('df-56f9d874-dcff-4602-8faa-855f38aef08e')\"\n",
              "              title=\"Convert this dataframe to an interactive table.\"\n",
              "              style=\"display:none;\">\n",
              "        \n",
              "  <svg xmlns=\"http://www.w3.org/2000/svg\" height=\"24px\"viewBox=\"0 0 24 24\"\n",
              "       width=\"24px\">\n",
              "    <path d=\"M0 0h24v24H0V0z\" fill=\"none\"/>\n",
              "    <path d=\"M18.56 5.44l.94 2.06.94-2.06 2.06-.94-2.06-.94-.94-2.06-.94 2.06-2.06.94zm-11 1L8.5 8.5l.94-2.06 2.06-.94-2.06-.94L8.5 2.5l-.94 2.06-2.06.94zm10 10l.94 2.06.94-2.06 2.06-.94-2.06-.94-.94-2.06-.94 2.06-2.06.94z\"/><path d=\"M17.41 7.96l-1.37-1.37c-.4-.4-.92-.59-1.43-.59-.52 0-1.04.2-1.43.59L10.3 9.45l-7.72 7.72c-.78.78-.78 2.05 0 2.83L4 21.41c.39.39.9.59 1.41.59.51 0 1.02-.2 1.41-.59l7.78-7.78 2.81-2.81c.8-.78.8-2.07 0-2.86zM5.41 20L4 18.59l7.72-7.72 1.47 1.35L5.41 20z\"/>\n",
              "  </svg>\n",
              "      </button>\n",
              "      \n",
              "  <style>\n",
              "    .colab-df-container {\n",
              "      display:flex;\n",
              "      flex-wrap:wrap;\n",
              "      gap: 12px;\n",
              "    }\n",
              "\n",
              "    .colab-df-convert {\n",
              "      background-color: #E8F0FE;\n",
              "      border: none;\n",
              "      border-radius: 50%;\n",
              "      cursor: pointer;\n",
              "      display: none;\n",
              "      fill: #1967D2;\n",
              "      height: 32px;\n",
              "      padding: 0 0 0 0;\n",
              "      width: 32px;\n",
              "    }\n",
              "\n",
              "    .colab-df-convert:hover {\n",
              "      background-color: #E2EBFA;\n",
              "      box-shadow: 0px 1px 2px rgba(60, 64, 67, 0.3), 0px 1px 3px 1px rgba(60, 64, 67, 0.15);\n",
              "      fill: #174EA6;\n",
              "    }\n",
              "\n",
              "    [theme=dark] .colab-df-convert {\n",
              "      background-color: #3B4455;\n",
              "      fill: #D2E3FC;\n",
              "    }\n",
              "\n",
              "    [theme=dark] .colab-df-convert:hover {\n",
              "      background-color: #434B5C;\n",
              "      box-shadow: 0px 1px 3px 1px rgba(0, 0, 0, 0.15);\n",
              "      filter: drop-shadow(0px 1px 2px rgba(0, 0, 0, 0.3));\n",
              "      fill: #FFFFFF;\n",
              "    }\n",
              "  </style>\n",
              "\n",
              "      <script>\n",
              "        const buttonEl =\n",
              "          document.querySelector('#df-56f9d874-dcff-4602-8faa-855f38aef08e button.colab-df-convert');\n",
              "        buttonEl.style.display =\n",
              "          google.colab.kernel.accessAllowed ? 'block' : 'none';\n",
              "\n",
              "        async function convertToInteractive(key) {\n",
              "          const element = document.querySelector('#df-56f9d874-dcff-4602-8faa-855f38aef08e');\n",
              "          const dataTable =\n",
              "            await google.colab.kernel.invokeFunction('convertToInteractive',\n",
              "                                                     [key], {});\n",
              "          if (!dataTable) return;\n",
              "\n",
              "          const docLinkHtml = 'Like what you see? Visit the ' +\n",
              "            '<a target=\"_blank\" href=https://colab.research.google.com/notebooks/data_table.ipynb>data table notebook</a>'\n",
              "            + ' to learn more about interactive tables.';\n",
              "          element.innerHTML = '';\n",
              "          dataTable['output_type'] = 'display_data';\n",
              "          await google.colab.output.renderOutput(dataTable, element);\n",
              "          const docLink = document.createElement('div');\n",
              "          docLink.innerHTML = docLinkHtml;\n",
              "          element.appendChild(docLink);\n",
              "        }\n",
              "      </script>\n",
              "    </div>\n",
              "  </div>\n",
              "  "
            ],
            "text/plain": [
              "              PAY_1         PAY_2         PAY_3         PAY_4         PAY_5  \\\n",
              "count  30000.000000  30000.000000  30000.000000  30000.000000  30000.000000   \n",
              "mean      -0.016700     -0.133767     -0.166200     -0.220667     -0.266200   \n",
              "std        1.123802      1.197186      1.196868      1.169139      1.133187   \n",
              "min       -2.000000     -2.000000     -2.000000     -2.000000     -2.000000   \n",
              "25%       -1.000000     -1.000000     -1.000000     -1.000000     -1.000000   \n",
              "50%        0.000000      0.000000      0.000000      0.000000      0.000000   \n",
              "75%        0.000000      0.000000      0.000000      0.000000      0.000000   \n",
              "max        8.000000      8.000000      8.000000      8.000000      8.000000   \n",
              "\n",
              "              PAY_6  \n",
              "count  30000.000000  \n",
              "mean      -0.291100  \n",
              "std        1.149988  \n",
              "min       -2.000000  \n",
              "25%       -1.000000  \n",
              "50%        0.000000  \n",
              "75%        0.000000  \n",
              "max        8.000000  "
            ]
          },
          "execution_count": 58,
          "metadata": {},
          "output_type": "execute_result"
        }
      ],
      "source": [
        "# Payment delay related variables\n",
        "df[['PAY_1', 'PAY_2', 'PAY_3', 'PAY_4', 'PAY_5', 'PAY_6']].describe()"
      ],
      "id": "rEVAbaT1WWaO"
    },
    {
      "cell_type": "code",
      "execution_count": null,
      "metadata": {
        "colab": {
          "base_uri": "https://localhost:8080/",
          "height": 572
        },
        "id": "hTRWeZtzWWdk",
        "outputId": "6cc70ab8-ded7-44f5-b84d-8085b3b7f89a"
      },
      "outputs": [
        {
          "data": {
            "image/png": "[encoded data removed]",
            "text/plain": [
              "<Figure size 1440x720 with 6 Axes>"
            ]
          },
          "metadata": {},
          "output_type": "display_data"
        }
      ],
      "source": [
        "#Count plot for payment delay\n",
        "figure, axis = plt.subplots(2, 3, figsize=(20,10))\n",
        "\n",
        "plt.subplot(231)\n",
        "sns.countplot(x='PAY_1', hue='DEF_PAY_NMO', data=df)\n",
        "\n",
        "plt.subplot(232)\n",
        "sns.countplot(x='PAY_2', hue='DEF_PAY_NMO', data=df)\n",
        "\n",
        "plt.subplot(233)\n",
        "sns.countplot(x='PAY_3', hue='DEF_PAY_NMO', data=df)\n",
        "\n",
        "plt.subplot(234)\n",
        "sns.countplot(x='PAY_4', hue='DEF_PAY_NMO', data=df)\n",
        "\n",
        "plt.subplot(235)\n",
        "sns.countplot(x='PAY_5', hue='DEF_PAY_NMO', data=df)\n",
        "\n",
        "plt.subplot(236)\n",
        "sns.countplot(x='PAY_6', hue='DEF_PAY_NMO', data=df)\n",
        "plt.show()\n"
      ],
      "id": "hTRWeZtzWWdk"
    },
    {
      "cell_type": "code",
      "execution_count": null,
      "metadata": {
        "colab": {
          "base_uri": "https://localhost:8080/",
          "height": 143
        },
        "id": "h5aq2vXjWWfL",
        "outputId": "088241fe-d3c8-4d55-8631-2065fc59bd1f"
      },
      "outputs": [
        {
          "data": {
            "text/html": [
              "\n",
              "  <div id=\"df-7753ad48-d167-49de-8fa1-50d12ff872b6\">\n",
              "    <div class=\"colab-df-container\">\n",
              "      <div>\n",
              "<style scoped>\n",
              "    .dataframe tbody tr th:only-of-type {\n",
              "        vertical-align: middle;\n",
              "    }\n",
              "\n",
              "    .dataframe tbody tr th {\n",
              "        vertical-align: top;\n",
              "    }\n",
              "\n",
              "    .dataframe thead th {\n",
              "        text-align: right;\n",
              "    }\n",
              "</style>\n",
              "<table border=\"1\" class=\"dataframe\">\n",
              "  <thead>\n",
              "    <tr style=\"text-align: right;\">\n",
              "      <th>PAY_1</th>\n",
              "      <th>-2</th>\n",
              "      <th>-1</th>\n",
              "      <th>0</th>\n",
              "      <th>1</th>\n",
              "      <th>2</th>\n",
              "      <th>3</th>\n",
              "      <th>4</th>\n",
              "      <th>5</th>\n",
              "      <th>6</th>\n",
              "      <th>7</th>\n",
              "      <th>8</th>\n",
              "    </tr>\n",
              "    <tr>\n",
              "      <th>DEF_PAY_NMO</th>\n",
              "      <th></th>\n",
              "      <th></th>\n",
              "      <th></th>\n",
              "      <th></th>\n",
              "      <th></th>\n",
              "      <th></th>\n",
              "      <th></th>\n",
              "      <th></th>\n",
              "      <th></th>\n",
              "      <th></th>\n",
              "      <th></th>\n",
              "    </tr>\n",
              "  </thead>\n",
              "  <tbody>\n",
              "    <tr>\n",
              "      <th>0</th>\n",
              "      <td>2394</td>\n",
              "      <td>4732</td>\n",
              "      <td>12849</td>\n",
              "      <td>2436</td>\n",
              "      <td>823</td>\n",
              "      <td>78</td>\n",
              "      <td>24</td>\n",
              "      <td>13</td>\n",
              "      <td>5</td>\n",
              "      <td>2</td>\n",
              "      <td>8</td>\n",
              "    </tr>\n",
              "    <tr>\n",
              "      <th>1</th>\n",
              "      <td>365</td>\n",
              "      <td>954</td>\n",
              "      <td>1888</td>\n",
              "      <td>1252</td>\n",
              "      <td>1844</td>\n",
              "      <td>244</td>\n",
              "      <td>52</td>\n",
              "      <td>13</td>\n",
              "      <td>6</td>\n",
              "      <td>7</td>\n",
              "      <td>11</td>\n",
              "    </tr>\n",
              "  </tbody>\n",
              "</table>\n",
              "</div>\n",
              "      <button class=\"colab-df-convert\" onclick=\"convertToInteractive('df-7753ad48-d167-49de-8fa1-50d12ff872b6')\"\n",
              "              title=\"Convert this dataframe to an interactive table.\"\n",
              "              style=\"display:none;\">\n",
              "        \n",
              "  <svg xmlns=\"http://www.w3.org/2000/svg\" height=\"24px\"viewBox=\"0 0 24 24\"\n",
              "       width=\"24px\">\n",
              "    <path d=\"M0 0h24v24H0V0z\" fill=\"none\"/>\n",
              "    <path d=\"M18.56 5.44l.94 2.06.94-2.06 2.06-.94-2.06-.94-.94-2.06-.94 2.06-2.06.94zm-11 1L8.5 8.5l.94-2.06 2.06-.94-2.06-.94L8.5 2.5l-.94 2.06-2.06.94zm10 10l.94 2.06.94-2.06 2.06-.94-2.06-.94-.94-2.06-.94 2.06-2.06.94z\"/><path d=\"M17.41 7.96l-1.37-1.37c-.4-.4-.92-.59-1.43-.59-.52 0-1.04.2-1.43.59L10.3 9.45l-7.72 7.72c-.78.78-.78 2.05 0 2.83L4 21.41c.39.39.9.59 1.41.59.51 0 1.02-.2 1.41-.59l7.78-7.78 2.81-2.81c.8-.78.8-2.07 0-2.86zM5.41 20L4 18.59l7.72-7.72 1.47 1.35L5.41 20z\"/>\n",
              "  </svg>\n",
              "      </button>\n",
              "      \n",
              "  <style>\n",
              "    .colab-df-container {\n",
              "      display:flex;\n",
              "      flex-wrap:wrap;\n",
              "      gap: 12px;\n",
              "    }\n",
              "\n",
              "    .colab-df-convert {\n",
              "      background-color: #E8F0FE;\n",
              "      border: none;\n",
              "      border-radius: 50%;\n",
              "      cursor: pointer;\n",
              "      display: none;\n",
              "      fill: #1967D2;\n",
              "      height: 32px;\n",
              "      padding: 0 0 0 0;\n",
              "      width: 32px;\n",
              "    }\n",
              "\n",
              "    .colab-df-convert:hover {\n",
              "      background-color: #E2EBFA;\n",
              "      box-shadow: 0px 1px 2px rgba(60, 64, 67, 0.3), 0px 1px 3px 1px rgba(60, 64, 67, 0.15);\n",
              "      fill: #174EA6;\n",
              "    }\n",
              "\n",
              "    [theme=dark] .colab-df-convert {\n",
              "      background-color: #3B4455;\n",
              "      fill: #D2E3FC;\n",
              "    }\n",
              "\n",
              "    [theme=dark] .colab-df-convert:hover {\n",
              "      background-color: #434B5C;\n",
              "      box-shadow: 0px 1px 3px 1px rgba(0, 0, 0, 0.15);\n",
              "      filter: drop-shadow(0px 1px 2px rgba(0, 0, 0, 0.3));\n",
              "      fill: #FFFFFF;\n",
              "    }\n",
              "  </style>\n",
              "\n",
              "      <script>\n",
              "        const buttonEl =\n",
              "          document.querySelector('#df-7753ad48-d167-49de-8fa1-50d12ff872b6 button.colab-df-convert');\n",
              "        buttonEl.style.display =\n",
              "          google.colab.kernel.accessAllowed ? 'block' : 'none';\n",
              "\n",
              "        async function convertToInteractive(key) {\n",
              "          const element = document.querySelector('#df-7753ad48-d167-49de-8fa1-50d12ff872b6');\n",
              "          const dataTable =\n",
              "            await google.colab.kernel.invokeFunction('convertToInteractive',\n",
              "                                                     [key], {});\n",
              "          if (!dataTable) return;\n",
              "\n",
              "          const docLinkHtml = 'Like what you see? Visit the ' +\n",
              "            '<a target=\"_blank\" href=https://colab.research.google.com/notebooks/data_table.ipynb>data table notebook</a>'\n",
              "            + ' to learn more about interactive tables.';\n",
              "          element.innerHTML = '';\n",
              "          dataTable['output_type'] = 'display_data';\n",
              "          await google.colab.output.renderOutput(dataTable, element);\n",
              "          const docLink = document.createElement('div');\n",
              "          docLink.innerHTML = docLinkHtml;\n",
              "          element.appendChild(docLink);\n",
              "        }\n",
              "      </script>\n",
              "    </div>\n",
              "  </div>\n",
              "  "
            ],
            "text/plain": [
              "PAY_1          -2    -1      0     1     2    3   4   5   6   7   8\n",
              "DEF_PAY_NMO                                                        \n",
              "0            2394  4732  12849  2436   823   78  24  13   5   2   8\n",
              "1             365   954   1888  1252  1844  244  52  13   6   7  11"
            ]
          },
          "execution_count": 61,
          "metadata": {},
          "output_type": "execute_result"
        }
      ],
      "source": [
        "pd.crosstab(index=df['DEF_PAY_NMO'],columns = df['PAY_1'])"
      ],
      "id": "h5aq2vXjWWfL"
    },
    {
      "cell_type": "code",
      "execution_count": null,
      "metadata": {
        "colab": {
          "base_uri": "https://localhost:8080/",
          "height": 143
        },
        "id": "etRwWS3_WWid",
        "outputId": "dc762748-fbe0-4b97-931a-5de39d8b3570"
      },
      "outputs": [
        {
          "data": {
            "text/html": [
              "\n",
              "  <div id=\"df-d38f0774-1b53-4200-84ec-164681d582c7\">\n",
              "    <div class=\"colab-df-container\">\n",
              "      <div>\n",
              "<style scoped>\n",
              "    .dataframe tbody tr th:only-of-type {\n",
              "        vertical-align: middle;\n",
              "    }\n",
              "\n",
              "    .dataframe tbody tr th {\n",
              "        vertical-align: top;\n",
              "    }\n",
              "\n",
              "    .dataframe thead th {\n",
              "        text-align: right;\n",
              "    }\n",
              "</style>\n",
              "<table border=\"1\" class=\"dataframe\">\n",
              "  <thead>\n",
              "    <tr style=\"text-align: right;\">\n",
              "      <th>PAY_1</th>\n",
              "      <th>-2</th>\n",
              "      <th>-1</th>\n",
              "      <th>0</th>\n",
              "      <th>1</th>\n",
              "      <th>2</th>\n",
              "      <th>3</th>\n",
              "      <th>4</th>\n",
              "      <th>5</th>\n",
              "      <th>6</th>\n",
              "      <th>7</th>\n",
              "      <th>8</th>\n",
              "    </tr>\n",
              "    <tr>\n",
              "      <th>DEF_PAY_NMO</th>\n",
              "      <th></th>\n",
              "      <th></th>\n",
              "      <th></th>\n",
              "      <th></th>\n",
              "      <th></th>\n",
              "      <th></th>\n",
              "      <th></th>\n",
              "      <th></th>\n",
              "      <th></th>\n",
              "      <th></th>\n",
              "      <th></th>\n",
              "    </tr>\n",
              "  </thead>\n",
              "  <tbody>\n",
              "    <tr>\n",
              "      <th>0</th>\n",
              "      <td>0.867706</td>\n",
              "      <td>0.832219</td>\n",
              "      <td>0.871887</td>\n",
              "      <td>0.660521</td>\n",
              "      <td>0.308586</td>\n",
              "      <td>0.242236</td>\n",
              "      <td>0.315789</td>\n",
              "      <td>0.5</td>\n",
              "      <td>0.454545</td>\n",
              "      <td>0.222222</td>\n",
              "      <td>0.421053</td>\n",
              "    </tr>\n",
              "    <tr>\n",
              "      <th>1</th>\n",
              "      <td>0.132294</td>\n",
              "      <td>0.167781</td>\n",
              "      <td>0.128113</td>\n",
              "      <td>0.339479</td>\n",
              "      <td>0.691414</td>\n",
              "      <td>0.757764</td>\n",
              "      <td>0.684211</td>\n",
              "      <td>0.5</td>\n",
              "      <td>0.545455</td>\n",
              "      <td>0.777778</td>\n",
              "      <td>0.578947</td>\n",
              "    </tr>\n",
              "  </tbody>\n",
              "</table>\n",
              "</div>\n",
              "      <button class=\"colab-df-convert\" onclick=\"convertToInteractive('df-d38f0774-1b53-4200-84ec-164681d582c7')\"\n",
              "              title=\"Convert this dataframe to an interactive table.\"\n",
              "              style=\"display:none;\">\n",
              "        \n",
              "  <svg xmlns=\"http://www.w3.org/2000/svg\" height=\"24px\"viewBox=\"0 0 24 24\"\n",
              "       width=\"24px\">\n",
              "    <path d=\"M0 0h24v24H0V0z\" fill=\"none\"/>\n",
              "    <path d=\"M18.56 5.44l.94 2.06.94-2.06 2.06-.94-2.06-.94-.94-2.06-.94 2.06-2.06.94zm-11 1L8.5 8.5l.94-2.06 2.06-.94-2.06-.94L8.5 2.5l-.94 2.06-2.06.94zm10 10l.94 2.06.94-2.06 2.06-.94-2.06-.94-.94-2.06-.94 2.06-2.06.94z\"/><path d=\"M17.41 7.96l-1.37-1.37c-.4-.4-.92-.59-1.43-.59-.52 0-1.04.2-1.43.59L10.3 9.45l-7.72 7.72c-.78.78-.78 2.05 0 2.83L4 21.41c.39.39.9.59 1.41.59.51 0 1.02-.2 1.41-.59l7.78-7.78 2.81-2.81c.8-.78.8-2.07 0-2.86zM5.41 20L4 18.59l7.72-7.72 1.47 1.35L5.41 20z\"/>\n",
              "  </svg>\n",
              "      </button>\n",
              "      \n",
              "  <style>\n",
              "    .colab-df-container {\n",
              "      display:flex;\n",
              "      flex-wrap:wrap;\n",
              "      gap: 12px;\n",
              "    }\n",
              "\n",
              "    .colab-df-convert {\n",
              "      background-color: #E8F0FE;\n",
              "      border: none;\n",
              "      border-radius: 50%;\n",
              "      cursor: pointer;\n",
              "      display: none;\n",
              "      fill: #1967D2;\n",
              "      height: 32px;\n",
              "      padding: 0 0 0 0;\n",
              "      width: 32px;\n",
              "    }\n",
              "\n",
              "    .colab-df-convert:hover {\n",
              "      background-color: #E2EBFA;\n",
              "      box-shadow: 0px 1px 2px rgba(60, 64, 67, 0.3), 0px 1px 3px 1px rgba(60, 64, 67, 0.15);\n",
              "      fill: #174EA6;\n",
              "    }\n",
              "\n",
              "    [theme=dark] .colab-df-convert {\n",
              "      background-color: #3B4455;\n",
              "      fill: #D2E3FC;\n",
              "    }\n",
              "\n",
              "    [theme=dark] .colab-df-convert:hover {\n",
              "      background-color: #434B5C;\n",
              "      box-shadow: 0px 1px 3px 1px rgba(0, 0, 0, 0.15);\n",
              "      filter: drop-shadow(0px 1px 2px rgba(0, 0, 0, 0.3));\n",
              "      fill: #FFFFFF;\n",
              "    }\n",
              "  </style>\n",
              "\n",
              "      <script>\n",
              "        const buttonEl =\n",
              "          document.querySelector('#df-d38f0774-1b53-4200-84ec-164681d582c7 button.colab-df-convert');\n",
              "        buttonEl.style.display =\n",
              "          google.colab.kernel.accessAllowed ? 'block' : 'none';\n",
              "\n",
              "        async function convertToInteractive(key) {\n",
              "          const element = document.querySelector('#df-d38f0774-1b53-4200-84ec-164681d582c7');\n",
              "          const dataTable =\n",
              "            await google.colab.kernel.invokeFunction('convertToInteractive',\n",
              "                                                     [key], {});\n",
              "          if (!dataTable) return;\n",
              "\n",
              "          const docLinkHtml = 'Like what you see? Visit the ' +\n",
              "            '<a target=\"_blank\" href=https://colab.research.google.com/notebooks/data_table.ipynb>data table notebook</a>'\n",
              "            + ' to learn more about interactive tables.';\n",
              "          element.innerHTML = '';\n",
              "          dataTable['output_type'] = 'display_data';\n",
              "          await google.colab.output.renderOutput(dataTable, element);\n",
              "          const docLink = document.createElement('div');\n",
              "          docLink.innerHTML = docLinkHtml;\n",
              "          element.appendChild(docLink);\n",
              "        }\n",
              "      </script>\n",
              "    </div>\n",
              "  </div>\n",
              "  "
            ],
            "text/plain": [
              "PAY_1              -2        -1         0         1         2         3  \\\n",
              "DEF_PAY_NMO                                                               \n",
              "0            0.867706  0.832219  0.871887  0.660521  0.308586  0.242236   \n",
              "1            0.132294  0.167781  0.128113  0.339479  0.691414  0.757764   \n",
              "\n",
              "PAY_1               4    5         6         7         8  \n",
              "DEF_PAY_NMO                                               \n",
              "0            0.315789  0.5  0.454545  0.222222  0.421053  \n",
              "1            0.684211  0.5  0.545455  0.777778  0.578947  "
            ]
          },
          "execution_count": 62,
          "metadata": {},
          "output_type": "execute_result"
        }
      ],
      "source": [
        "pd.crosstab(index=df['DEF_PAY_NMO'],columns = df['PAY_1'],normalize='columns')"
      ],
      "id": "etRwWS3_WWid"
    },
    {
      "cell_type": "markdown",
      "metadata": {
        "id": "xElKgqYNYQyp"
      },
      "source": [
        "its clear that people who have delayed payment for 2 or more months have defaulted "
      ],
      "id": "xElKgqYNYQyp"
    },
    {
      "cell_type": "code",
      "execution_count": null,
      "metadata": {
        "colab": {
          "base_uri": "https://localhost:8080/",
          "height": 143
        },
        "id": "YbGoAPlIYOt4",
        "outputId": "72e9724f-f77d-4c56-c92f-cca87f4e8def"
      },
      "outputs": [
        {
          "data": {
            "text/html": [
              "\n",
              "  <div id=\"df-52349b6e-5458-4358-8626-86900de9a7c1\">\n",
              "    <div class=\"colab-df-container\">\n",
              "      <div>\n",
              "<style scoped>\n",
              "    .dataframe tbody tr th:only-of-type {\n",
              "        vertical-align: middle;\n",
              "    }\n",
              "\n",
              "    .dataframe tbody tr th {\n",
              "        vertical-align: top;\n",
              "    }\n",
              "\n",
              "    .dataframe thead th {\n",
              "        text-align: right;\n",
              "    }\n",
              "</style>\n",
              "<table border=\"1\" class=\"dataframe\">\n",
              "  <thead>\n",
              "    <tr style=\"text-align: right;\">\n",
              "      <th>PAY_2</th>\n",
              "      <th>-2</th>\n",
              "      <th>-1</th>\n",
              "      <th>0</th>\n",
              "      <th>1</th>\n",
              "      <th>2</th>\n",
              "      <th>3</th>\n",
              "      <th>4</th>\n",
              "      <th>5</th>\n",
              "      <th>6</th>\n",
              "      <th>7</th>\n",
              "      <th>8</th>\n",
              "    </tr>\n",
              "    <tr>\n",
              "      <th>DEF_PAY_NMO</th>\n",
              "      <th></th>\n",
              "      <th></th>\n",
              "      <th></th>\n",
              "      <th></th>\n",
              "      <th></th>\n",
              "      <th></th>\n",
              "      <th></th>\n",
              "      <th></th>\n",
              "      <th></th>\n",
              "      <th></th>\n",
              "      <th></th>\n",
              "    </tr>\n",
              "  </thead>\n",
              "  <tbody>\n",
              "    <tr>\n",
              "      <th>0</th>\n",
              "      <td>3091</td>\n",
              "      <td>5084</td>\n",
              "      <td>13227</td>\n",
              "      <td>23</td>\n",
              "      <td>1743</td>\n",
              "      <td>125</td>\n",
              "      <td>49</td>\n",
              "      <td>10</td>\n",
              "      <td>3</td>\n",
              "      <td>8</td>\n",
              "      <td>1</td>\n",
              "    </tr>\n",
              "    <tr>\n",
              "      <th>1</th>\n",
              "      <td>691</td>\n",
              "      <td>966</td>\n",
              "      <td>2503</td>\n",
              "      <td>5</td>\n",
              "      <td>2184</td>\n",
              "      <td>201</td>\n",
              "      <td>50</td>\n",
              "      <td>15</td>\n",
              "      <td>9</td>\n",
              "      <td>12</td>\n",
              "      <td>0</td>\n",
              "    </tr>\n",
              "  </tbody>\n",
              "</table>\n",
              "</div>\n",
              "      <button class=\"colab-df-convert\" onclick=\"convertToInteractive('df-52349b6e-5458-4358-8626-86900de9a7c1')\"\n",
              "              title=\"Convert this dataframe to an interactive table.\"\n",
              "              style=\"display:none;\">\n",
              "        \n",
              "  <svg xmlns=\"http://www.w3.org/2000/svg\" height=\"24px\"viewBox=\"0 0 24 24\"\n",
              "       width=\"24px\">\n",
              "    <path d=\"M0 0h24v24H0V0z\" fill=\"none\"/>\n",
              "    <path d=\"M18.56 5.44l.94 2.06.94-2.06 2.06-.94-2.06-.94-.94-2.06-.94 2.06-2.06.94zm-11 1L8.5 8.5l.94-2.06 2.06-.94-2.06-.94L8.5 2.5l-.94 2.06-2.06.94zm10 10l.94 2.06.94-2.06 2.06-.94-2.06-.94-.94-2.06-.94 2.06-2.06.94z\"/><path d=\"M17.41 7.96l-1.37-1.37c-.4-.4-.92-.59-1.43-.59-.52 0-1.04.2-1.43.59L10.3 9.45l-7.72 7.72c-.78.78-.78 2.05 0 2.83L4 21.41c.39.39.9.59 1.41.59.51 0 1.02-.2 1.41-.59l7.78-7.78 2.81-2.81c.8-.78.8-2.07 0-2.86zM5.41 20L4 18.59l7.72-7.72 1.47 1.35L5.41 20z\"/>\n",
              "  </svg>\n",
              "      </button>\n",
              "      \n",
              "  <style>\n",
              "    .colab-df-container {\n",
              "      display:flex;\n",
              "      flex-wrap:wrap;\n",
              "      gap: 12px;\n",
              "    }\n",
              "\n",
              "    .colab-df-convert {\n",
              "      background-color: #E8F0FE;\n",
              "      border: none;\n",
              "      border-radius: 50%;\n",
              "      cursor: pointer;\n",
              "      display: none;\n",
              "      fill: #1967D2;\n",
              "      height: 32px;\n",
              "      padding: 0 0 0 0;\n",
              "      width: 32px;\n",
              "    }\n",
              "\n",
              "    .colab-df-convert:hover {\n",
              "      background-color: #E2EBFA;\n",
              "      box-shadow: 0px 1px 2px rgba(60, 64, 67, 0.3), 0px 1px 3px 1px rgba(60, 64, 67, 0.15);\n",
              "      fill: #174EA6;\n",
              "    }\n",
              "\n",
              "    [theme=dark] .colab-df-convert {\n",
              "      background-color: #3B4455;\n",
              "      fill: #D2E3FC;\n",
              "    }\n",
              "\n",
              "    [theme=dark] .colab-df-convert:hover {\n",
              "      background-color: #434B5C;\n",
              "      box-shadow: 0px 1px 3px 1px rgba(0, 0, 0, 0.15);\n",
              "      filter: drop-shadow(0px 1px 2px rgba(0, 0, 0, 0.3));\n",
              "      fill: #FFFFFF;\n",
              "    }\n",
              "  </style>\n",
              "\n",
              "      <script>\n",
              "        const buttonEl =\n",
              "          document.querySelector('#df-52349b6e-5458-4358-8626-86900de9a7c1 button.colab-df-convert');\n",
              "        buttonEl.style.display =\n",
              "          google.colab.kernel.accessAllowed ? 'block' : 'none';\n",
              "\n",
              "        async function convertToInteractive(key) {\n",
              "          const element = document.querySelector('#df-52349b6e-5458-4358-8626-86900de9a7c1');\n",
              "          const dataTable =\n",
              "            await google.colab.kernel.invokeFunction('convertToInteractive',\n",
              "                                                     [key], {});\n",
              "          if (!dataTable) return;\n",
              "\n",
              "          const docLinkHtml = 'Like what you see? Visit the ' +\n",
              "            '<a target=\"_blank\" href=https://colab.research.google.com/notebooks/data_table.ipynb>data table notebook</a>'\n",
              "            + ' to learn more about interactive tables.';\n",
              "          element.innerHTML = '';\n",
              "          dataTable['output_type'] = 'display_data';\n",
              "          await google.colab.output.renderOutput(dataTable, element);\n",
              "          const docLink = document.createElement('div');\n",
              "          docLink.innerHTML = docLinkHtml;\n",
              "          element.appendChild(docLink);\n",
              "        }\n",
              "      </script>\n",
              "    </div>\n",
              "  </div>\n",
              "  "
            ],
            "text/plain": [
              "PAY_2          -2    -1      0   1     2    3   4   5   6   7   8\n",
              "DEF_PAY_NMO                                                      \n",
              "0            3091  5084  13227  23  1743  125  49  10   3   8   1\n",
              "1             691   966   2503   5  2184  201  50  15   9  12   0"
            ]
          },
          "execution_count": 63,
          "metadata": {},
          "output_type": "execute_result"
        }
      ],
      "source": [
        "pd.crosstab(index=df['DEF_PAY_NMO'],columns = df['PAY_2'])"
      ],
      "id": "YbGoAPlIYOt4"
    },
    {
      "cell_type": "code",
      "execution_count": null,
      "metadata": {
        "colab": {
          "base_uri": "https://localhost:8080/",
          "height": 143
        },
        "id": "XDdwQtTPWWkE",
        "outputId": "0b5ec4d3-f925-49ba-cbc3-a3745b362853"
      },
      "outputs": [
        {
          "data": {
            "text/html": [
              "\n",
              "  <div id=\"df-0dabde3e-d2b5-4365-bb7a-f7dab7639ff1\">\n",
              "    <div class=\"colab-df-container\">\n",
              "      <div>\n",
              "<style scoped>\n",
              "    .dataframe tbody tr th:only-of-type {\n",
              "        vertical-align: middle;\n",
              "    }\n",
              "\n",
              "    .dataframe tbody tr th {\n",
              "        vertical-align: top;\n",
              "    }\n",
              "\n",
              "    .dataframe thead th {\n",
              "        text-align: right;\n",
              "    }\n",
              "</style>\n",
              "<table border=\"1\" class=\"dataframe\">\n",
              "  <thead>\n",
              "    <tr style=\"text-align: right;\">\n",
              "      <th>PAY_2</th>\n",
              "      <th>-2</th>\n",
              "      <th>-1</th>\n",
              "      <th>0</th>\n",
              "      <th>1</th>\n",
              "      <th>2</th>\n",
              "      <th>3</th>\n",
              "      <th>4</th>\n",
              "      <th>5</th>\n",
              "      <th>6</th>\n",
              "      <th>7</th>\n",
              "      <th>8</th>\n",
              "    </tr>\n",
              "    <tr>\n",
              "      <th>DEF_PAY_NMO</th>\n",
              "      <th></th>\n",
              "      <th></th>\n",
              "      <th></th>\n",
              "      <th></th>\n",
              "      <th></th>\n",
              "      <th></th>\n",
              "      <th></th>\n",
              "      <th></th>\n",
              "      <th></th>\n",
              "      <th></th>\n",
              "      <th></th>\n",
              "    </tr>\n",
              "  </thead>\n",
              "  <tbody>\n",
              "    <tr>\n",
              "      <th>0</th>\n",
              "      <td>0.817292</td>\n",
              "      <td>0.840331</td>\n",
              "      <td>0.840877</td>\n",
              "      <td>0.821429</td>\n",
              "      <td>0.44385</td>\n",
              "      <td>0.383436</td>\n",
              "      <td>0.494949</td>\n",
              "      <td>0.4</td>\n",
              "      <td>0.25</td>\n",
              "      <td>0.4</td>\n",
              "      <td>1.0</td>\n",
              "    </tr>\n",
              "    <tr>\n",
              "      <th>1</th>\n",
              "      <td>0.182708</td>\n",
              "      <td>0.159669</td>\n",
              "      <td>0.159123</td>\n",
              "      <td>0.178571</td>\n",
              "      <td>0.55615</td>\n",
              "      <td>0.616564</td>\n",
              "      <td>0.505051</td>\n",
              "      <td>0.6</td>\n",
              "      <td>0.75</td>\n",
              "      <td>0.6</td>\n",
              "      <td>0.0</td>\n",
              "    </tr>\n",
              "  </tbody>\n",
              "</table>\n",
              "</div>\n",
              "      <button class=\"colab-df-convert\" onclick=\"convertToInteractive('df-0dabde3e-d2b5-4365-bb7a-f7dab7639ff1')\"\n",
              "              title=\"Convert this dataframe to an interactive table.\"\n",
              "              style=\"display:none;\">\n",
              "        \n",
              "  <svg xmlns=\"http://www.w3.org/2000/svg\" height=\"24px\"viewBox=\"0 0 24 24\"\n",
              "       width=\"24px\">\n",
              "    <path d=\"M0 0h24v24H0V0z\" fill=\"none\"/>\n",
              "    <path d=\"M18.56 5.44l.94 2.06.94-2.06 2.06-.94-2.06-.94-.94-2.06-.94 2.06-2.06.94zm-11 1L8.5 8.5l.94-2.06 2.06-.94-2.06-.94L8.5 2.5l-.94 2.06-2.06.94zm10 10l.94 2.06.94-2.06 2.06-.94-2.06-.94-.94-2.06-.94 2.06-2.06.94z\"/><path d=\"M17.41 7.96l-1.37-1.37c-.4-.4-.92-.59-1.43-.59-.52 0-1.04.2-1.43.59L10.3 9.45l-7.72 7.72c-.78.78-.78 2.05 0 2.83L4 21.41c.39.39.9.59 1.41.59.51 0 1.02-.2 1.41-.59l7.78-7.78 2.81-2.81c.8-.78.8-2.07 0-2.86zM5.41 20L4 18.59l7.72-7.72 1.47 1.35L5.41 20z\"/>\n",
              "  </svg>\n",
              "      </button>\n",
              "      \n",
              "  <style>\n",
              "    .colab-df-container {\n",
              "      display:flex;\n",
              "      flex-wrap:wrap;\n",
              "      gap: 12px;\n",
              "    }\n",
              "\n",
              "    .colab-df-convert {\n",
              "      background-color: #E8F0FE;\n",
              "      border: none;\n",
              "      border-radius: 50%;\n",
              "      cursor: pointer;\n",
              "      display: none;\n",
              "      fill: #1967D2;\n",
              "      height: 32px;\n",
              "      padding: 0 0 0 0;\n",
              "      width: 32px;\n",
              "    }\n",
              "\n",
              "    .colab-df-convert:hover {\n",
              "      background-color: #E2EBFA;\n",
              "      box-shadow: 0px 1px 2px rgba(60, 64, 67, 0.3), 0px 1px 3px 1px rgba(60, 64, 67, 0.15);\n",
              "      fill: #174EA6;\n",
              "    }\n",
              "\n",
              "    [theme=dark] .colab-df-convert {\n",
              "      background-color: #3B4455;\n",
              "      fill: #D2E3FC;\n",
              "    }\n",
              "\n",
              "    [theme=dark] .colab-df-convert:hover {\n",
              "      background-color: #434B5C;\n",
              "      box-shadow: 0px 1px 3px 1px rgba(0, 0, 0, 0.15);\n",
              "      filter: drop-shadow(0px 1px 2px rgba(0, 0, 0, 0.3));\n",
              "      fill: #FFFFFF;\n",
              "    }\n",
              "  </style>\n",
              "\n",
              "      <script>\n",
              "        const buttonEl =\n",
              "          document.querySelector('#df-0dabde3e-d2b5-4365-bb7a-f7dab7639ff1 button.colab-df-convert');\n",
              "        buttonEl.style.display =\n",
              "          google.colab.kernel.accessAllowed ? 'block' : 'none';\n",
              "\n",
              "        async function convertToInteractive(key) {\n",
              "          const element = document.querySelector('#df-0dabde3e-d2b5-4365-bb7a-f7dab7639ff1');\n",
              "          const dataTable =\n",
              "            await google.colab.kernel.invokeFunction('convertToInteractive',\n",
              "                                                     [key], {});\n",
              "          if (!dataTable) return;\n",
              "\n",
              "          const docLinkHtml = 'Like what you see? Visit the ' +\n",
              "            '<a target=\"_blank\" href=https://colab.research.google.com/notebooks/data_table.ipynb>data table notebook</a>'\n",
              "            + ' to learn more about interactive tables.';\n",
              "          element.innerHTML = '';\n",
              "          dataTable['output_type'] = 'display_data';\n",
              "          await google.colab.output.renderOutput(dataTable, element);\n",
              "          const docLink = document.createElement('div');\n",
              "          docLink.innerHTML = docLinkHtml;\n",
              "          element.appendChild(docLink);\n",
              "        }\n",
              "      </script>\n",
              "    </div>\n",
              "  </div>\n",
              "  "
            ],
            "text/plain": [
              "PAY_2              -2        -1         0         1        2         3  \\\n",
              "DEF_PAY_NMO                                                              \n",
              "0            0.817292  0.840331  0.840877  0.821429  0.44385  0.383436   \n",
              "1            0.182708  0.159669  0.159123  0.178571  0.55615  0.616564   \n",
              "\n",
              "PAY_2               4    5     6    7    8  \n",
              "DEF_PAY_NMO                                 \n",
              "0            0.494949  0.4  0.25  0.4  1.0  \n",
              "1            0.505051  0.6  0.75  0.6  0.0  "
            ]
          },
          "execution_count": 64,
          "metadata": {},
          "output_type": "execute_result"
        }
      ],
      "source": [
        "pd.crosstab(index=df['DEF_PAY_NMO'],columns = df['PAY_2'],normalize='columns')"
      ],
      "id": "XDdwQtTPWWkE"
    },
    {
      "cell_type": "markdown",
      "metadata": {
        "id": "jN04OyFHZTS4"
      },
      "source": [
        "people who have delayed payment for more than 1 month are more likely to default next month as well"
      ],
      "id": "jN04OyFHZTS4"
    },
    {
      "cell_type": "code",
      "execution_count": null,
      "metadata": {
        "colab": {
          "base_uri": "https://localhost:8080/",
          "height": 300
        },
        "id": "i4wS3H3CWWnU",
        "outputId": "909210d7-1067-428b-f8b6-c11d924004f3"
      },
      "outputs": [
        {
          "data": {
            "text/html": [
              "\n",
              "  <div id=\"df-726fd660-e917-4923-8e7c-75b6a9d55768\">\n",
              "    <div class=\"colab-df-container\">\n",
              "      <div>\n",
              "<style scoped>\n",
              "    .dataframe tbody tr th:only-of-type {\n",
              "        vertical-align: middle;\n",
              "    }\n",
              "\n",
              "    .dataframe tbody tr th {\n",
              "        vertical-align: top;\n",
              "    }\n",
              "\n",
              "    .dataframe thead th {\n",
              "        text-align: right;\n",
              "    }\n",
              "</style>\n",
              "<table border=\"1\" class=\"dataframe\">\n",
              "  <thead>\n",
              "    <tr style=\"text-align: right;\">\n",
              "      <th></th>\n",
              "      <th>BILL_AMT1</th>\n",
              "      <th>BILL_AMT2</th>\n",
              "      <th>BILL_AMT3</th>\n",
              "      <th>BILL_AMT4</th>\n",
              "      <th>BILL_AMT5</th>\n",
              "      <th>BILL_AMT6</th>\n",
              "    </tr>\n",
              "  </thead>\n",
              "  <tbody>\n",
              "    <tr>\n",
              "      <th>count</th>\n",
              "      <td>30000.000000</td>\n",
              "      <td>30000.000000</td>\n",
              "      <td>3.000000e+04</td>\n",
              "      <td>30000.000000</td>\n",
              "      <td>30000.000000</td>\n",
              "      <td>30000.000000</td>\n",
              "    </tr>\n",
              "    <tr>\n",
              "      <th>mean</th>\n",
              "      <td>51223.330900</td>\n",
              "      <td>49179.075167</td>\n",
              "      <td>4.701315e+04</td>\n",
              "      <td>43262.948967</td>\n",
              "      <td>40311.400967</td>\n",
              "      <td>38871.760400</td>\n",
              "    </tr>\n",
              "    <tr>\n",
              "      <th>std</th>\n",
              "      <td>73635.860576</td>\n",
              "      <td>71173.768783</td>\n",
              "      <td>6.934939e+04</td>\n",
              "      <td>64332.856134</td>\n",
              "      <td>60797.155770</td>\n",
              "      <td>59554.107537</td>\n",
              "    </tr>\n",
              "    <tr>\n",
              "      <th>min</th>\n",
              "      <td>-165580.000000</td>\n",
              "      <td>-69777.000000</td>\n",
              "      <td>-1.572640e+05</td>\n",
              "      <td>-170000.000000</td>\n",
              "      <td>-81334.000000</td>\n",
              "      <td>-339603.000000</td>\n",
              "    </tr>\n",
              "    <tr>\n",
              "      <th>25%</th>\n",
              "      <td>3558.750000</td>\n",
              "      <td>2984.750000</td>\n",
              "      <td>2.666250e+03</td>\n",
              "      <td>2326.750000</td>\n",
              "      <td>1763.000000</td>\n",
              "      <td>1256.000000</td>\n",
              "    </tr>\n",
              "    <tr>\n",
              "      <th>50%</th>\n",
              "      <td>22381.500000</td>\n",
              "      <td>21200.000000</td>\n",
              "      <td>2.008850e+04</td>\n",
              "      <td>19052.000000</td>\n",
              "      <td>18104.500000</td>\n",
              "      <td>17071.000000</td>\n",
              "    </tr>\n",
              "    <tr>\n",
              "      <th>75%</th>\n",
              "      <td>67091.000000</td>\n",
              "      <td>64006.250000</td>\n",
              "      <td>6.016475e+04</td>\n",
              "      <td>54506.000000</td>\n",
              "      <td>50190.500000</td>\n",
              "      <td>49198.250000</td>\n",
              "    </tr>\n",
              "    <tr>\n",
              "      <th>max</th>\n",
              "      <td>964511.000000</td>\n",
              "      <td>983931.000000</td>\n",
              "      <td>1.664089e+06</td>\n",
              "      <td>891586.000000</td>\n",
              "      <td>927171.000000</td>\n",
              "      <td>961664.000000</td>\n",
              "    </tr>\n",
              "  </tbody>\n",
              "</table>\n",
              "</div>\n",
              "      <button class=\"colab-df-convert\" onclick=\"convertToInteractive('df-726fd660-e917-4923-8e7c-75b6a9d55768')\"\n",
              "              title=\"Convert this dataframe to an interactive table.\"\n",
              "              style=\"display:none;\">\n",
              "        \n",
              "  <svg xmlns=\"http://www.w3.org/2000/svg\" height=\"24px\"viewBox=\"0 0 24 24\"\n",
              "       width=\"24px\">\n",
              "    <path d=\"M0 0h24v24H0V0z\" fill=\"none\"/>\n",
              "    <path d=\"M18.56 5.44l.94 2.06.94-2.06 2.06-.94-2.06-.94-.94-2.06-.94 2.06-2.06.94zm-11 1L8.5 8.5l.94-2.06 2.06-.94-2.06-.94L8.5 2.5l-.94 2.06-2.06.94zm10 10l.94 2.06.94-2.06 2.06-.94-2.06-.94-.94-2.06-.94 2.06-2.06.94z\"/><path d=\"M17.41 7.96l-1.37-1.37c-.4-.4-.92-.59-1.43-.59-.52 0-1.04.2-1.43.59L10.3 9.45l-7.72 7.72c-.78.78-.78 2.05 0 2.83L4 21.41c.39.39.9.59 1.41.59.51 0 1.02-.2 1.41-.59l7.78-7.78 2.81-2.81c.8-.78.8-2.07 0-2.86zM5.41 20L4 18.59l7.72-7.72 1.47 1.35L5.41 20z\"/>\n",
              "  </svg>\n",
              "      </button>\n",
              "      \n",
              "  <style>\n",
              "    .colab-df-container {\n",
              "      display:flex;\n",
              "      flex-wrap:wrap;\n",
              "      gap: 12px;\n",
              "    }\n",
              "\n",
              "    .colab-df-convert {\n",
              "      background-color: #E8F0FE;\n",
              "      border: none;\n",
              "      border-radius: 50%;\n",
              "      cursor: pointer;\n",
              "      display: none;\n",
              "      fill: #1967D2;\n",
              "      height: 32px;\n",
              "      padding: 0 0 0 0;\n",
              "      width: 32px;\n",
              "    }\n",
              "\n",
              "    .colab-df-convert:hover {\n",
              "      background-color: #E2EBFA;\n",
              "      box-shadow: 0px 1px 2px rgba(60, 64, 67, 0.3), 0px 1px 3px 1px rgba(60, 64, 67, 0.15);\n",
              "      fill: #174EA6;\n",
              "    }\n",
              "\n",
              "    [theme=dark] .colab-df-convert {\n",
              "      background-color: #3B4455;\n",
              "      fill: #D2E3FC;\n",
              "    }\n",
              "\n",
              "    [theme=dark] .colab-df-convert:hover {\n",
              "      background-color: #434B5C;\n",
              "      box-shadow: 0px 1px 3px 1px rgba(0, 0, 0, 0.15);\n",
              "      filter: drop-shadow(0px 1px 2px rgba(0, 0, 0, 0.3));\n",
              "      fill: #FFFFFF;\n",
              "    }\n",
              "  </style>\n",
              "\n",
              "      <script>\n",
              "        const buttonEl =\n",
              "          document.querySelector('#df-726fd660-e917-4923-8e7c-75b6a9d55768 button.colab-df-convert');\n",
              "        buttonEl.style.display =\n",
              "          google.colab.kernel.accessAllowed ? 'block' : 'none';\n",
              "\n",
              "        async function convertToInteractive(key) {\n",
              "          const element = document.querySelector('#df-726fd660-e917-4923-8e7c-75b6a9d55768');\n",
              "          const dataTable =\n",
              "            await google.colab.kernel.invokeFunction('convertToInteractive',\n",
              "                                                     [key], {});\n",
              "          if (!dataTable) return;\n",
              "\n",
              "          const docLinkHtml = 'Like what you see? Visit the ' +\n",
              "            '<a target=\"_blank\" href=https://colab.research.google.com/notebooks/data_table.ipynb>data table notebook</a>'\n",
              "            + ' to learn more about interactive tables.';\n",
              "          element.innerHTML = '';\n",
              "          dataTable['output_type'] = 'display_data';\n",
              "          await google.colab.output.renderOutput(dataTable, element);\n",
              "          const docLink = document.createElement('div');\n",
              "          docLink.innerHTML = docLinkHtml;\n",
              "          element.appendChild(docLink);\n",
              "        }\n",
              "      </script>\n",
              "    </div>\n",
              "  </div>\n",
              "  "
            ],
            "text/plain": [
              "           BILL_AMT1      BILL_AMT2     BILL_AMT3      BILL_AMT4  \\\n",
              "count   30000.000000   30000.000000  3.000000e+04   30000.000000   \n",
              "mean    51223.330900   49179.075167  4.701315e+04   43262.948967   \n",
              "std     73635.860576   71173.768783  6.934939e+04   64332.856134   \n",
              "min   -165580.000000  -69777.000000 -1.572640e+05 -170000.000000   \n",
              "25%      3558.750000    2984.750000  2.666250e+03    2326.750000   \n",
              "50%     22381.500000   21200.000000  2.008850e+04   19052.000000   \n",
              "75%     67091.000000   64006.250000  6.016475e+04   54506.000000   \n",
              "max    964511.000000  983931.000000  1.664089e+06  891586.000000   \n",
              "\n",
              "           BILL_AMT5      BILL_AMT6  \n",
              "count   30000.000000   30000.000000  \n",
              "mean    40311.400967   38871.760400  \n",
              "std     60797.155770   59554.107537  \n",
              "min    -81334.000000 -339603.000000  \n",
              "25%      1763.000000    1256.000000  \n",
              "50%     18104.500000   17071.000000  \n",
              "75%     50190.500000   49198.250000  \n",
              "max    927171.000000  961664.000000  "
            ]
          },
          "execution_count": 65,
          "metadata": {},
          "output_type": "execute_result"
        }
      ],
      "source": [
        "#Bill amount related variables\n",
        "df[['BILL_AMT1', 'BILL_AMT2', 'BILL_AMT3', 'BILL_AMT4', 'BILL_AMT5', 'BILL_AMT6']].describe()"
      ],
      "id": "i4wS3H3CWWnU"
    },
    {
      "cell_type": "code",
      "execution_count": null,
      "metadata": {
        "colab": {
          "base_uri": "https://localhost:8080/",
          "height": 365
        },
        "id": "6-q_4gzNY-Ss",
        "outputId": "9ac7e37d-b438-4d5c-ac9a-7a11c114a28d"
      },
      "outputs": [
        {
          "data": {
            "image/png": "[encoded data removed]",
            "text/plain": [
              "<Figure size 453.925x360 with 1 Axes>"
            ]
          },
          "metadata": {},
          "output_type": "display_data"
        }
      ],
      "source": [
        "#Distribution plot for bill amount\n",
        "sns.displot(x='BILL_AMT1', hue='DEF_PAY_NMO', data=df)\n",
        "plt.show()"
      ],
      "id": "6-q_4gzNY-Ss"
    },
    {
      "cell_type": "code",
      "execution_count": null,
      "metadata": {
        "colab": {
          "base_uri": "https://localhost:8080/",
          "height": 365
        },
        "id": "OT4SUgd9Y-Up",
        "outputId": "bcfc4ca8-c622-4bda-c8b7-a5fb89c0da68"
      },
      "outputs": [
        {
          "data": {
            "image/png": "[encoded data removed]",
            "text/plain": [
              "<Figure size 453.925x360 with 1 Axes>"
            ]
          },
          "metadata": {},
          "output_type": "display_data"
        }
      ],
      "source": [
        "sns.displot(x='BILL_AMT2', hue='DEF_PAY_NMO', data=df)\n",
        "plt.show()"
      ],
      "id": "OT4SUgd9Y-Up"
    },
    {
      "cell_type": "code",
      "execution_count": null,
      "metadata": {
        "colab": {
          "base_uri": "https://localhost:8080/",
          "height": 365
        },
        "id": "IdAzHtgQY-XN",
        "outputId": "1d144d60-33a3-4677-aada-59e44f151300"
      },
      "outputs": [
        {
          "data": {
            "image/png": "[encoded data removed]",
            "text/plain": [
              "<Figure size 453.925x360 with 1 Axes>"
            ]
          },
          "metadata": {},
          "output_type": "display_data"
        }
      ],
      "source": [
        "sns.displot(x='BILL_AMT3', hue='DEF_PAY_NMO', data=df)\n",
        "plt.show()"
      ],
      "id": "IdAzHtgQY-XN"
    },
    {
      "cell_type": "markdown",
      "metadata": {
        "id": "z4oPPKdgd1gj"
      },
      "source": [
        "Going by the distribution charts for the Bill statement across different months, we can see that highest number of\n",
        "defaults happened for smaller bill statements."
      ],
      "id": "z4oPPKdgd1gj"
    },
    {
      "cell_type": "code",
      "execution_count": null,
      "metadata": {
        "colab": {
          "base_uri": "https://localhost:8080/",
          "height": 300
        },
        "id": "1b0qgWnTY-Yv",
        "outputId": "f74c3e63-ca1f-4aa5-c7b5-24d67543b221"
      },
      "outputs": [
        {
          "data": {
            "text/html": [
              "\n",
              "  <div id=\"df-21bb4304-41a6-46d4-8a07-873cc0658a16\">\n",
              "    <div class=\"colab-df-container\">\n",
              "      <div>\n",
              "<style scoped>\n",
              "    .dataframe tbody tr th:only-of-type {\n",
              "        vertical-align: middle;\n",
              "    }\n",
              "\n",
              "    .dataframe tbody tr th {\n",
              "        vertical-align: top;\n",
              "    }\n",
              "\n",
              "    .dataframe thead th {\n",
              "        text-align: right;\n",
              "    }\n",
              "</style>\n",
              "<table border=\"1\" class=\"dataframe\">\n",
              "  <thead>\n",
              "    <tr style=\"text-align: right;\">\n",
              "      <th></th>\n",
              "      <th>PAY_AMT1</th>\n",
              "      <th>PAY_AMT2</th>\n",
              "      <th>PAY_AMT3</th>\n",
              "      <th>PAY_AMT4</th>\n",
              "      <th>PAY_AMT5</th>\n",
              "      <th>PAY_AMT6</th>\n",
              "    </tr>\n",
              "  </thead>\n",
              "  <tbody>\n",
              "    <tr>\n",
              "      <th>count</th>\n",
              "      <td>30000.000000</td>\n",
              "      <td>3.000000e+04</td>\n",
              "      <td>30000.00000</td>\n",
              "      <td>30000.000000</td>\n",
              "      <td>30000.000000</td>\n",
              "      <td>30000.000000</td>\n",
              "    </tr>\n",
              "    <tr>\n",
              "      <th>mean</th>\n",
              "      <td>5663.580500</td>\n",
              "      <td>5.921163e+03</td>\n",
              "      <td>5225.68150</td>\n",
              "      <td>4826.076867</td>\n",
              "      <td>4799.387633</td>\n",
              "      <td>5215.502567</td>\n",
              "    </tr>\n",
              "    <tr>\n",
              "      <th>std</th>\n",
              "      <td>16563.280354</td>\n",
              "      <td>2.304087e+04</td>\n",
              "      <td>17606.96147</td>\n",
              "      <td>15666.159744</td>\n",
              "      <td>15278.305679</td>\n",
              "      <td>17777.465775</td>\n",
              "    </tr>\n",
              "    <tr>\n",
              "      <th>min</th>\n",
              "      <td>0.000000</td>\n",
              "      <td>0.000000e+00</td>\n",
              "      <td>0.00000</td>\n",
              "      <td>0.000000</td>\n",
              "      <td>0.000000</td>\n",
              "      <td>0.000000</td>\n",
              "    </tr>\n",
              "    <tr>\n",
              "      <th>25%</th>\n",
              "      <td>1000.000000</td>\n",
              "      <td>8.330000e+02</td>\n",
              "      <td>390.00000</td>\n",
              "      <td>296.000000</td>\n",
              "      <td>252.500000</td>\n",
              "      <td>117.750000</td>\n",
              "    </tr>\n",
              "    <tr>\n",
              "      <th>50%</th>\n",
              "      <td>2100.000000</td>\n",
              "      <td>2.009000e+03</td>\n",
              "      <td>1800.00000</td>\n",
              "      <td>1500.000000</td>\n",
              "      <td>1500.000000</td>\n",
              "      <td>1500.000000</td>\n",
              "    </tr>\n",
              "    <tr>\n",
              "      <th>75%</th>\n",
              "      <td>5006.000000</td>\n",
              "      <td>5.000000e+03</td>\n",
              "      <td>4505.00000</td>\n",
              "      <td>4013.250000</td>\n",
              "      <td>4031.500000</td>\n",
              "      <td>4000.000000</td>\n",
              "    </tr>\n",
              "    <tr>\n",
              "      <th>max</th>\n",
              "      <td>873552.000000</td>\n",
              "      <td>1.684259e+06</td>\n",
              "      <td>896040.00000</td>\n",
              "      <td>621000.000000</td>\n",
              "      <td>426529.000000</td>\n",
              "      <td>528666.000000</td>\n",
              "    </tr>\n",
              "  </tbody>\n",
              "</table>\n",
              "</div>\n",
              "      <button class=\"colab-df-convert\" onclick=\"convertToInteractive('df-21bb4304-41a6-46d4-8a07-873cc0658a16')\"\n",
              "              title=\"Convert this dataframe to an interactive table.\"\n",
              "              style=\"display:none;\">\n",
              "        \n",
              "  <svg xmlns=\"http://www.w3.org/2000/svg\" height=\"24px\"viewBox=\"0 0 24 24\"\n",
              "       width=\"24px\">\n",
              "    <path d=\"M0 0h24v24H0V0z\" fill=\"none\"/>\n",
              "    <path d=\"M18.56 5.44l.94 2.06.94-2.06 2.06-.94-2.06-.94-.94-2.06-.94 2.06-2.06.94zm-11 1L8.5 8.5l.94-2.06 2.06-.94-2.06-.94L8.5 2.5l-.94 2.06-2.06.94zm10 10l.94 2.06.94-2.06 2.06-.94-2.06-.94-.94-2.06-.94 2.06-2.06.94z\"/><path d=\"M17.41 7.96l-1.37-1.37c-.4-.4-.92-.59-1.43-.59-.52 0-1.04.2-1.43.59L10.3 9.45l-7.72 7.72c-.78.78-.78 2.05 0 2.83L4 21.41c.39.39.9.59 1.41.59.51 0 1.02-.2 1.41-.59l7.78-7.78 2.81-2.81c.8-.78.8-2.07 0-2.86zM5.41 20L4 18.59l7.72-7.72 1.47 1.35L5.41 20z\"/>\n",
              "  </svg>\n",
              "      </button>\n",
              "      \n",
              "  <style>\n",
              "    .colab-df-container {\n",
              "      display:flex;\n",
              "      flex-wrap:wrap;\n",
              "      gap: 12px;\n",
              "    }\n",
              "\n",
              "    .colab-df-convert {\n",
              "      background-color: #E8F0FE;\n",
              "      border: none;\n",
              "      border-radius: 50%;\n",
              "      cursor: pointer;\n",
              "      display: none;\n",
              "      fill: #1967D2;\n",
              "      height: 32px;\n",
              "      padding: 0 0 0 0;\n",
              "      width: 32px;\n",
              "    }\n",
              "\n",
              "    .colab-df-convert:hover {\n",
              "      background-color: #E2EBFA;\n",
              "      box-shadow: 0px 1px 2px rgba(60, 64, 67, 0.3), 0px 1px 3px 1px rgba(60, 64, 67, 0.15);\n",
              "      fill: #174EA6;\n",
              "    }\n",
              "\n",
              "    [theme=dark] .colab-df-convert {\n",
              "      background-color: #3B4455;\n",
              "      fill: #D2E3FC;\n",
              "    }\n",
              "\n",
              "    [theme=dark] .colab-df-convert:hover {\n",
              "      background-color: #434B5C;\n",
              "      box-shadow: 0px 1px 3px 1px rgba(0, 0, 0, 0.15);\n",
              "      filter: drop-shadow(0px 1px 2px rgba(0, 0, 0, 0.3));\n",
              "      fill: #FFFFFF;\n",
              "    }\n",
              "  </style>\n",
              "\n",
              "      <script>\n",
              "        const buttonEl =\n",
              "          document.querySelector('#df-21bb4304-41a6-46d4-8a07-873cc0658a16 button.colab-df-convert');\n",
              "        buttonEl.style.display =\n",
              "          google.colab.kernel.accessAllowed ? 'block' : 'none';\n",
              "\n",
              "        async function convertToInteractive(key) {\n",
              "          const element = document.querySelector('#df-21bb4304-41a6-46d4-8a07-873cc0658a16');\n",
              "          const dataTable =\n",
              "            await google.colab.kernel.invokeFunction('convertToInteractive',\n",
              "                                                     [key], {});\n",
              "          if (!dataTable) return;\n",
              "\n",
              "          const docLinkHtml = 'Like what you see? Visit the ' +\n",
              "            '<a target=\"_blank\" href=https://colab.research.google.com/notebooks/data_table.ipynb>data table notebook</a>'\n",
              "            + ' to learn more about interactive tables.';\n",
              "          element.innerHTML = '';\n",
              "          dataTable['output_type'] = 'display_data';\n",
              "          await google.colab.output.renderOutput(dataTable, element);\n",
              "          const docLink = document.createElement('div');\n",
              "          docLink.innerHTML = docLinkHtml;\n",
              "          element.appendChild(docLink);\n",
              "        }\n",
              "      </script>\n",
              "    </div>\n",
              "  </div>\n",
              "  "
            ],
            "text/plain": [
              "            PAY_AMT1      PAY_AMT2      PAY_AMT3       PAY_AMT4  \\\n",
              "count   30000.000000  3.000000e+04   30000.00000   30000.000000   \n",
              "mean     5663.580500  5.921163e+03    5225.68150    4826.076867   \n",
              "std     16563.280354  2.304087e+04   17606.96147   15666.159744   \n",
              "min         0.000000  0.000000e+00       0.00000       0.000000   \n",
              "25%      1000.000000  8.330000e+02     390.00000     296.000000   \n",
              "50%      2100.000000  2.009000e+03    1800.00000    1500.000000   \n",
              "75%      5006.000000  5.000000e+03    4505.00000    4013.250000   \n",
              "max    873552.000000  1.684259e+06  896040.00000  621000.000000   \n",
              "\n",
              "            PAY_AMT5       PAY_AMT6  \n",
              "count   30000.000000   30000.000000  \n",
              "mean     4799.387633    5215.502567  \n",
              "std     15278.305679   17777.465775  \n",
              "min         0.000000       0.000000  \n",
              "25%       252.500000     117.750000  \n",
              "50%      1500.000000    1500.000000  \n",
              "75%      4031.500000    4000.000000  \n",
              "max    426529.000000  528666.000000  "
            ]
          },
          "execution_count": 91,
          "metadata": {},
          "output_type": "execute_result"
        }
      ],
      "source": [
        "#payment\n",
        "df[['PAY_AMT1', 'PAY_AMT2', 'PAY_AMT3', 'PAY_AMT4', 'PAY_AMT5', 'PAY_AMT6']].describe()"
      ],
      "id": "1b0qgWnTY-Yv"
    },
    {
      "cell_type": "code",
      "execution_count": null,
      "metadata": {
        "colab": {
          "base_uri": "https://localhost:8080/",
          "height": 590
        },
        "id": "GcnoOWt4Y-cL",
        "outputId": "17f120e6-d086-41a1-89ca-bbbca17fe352"
      },
      "outputs": [
        {
          "data": {
            "image/png": "[encoded data removed]",
            "text/plain": [
              "<Figure size 1440x720 with 6 Axes>"
            ]
          },
          "metadata": {},
          "output_type": "display_data"
        }
      ],
      "source": [
        "plt.subplots(figsize = (20,10))\n",
        "\n",
        "plt.subplot(231)\n",
        "plt.scatter(x=df['PAY_AMT1'], y=df['BILL_AMT1'], c='r', s=1)\n",
        "\n",
        "plt.subplot(232)\n",
        "plt.scatter(x=df['PAY_AMT2'], y=df['BILL_AMT2'], c='b', s=1)\n",
        "\n",
        "plt.subplot(233)\n",
        "plt.scatter(x=df['PAY_AMT3'], y=df['BILL_AMT3'], c='g', s=1)\n",
        "\n",
        "plt.subplot(234)\n",
        "plt.scatter(x=df['PAY_AMT4'], y=df['BILL_AMT4'], c='c', s=1)\n",
        "plt.ylabel(\"Bill Amount in past 6 months\", fontsize=25)\n",
        "\n",
        "plt.subplot(235)\n",
        "plt.scatter(x=df['PAY_AMT5'], y=df['BILL_AMT5'], c='y', s=1)\n",
        "plt.xlabel(\"Payment in past 6 months\", fontsize=25)\n",
        "\n",
        "plt.subplot(236)\n",
        "plt.scatter(x=df['PAY_AMT6'], y=df['BILL_AMT6'], c='m', s=1)\n",
        "\n",
        "plt.show()"
      ],
      "id": "GcnoOWt4Y-cL"
    },
    {
      "cell_type": "markdown",
      "metadata": {
        "id": "ALtij40_e4-l"
      },
      "source": [
        "There is higher proportion of clients for whom the bill amount is high but payment done against the same is very low."
      ],
      "id": "ALtij40_e4-l"
    },
    {
      "cell_type": "code",
      "execution_count": null,
      "metadata": {
        "id": "0b7b0ce4"
      },
      "outputs": [],
      "source": [
        "x1 = list(df[df['DEF_PAY_NMO'] == 1]['LIMIT_BAL'])\n",
        "x2 = list(df[df['DEF_PAY_NMO'] == 0]['LIMIT_BAL'])"
      ],
      "id": "0b7b0ce4"
    },
    {
      "cell_type": "code",
      "execution_count": null,
      "metadata": {
        "colab": {
          "base_uri": "https://localhost:8080/",
          "height": 320
        },
        "id": "grGfN0LuY-fC",
        "outputId": "126dcb15-f30b-4204-acbc-e28f2a30881d"
      },
      "outputs": [
        {
          "data": {
            "text/plain": [
              "Text(0.5, 1.0, 'LIMIT BALANCE HISTOGRAM BY TYPE OF CREDIT CARD')"
            ]
          },
          "execution_count": 100,
          "metadata": {},
          "output_type": "execute_result"
        },
        {
          "data": {
            "image/png": "[encoded data removed]",
            "text/plain": [
              "<Figure size 864x288 with 1 Axes>"
            ]
          },
          "metadata": {},
          "output_type": "display_data"
        }
      ],
      "source": [
        "plt.figure(figsize=(12,4))\n",
        "plt.hist([x1, x2], bins = 40,  color=['steelblue', 'lightblue'])\n",
        "plt.xlim([0,700000])\n",
        "plt.legend(['Yes', 'No'], title = 'Default', loc='upper right', facecolor='white')\n",
        "plt.xlabel('Limit Balance (NT dollar)')\n",
        "plt.ylabel('Frequency')\n",
        "plt.title('LIMIT BALANCE HISTOGRAM BY TYPE OF CREDIT CARD', SIZE=15)"
      ],
      "id": "grGfN0LuY-fC"
    },
    {
      "cell_type": "code",
      "execution_count": null,
      "metadata": {
        "colab": {
          "base_uri": "https://localhost:8080/",
          "height": 833
        },
        "id": "8VHRsEjIWWqD",
        "outputId": "b16ee1b9-80ce-4d9a-abb9-95e25689fd5b"
      },
      "outputs": [
        {
          "data": {
            "text/html": [
              "\n",
              "  <div id=\"df-8bf4fdff-537a-4864-b66e-c27738dec62a\">\n",
              "    <div class=\"colab-df-container\">\n",
              "      <div>\n",
              "<style scoped>\n",
              "    .dataframe tbody tr th:only-of-type {\n",
              "        vertical-align: middle;\n",
              "    }\n",
              "\n",
              "    .dataframe tbody tr th {\n",
              "        vertical-align: top;\n",
              "    }\n",
              "\n",
              "    .dataframe thead th {\n",
              "        text-align: right;\n",
              "    }\n",
              "</style>\n",
              "<table border=\"1\" class=\"dataframe\">\n",
              "  <thead>\n",
              "    <tr style=\"text-align: right;\">\n",
              "      <th></th>\n",
              "      <th>variables</th>\n",
              "      <th>VIF</th>\n",
              "    </tr>\n",
              "  </thead>\n",
              "  <tbody>\n",
              "    <tr>\n",
              "      <th>24</th>\n",
              "      <td>intercept</td>\n",
              "      <td>64.646181</td>\n",
              "    </tr>\n",
              "    <tr>\n",
              "      <th>12</th>\n",
              "      <td>BILL_AMT2</td>\n",
              "      <td>25.866299</td>\n",
              "    </tr>\n",
              "    <tr>\n",
              "      <th>15</th>\n",
              "      <td>BILL_AMT5</td>\n",
              "      <td>24.998161</td>\n",
              "    </tr>\n",
              "    <tr>\n",
              "      <th>13</th>\n",
              "      <td>BILL_AMT3</td>\n",
              "      <td>21.775454</td>\n",
              "    </tr>\n",
              "    <tr>\n",
              "      <th>14</th>\n",
              "      <td>BILL_AMT4</td>\n",
              "      <td>20.346869</td>\n",
              "    </tr>\n",
              "    <tr>\n",
              "      <th>16</th>\n",
              "      <td>BILL_AMT6</td>\n",
              "      <td>15.025047</td>\n",
              "    </tr>\n",
              "    <tr>\n",
              "      <th>11</th>\n",
              "      <td>BILL_AMT1</td>\n",
              "      <td>14.046206</td>\n",
              "    </tr>\n",
              "    <tr>\n",
              "      <th>9</th>\n",
              "      <td>PAY_5</td>\n",
              "      <td>4.725313</td>\n",
              "    </tr>\n",
              "    <tr>\n",
              "      <th>8</th>\n",
              "      <td>PAY_4</td>\n",
              "      <td>4.287594</td>\n",
              "    </tr>\n",
              "    <tr>\n",
              "      <th>7</th>\n",
              "      <td>PAY_3</td>\n",
              "      <td>3.658921</td>\n",
              "    </tr>\n",
              "    <tr>\n",
              "      <th>10</th>\n",
              "      <td>PAY_6</td>\n",
              "      <td>3.256146</td>\n",
              "    </tr>\n",
              "    <tr>\n",
              "      <th>6</th>\n",
              "      <td>PAY_2</td>\n",
              "      <td>3.176964</td>\n",
              "    </tr>\n",
              "    <tr>\n",
              "      <th>18</th>\n",
              "      <td>PAY_AMT2</td>\n",
              "      <td>2.237277</td>\n",
              "    </tr>\n",
              "    <tr>\n",
              "      <th>5</th>\n",
              "      <td>PAY_1</td>\n",
              "      <td>1.996449</td>\n",
              "    </tr>\n",
              "    <tr>\n",
              "      <th>19</th>\n",
              "      <td>PAY_AMT3</td>\n",
              "      <td>1.756983</td>\n",
              "    </tr>\n",
              "    <tr>\n",
              "      <th>17</th>\n",
              "      <td>PAY_AMT1</td>\n",
              "      <td>1.708872</td>\n",
              "    </tr>\n",
              "    <tr>\n",
              "      <th>21</th>\n",
              "      <td>PAY_AMT5</td>\n",
              "      <td>1.687924</td>\n",
              "    </tr>\n",
              "    <tr>\n",
              "      <th>20</th>\n",
              "      <td>PAY_AMT4</td>\n",
              "      <td>1.648810</td>\n",
              "    </tr>\n",
              "    <tr>\n",
              "      <th>0</th>\n",
              "      <td>LIMIT_BAL</td>\n",
              "      <td>1.565003</td>\n",
              "    </tr>\n",
              "    <tr>\n",
              "      <th>4</th>\n",
              "      <td>AGE</td>\n",
              "      <td>1.278755</td>\n",
              "    </tr>\n",
              "    <tr>\n",
              "      <th>3</th>\n",
              "      <td>MARRIAGE</td>\n",
              "      <td>1.226537</td>\n",
              "    </tr>\n",
              "    <tr>\n",
              "      <th>22</th>\n",
              "      <td>PAY_AMT6</td>\n",
              "      <td>1.169974</td>\n",
              "    </tr>\n",
              "    <tr>\n",
              "      <th>23</th>\n",
              "      <td>DEF_PAY_NMO</td>\n",
              "      <td>1.141709</td>\n",
              "    </tr>\n",
              "    <tr>\n",
              "      <th>2</th>\n",
              "      <td>EDUCATION</td>\n",
              "      <td>1.136415</td>\n",
              "    </tr>\n",
              "    <tr>\n",
              "      <th>1</th>\n",
              "      <td>SEX</td>\n",
              "      <td>1.024015</td>\n",
              "    </tr>\n",
              "  </tbody>\n",
              "</table>\n",
              "</div>\n",
              "      <button class=\"colab-df-convert\" onclick=\"convertToInteractive('df-8bf4fdff-537a-4864-b66e-c27738dec62a')\"\n",
              "              title=\"Convert this dataframe to an interactive table.\"\n",
              "              style=\"display:none;\">\n",
              "        \n",
              "  <svg xmlns=\"http://www.w3.org/2000/svg\" height=\"24px\"viewBox=\"0 0 24 24\"\n",
              "       width=\"24px\">\n",
              "    <path d=\"M0 0h24v24H0V0z\" fill=\"none\"/>\n",
              "    <path d=\"M18.56 5.44l.94 2.06.94-2.06 2.06-.94-2.06-.94-.94-2.06-.94 2.06-2.06.94zm-11 1L8.5 8.5l.94-2.06 2.06-.94-2.06-.94L8.5 2.5l-.94 2.06-2.06.94zm10 10l.94 2.06.94-2.06 2.06-.94-2.06-.94-.94-2.06-.94 2.06-2.06.94z\"/><path d=\"M17.41 7.96l-1.37-1.37c-.4-.4-.92-.59-1.43-.59-.52 0-1.04.2-1.43.59L10.3 9.45l-7.72 7.72c-.78.78-.78 2.05 0 2.83L4 21.41c.39.39.9.59 1.41.59.51 0 1.02-.2 1.41-.59l7.78-7.78 2.81-2.81c.8-.78.8-2.07 0-2.86zM5.41 20L4 18.59l7.72-7.72 1.47 1.35L5.41 20z\"/>\n",
              "  </svg>\n",
              "      </button>\n",
              "      \n",
              "  <style>\n",
              "    .colab-df-container {\n",
              "      display:flex;\n",
              "      flex-wrap:wrap;\n",
              "      gap: 12px;\n",
              "    }\n",
              "\n",
              "    .colab-df-convert {\n",
              "      background-color: #E8F0FE;\n",
              "      border: none;\n",
              "      border-radius: 50%;\n",
              "      cursor: pointer;\n",
              "      display: none;\n",
              "      fill: #1967D2;\n",
              "      height: 32px;\n",
              "      padding: 0 0 0 0;\n",
              "      width: 32px;\n",
              "    }\n",
              "\n",
              "    .colab-df-convert:hover {\n",
              "      background-color: #E2EBFA;\n",
              "      box-shadow: 0px 1px 2px rgba(60, 64, 67, 0.3), 0px 1px 3px 1px rgba(60, 64, 67, 0.15);\n",
              "      fill: #174EA6;\n",
              "    }\n",
              "\n",
              "    [theme=dark] .colab-df-convert {\n",
              "      background-color: #3B4455;\n",
              "      fill: #D2E3FC;\n",
              "    }\n",
              "\n",
              "    [theme=dark] .colab-df-convert:hover {\n",
              "      background-color: #434B5C;\n",
              "      box-shadow: 0px 1px 3px 1px rgba(0, 0, 0, 0.15);\n",
              "      filter: drop-shadow(0px 1px 2px rgba(0, 0, 0, 0.3));\n",
              "      fill: #FFFFFF;\n",
              "    }\n",
              "  </style>\n",
              "\n",
              "      <script>\n",
              "        const buttonEl =\n",
              "          document.querySelector('#df-8bf4fdff-537a-4864-b66e-c27738dec62a button.colab-df-convert');\n",
              "        buttonEl.style.display =\n",
              "          google.colab.kernel.accessAllowed ? 'block' : 'none';\n",
              "\n",
              "        async function convertToInteractive(key) {\n",
              "          const element = document.querySelector('#df-8bf4fdff-537a-4864-b66e-c27738dec62a');\n",
              "          const dataTable =\n",
              "            await google.colab.kernel.invokeFunction('convertToInteractive',\n",
              "                                                     [key], {});\n",
              "          if (!dataTable) return;\n",
              "\n",
              "          const docLinkHtml = 'Like what you see? Visit the ' +\n",
              "            '<a target=\"_blank\" href=https://colab.research.google.com/notebooks/data_table.ipynb>data table notebook</a>'\n",
              "            + ' to learn more about interactive tables.';\n",
              "          element.innerHTML = '';\n",
              "          dataTable['output_type'] = 'display_data';\n",
              "          await google.colab.output.renderOutput(dataTable, element);\n",
              "          const docLink = document.createElement('div');\n",
              "          docLink.innerHTML = docLinkHtml;\n",
              "          element.appendChild(docLink);\n",
              "        }\n",
              "      </script>\n",
              "    </div>\n",
              "  </div>\n",
              "  "
            ],
            "text/plain": [
              "      variables        VIF\n",
              "24    intercept  64.646181\n",
              "12    BILL_AMT2  25.866299\n",
              "15    BILL_AMT5  24.998161\n",
              "13    BILL_AMT3  21.775454\n",
              "14    BILL_AMT4  20.346869\n",
              "16    BILL_AMT6  15.025047\n",
              "11    BILL_AMT1  14.046206\n",
              "9         PAY_5   4.725313\n",
              "8         PAY_4   4.287594\n",
              "7         PAY_3   3.658921\n",
              "10        PAY_6   3.256146\n",
              "6         PAY_2   3.176964\n",
              "18     PAY_AMT2   2.237277\n",
              "5         PAY_1   1.996449\n",
              "19     PAY_AMT3   1.756983\n",
              "17     PAY_AMT1   1.708872\n",
              "21     PAY_AMT5   1.687924\n",
              "20     PAY_AMT4   1.648810\n",
              "0     LIMIT_BAL   1.565003\n",
              "4           AGE   1.278755\n",
              "3      MARRIAGE   1.226537\n",
              "22     PAY_AMT6   1.169974\n",
              "23  DEF_PAY_NMO   1.141709\n",
              "2     EDUCATION   1.136415\n",
              "1           SEX   1.024015"
            ]
          },
          "execution_count": 101,
          "metadata": {},
          "output_type": "execute_result"
        }
      ],
      "source": [
        "from statsmodels.stats.outliers_influence import variance_inflation_factor\n",
        "df['intercept'] = 1\n",
        "\n",
        "# Compute and view VIF\n",
        "vif = pd.DataFrame()\n",
        "vif[\"variables\"] = df.columns\n",
        "vif[\"VIF\"] = [variance_inflation_factor(df.values, i) for i in range(df.shape[1])]\n",
        "\n",
        "vif.sort_values(by='VIF', ascending=False)"
      ],
      "id": "8VHRsEjIWWqD"
    },
    {
      "cell_type": "code",
      "execution_count": null,
      "metadata": {
        "colab": {
          "base_uri": "https://localhost:8080/",
          "height": 331
        },
        "id": "2cdecb42",
        "outputId": "f974826f-6c37-4fe6-9afc-afc7cb1ce0bb"
      },
      "outputs": [
        {
          "data": {
            "text/html": [
              "\n",
              "  <div id=\"df-beb79209-fb95-4975-9c60-3895c5e62a79\">\n",
              "    <div class=\"colab-df-container\">\n",
              "      <div>\n",
              "<style scoped>\n",
              "    .dataframe tbody tr th:only-of-type {\n",
              "        vertical-align: middle;\n",
              "    }\n",
              "\n",
              "    .dataframe tbody tr th {\n",
              "        vertical-align: top;\n",
              "    }\n",
              "\n",
              "    .dataframe thead th {\n",
              "        text-align: right;\n",
              "    }\n",
              "</style>\n",
              "<table border=\"1\" class=\"dataframe\">\n",
              "  <thead>\n",
              "    <tr style=\"text-align: right;\">\n",
              "      <th></th>\n",
              "      <th>LIMIT_BAL</th>\n",
              "      <th>SEX</th>\n",
              "      <th>EDUCATION</th>\n",
              "      <th>MARRIAGE</th>\n",
              "      <th>AGE</th>\n",
              "      <th>PAY_1</th>\n",
              "      <th>PAY_2</th>\n",
              "      <th>PAY_3</th>\n",
              "      <th>PAY_4</th>\n",
              "      <th>PAY_5</th>\n",
              "      <th>...</th>\n",
              "      <th>BILL_AMT5</th>\n",
              "      <th>BILL_AMT6</th>\n",
              "      <th>PAY_AMT1</th>\n",
              "      <th>PAY_AMT2</th>\n",
              "      <th>PAY_AMT3</th>\n",
              "      <th>PAY_AMT4</th>\n",
              "      <th>PAY_AMT5</th>\n",
              "      <th>PAY_AMT6</th>\n",
              "      <th>DEF_PAY_NMO</th>\n",
              "      <th>intercept</th>\n",
              "    </tr>\n",
              "    <tr>\n",
              "      <th>ID</th>\n",
              "      <th></th>\n",
              "      <th></th>\n",
              "      <th></th>\n",
              "      <th></th>\n",
              "      <th></th>\n",
              "      <th></th>\n",
              "      <th></th>\n",
              "      <th></th>\n",
              "      <th></th>\n",
              "      <th></th>\n",
              "      <th></th>\n",
              "      <th></th>\n",
              "      <th></th>\n",
              "      <th></th>\n",
              "      <th></th>\n",
              "      <th></th>\n",
              "      <th></th>\n",
              "      <th></th>\n",
              "      <th></th>\n",
              "      <th></th>\n",
              "      <th></th>\n",
              "    </tr>\n",
              "  </thead>\n",
              "  <tbody>\n",
              "    <tr>\n",
              "      <th>1</th>\n",
              "      <td>20000.0</td>\n",
              "      <td>2</td>\n",
              "      <td>2</td>\n",
              "      <td>1</td>\n",
              "      <td>24</td>\n",
              "      <td>2</td>\n",
              "      <td>2</td>\n",
              "      <td>-1</td>\n",
              "      <td>-1</td>\n",
              "      <td>-2</td>\n",
              "      <td>...</td>\n",
              "      <td>0.0</td>\n",
              "      <td>0.0</td>\n",
              "      <td>0.0</td>\n",
              "      <td>689.0</td>\n",
              "      <td>0.0</td>\n",
              "      <td>0.0</td>\n",
              "      <td>0.0</td>\n",
              "      <td>0.0</td>\n",
              "      <td>1</td>\n",
              "      <td>1</td>\n",
              "    </tr>\n",
              "    <tr>\n",
              "      <th>2</th>\n",
              "      <td>120000.0</td>\n",
              "      <td>2</td>\n",
              "      <td>2</td>\n",
              "      <td>2</td>\n",
              "      <td>26</td>\n",
              "      <td>-1</td>\n",
              "      <td>2</td>\n",
              "      <td>0</td>\n",
              "      <td>0</td>\n",
              "      <td>0</td>\n",
              "      <td>...</td>\n",
              "      <td>3455.0</td>\n",
              "      <td>3261.0</td>\n",
              "      <td>0.0</td>\n",
              "      <td>1000.0</td>\n",
              "      <td>1000.0</td>\n",
              "      <td>1000.0</td>\n",
              "      <td>0.0</td>\n",
              "      <td>2000.0</td>\n",
              "      <td>1</td>\n",
              "      <td>1</td>\n",
              "    </tr>\n",
              "    <tr>\n",
              "      <th>3</th>\n",
              "      <td>90000.0</td>\n",
              "      <td>2</td>\n",
              "      <td>2</td>\n",
              "      <td>2</td>\n",
              "      <td>34</td>\n",
              "      <td>0</td>\n",
              "      <td>0</td>\n",
              "      <td>0</td>\n",
              "      <td>0</td>\n",
              "      <td>0</td>\n",
              "      <td>...</td>\n",
              "      <td>14948.0</td>\n",
              "      <td>15549.0</td>\n",
              "      <td>1518.0</td>\n",
              "      <td>1500.0</td>\n",
              "      <td>1000.0</td>\n",
              "      <td>1000.0</td>\n",
              "      <td>1000.0</td>\n",
              "      <td>5000.0</td>\n",
              "      <td>0</td>\n",
              "      <td>1</td>\n",
              "    </tr>\n",
              "    <tr>\n",
              "      <th>4</th>\n",
              "      <td>50000.0</td>\n",
              "      <td>2</td>\n",
              "      <td>2</td>\n",
              "      <td>1</td>\n",
              "      <td>37</td>\n",
              "      <td>0</td>\n",
              "      <td>0</td>\n",
              "      <td>0</td>\n",
              "      <td>0</td>\n",
              "      <td>0</td>\n",
              "      <td>...</td>\n",
              "      <td>28959.0</td>\n",
              "      <td>29547.0</td>\n",
              "      <td>2000.0</td>\n",
              "      <td>2019.0</td>\n",
              "      <td>1200.0</td>\n",
              "      <td>1100.0</td>\n",
              "      <td>1069.0</td>\n",
              "      <td>1000.0</td>\n",
              "      <td>0</td>\n",
              "      <td>1</td>\n",
              "    </tr>\n",
              "    <tr>\n",
              "      <th>5</th>\n",
              "      <td>50000.0</td>\n",
              "      <td>1</td>\n",
              "      <td>2</td>\n",
              "      <td>1</td>\n",
              "      <td>57</td>\n",
              "      <td>-1</td>\n",
              "      <td>0</td>\n",
              "      <td>-1</td>\n",
              "      <td>0</td>\n",
              "      <td>0</td>\n",
              "      <td>...</td>\n",
              "      <td>19146.0</td>\n",
              "      <td>19131.0</td>\n",
              "      <td>2000.0</td>\n",
              "      <td>36681.0</td>\n",
              "      <td>10000.0</td>\n",
              "      <td>9000.0</td>\n",
              "      <td>689.0</td>\n",
              "      <td>679.0</td>\n",
              "      <td>0</td>\n",
              "      <td>1</td>\n",
              "    </tr>\n",
              "  </tbody>\n",
              "</table>\n",
              "<p>5 rows × 25 columns</p>\n",
              "</div>\n",
              "      <button class=\"colab-df-convert\" onclick=\"convertToInteractive('df-beb79209-fb95-4975-9c60-3895c5e62a79')\"\n",
              "              title=\"Convert this dataframe to an interactive table.\"\n",
              "              style=\"display:none;\">\n",
              "        \n",
              "  <svg xmlns=\"http://www.w3.org/2000/svg\" height=\"24px\"viewBox=\"0 0 24 24\"\n",
              "       width=\"24px\">\n",
              "    <path d=\"M0 0h24v24H0V0z\" fill=\"none\"/>\n",
              "    <path d=\"M18.56 5.44l.94 2.06.94-2.06 2.06-.94-2.06-.94-.94-2.06-.94 2.06-2.06.94zm-11 1L8.5 8.5l.94-2.06 2.06-.94-2.06-.94L8.5 2.5l-.94 2.06-2.06.94zm10 10l.94 2.06.94-2.06 2.06-.94-2.06-.94-.94-2.06-.94 2.06-2.06.94z\"/><path d=\"M17.41 7.96l-1.37-1.37c-.4-.4-.92-.59-1.43-.59-.52 0-1.04.2-1.43.59L10.3 9.45l-7.72 7.72c-.78.78-.78 2.05 0 2.83L4 21.41c.39.39.9.59 1.41.59.51 0 1.02-.2 1.41-.59l7.78-7.78 2.81-2.81c.8-.78.8-2.07 0-2.86zM5.41 20L4 18.59l7.72-7.72 1.47 1.35L5.41 20z\"/>\n",
              "  </svg>\n",
              "      </button>\n",
              "      \n",
              "  <style>\n",
              "    .colab-df-container {\n",
              "      display:flex;\n",
              "      flex-wrap:wrap;\n",
              "      gap: 12px;\n",
              "    }\n",
              "\n",
              "    .colab-df-convert {\n",
              "      background-color: #E8F0FE;\n",
              "      border: none;\n",
              "      border-radius: 50%;\n",
              "      cursor: pointer;\n",
              "      display: none;\n",
              "      fill: #1967D2;\n",
              "      height: 32px;\n",
              "      padding: 0 0 0 0;\n",
              "      width: 32px;\n",
              "    }\n",
              "\n",
              "    .colab-df-convert:hover {\n",
              "      background-color: #E2EBFA;\n",
              "      box-shadow: 0px 1px 2px rgba(60, 64, 67, 0.3), 0px 1px 3px 1px rgba(60, 64, 67, 0.15);\n",
              "      fill: #174EA6;\n",
              "    }\n",
              "\n",
              "    [theme=dark] .colab-df-convert {\n",
              "      background-color: #3B4455;\n",
              "      fill: #D2E3FC;\n",
              "    }\n",
              "\n",
              "    [theme=dark] .colab-df-convert:hover {\n",
              "      background-color: #434B5C;\n",
              "      box-shadow: 0px 1px 3px 1px rgba(0, 0, 0, 0.15);\n",
              "      filter: drop-shadow(0px 1px 2px rgba(0, 0, 0, 0.3));\n",
              "      fill: #FFFFFF;\n",
              "    }\n",
              "  </style>\n",
              "\n",
              "      <script>\n",
              "        const buttonEl =\n",
              "          document.querySelector('#df-beb79209-fb95-4975-9c60-3895c5e62a79 button.colab-df-convert');\n",
              "        buttonEl.style.display =\n",
              "          google.colab.kernel.accessAllowed ? 'block' : 'none';\n",
              "\n",
              "        async function convertToInteractive(key) {\n",
              "          const element = document.querySelector('#df-beb79209-fb95-4975-9c60-3895c5e62a79');\n",
              "          const dataTable =\n",
              "            await google.colab.kernel.invokeFunction('convertToInteractive',\n",
              "                                                     [key], {});\n",
              "          if (!dataTable) return;\n",
              "\n",
              "          const docLinkHtml = 'Like what you see? Visit the ' +\n",
              "            '<a target=\"_blank\" href=https://colab.research.google.com/notebooks/data_table.ipynb>data table notebook</a>'\n",
              "            + ' to learn more about interactive tables.';\n",
              "          element.innerHTML = '';\n",
              "          dataTable['output_type'] = 'display_data';\n",
              "          await google.colab.output.renderOutput(dataTable, element);\n",
              "          const docLink = document.createElement('div');\n",
              "          docLink.innerHTML = docLinkHtml;\n",
              "          element.appendChild(docLink);\n",
              "        }\n",
              "      </script>\n",
              "    </div>\n",
              "  </div>\n",
              "  "
            ],
            "text/plain": [
              "    LIMIT_BAL  SEX  EDUCATION  MARRIAGE  AGE  PAY_1  PAY_2  PAY_3  PAY_4  \\\n",
              "ID                                                                         \n",
              "1     20000.0    2          2         1   24      2      2     -1     -1   \n",
              "2    120000.0    2          2         2   26     -1      2      0      0   \n",
              "3     90000.0    2          2         2   34      0      0      0      0   \n",
              "4     50000.0    2          2         1   37      0      0      0      0   \n",
              "5     50000.0    1          2         1   57     -1      0     -1      0   \n",
              "\n",
              "    PAY_5  ...  BILL_AMT5  BILL_AMT6  PAY_AMT1  PAY_AMT2  PAY_AMT3  PAY_AMT4  \\\n",
              "ID         ...                                                                 \n",
              "1      -2  ...        0.0        0.0       0.0     689.0       0.0       0.0   \n",
              "2       0  ...     3455.0     3261.0       0.0    1000.0    1000.0    1000.0   \n",
              "3       0  ...    14948.0    15549.0    1518.0    1500.0    1000.0    1000.0   \n",
              "4       0  ...    28959.0    29547.0    2000.0    2019.0    1200.0    1100.0   \n",
              "5       0  ...    19146.0    19131.0    2000.0   36681.0   10000.0    9000.0   \n",
              "\n",
              "    PAY_AMT5  PAY_AMT6  DEF_PAY_NMO  intercept  \n",
              "ID                                              \n",
              "1        0.0       0.0            1          1  \n",
              "2        0.0    2000.0            1          1  \n",
              "3     1000.0    5000.0            0          1  \n",
              "4     1069.0    1000.0            0          1  \n",
              "5      689.0     679.0            0          1  \n",
              "\n",
              "[5 rows x 25 columns]"
            ]
          },
          "execution_count": 102,
          "metadata": {},
          "output_type": "execute_result"
        }
      ],
      "source": [
        "df.head()"
      ],
      "id": "2cdecb42"
    },
    {
      "cell_type": "code",
      "execution_count": null,
      "metadata": {
        "id": "6ae89403"
      },
      "outputs": [],
      "source": [
        "features = df.columns[:23]"
      ],
      "id": "6ae89403"
    },
    {
      "cell_type": "code",
      "execution_count": null,
      "metadata": {
        "colab": {
          "base_uri": "https://localhost:8080/"
        },
        "id": "acea908d",
        "outputId": "adc276cf-6351-4e2f-fab8-728fe8c4b87a"
      },
      "outputs": [
        {
          "output_type": "execute_result",
          "data": {
            "text/plain": [
              "Index(['LIMIT_BAL', 'SEX', 'EDUCATION', 'MARRIAGE', 'AGE', 'PAY_1', 'PAY_2',\n",
              "       'PAY_3', 'PAY_4', 'PAY_5', 'PAY_6', 'BILL_AMT1', 'BILL_AMT2',\n",
              "       'BILL_AMT3', 'BILL_AMT4', 'BILL_AMT5', 'BILL_AMT6', 'PAY_AMT1',\n",
              "       'PAY_AMT2', 'PAY_AMT3', 'PAY_AMT4', 'PAY_AMT5', 'PAY_AMT6'],\n",
              "      dtype='object')"
            ]
          },
          "metadata": {},
          "execution_count": 28
        }
      ],
      "source": [
        "features"
      ],
      "id": "acea908d"
    },
    {
      "cell_type": "code",
      "execution_count": null,
      "metadata": {
        "id": "3673408f"
      },
      "outputs": [],
      "source": [
        "def Scale_Split_Balance(df, features, target='DEF_PAY_NMO', scaled=False, balanced=False, test_size=0.2, random_state=10):\n",
        "    '''\n",
        "    This function takes in a dataframe, the feature variables, the target variables\n",
        "    and then splits the data with the user having the option to scale and balance the data\n",
        "    and set values for the split proportion and the random seed.\n",
        "    '''\n",
        "    # Resampling methods\n",
        "    random_os = RandomOverSampler() # oversampling\n",
        "    smote = SMOTE() # smote\n",
        "    adasyn = ADASYN() # Adaptive synthetic\n",
        "    \n",
        "\n",
        "    X, y = df[features], df[target]\n",
        "\n",
        "    # Checking if X needs to be scaled\n",
        "    if scaled == True:\n",
        "        X_sc = pd.DataFrame(MinMaxScaler().fit_transform(X), columns=X.columns)\n",
        "    else:\n",
        "        X_sc = X\n",
        "    \n",
        "    # Executing sklearn's train-test split\n",
        "    X_sc_train, X_sc_test, y_train, y_test = train_test_split(X_sc, y, test_size=test_size, stratify=y, random_state=random_state)\n",
        "    \n",
        "    # Checking if training data needs to be balanced\n",
        "    if balanced == 'random_os':\n",
        "        X_sc_train_rs, y_sc_train_rs = random_os.fit_resample(X_sc_train, y_train)\n",
        "    elif balanced == 'smote':\n",
        "        X_sc_train_rs, y_sc_train_rs = smote.fit_resample(X_sc_train, y_train)\n",
        "    elif balanced == 'adasyn':\n",
        "        X_sc_train_rs, y_sc_train_rs = adasyn.fit_resample(X_sc_train, y_train)\n",
        "    else:\n",
        "        X_sc_train_rs, y_sc_train_rs = X_sc_train, y_train        \n",
        "        \n",
        "    return X_sc_train_rs, X_sc_test, y_sc_train_rs, y_test\n",
        "\n"
      ],
      "id": "3673408f"
    },
    {
      "cell_type": "code",
      "execution_count": null,
      "metadata": {
        "colab": {
          "base_uri": "https://localhost:8080/",
          "height": 1000
        },
        "id": "MtyPCWW3v6Gn",
        "outputId": "0a477774-8d89-4bac-a8dc-707a7187ea9d"
      },
      "outputs": [
        {
          "name": "stdout",
          "output_type": "stream",
          "text": [
            "Looking in indexes: https://pypi.org/simple, https://us-python.pkg.dev/colab-wheels/public/simple/\n",
            "Collecting pycaret\n",
            "  Downloading pycaret-3.0.0rc3-py3-none-any.whl (544 kB)\n",
            "\u001b[K     |████████████████████████████████| 544 kB 15.0 MB/s \n",
            "\u001b[?25hCollecting pmdarima>=1.8.0\n",
            "  Downloading pmdarima-2.0.1-cp37-cp37m-manylinux_2_17_x86_64.manylinux2014_x86_64.manylinux_2_28_x86_64.whl (1.8 MB)\n",
            "\u001b[K     |████████████████████████████████| 1.8 MB 61.7 MB/s \n",
            "\u001b[?25hCollecting matplotlib>=3.3.0\n",
            "  Downloading matplotlib-3.5.3-cp37-cp37m-manylinux_2_5_x86_64.manylinux1_x86_64.whl (11.2 MB)\n",
            "\u001b[K     |████████████████████████████████| 11.2 MB 58.2 MB/s \n",
            "\u001b[?25hCollecting requests>=2.27.1\n",
            "  Downloading requests-2.28.1-py3-none-any.whl (62 kB)\n",
            "\u001b[K     |████████████████████████████████| 62 kB 1.4 MB/s \n",
            "\u001b[?25hCollecting tbats>=1.1.0\n",
            "  Downloading tbats-1.1.0-py3-none-any.whl (43 kB)\n",
            "\u001b[K     |████████████████████████████████| 43 kB 1.7 MB/s \n",
            "\u001b[?25hCollecting schemdraw>=0.14\n",
            "  Downloading schemdraw-0.15-py3-none-any.whl (106 kB)\n",
            "\u001b[K     |████████████████████████████████| 106 kB 73.2 MB/s \n",
            "\u001b[?25hRequirement already satisfied: plotly>=5.0.0 in /usr/local/lib/python3.7/dist-packages (from pycaret) (5.5.0)\n",
            "Collecting numba~=0.55.0\n",
            "  Downloading numba-0.55.2-cp37-cp37m-manylinux2014_x86_64.manylinux_2_17_x86_64.whl (3.3 MB)\n",
            "\u001b[K     |████████████████████████████████| 3.3 MB 53.3 MB/s \n",
            "\u001b[?25hRequirement already satisfied: jinja2>=1.2 in /usr/local/lib/python3.7/dist-packages (from pycaret) (2.11.3)\n",
            "Requirement already satisfied: imbalanced-learn>=0.8.1 in /usr/local/lib/python3.7/dist-packages (from pycaret) (0.8.1)\n",
            "Requirement already satisfied: pandas<1.5.0,>=1.3.0 in /usr/local/lib/python3.7/dist-packages (from pycaret) (1.3.5)\n",
            "Requirement already satisfied: joblib>=1.1.0 in /usr/local/lib/python3.7/dist-packages (from pycaret) (1.1.0)\n",
            "Collecting lightgbm>=3.0.0\n",
            "  Downloading lightgbm-3.3.2-py3-none-manylinux1_x86_64.whl (2.0 MB)\n",
            "\u001b[K     |████████████████████████████████| 2.0 MB 56.4 MB/s \n",
            "\u001b[?25hCollecting plotly-resampler>=0.7.2.2\n",
            "  Downloading plotly-resampler-0.8.1.tar.gz (43 kB)\n",
            "\u001b[K     |████████████████████████████████| 43 kB 2.4 MB/s \n",
            "\u001b[?25h  Installing build dependencies ... \u001b[?25l\u001b[?25hdone\n",
            "  Getting requirements to build wheel ... \u001b[?25l\u001b[?25hdone\n",
            "    Preparing wheel metadata ... \u001b[?25l\u001b[?25hdone\n",
            "Requirement already satisfied: ipywidgets>=7.6.5 in /usr/local/lib/python3.7/dist-packages (from pycaret) (7.7.1)\n",
            "Requirement already satisfied: numpy~=1.21 in /usr/local/lib/python3.7/dist-packages (from pycaret) (1.21.6)\n",
            "Collecting scikit-plot>=0.3.7\n",
            "  Downloading scikit_plot-0.3.7-py3-none-any.whl (33 kB)\n",
            "Collecting psutil>=5.9.0\n",
            "  Downloading psutil-5.9.1-cp37-cp37m-manylinux_2_12_x86_64.manylinux2010_x86_64.manylinux_2_17_x86_64.manylinux2014_x86_64.whl (281 kB)\n",
            "\u001b[K     |████████████████████████████████| 281 kB 63.3 MB/s \n",
            "\u001b[?25hRequirement already satisfied: statsmodels>=0.12.1 in /usr/local/lib/python3.7/dist-packages (from pycaret) (0.12.2)\n",
            "Requirement already satisfied: ipython>=5.5.0 in /usr/local/lib/python3.7/dist-packages (from pycaret) (7.9.0)\n",
            "Requirement already satisfied: scikit-learn>=1.0 in /usr/local/lib/python3.7/dist-packages (from pycaret) (1.0.2)\n",
            "Collecting kaleido>=0.2.1\n",
            "  Downloading kaleido-0.2.1-py2.py3-none-manylinux1_x86_64.whl (79.9 MB)\n",
            "\u001b[K     |████████████████████████████████| 79.9 MB 119 kB/s \n",
            "\u001b[?25hCollecting sktime~=0.11.4\n",
            "  Downloading sktime-0.11.4-py3-none-any.whl (6.7 MB)\n",
            "\u001b[K     |████████████████████████████████| 6.7 MB 23.6 MB/s \n",
            "\u001b[?25hRequirement already satisfied: markupsafe>=2.0.1 in /usr/local/lib/python3.7/dist-packages (from pycaret) (2.0.1)\n",
            "Requirement already satisfied: yellowbrick>=1.4 in /usr/local/lib/python3.7/dist-packages (from pycaret) (1.4)\n",
            "Requirement already satisfied: scipy<1.9.0 in /usr/local/lib/python3.7/dist-packages (from pycaret) (1.7.3)\n",
            "Collecting category-encoders>=2.4.0\n",
            "  Downloading category_encoders-2.5.0-py2.py3-none-any.whl (69 kB)\n",
            "\u001b[K     |████████████████████████████████| 69 kB 7.6 MB/s \n",
            "\u001b[?25hRequirement already satisfied: tqdm>=4.62.0 in /usr/local/lib/python3.7/dist-packages (from pycaret) (4.64.0)\n",
            "Collecting pyod>=0.9.8\n",
            "  Downloading pyod-1.0.4.tar.gz (134 kB)\n",
            "\u001b[K     |████████████████████████████████| 134 kB 69.2 MB/s \n",
            "\u001b[?25hRequirement already satisfied: patsy>=0.5.1 in /usr/local/lib/python3.7/dist-packages (from category-encoders>=2.4.0->pycaret) (0.5.2)\n",
            "Requirement already satisfied: backcall in /usr/local/lib/python3.7/dist-packages (from ipython>=5.5.0->pycaret) (0.2.0)\n",
            "Requirement already satisfied: setuptools>=18.5 in /usr/local/lib/python3.7/dist-packages (from ipython>=5.5.0->pycaret) (57.4.0)\n",
            "Requirement already satisfied: decorator in /usr/local/lib/python3.7/dist-packages (from ipython>=5.5.0->pycaret) (4.4.2)\n",
            "Requirement already satisfied: traitlets>=4.2 in /usr/local/lib/python3.7/dist-packages (from ipython>=5.5.0->pycaret) (5.1.1)\n",
            "Requirement already satisfied: pickleshare in /usr/local/lib/python3.7/dist-packages (from ipython>=5.5.0->pycaret) (0.7.5)\n",
            "Requirement already satisfied: prompt-toolkit<2.1.0,>=2.0.0 in /usr/local/lib/python3.7/dist-packages (from ipython>=5.5.0->pycaret) (2.0.10)\n",
            "Collecting jedi>=0.10\n",
            "  Downloading jedi-0.18.1-py2.py3-none-any.whl (1.6 MB)\n",
            "\u001b[K     |████████████████████████████████| 1.6 MB 48.4 MB/s \n",
            "\u001b[?25hRequirement already satisfied: pexpect in /usr/local/lib/python3.7/dist-packages (from ipython>=5.5.0->pycaret) (4.8.0)\n",
            "Requirement already satisfied: pygments in /usr/local/lib/python3.7/dist-packages (from ipython>=5.5.0->pycaret) (2.6.1)\n",
            "Requirement already satisfied: widgetsnbextension~=3.6.0 in /usr/local/lib/python3.7/dist-packages (from ipywidgets>=7.6.5->pycaret) (3.6.1)\n",
            "Requirement already satisfied: ipykernel>=4.5.1 in /usr/local/lib/python3.7/dist-packages (from ipywidgets>=7.6.5->pycaret) (5.3.4)\n",
            "Requirement already satisfied: jupyterlab-widgets>=1.0.0 in /usr/local/lib/python3.7/dist-packages (from ipywidgets>=7.6.5->pycaret) (3.0.2)\n",
            "Requirement already satisfied: ipython-genutils~=0.2.0 in /usr/local/lib/python3.7/dist-packages (from ipywidgets>=7.6.5->pycaret) (0.2.0)\n",
            "Requirement already satisfied: jupyter-client in /usr/local/lib/python3.7/dist-packages (from ipykernel>=4.5.1->ipywidgets>=7.6.5->pycaret) (6.1.12)\n",
            "Requirement already satisfied: tornado>=4.2 in /usr/local/lib/python3.7/dist-packages (from ipykernel>=4.5.1->ipywidgets>=7.6.5->pycaret) (5.1.1)\n",
            "Requirement already satisfied: parso<0.9.0,>=0.8.0 in /usr/local/lib/python3.7/dist-packages (from jedi>=0.10->ipython>=5.5.0->pycaret) (0.8.3)\n",
            "Requirement already satisfied: wheel in /usr/local/lib/python3.7/dist-packages (from lightgbm>=3.0.0->pycaret) (0.37.1)\n",
            "Requirement already satisfied: pyparsing>=2.2.1 in /usr/local/lib/python3.7/dist-packages (from matplotlib>=3.3.0->pycaret) (3.0.9)\n",
            "Requirement already satisfied: packaging>=20.0 in /usr/local/lib/python3.7/dist-packages (from matplotlib>=3.3.0->pycaret) (21.3)\n",
            "Requirement already satisfied: cycler>=0.10 in /usr/local/lib/python3.7/dist-packages (from matplotlib>=3.3.0->pycaret) (0.11.0)\n",
            "Requirement already satisfied: kiwisolver>=1.0.1 in /usr/local/lib/python3.7/dist-packages (from matplotlib>=3.3.0->pycaret) (1.4.4)\n",
            "Collecting fonttools>=4.22.0\n",
            "  Downloading fonttools-4.37.1-py3-none-any.whl (957 kB)\n",
            "\u001b[K     |████████████████████████████████| 957 kB 61.6 MB/s \n",
            "\u001b[?25hRequirement already satisfied: pillow>=6.2.0 in /usr/local/lib/python3.7/dist-packages (from matplotlib>=3.3.0->pycaret) (7.1.2)\n",
            "Requirement already satisfied: python-dateutil>=2.7 in /usr/local/lib/python3.7/dist-packages (from matplotlib>=3.3.0->pycaret) (2.8.2)\n",
            "Requirement already satisfied: typing-extensions in /usr/local/lib/python3.7/dist-packages (from kiwisolver>=1.0.1->matplotlib>=3.3.0->pycaret) (4.1.1)\n",
            "Collecting llvmlite<0.39,>=0.38.0rc1\n",
            "  Downloading llvmlite-0.38.1-cp37-cp37m-manylinux_2_17_x86_64.manylinux2014_x86_64.whl (34.5 MB)\n",
            "\u001b[K     |████████████████████████████████| 34.5 MB 1.4 MB/s \n",
            "\u001b[?25hRequirement already satisfied: pytz>=2017.3 in /usr/local/lib/python3.7/dist-packages (from pandas<1.5.0,>=1.3.0->pycaret) (2022.2.1)\n",
            "Requirement already satisfied: six in /usr/local/lib/python3.7/dist-packages (from patsy>=0.5.1->category-encoders>=2.4.0->pycaret) (1.15.0)\n",
            "Requirement already satisfied: tenacity>=6.2.0 in /usr/local/lib/python3.7/dist-packages (from plotly>=5.0.0->pycaret) (8.0.1)\n",
            "Collecting dash<3.0.0,>=2.2.0\n",
            "  Downloading dash-2.6.1-py3-none-any.whl (9.9 MB)\n",
            "\u001b[K     |████████████████████████████████| 9.9 MB 54.5 MB/s \n",
            "\u001b[?25hCollecting trace-updater>=0.0.8\n",
            "  Downloading trace_updater-0.0.8-py3-none-any.whl (185 kB)\n",
            "\u001b[K     |████████████████████████████████| 185 kB 75.3 MB/s \n",
            "\u001b[?25hCollecting orjson<4.0.0,>=3.7.7\n",
            "  Downloading orjson-3.8.0-cp37-cp37m-manylinux_2_17_x86_64.manylinux2014_x86_64.whl (270 kB)\n",
            "\u001b[K     |████████████████████████████████| 270 kB 68.3 MB/s \n",
            "\u001b[?25hCollecting Flask-Cors<4.0.0,>=3.0.10\n",
            "  Downloading Flask_Cors-3.0.10-py2.py3-none-any.whl (14 kB)\n",
            "Collecting jupyter-dash>=0.4.2\n",
            "  Downloading jupyter_dash-0.4.2-py3-none-any.whl (23 kB)\n",
            "Requirement already satisfied: Flask>=1.0.4 in /usr/local/lib/python3.7/dist-packages (from dash<3.0.0,>=2.2.0->plotly-resampler>=0.7.2.2->pycaret) (1.1.4)\n",
            "Collecting dash-html-components==2.0.0\n",
            "  Downloading dash_html_components-2.0.0-py3-none-any.whl (4.1 kB)\n",
            "Collecting dash-core-components==2.0.0\n",
            "  Downloading dash_core_components-2.0.0-py3-none-any.whl (3.8 kB)\n",
            "Collecting flask-compress\n",
            "  Downloading Flask_Compress-1.12-py3-none-any.whl (7.9 kB)\n",
            "Collecting dash-table==5.0.0\n",
            "  Downloading dash_table-5.0.0-py3-none-any.whl (3.9 kB)\n",
            "Requirement already satisfied: itsdangerous<2.0,>=0.24 in /usr/local/lib/python3.7/dist-packages (from Flask>=1.0.4->dash<3.0.0,>=2.2.0->plotly-resampler>=0.7.2.2->pycaret) (1.1.0)\n",
            "Requirement already satisfied: click<8.0,>=5.1 in /usr/local/lib/python3.7/dist-packages (from Flask>=1.0.4->dash<3.0.0,>=2.2.0->plotly-resampler>=0.7.2.2->pycaret) (7.1.2)\n",
            "Requirement already satisfied: Werkzeug<2.0,>=0.15 in /usr/local/lib/python3.7/dist-packages (from Flask>=1.0.4->dash<3.0.0,>=2.2.0->plotly-resampler>=0.7.2.2->pycaret) (1.0.1)\n",
            "Collecting ansi2html\n",
            "  Downloading ansi2html-1.8.0-py3-none-any.whl (16 kB)\n",
            "Collecting nest-asyncio\n",
            "  Downloading nest_asyncio-1.5.5-py3-none-any.whl (5.2 kB)\n",
            "Collecting retrying\n",
            "  Downloading retrying-1.3.3.tar.gz (10 kB)\n",
            "Collecting statsmodels>=0.12.1\n",
            "  Downloading statsmodels-0.13.2-cp37-cp37m-manylinux_2_17_x86_64.manylinux2014_x86_64.whl (9.8 MB)\n",
            "\u001b[K     |████████████████████████████████| 9.8 MB 42.4 MB/s \n",
            "\u001b[?25hRequirement already satisfied: Cython!=0.29.18,!=0.29.31,>=0.29 in /usr/local/lib/python3.7/dist-packages (from pmdarima>=1.8.0->pycaret) (0.29.32)\n",
            "Requirement already satisfied: urllib3 in /usr/local/lib/python3.7/dist-packages (from pmdarima>=1.8.0->pycaret) (1.24.3)\n",
            "Requirement already satisfied: wcwidth in /usr/local/lib/python3.7/dist-packages (from prompt-toolkit<2.1.0,>=2.0.0->ipython>=5.5.0->pycaret) (0.2.5)\n",
            "Requirement already satisfied: idna<4,>=2.5 in /usr/local/lib/python3.7/dist-packages (from requests>=2.27.1->pycaret) (2.10)\n",
            "Requirement already satisfied: certifi>=2017.4.17 in /usr/local/lib/python3.7/dist-packages (from requests>=2.27.1->pycaret) (2022.6.15)\n",
            "Requirement already satisfied: charset-normalizer<3,>=2 in /usr/local/lib/python3.7/dist-packages (from requests>=2.27.1->pycaret) (2.1.0)\n",
            "Requirement already satisfied: threadpoolctl>=2.0.0 in /usr/local/lib/python3.7/dist-packages (from scikit-learn>=1.0->pycaret) (3.1.0)\n",
            "Collecting deprecated>=1.2.13\n",
            "  Downloading Deprecated-1.2.13-py2.py3-none-any.whl (9.6 kB)\n",
            "Requirement already satisfied: wrapt<2,>=1.10 in /usr/local/lib/python3.7/dist-packages (from deprecated>=1.2.13->sktime~=0.11.4->pycaret) (1.14.1)\n",
            "Requirement already satisfied: notebook>=4.4.1 in /usr/local/lib/python3.7/dist-packages (from widgetsnbextension~=3.6.0->ipywidgets>=7.6.5->pycaret) (5.3.1)\n",
            "Requirement already satisfied: terminado>=0.8.1 in /usr/local/lib/python3.7/dist-packages (from notebook>=4.4.1->widgetsnbextension~=3.6.0->ipywidgets>=7.6.5->pycaret) (0.13.3)\n",
            "Requirement already satisfied: nbconvert in /usr/local/lib/python3.7/dist-packages (from notebook>=4.4.1->widgetsnbextension~=3.6.0->ipywidgets>=7.6.5->pycaret) (5.6.1)\n",
            "Requirement already satisfied: nbformat in /usr/local/lib/python3.7/dist-packages (from notebook>=4.4.1->widgetsnbextension~=3.6.0->ipywidgets>=7.6.5->pycaret) (5.4.0)\n",
            "Requirement already satisfied: Send2Trash in /usr/local/lib/python3.7/dist-packages (from notebook>=4.4.1->widgetsnbextension~=3.6.0->ipywidgets>=7.6.5->pycaret) (1.8.0)\n",
            "Requirement already satisfied: jupyter-core>=4.4.0 in /usr/local/lib/python3.7/dist-packages (from notebook>=4.4.1->widgetsnbextension~=3.6.0->ipywidgets>=7.6.5->pycaret) (4.11.1)\n",
            "Requirement already satisfied: pyzmq>=13 in /usr/local/lib/python3.7/dist-packages (from jupyter-client->ipykernel>=4.5.1->ipywidgets>=7.6.5->pycaret) (23.2.1)\n",
            "Requirement already satisfied: ptyprocess in /usr/local/lib/python3.7/dist-packages (from terminado>=0.8.1->notebook>=4.4.1->widgetsnbextension~=3.6.0->ipywidgets>=7.6.5->pycaret) (0.7.0)\n",
            "Requirement already satisfied: importlib-metadata in /usr/local/lib/python3.7/dist-packages (from ansi2html->jupyter-dash>=0.4.2->plotly-resampler>=0.7.2.2->pycaret) (4.12.0)\n",
            "Collecting brotli\n",
            "  Downloading Brotli-1.0.9-cp37-cp37m-manylinux1_x86_64.whl (357 kB)\n",
            "\u001b[K     |████████████████████████████████| 357 kB 74.0 MB/s \n",
            "\u001b[?25hRequirement already satisfied: zipp>=0.5 in /usr/local/lib/python3.7/dist-packages (from importlib-metadata->ansi2html->jupyter-dash>=0.4.2->plotly-resampler>=0.7.2.2->pycaret) (3.8.1)\n",
            "Requirement already satisfied: pandocfilters>=1.4.1 in /usr/local/lib/python3.7/dist-packages (from nbconvert->notebook>=4.4.1->widgetsnbextension~=3.6.0->ipywidgets>=7.6.5->pycaret) (1.5.0)\n",
            "Requirement already satisfied: testpath in /usr/local/lib/python3.7/dist-packages (from nbconvert->notebook>=4.4.1->widgetsnbextension~=3.6.0->ipywidgets>=7.6.5->pycaret) (0.6.0)\n",
            "Requirement already satisfied: defusedxml in /usr/local/lib/python3.7/dist-packages (from nbconvert->notebook>=4.4.1->widgetsnbextension~=3.6.0->ipywidgets>=7.6.5->pycaret) (0.7.1)\n",
            "Requirement already satisfied: entrypoints>=0.2.2 in /usr/local/lib/python3.7/dist-packages (from nbconvert->notebook>=4.4.1->widgetsnbextension~=3.6.0->ipywidgets>=7.6.5->pycaret) (0.4)\n",
            "Requirement already satisfied: bleach in /usr/local/lib/python3.7/dist-packages (from nbconvert->notebook>=4.4.1->widgetsnbextension~=3.6.0->ipywidgets>=7.6.5->pycaret) (5.0.1)\n",
            "Requirement already satisfied: mistune<2,>=0.8.1 in /usr/local/lib/python3.7/dist-packages (from nbconvert->notebook>=4.4.1->widgetsnbextension~=3.6.0->ipywidgets>=7.6.5->pycaret) (0.8.4)\n",
            "Requirement already satisfied: fastjsonschema in /usr/local/lib/python3.7/dist-packages (from nbformat->notebook>=4.4.1->widgetsnbextension~=3.6.0->ipywidgets>=7.6.5->pycaret) (2.16.1)\n",
            "Requirement already satisfied: jsonschema>=2.6 in /usr/local/lib/python3.7/dist-packages (from nbformat->notebook>=4.4.1->widgetsnbextension~=3.6.0->ipywidgets>=7.6.5->pycaret) (4.3.3)\n",
            "Requirement already satisfied: attrs>=17.4.0 in /usr/local/lib/python3.7/dist-packages (from jsonschema>=2.6->nbformat->notebook>=4.4.1->widgetsnbextension~=3.6.0->ipywidgets>=7.6.5->pycaret) (22.1.0)\n",
            "Requirement already satisfied: pyrsistent!=0.17.0,!=0.17.1,!=0.17.2,>=0.14.0 in /usr/local/lib/python3.7/dist-packages (from jsonschema>=2.6->nbformat->notebook>=4.4.1->widgetsnbextension~=3.6.0->ipywidgets>=7.6.5->pycaret) (0.18.1)\n",
            "Requirement already satisfied: importlib-resources>=1.4.0 in /usr/local/lib/python3.7/dist-packages (from jsonschema>=2.6->nbformat->notebook>=4.4.1->widgetsnbextension~=3.6.0->ipywidgets>=7.6.5->pycaret) (5.9.0)\n",
            "Requirement already satisfied: webencodings in /usr/local/lib/python3.7/dist-packages (from bleach->nbconvert->notebook>=4.4.1->widgetsnbextension~=3.6.0->ipywidgets>=7.6.5->pycaret) (0.5.1)\n",
            "Building wheels for collected packages: plotly-resampler, pyod, retrying\n",
            "  Building wheel for plotly-resampler (PEP 517) ... \u001b[?25l\u001b[?25hdone\n",
            "  Created wheel for plotly-resampler: filename=plotly_resampler-0.8.1-cp37-cp37m-manylinux_2_27_x86_64.whl size=69980 sha256=0fda9be52b16a27a49a6fbe0f42121c98d9fa934be13d978f01c8cde2cc76fab\n",
            "  Stored in directory: /root/.cache/pip/wheels/4a/80/6b/ededd1fe4bf3469a6c6e1e3dac54a6d1416151c463d223081d\n",
            "  Building wheel for pyod (setup.py) ... \u001b[?25l\u001b[?25hdone\n",
            "  Created wheel for pyod: filename=pyod-1.0.4-py3-none-any.whl size=165073 sha256=fae8c9369242a6bc1681e38efabb702df8c5d7ebab3a9b95fc291066bdbad36d\n",
            "  Stored in directory: /root/.cache/pip/wheels/3d/48/a8/87d61660791c7e6b0f5c3068da7fb17ade7fdc041e864fe053\n",
            "  Building wheel for retrying (setup.py) ... \u001b[?25l\u001b[?25hdone\n",
            "  Created wheel for retrying: filename=retrying-1.3.3-py3-none-any.whl size=11447 sha256=7cf2c91380a64515f6e81028867ab1a83baf7d0023826a5f4d7e300a1d31e827\n",
            "  Stored in directory: /root/.cache/pip/wheels/f9/8d/8d/f6af3f7f9eea3553bc2fe6d53e4b287dad18b06a861ac56ddf\n",
            "Successfully built plotly-resampler pyod retrying\n",
            "Installing collected packages: jedi, brotli, flask-compress, dash-table, dash-html-components, dash-core-components, statsmodels, retrying, requests, nest-asyncio, llvmlite, fonttools, dash, ansi2html, trace-updater, pmdarima, orjson, numba, matplotlib, jupyter-dash, Flask-Cors, deprecated, tbats, sktime, scikit-plot, schemdraw, pyod, psutil, plotly-resampler, lightgbm, kaleido, category-encoders, pycaret\n",
            "  Attempting uninstall: statsmodels\n",
            "    Found existing installation: statsmodels 0.12.2\n",
            "    Uninstalling statsmodels-0.12.2:\n",
            "      Successfully uninstalled statsmodels-0.12.2\n",
            "  Attempting uninstall: requests\n",
            "    Found existing installation: requests 2.23.0\n",
            "    Uninstalling requests-2.23.0:\n",
            "      Successfully uninstalled requests-2.23.0\n",
            "  Attempting uninstall: llvmlite\n",
            "    Found existing installation: llvmlite 0.39.0\n",
            "    Uninstalling llvmlite-0.39.0:\n",
            "      Successfully uninstalled llvmlite-0.39.0\n",
            "  Attempting uninstall: numba\n",
            "    Found existing installation: numba 0.56.0\n",
            "    Uninstalling numba-0.56.0:\n",
            "      Successfully uninstalled numba-0.56.0\n",
            "  Attempting uninstall: matplotlib\n",
            "    Found existing installation: matplotlib 3.2.2\n",
            "    Uninstalling matplotlib-3.2.2:\n",
            "      Successfully uninstalled matplotlib-3.2.2\n",
            "  Attempting uninstall: psutil\n",
            "    Found existing installation: psutil 5.4.8\n",
            "    Uninstalling psutil-5.4.8:\n",
            "      Successfully uninstalled psutil-5.4.8\n",
            "  Attempting uninstall: lightgbm\n",
            "    Found existing installation: lightgbm 2.2.3\n",
            "    Uninstalling lightgbm-2.2.3:\n",
            "      Successfully uninstalled lightgbm-2.2.3\n",
            "Successfully installed Flask-Cors-3.0.10 ansi2html-1.8.0 brotli-1.0.9 category-encoders-2.5.0 dash-2.6.1 dash-core-components-2.0.0 dash-html-components-2.0.0 dash-table-5.0.0 deprecated-1.2.13 flask-compress-1.12 fonttools-4.37.1 jedi-0.18.1 jupyter-dash-0.4.2 kaleido-0.2.1 lightgbm-3.3.2 llvmlite-0.38.1 matplotlib-3.5.3 nest-asyncio-1.5.5 numba-0.55.2 orjson-3.8.0 plotly-resampler-0.8.1 pmdarima-2.0.1 psutil-5.9.1 pycaret-3.0.0rc3 pyod-1.0.4 requests-2.28.1 retrying-1.3.3 schemdraw-0.15 scikit-plot-0.3.7 sktime-0.11.4 statsmodels-0.13.2 tbats-1.1.0 trace-updater-0.0.8\n"
          ]
        },
        {
          "data": {
            "application/vnd.colab-display-data+json": {
              "pip_warning": {
                "packages": [
                  "matplotlib",
                  "mpl_toolkits",
                  "psutil",
                  "requests",
                  "statsmodels"
                ]
              }
            }
          },
          "metadata": {},
          "output_type": "display_data"
        }
      ],
      "source": [
        "pip install --pre pycaret"
      ],
      "id": "MtyPCWW3v6Gn"
    },
    {
      "cell_type": "code",
      "execution_count": null,
      "metadata": {
        "colab": {
          "base_uri": "https://localhost:8080/"
        },
        "id": "9f69b594",
        "outputId": "1b462d06-25cd-412c-ef5e-b2f8e2f1dc6a"
      },
      "outputs": [
        {
          "name": "stderr",
          "output_type": "stream",
          "text": [
            "WARNING:logs:No module named 'cuml'.\n",
            "'cuml' is a soft dependency and not included in the pycaret installation. Please run: `pip install cuml` to install.\n",
            "WARNING:logs:No module named 'cuml'.\n",
            "'cuml' is a soft dependency and not included in the pycaret installation. Please run: `pip install cuml` to install.\n",
            "WARNING:logs:No module named 'cuml'.\n",
            "'cuml' is a soft dependency and not included in the pycaret installation. Please run: `pip install cuml` to install.\n",
            "WARNING:logs:No module named 'cuml'.\n",
            "'cuml' is a soft dependency and not included in the pycaret installation. Please run: `pip install cuml` to install.\n"
          ]
        }
      ],
      "source": [
        "from pycaret.classification import*"
      ],
      "id": "9f69b594"
    },
    {
      "cell_type": "markdown",
      "metadata": {
        "id": "0WUAhJ3BupD8"
      },
      "source": [
        "**Modeling**"
      ],
      "id": "0WUAhJ3BupD8"
    },
    {
      "cell_type": "code",
      "execution_count": null,
      "metadata": {
        "colab": {
          "base_uri": "https://localhost:8080/",
          "height": 1000
        },
        "id": "804dfe74",
        "outputId": "01ba9b35-2984-46d3-8c70-35711a36dc12"
      },
      "outputs": [
        {
          "name": "stderr",
          "output_type": "stream",
          "text": [
            "INFO:logs:PyCaret ClassificationExperiment\n",
            "INFO:logs:Logging name: clf-default-name\n",
            "INFO:logs:ML Usecase: MLUsecase.CLASSIFICATION\n",
            "INFO:logs:version 3.0.0.rc3\n",
            "INFO:logs:Initializing setup()\n",
            "INFO:logs:self.USI: 2b46\n",
            "INFO:logs:self.variable_keys: {'master_model_container', 'exp_id', 'memory', 'X_train', '_ml_usecase', '_all_models', 'variable_keys', 'data', 'y', '_is_multiclass', 'logging_param', 'html_param', 'pipeline', 'n_jobs_param', 'log_plots_param', 'seed', 'fold_groups_param', '_available_plots', '_gpu_n_jobs_param', 'exp_name_log', 'y_train', 'fix_imbalance', 'X', 'fold_generator', 'fold_shuffle_param', 'target_param', 'X_test', 'y_test', '_all_models_internal', 'idx', 'gpu_param', '_all_metrics', 'display_container', 'USI'}\n",
            "INFO:logs:Checking environment\n",
            "INFO:logs:python_version: 3.7.13\n",
            "INFO:logs:python_build: ('default', 'Apr 24 2022 01:04:09')\n",
            "INFO:logs:machine: x86_64\n",
            "INFO:logs:platform: Linux-5.4.188+-x86_64-with-Ubuntu-18.04-bionic\n",
            "INFO:logs:Memory: svmem(total=13617745920, available=10907213824, percent=19.9, used=2652712960, free=5590974464, active=2996494336, inactive=4563505152, buffers=229175296, cached=5144883200, shared=1241088, slab=312975360)\n",
            "INFO:logs:Physical Core: 1\n",
            "INFO:logs:Logical Core: 2\n",
            "INFO:logs:Checking libraries\n",
            "INFO:logs:System:\n",
            "INFO:logs:    python: 3.7.13 (default, Apr 24 2022, 01:04:09)  [GCC 7.5.0]\n",
            "INFO:logs:executable: /usr/bin/python3\n",
            "INFO:logs:   machine: Linux-5.4.188+-x86_64-with-Ubuntu-18.04-bionic\n",
            "INFO:logs:PyCaret required dependencies:\n",
            "INFO:logs:                 pip: 21.1.3\n",
            "INFO:logs:          setuptools: 57.4.0\n",
            "INFO:logs:             pycaret: 3.0.0.rc3\n",
            "INFO:logs:             IPython: 7.9.0\n",
            "INFO:logs:          ipywidgets: 7.7.1\n",
            "INFO:logs:                tqdm: 4.64.0\n",
            "INFO:logs:               numpy: 1.21.6\n",
            "INFO:logs:              pandas: 1.3.5\n",
            "INFO:logs:              jinja2: 2.11.3\n",
            "INFO:logs:               scipy: 1.7.3\n",
            "INFO:logs:              joblib: 1.1.0\n",
            "INFO:logs:             sklearn: 1.0.2\n",
            "INFO:logs:                pyod: Installed but version unavailable\n",
            "INFO:logs:            imblearn: 0.8.1\n",
            "INFO:logs:   category_encoders: 2.5.0\n",
            "INFO:logs:            lightgbm: 3.3.2\n",
            "INFO:logs:               numba: 0.55.2\n",
            "INFO:logs:            requests: 2.23.0\n",
            "INFO:logs:          matplotlib: 3.2.2\n",
            "INFO:logs:          scikitplot: 0.3.7\n",
            "INFO:logs:         yellowbrick: 1.4\n",
            "INFO:logs:              plotly: 5.5.0\n",
            "INFO:logs:             kaleido: 0.2.1\n",
            "INFO:logs:         statsmodels: 0.12.2\n",
            "INFO:logs:              sktime: 0.11.4\n",
            "INFO:logs:               tbats: Installed but version unavailable\n",
            "INFO:logs:            pmdarima: 2.0.1\n",
            "INFO:logs:              psutil: 5.4.8\n",
            "INFO:logs:None\n",
            "INFO:logs:Set up data.\n",
            "INFO:logs:Set up train/test split.\n",
            "INFO:logs:Assigning column types.\n",
            "INFO:logs:Set up folding strategy.\n",
            "INFO:logs:Engine successfully changes for model 'lr' to 'sklearn'.\n",
            "INFO:logs:Engine for model 'knn' has not been set explicitly, hence returning None.\n",
            "INFO:logs:Engine for model 'rbfsvm' has not been set explicitly, hence returning None.\n",
            "INFO:logs:Soft dependency imported: xgboost: 0.90\n",
            "WARNING:logs:Wrong xgboost version. Expected xgboost>=1.1.0, got xgboost==0.90\n",
            "WARNING:logs:No module named 'catboost'.\n",
            "'catboost' is a soft dependency and not included in the pycaret installation. Please run: `pip install catboost` to install.\n",
            "Alternately, you can install this by running `pip install pycaret[models]`\n",
            "INFO:logs:Engine for model 'knn' has not been set explicitly, hence returning None.\n",
            "INFO:logs:Engine for model 'rbfsvm' has not been set explicitly, hence returning None.\n",
            "INFO:logs:Soft dependency imported: xgboost: 0.90\n",
            "WARNING:logs:Wrong xgboost version. Expected xgboost>=1.1.0, got xgboost==0.90\n",
            "WARNING:logs:No module named 'catboost'.\n",
            "'catboost' is a soft dependency and not included in the pycaret installation. Please run: `pip install catboost` to install.\n",
            "Alternately, you can install this by running `pip install pycaret[models]`\n",
            "INFO:logs:Engine successfully changes for model 'knn' to 'sklearn'.\n",
            "INFO:logs:Engine for model 'rbfsvm' has not been set explicitly, hence returning None.\n",
            "INFO:logs:Soft dependency imported: xgboost: 0.90\n",
            "WARNING:logs:Wrong xgboost version. Expected xgboost>=1.1.0, got xgboost==0.90\n",
            "WARNING:logs:No module named 'catboost'.\n",
            "'catboost' is a soft dependency and not included in the pycaret installation. Please run: `pip install catboost` to install.\n",
            "Alternately, you can install this by running `pip install pycaret[models]`\n",
            "INFO:logs:Engine for model 'rbfsvm' has not been set explicitly, hence returning None.\n",
            "INFO:logs:Soft dependency imported: xgboost: 0.90\n",
            "WARNING:logs:Wrong xgboost version. Expected xgboost>=1.1.0, got xgboost==0.90\n",
            "WARNING:logs:No module named 'catboost'.\n",
            "'catboost' is a soft dependency and not included in the pycaret installation. Please run: `pip install catboost` to install.\n",
            "Alternately, you can install this by running `pip install pycaret[models]`\n",
            "INFO:logs:Engine successfully changes for model 'rbfsvm' to 'sklearn'.\n",
            "INFO:logs:Soft dependency imported: xgboost: 0.90\n",
            "WARNING:logs:Wrong xgboost version. Expected xgboost>=1.1.0, got xgboost==0.90\n",
            "WARNING:logs:No module named 'catboost'.\n",
            "'catboost' is a soft dependency and not included in the pycaret installation. Please run: `pip install catboost` to install.\n",
            "Alternately, you can install this by running `pip install pycaret[models]`\n",
            "INFO:logs:Soft dependency imported: xgboost: 0.90\n",
            "WARNING:logs:Wrong xgboost version. Expected xgboost>=1.1.0, got xgboost==0.90\n",
            "WARNING:logs:No module named 'catboost'.\n",
            "'catboost' is a soft dependency and not included in the pycaret installation. Please run: `pip install catboost` to install.\n",
            "Alternately, you can install this by running `pip install pycaret[models]`\n",
            "INFO:logs:Preparing preprocessing pipeline...\n",
            "INFO:logs:Set up simple imputation.\n",
            "INFO:logs:Set up variance threshold.\n",
            "INFO:logs:Finished creating preprocessing pipeline.\n",
            "INFO:logs:Pipeline: Pipeline(memory=Memory(location=/tmp/joblib),\n",
            "         steps=[('numerical_imputer',\n",
            "                 TransformerWrapper(exclude=None,\n",
            "                                    include=['LIMIT_BAL', 'SEX', 'EDUCATION',\n",
            "                                             'MARRIAGE', 'AGE', 'PAY_1',\n",
            "                                             'PAY_2', 'PAY_3', 'PAY_4', 'PAY_5',\n",
            "                                             'PAY_6', 'BILL_AMT1', 'BILL_AMT2',\n",
            "                                             'BILL_AMT3', 'BILL_AMT4',\n",
            "                                             'BILL_AMT5', 'BILL_AMT6',\n",
            "                                             'PAY_AMT1', 'PAY_AMT2', 'PAY_AMT3',\n",
            "                                             'PAY_AMT4', 'PAY_AMT5', 'PAY_AMT6',\n",
            "                                             'in...\n",
            "                                                              missing_values=nan,\n",
            "                                                              strategy='mean',\n",
            "                                                              verbose=0))),\n",
            "                ('categorical_imputer',\n",
            "                 TransformerWrapper(exclude=None, include=[],\n",
            "                                    transformer=SimpleImputer(add_indicator=False,\n",
            "                                                              copy=True,\n",
            "                                                              fill_value='constant',\n",
            "                                                              missing_values=nan,\n",
            "                                                              strategy='constant',\n",
            "                                                              verbose=0))),\n",
            "                ('low_variance',\n",
            "                 TransformerWrapper(exclude=[], include=None,\n",
            "                                    transformer=VarianceThreshold(threshold=0)))],\n",
            "         verbose=False)\n",
            "INFO:logs:Creating final display dataframe.\n",
            "INFO:logs:Setup display_container:                     Description             Value\n",
            "0                    Session id               123\n",
            "1                        Target       DEF_PAY_NMO\n",
            "2                   Target type            Binary\n",
            "3           Original data shape       (30000, 25)\n",
            "4        Transformed data shape       (30000, 24)\n",
            "5   Transformed train set shape       (20999, 24)\n",
            "6    Transformed test set shape        (9001, 24)\n",
            "7              Numeric features                24\n",
            "8                    Preprocess              True\n",
            "9               Imputation type            simple\n",
            "10           Numeric imputation              mean\n",
            "11       Categorical imputation          constant\n",
            "12       Low variance threshold                 0\n",
            "13               Fold Generator   StratifiedKFold\n",
            "14                  Fold Number                10\n",
            "15                     CPU Jobs                -1\n",
            "16                      Use GPU             False\n",
            "17               Log Experiment             False\n",
            "18              Experiment Name  clf-default-name\n",
            "19                          USI              2b46\n"
          ]
        },
        {
          "data": {
            "text/html": [
              "<style type=\"text/css\">\n",
              "#T_2b0fd_row8_col1 {\n",
              "  background-color: lightgreen;\n",
              "}\n",
              "</style>\n",
              "<table id=\"T_2b0fd_\" class=\"dataframe\">\n",
              "  <thead>\n",
              "    <tr>\n",
              "      <th class=\"blank level0\" >&nbsp;</th>\n",
              "      <th class=\"col_heading level0 col0\" >Description</th>\n",
              "      <th class=\"col_heading level0 col1\" >Value</th>\n",
              "    </tr>\n",
              "  </thead>\n",
              "  <tbody>\n",
              "    <tr>\n",
              "      <th id=\"T_2b0fd_level0_row0\" class=\"row_heading level0 row0\" >0</th>\n",
              "      <td id=\"T_2b0fd_row0_col0\" class=\"data row0 col0\" >Session id</td>\n",
              "      <td id=\"T_2b0fd_row0_col1\" class=\"data row0 col1\" >123</td>\n",
              "    </tr>\n",
              "    <tr>\n",
              "      <th id=\"T_2b0fd_level0_row1\" class=\"row_heading level0 row1\" >1</th>\n",
              "      <td id=\"T_2b0fd_row1_col0\" class=\"data row1 col0\" >Target</td>\n",
              "      <td id=\"T_2b0fd_row1_col1\" class=\"data row1 col1\" >DEF_PAY_NMO</td>\n",
              "    </tr>\n",
              "    <tr>\n",
              "      <th id=\"T_2b0fd_level0_row2\" class=\"row_heading level0 row2\" >2</th>\n",
              "      <td id=\"T_2b0fd_row2_col0\" class=\"data row2 col0\" >Target type</td>\n",
              "      <td id=\"T_2b0fd_row2_col1\" class=\"data row2 col1\" >Binary</td>\n",
              "    </tr>\n",
              "    <tr>\n",
              "      <th id=\"T_2b0fd_level0_row3\" class=\"row_heading level0 row3\" >3</th>\n",
              "      <td id=\"T_2b0fd_row3_col0\" class=\"data row3 col0\" >Original data shape</td>\n",
              "      <td id=\"T_2b0fd_row3_col1\" class=\"data row3 col1\" >(30000, 25)</td>\n",
              "    </tr>\n",
              "    <tr>\n",
              "      <th id=\"T_2b0fd_level0_row4\" class=\"row_heading level0 row4\" >4</th>\n",
              "      <td id=\"T_2b0fd_row4_col0\" class=\"data row4 col0\" >Transformed data shape</td>\n",
              "      <td id=\"T_2b0fd_row4_col1\" class=\"data row4 col1\" >(30000, 24)</td>\n",
              "    </tr>\n",
              "    <tr>\n",
              "      <th id=\"T_2b0fd_level0_row5\" class=\"row_heading level0 row5\" >5</th>\n",
              "      <td id=\"T_2b0fd_row5_col0\" class=\"data row5 col0\" >Transformed train set shape</td>\n",
              "      <td id=\"T_2b0fd_row5_col1\" class=\"data row5 col1\" >(20999, 24)</td>\n",
              "    </tr>\n",
              "    <tr>\n",
              "      <th id=\"T_2b0fd_level0_row6\" class=\"row_heading level0 row6\" >6</th>\n",
              "      <td id=\"T_2b0fd_row6_col0\" class=\"data row6 col0\" >Transformed test set shape</td>\n",
              "      <td id=\"T_2b0fd_row6_col1\" class=\"data row6 col1\" >(9001, 24)</td>\n",
              "    </tr>\n",
              "    <tr>\n",
              "      <th id=\"T_2b0fd_level0_row7\" class=\"row_heading level0 row7\" >7</th>\n",
              "      <td id=\"T_2b0fd_row7_col0\" class=\"data row7 col0\" >Numeric features</td>\n",
              "      <td id=\"T_2b0fd_row7_col1\" class=\"data row7 col1\" >24</td>\n",
              "    </tr>\n",
              "    <tr>\n",
              "      <th id=\"T_2b0fd_level0_row8\" class=\"row_heading level0 row8\" >8</th>\n",
              "      <td id=\"T_2b0fd_row8_col0\" class=\"data row8 col0\" >Preprocess</td>\n",
              "      <td id=\"T_2b0fd_row8_col1\" class=\"data row8 col1\" >True</td>\n",
              "    </tr>\n",
              "    <tr>\n",
              "      <th id=\"T_2b0fd_level0_row9\" class=\"row_heading level0 row9\" >9</th>\n",
              "      <td id=\"T_2b0fd_row9_col0\" class=\"data row9 col0\" >Imputation type</td>\n",
              "      <td id=\"T_2b0fd_row9_col1\" class=\"data row9 col1\" >simple</td>\n",
              "    </tr>\n",
              "    <tr>\n",
              "      <th id=\"T_2b0fd_level0_row10\" class=\"row_heading level0 row10\" >10</th>\n",
              "      <td id=\"T_2b0fd_row10_col0\" class=\"data row10 col0\" >Numeric imputation</td>\n",
              "      <td id=\"T_2b0fd_row10_col1\" class=\"data row10 col1\" >mean</td>\n",
              "    </tr>\n",
              "    <tr>\n",
              "      <th id=\"T_2b0fd_level0_row11\" class=\"row_heading level0 row11\" >11</th>\n",
              "      <td id=\"T_2b0fd_row11_col0\" class=\"data row11 col0\" >Categorical imputation</td>\n",
              "      <td id=\"T_2b0fd_row11_col1\" class=\"data row11 col1\" >constant</td>\n",
              "    </tr>\n",
              "    <tr>\n",
              "      <th id=\"T_2b0fd_level0_row12\" class=\"row_heading level0 row12\" >12</th>\n",
              "      <td id=\"T_2b0fd_row12_col0\" class=\"data row12 col0\" >Low variance threshold</td>\n",
              "      <td id=\"T_2b0fd_row12_col1\" class=\"data row12 col1\" >0</td>\n",
              "    </tr>\n",
              "    <tr>\n",
              "      <th id=\"T_2b0fd_level0_row13\" class=\"row_heading level0 row13\" >13</th>\n",
              "      <td id=\"T_2b0fd_row13_col0\" class=\"data row13 col0\" >Fold Generator</td>\n",
              "      <td id=\"T_2b0fd_row13_col1\" class=\"data row13 col1\" >StratifiedKFold</td>\n",
              "    </tr>\n",
              "    <tr>\n",
              "      <th id=\"T_2b0fd_level0_row14\" class=\"row_heading level0 row14\" >14</th>\n",
              "      <td id=\"T_2b0fd_row14_col0\" class=\"data row14 col0\" >Fold Number</td>\n",
              "      <td id=\"T_2b0fd_row14_col1\" class=\"data row14 col1\" >10</td>\n",
              "    </tr>\n",
              "    <tr>\n",
              "      <th id=\"T_2b0fd_level0_row15\" class=\"row_heading level0 row15\" >15</th>\n",
              "      <td id=\"T_2b0fd_row15_col0\" class=\"data row15 col0\" >CPU Jobs</td>\n",
              "      <td id=\"T_2b0fd_row15_col1\" class=\"data row15 col1\" >-1</td>\n",
              "    </tr>\n",
              "    <tr>\n",
              "      <th id=\"T_2b0fd_level0_row16\" class=\"row_heading level0 row16\" >16</th>\n",
              "      <td id=\"T_2b0fd_row16_col0\" class=\"data row16 col0\" >Use GPU</td>\n",
              "      <td id=\"T_2b0fd_row16_col1\" class=\"data row16 col1\" >False</td>\n",
              "    </tr>\n",
              "    <tr>\n",
              "      <th id=\"T_2b0fd_level0_row17\" class=\"row_heading level0 row17\" >17</th>\n",
              "      <td id=\"T_2b0fd_row17_col0\" class=\"data row17 col0\" >Log Experiment</td>\n",
              "      <td id=\"T_2b0fd_row17_col1\" class=\"data row17 col1\" >False</td>\n",
              "    </tr>\n",
              "    <tr>\n",
              "      <th id=\"T_2b0fd_level0_row18\" class=\"row_heading level0 row18\" >18</th>\n",
              "      <td id=\"T_2b0fd_row18_col0\" class=\"data row18 col0\" >Experiment Name</td>\n",
              "      <td id=\"T_2b0fd_row18_col1\" class=\"data row18 col1\" >clf-default-name</td>\n",
              "    </tr>\n",
              "    <tr>\n",
              "      <th id=\"T_2b0fd_level0_row19\" class=\"row_heading level0 row19\" >19</th>\n",
              "      <td id=\"T_2b0fd_row19_col0\" class=\"data row19 col0\" >USI</td>\n",
              "      <td id=\"T_2b0fd_row19_col1\" class=\"data row19 col1\" >2b46</td>\n",
              "    </tr>\n",
              "  </tbody>\n",
              "</table>\n"
            ],
            "text/plain": [
              "<pandas.io.formats.style.Styler at 0x7fdcad47b250>"
            ]
          },
          "metadata": {},
          "output_type": "display_data"
        },
        {
          "name": "stderr",
          "output_type": "stream",
          "text": [
            "INFO:logs:Soft dependency imported: xgboost: 0.90\n",
            "WARNING:logs:Wrong xgboost version. Expected xgboost>=1.1.0, got xgboost==0.90\n",
            "WARNING:logs:No module named 'catboost'.\n",
            "'catboost' is a soft dependency and not included in the pycaret installation. Please run: `pip install catboost` to install.\n",
            "Alternately, you can install this by running `pip install pycaret[models]`\n",
            "INFO:logs:Soft dependency imported: xgboost: 0.90\n",
            "WARNING:logs:Wrong xgboost version. Expected xgboost>=1.1.0, got xgboost==0.90\n",
            "WARNING:logs:No module named 'catboost'.\n",
            "'catboost' is a soft dependency and not included in the pycaret installation. Please run: `pip install catboost` to install.\n",
            "Alternately, you can install this by running `pip install pycaret[models]`\n",
            "INFO:logs:setup() successfully completed in 1.69s...............\n"
          ]
        }
      ],
      "source": [
        "cfl01 = setup(data = df , target = \"DEF_PAY_NMO\",session_id = 123)"
      ],
      "id": "804dfe74"
    },
    {
      "cell_type": "code",
      "execution_count": null,
      "metadata": {
        "colab": {
          "base_uri": "https://localhost:8080/",
          "height": 1000,
          "referenced_widgets": [
            "0f34bc7800c2448e8ec1c99af83b9e06",
            "a1d9ee72693d4083ac0104c78583d698",
            "50ca8b646ef74de78de3ec90c5150801",
            "ebbed9bf007b47798182bd6e241c92d2",
            "01b7d0b5721640c99f85d192b12613a1",
            "1e0dc19e5bec4d979fb52e68ae9673b0",
            "9f9a998ca5e04ab68a242b9ab18eda76",
            "e779260b8e7c41b5afea67ece8e257bc",
            "3a0fb135c4904de5a16e56a8e4d7763c",
            "a7ceed42276d4c1ca812535cb830049c",
            "5c211800ece34aec8c8ad26080c1222c"
          ]
        },
        "id": "wYjUYUM4uv5i",
        "outputId": "ec945062-c59d-429c-9cf7-a316d4fd159b"
      },
      "outputs": [
        {
          "name": "stderr",
          "output_type": "stream",
          "text": [
            "INFO:logs:Initializing compare_models()\n",
            "INFO:logs:compare_models(self=<pycaret.classification.oop.ClassificationExperiment object at 0x7fdcae1f0810>, include=None, fold=None, round=4, cross_validation=True, sort=Accuracy, n_select=1, budget_time=None, turbo=True, errors=ignore, fit_kwargs=None, groups=None, experiment_custom_tags=None, probability_threshold=None, verbose=True, parallel=None, caller_params={'self': <pycaret.classification.oop.ClassificationExperiment object at 0x7fdcae1f0810>, 'include': None, 'exclude': None, 'fold': None, 'round': 4, 'cross_validation': True, 'sort': 'Accuracy', 'n_select': 1, 'budget_time': None, 'turbo': True, 'errors': 'ignore', 'fit_kwargs': None, 'groups': None, 'experiment_custom_tags': None, 'probability_threshold': None, 'engines': None, 'verbose': True, 'parallel': None, '__class__': <class 'pycaret.classification.oop.ClassificationExperiment'>}, exclude=None)\n",
            "INFO:logs:Checking exceptions\n",
            "INFO:logs:Preparing display monitor\n"
          ]
        },
        {
          "data": {
            "text/html": [],
            "text/plain": [
              "<IPython.core.display.HTML object>"
            ]
          },
          "metadata": {},
          "output_type": "display_data"
        },
        {
          "data": {
            "text/html": [
              "<style type=\"text/css\">\n",
              "#T_65353_ th {\n",
              "  text-align: left;\n",
              "}\n",
              "#T_65353_row0_col0, #T_65353_row0_col3, #T_65353_row0_col4, #T_65353_row1_col0, #T_65353_row1_col1, #T_65353_row1_col2, #T_65353_row1_col3, #T_65353_row1_col4, #T_65353_row1_col5, #T_65353_row1_col6, #T_65353_row1_col7, #T_65353_row2_col0, #T_65353_row2_col1, #T_65353_row2_col2, #T_65353_row2_col3, #T_65353_row2_col4, #T_65353_row2_col5, #T_65353_row2_col6, #T_65353_row2_col7, #T_65353_row3_col0, #T_65353_row3_col1, #T_65353_row3_col2, #T_65353_row3_col3, #T_65353_row3_col4, #T_65353_row3_col5, #T_65353_row3_col6, #T_65353_row3_col7, #T_65353_row4_col0, #T_65353_row4_col1, #T_65353_row4_col2, #T_65353_row4_col3, #T_65353_row4_col4, #T_65353_row4_col5, #T_65353_row4_col6, #T_65353_row4_col7, #T_65353_row5_col0, #T_65353_row5_col1, #T_65353_row5_col2, #T_65353_row5_col3, #T_65353_row5_col4, #T_65353_row5_col5, #T_65353_row5_col6, #T_65353_row5_col7, #T_65353_row6_col0, #T_65353_row6_col1, #T_65353_row6_col2, #T_65353_row6_col3, #T_65353_row6_col5, #T_65353_row6_col6, #T_65353_row6_col7, #T_65353_row7_col0, #T_65353_row7_col1, #T_65353_row7_col2, #T_65353_row7_col3, #T_65353_row7_col4, #T_65353_row7_col5, #T_65353_row7_col6, #T_65353_row7_col7, #T_65353_row8_col0, #T_65353_row8_col1, #T_65353_row8_col2, #T_65353_row8_col3, #T_65353_row8_col4, #T_65353_row8_col5, #T_65353_row8_col6, #T_65353_row8_col7, #T_65353_row9_col0, #T_65353_row9_col1, #T_65353_row9_col2, #T_65353_row9_col3, #T_65353_row9_col4, #T_65353_row9_col5, #T_65353_row9_col6, #T_65353_row9_col7, #T_65353_row10_col0, #T_65353_row10_col1, #T_65353_row10_col2, #T_65353_row10_col3, #T_65353_row10_col4, #T_65353_row10_col5, #T_65353_row10_col6, #T_65353_row10_col7, #T_65353_row11_col0, #T_65353_row11_col1, #T_65353_row11_col2, #T_65353_row11_col3, #T_65353_row11_col4, #T_65353_row11_col5, #T_65353_row11_col6, #T_65353_row11_col7, #T_65353_row12_col0, #T_65353_row12_col1, #T_65353_row12_col2, #T_65353_row12_col3, #T_65353_row12_col4, #T_65353_row12_col5, #T_65353_row12_col6, #T_65353_row12_col7, #T_65353_row13_col0, #T_65353_row13_col1, #T_65353_row13_col2, #T_65353_row13_col4, #T_65353_row13_col5, #T_65353_row13_col6, #T_65353_row13_col7 {\n",
              "  text-align: left;\n",
              "}\n",
              "#T_65353_row0_col1, #T_65353_row0_col2, #T_65353_row0_col5, #T_65353_row0_col6, #T_65353_row0_col7, #T_65353_row6_col4, #T_65353_row13_col3 {\n",
              "  text-align: left;\n",
              "  background-color: yellow;\n",
              "}\n",
              "#T_65353_row0_col8, #T_65353_row1_col8, #T_65353_row2_col8, #T_65353_row3_col8, #T_65353_row4_col8, #T_65353_row5_col8, #T_65353_row6_col8, #T_65353_row7_col8, #T_65353_row9_col8, #T_65353_row10_col8, #T_65353_row11_col8, #T_65353_row12_col8, #T_65353_row13_col8 {\n",
              "  text-align: left;\n",
              "  background-color: lightgrey;\n",
              "}\n",
              "#T_65353_row8_col8 {\n",
              "  text-align: left;\n",
              "  background-color: yellow;\n",
              "  background-color: lightgrey;\n",
              "}\n",
              "</style>\n",
              "<table id=\"T_65353_\" class=\"dataframe\">\n",
              "  <thead>\n",
              "    <tr>\n",
              "      <th class=\"blank level0\" >&nbsp;</th>\n",
              "      <th class=\"col_heading level0 col0\" >Model</th>\n",
              "      <th class=\"col_heading level0 col1\" >Accuracy</th>\n",
              "      <th class=\"col_heading level0 col2\" >AUC</th>\n",
              "      <th class=\"col_heading level0 col3\" >Recall</th>\n",
              "      <th class=\"col_heading level0 col4\" >Prec.</th>\n",
              "      <th class=\"col_heading level0 col5\" >F1</th>\n",
              "      <th class=\"col_heading level0 col6\" >Kappa</th>\n",
              "      <th class=\"col_heading level0 col7\" >MCC</th>\n",
              "      <th class=\"col_heading level0 col8\" >TT (Sec)</th>\n",
              "    </tr>\n",
              "  </thead>\n",
              "  <tbody>\n",
              "    <tr>\n",
              "      <th id=\"T_65353_level0_row0\" class=\"row_heading level0 row0\" >gbc</th>\n",
              "      <td id=\"T_65353_row0_col0\" class=\"data row0 col0\" >Gradient Boosting Classifier</td>\n",
              "      <td id=\"T_65353_row0_col1\" class=\"data row0 col1\" >0.8210</td>\n",
              "      <td id=\"T_65353_row0_col2\" class=\"data row0 col2\" >0.7793</td>\n",
              "      <td id=\"T_65353_row0_col3\" class=\"data row0 col3\" >0.3656</td>\n",
              "      <td id=\"T_65353_row0_col4\" class=\"data row0 col4\" >0.6769</td>\n",
              "      <td id=\"T_65353_row0_col5\" class=\"data row0 col5\" >0.4746</td>\n",
              "      <td id=\"T_65353_row0_col6\" class=\"data row0 col6\" >0.3781</td>\n",
              "      <td id=\"T_65353_row0_col7\" class=\"data row0 col7\" >0.4043</td>\n",
              "      <td id=\"T_65353_row0_col8\" class=\"data row0 col8\" >5.0820</td>\n",
              "    </tr>\n",
              "    <tr>\n",
              "      <th id=\"T_65353_level0_row1\" class=\"row_heading level0 row1\" >lightgbm</th>\n",
              "      <td id=\"T_65353_row1_col0\" class=\"data row1 col0\" >Light Gradient Boosting Machine</td>\n",
              "      <td id=\"T_65353_row1_col1\" class=\"data row1 col1\" >0.8185</td>\n",
              "      <td id=\"T_65353_row1_col2\" class=\"data row1 col2\" >0.7772</td>\n",
              "      <td id=\"T_65353_row1_col3\" class=\"data row1 col3\" >0.3602</td>\n",
              "      <td id=\"T_65353_row1_col4\" class=\"data row1 col4\" >0.6658</td>\n",
              "      <td id=\"T_65353_row1_col5\" class=\"data row1 col5\" >0.4673</td>\n",
              "      <td id=\"T_65353_row1_col6\" class=\"data row1 col6\" >0.3694</td>\n",
              "      <td id=\"T_65353_row1_col7\" class=\"data row1 col7\" >0.3949</td>\n",
              "      <td id=\"T_65353_row1_col8\" class=\"data row1 col8\" >0.4890</td>\n",
              "    </tr>\n",
              "    <tr>\n",
              "      <th id=\"T_65353_level0_row2\" class=\"row_heading level0 row2\" >ada</th>\n",
              "      <td id=\"T_65353_row2_col0\" class=\"data row2 col0\" >Ada Boost Classifier</td>\n",
              "      <td id=\"T_65353_row2_col1\" class=\"data row2 col1\" >0.8149</td>\n",
              "      <td id=\"T_65353_row2_col2\" class=\"data row2 col2\" >0.7706</td>\n",
              "      <td id=\"T_65353_row2_col3\" class=\"data row2 col3\" >0.3195</td>\n",
              "      <td id=\"T_65353_row2_col4\" class=\"data row2 col4\" >0.6718</td>\n",
              "      <td id=\"T_65353_row2_col5\" class=\"data row2 col5\" >0.4326</td>\n",
              "      <td id=\"T_65353_row2_col6\" class=\"data row2 col6\" >0.3384</td>\n",
              "      <td id=\"T_65353_row2_col7\" class=\"data row2 col7\" >0.3721</td>\n",
              "      <td id=\"T_65353_row2_col8\" class=\"data row2 col8\" >1.1660</td>\n",
              "    </tr>\n",
              "    <tr>\n",
              "      <th id=\"T_65353_level0_row3\" class=\"row_heading level0 row3\" >rf</th>\n",
              "      <td id=\"T_65353_row3_col0\" class=\"data row3 col0\" >Random Forest Classifier</td>\n",
              "      <td id=\"T_65353_row3_col1\" class=\"data row3 col1\" >0.8145</td>\n",
              "      <td id=\"T_65353_row3_col2\" class=\"data row3 col2\" >0.7641</td>\n",
              "      <td id=\"T_65353_row3_col3\" class=\"data row3 col3\" >0.3662</td>\n",
              "      <td id=\"T_65353_row3_col4\" class=\"data row3 col4\" >0.6420</td>\n",
              "      <td id=\"T_65353_row3_col5\" class=\"data row3 col5\" >0.4662</td>\n",
              "      <td id=\"T_65353_row3_col6\" class=\"data row3 col6\" >0.3639</td>\n",
              "      <td id=\"T_65353_row3_col7\" class=\"data row3 col7\" >0.3851</td>\n",
              "      <td id=\"T_65353_row3_col8\" class=\"data row3 col8\" >3.7210</td>\n",
              "    </tr>\n",
              "    <tr>\n",
              "      <th id=\"T_65353_level0_row4\" class=\"row_heading level0 row4\" >lda</th>\n",
              "      <td id=\"T_65353_row4_col0\" class=\"data row4 col0\" >Linear Discriminant Analysis</td>\n",
              "      <td id=\"T_65353_row4_col1\" class=\"data row4 col1\" >0.8104</td>\n",
              "      <td id=\"T_65353_row4_col2\" class=\"data row4 col2\" >0.7147</td>\n",
              "      <td id=\"T_65353_row4_col3\" class=\"data row4 col3\" >0.2519</td>\n",
              "      <td id=\"T_65353_row4_col4\" class=\"data row4 col4\" >0.6976</td>\n",
              "      <td id=\"T_65353_row4_col5\" class=\"data row4 col5\" >0.3701</td>\n",
              "      <td id=\"T_65353_row4_col6\" class=\"data row4 col6\" >0.2863</td>\n",
              "      <td id=\"T_65353_row4_col7\" class=\"data row4 col7\" >0.3382</td>\n",
              "      <td id=\"T_65353_row4_col8\" class=\"data row4 col8\" >0.1120</td>\n",
              "    </tr>\n",
              "    <tr>\n",
              "      <th id=\"T_65353_level0_row5\" class=\"row_heading level0 row5\" >et</th>\n",
              "      <td id=\"T_65353_row5_col0\" class=\"data row5 col0\" >Extra Trees Classifier</td>\n",
              "      <td id=\"T_65353_row5_col1\" class=\"data row5 col1\" >0.8088</td>\n",
              "      <td id=\"T_65353_row5_col2\" class=\"data row5 col2\" >0.7521</td>\n",
              "      <td id=\"T_65353_row5_col3\" class=\"data row5 col3\" >0.3610</td>\n",
              "      <td id=\"T_65353_row5_col4\" class=\"data row5 col4\" >0.6156</td>\n",
              "      <td id=\"T_65353_row5_col5\" class=\"data row5 col5\" >0.4550</td>\n",
              "      <td id=\"T_65353_row5_col6\" class=\"data row5 col6\" >0.3485</td>\n",
              "      <td id=\"T_65353_row5_col7\" class=\"data row5 col7\" >0.3668</td>\n",
              "      <td id=\"T_65353_row5_col8\" class=\"data row5 col8\" >1.9480</td>\n",
              "    </tr>\n",
              "    <tr>\n",
              "      <th id=\"T_65353_level0_row6\" class=\"row_heading level0 row6\" >ridge</th>\n",
              "      <td id=\"T_65353_row6_col0\" class=\"data row6 col0\" >Ridge Classifier</td>\n",
              "      <td id=\"T_65353_row6_col1\" class=\"data row6 col1\" >0.7978</td>\n",
              "      <td id=\"T_65353_row6_col2\" class=\"data row6 col2\" >0.0000</td>\n",
              "      <td id=\"T_65353_row6_col3\" class=\"data row6 col3\" >0.1406</td>\n",
              "      <td id=\"T_65353_row6_col4\" class=\"data row6 col4\" >0.7204</td>\n",
              "      <td id=\"T_65353_row6_col5\" class=\"data row6 col5\" >0.2349</td>\n",
              "      <td id=\"T_65353_row6_col6\" class=\"data row6 col6\" >0.1754</td>\n",
              "      <td id=\"T_65353_row6_col7\" class=\"data row6 col7\" >0.2551</td>\n",
              "      <td id=\"T_65353_row6_col8\" class=\"data row6 col8\" >0.0600</td>\n",
              "    </tr>\n",
              "    <tr>\n",
              "      <th id=\"T_65353_level0_row7\" class=\"row_heading level0 row7\" >lr</th>\n",
              "      <td id=\"T_65353_row7_col0\" class=\"data row7 col0\" >Logistic Regression</td>\n",
              "      <td id=\"T_65353_row7_col1\" class=\"data row7 col1\" >0.7788</td>\n",
              "      <td id=\"T_65353_row7_col2\" class=\"data row7 col2\" >0.6450</td>\n",
              "      <td id=\"T_65353_row7_col3\" class=\"data row7 col3\" >0.0000</td>\n",
              "      <td id=\"T_65353_row7_col4\" class=\"data row7 col4\" >0.0000</td>\n",
              "      <td id=\"T_65353_row7_col5\" class=\"data row7 col5\" >0.0000</td>\n",
              "      <td id=\"T_65353_row7_col6\" class=\"data row7 col6\" >-0.0001</td>\n",
              "      <td id=\"T_65353_row7_col7\" class=\"data row7 col7\" >-0.0012</td>\n",
              "      <td id=\"T_65353_row7_col8\" class=\"data row7 col8\" >1.2050</td>\n",
              "    </tr>\n",
              "    <tr>\n",
              "      <th id=\"T_65353_level0_row8\" class=\"row_heading level0 row8\" >dummy</th>\n",
              "      <td id=\"T_65353_row8_col0\" class=\"data row8 col0\" >Dummy Classifier</td>\n",
              "      <td id=\"T_65353_row8_col1\" class=\"data row8 col1\" >0.7788</td>\n",
              "      <td id=\"T_65353_row8_col2\" class=\"data row8 col2\" >0.5000</td>\n",
              "      <td id=\"T_65353_row8_col3\" class=\"data row8 col3\" >0.0000</td>\n",
              "      <td id=\"T_65353_row8_col4\" class=\"data row8 col4\" >0.0000</td>\n",
              "      <td id=\"T_65353_row8_col5\" class=\"data row8 col5\" >0.0000</td>\n",
              "      <td id=\"T_65353_row8_col6\" class=\"data row8 col6\" >0.0000</td>\n",
              "      <td id=\"T_65353_row8_col7\" class=\"data row8 col7\" >0.0000</td>\n",
              "      <td id=\"T_65353_row8_col8\" class=\"data row8 col8\" >0.0560</td>\n",
              "    </tr>\n",
              "    <tr>\n",
              "      <th id=\"T_65353_level0_row9\" class=\"row_heading level0 row9\" >knn</th>\n",
              "      <td id=\"T_65353_row9_col0\" class=\"data row9 col0\" >K Neighbors Classifier</td>\n",
              "      <td id=\"T_65353_row9_col1\" class=\"data row9 col1\" >0.7509</td>\n",
              "      <td id=\"T_65353_row9_col2\" class=\"data row9 col2\" >0.6015</td>\n",
              "      <td id=\"T_65353_row9_col3\" class=\"data row9 col3\" >0.1696</td>\n",
              "      <td id=\"T_65353_row9_col4\" class=\"data row9 col4\" >0.3652</td>\n",
              "      <td id=\"T_65353_row9_col5\" class=\"data row9 col5\" >0.2314</td>\n",
              "      <td id=\"T_65353_row9_col6\" class=\"data row9 col6\" >0.1060</td>\n",
              "      <td id=\"T_65353_row9_col7\" class=\"data row9 col7\" >0.1172</td>\n",
              "      <td id=\"T_65353_row9_col8\" class=\"data row9 col8\" >1.8440</td>\n",
              "    </tr>\n",
              "    <tr>\n",
              "      <th id=\"T_65353_level0_row10\" class=\"row_heading level0 row10\" >svm</th>\n",
              "      <td id=\"T_65353_row10_col0\" class=\"data row10 col0\" >SVM - Linear Kernel</td>\n",
              "      <td id=\"T_65353_row10_col1\" class=\"data row10 col1\" >0.7475</td>\n",
              "      <td id=\"T_65353_row10_col2\" class=\"data row10 col2\" >0.0000</td>\n",
              "      <td id=\"T_65353_row10_col3\" class=\"data row10 col3\" >0.0517</td>\n",
              "      <td id=\"T_65353_row10_col4\" class=\"data row10 col4\" >0.2085</td>\n",
              "      <td id=\"T_65353_row10_col5\" class=\"data row10 col5\" >0.0528</td>\n",
              "      <td id=\"T_65353_row10_col6\" class=\"data row10 col6\" >-0.0025</td>\n",
              "      <td id=\"T_65353_row10_col7\" class=\"data row10 col7\" >0.0006</td>\n",
              "      <td id=\"T_65353_row10_col8\" class=\"data row10 col8\" >0.2320</td>\n",
              "    </tr>\n",
              "    <tr>\n",
              "      <th id=\"T_65353_level0_row11\" class=\"row_heading level0 row11\" >dt</th>\n",
              "      <td id=\"T_65353_row11_col0\" class=\"data row11 col0\" >Decision Tree Classifier</td>\n",
              "      <td id=\"T_65353_row11_col1\" class=\"data row11 col1\" >0.7284</td>\n",
              "      <td id=\"T_65353_row11_col2\" class=\"data row11 col2\" >0.6144</td>\n",
              "      <td id=\"T_65353_row11_col3\" class=\"data row11 col3\" >0.4097</td>\n",
              "      <td id=\"T_65353_row11_col4\" class=\"data row11 col4\" >0.3910</td>\n",
              "      <td id=\"T_65353_row11_col5\" class=\"data row11 col5\" >0.4000</td>\n",
              "      <td id=\"T_65353_row11_col6\" class=\"data row11 col6\" >0.2247</td>\n",
              "      <td id=\"T_65353_row11_col7\" class=\"data row11 col7\" >0.2248</td>\n",
              "      <td id=\"T_65353_row11_col8\" class=\"data row11 col8\" >0.3540</td>\n",
              "    </tr>\n",
              "    <tr>\n",
              "      <th id=\"T_65353_level0_row12\" class=\"row_heading level0 row12\" >qda</th>\n",
              "      <td id=\"T_65353_row12_col0\" class=\"data row12 col0\" >Quadratic Discriminant Analysis</td>\n",
              "      <td id=\"T_65353_row12_col1\" class=\"data row12 col1\" >0.4439</td>\n",
              "      <td id=\"T_65353_row12_col2\" class=\"data row12 col2\" >0.7175</td>\n",
              "      <td id=\"T_65353_row12_col3\" class=\"data row12 col3\" >0.8540</td>\n",
              "      <td id=\"T_65353_row12_col4\" class=\"data row12 col4\" >0.2652</td>\n",
              "      <td id=\"T_65353_row12_col5\" class=\"data row12 col5\" >0.4046</td>\n",
              "      <td id=\"T_65353_row12_col6\" class=\"data row12 col6\" >0.1012</td>\n",
              "      <td id=\"T_65353_row12_col7\" class=\"data row12 col7\" >0.1665</td>\n",
              "      <td id=\"T_65353_row12_col8\" class=\"data row12 col8\" >0.0730</td>\n",
              "    </tr>\n",
              "    <tr>\n",
              "      <th id=\"T_65353_level0_row13\" class=\"row_heading level0 row13\" >nb</th>\n",
              "      <td id=\"T_65353_row13_col0\" class=\"data row13 col0\" >Naive Bayes</td>\n",
              "      <td id=\"T_65353_row13_col1\" class=\"data row13 col1\" >0.3677</td>\n",
              "      <td id=\"T_65353_row13_col2\" class=\"data row13 col2\" >0.6716</td>\n",
              "      <td id=\"T_65353_row13_col3\" class=\"data row13 col3\" >0.8967</td>\n",
              "      <td id=\"T_65353_row13_col4\" class=\"data row13 col4\" >0.2455</td>\n",
              "      <td id=\"T_65353_row13_col5\" class=\"data row13 col5\" >0.3854</td>\n",
              "      <td id=\"T_65353_row13_col6\" class=\"data row13 col6\" >0.0585</td>\n",
              "      <td id=\"T_65353_row13_col7\" class=\"data row13 col7\" >0.1207</td>\n",
              "      <td id=\"T_65353_row13_col8\" class=\"data row13 col8\" >0.0710</td>\n",
              "    </tr>\n",
              "  </tbody>\n",
              "</table>\n"
            ],
            "text/plain": [
              "<pandas.io.formats.style.Styler at 0x7fdcae4144d0>"
            ]
          },
          "metadata": {},
          "output_type": "display_data"
        },
        {
          "data": {
            "application/vnd.jupyter.widget-view+json": {
              "model_id": "0f34bc7800c2448e8ec1c99af83b9e06",
              "version_major": 2,
              "version_minor": 0
            },
            "text/plain": [
              "Processing:   0%|          | 0/61 [00:00<?, ?it/s]"
            ]
          },
          "metadata": {
            "application/vnd.jupyter.widget-view+json": {
              "colab": {
                "custom_widget_manager": {
                  "url": "https://ssl.gstatic.com/colaboratory-static/widgets/colab-cdn-widget-manager/d2e234f7cc04bf79/manager.min.js"
                }
              }
            }
          },
          "output_type": "display_data"
        },
        {
          "name": "stderr",
          "output_type": "stream",
          "text": [
            "INFO:logs:Initializing Logistic Regression\n",
            "INFO:logs:Total runtime is 5.308389663696289e-05 minutes\n",
            "INFO:logs:SubProcess create_model() called ==================================\n",
            "INFO:logs:Initializing create_model()\n",
            "INFO:logs:create_model(self=<pycaret.classification.oop.ClassificationExperiment object at 0x7fdcae1f0810>, estimator=lr, fold=StratifiedKFold(n_splits=10, random_state=None, shuffle=False), round=4, cross_validation=True, predict=True, fit_kwargs={}, groups=None, refit=False, probability_threshold=None, experiment_custom_tags=None, verbose=False, system=False, add_to_model_list=True, metrics=None, display=<pycaret.internal.display.display.CommonDisplay object at 0x7fdcae200b90>, model_only=True, return_train_score=False, kwargs={})\n",
            "INFO:logs:Checking exceptions\n",
            "INFO:logs:Importing libraries\n",
            "INFO:logs:Copying training dataset\n",
            "INFO:logs:Defining folds\n",
            "INFO:logs:Declaring metric variables\n",
            "INFO:logs:Importing untrained model\n",
            "INFO:logs:Logistic Regression Imported successfully\n",
            "INFO:logs:Starting cross validation\n",
            "INFO:logs:Cross validating with StratifiedKFold(n_splits=10, random_state=None, shuffle=False), n_jobs=-1\n",
            "INFO:logs:Calculating mean and std\n",
            "INFO:logs:Creating metrics dataframe\n",
            "INFO:logs:Uploading results into container\n",
            "INFO:logs:Uploading model into container now\n",
            "INFO:logs:master_model_container: 1\n",
            "INFO:logs:display_container: 2\n",
            "INFO:logs:LogisticRegression(C=1.0, class_weight=None, dual=False, fit_intercept=True,\n",
            "                   intercept_scaling=1, l1_ratio=None, max_iter=1000,\n",
            "                   multi_class='auto', n_jobs=None, penalty='l2',\n",
            "                   random_state=123, solver='lbfgs', tol=0.0001, verbose=0,\n",
            "                   warm_start=False)\n",
            "INFO:logs:create_model() successfully completed......................................\n",
            "INFO:logs:SubProcess create_model() end ==================================\n",
            "INFO:logs:Creating metrics dataframe\n",
            "INFO:logs:Initializing K Neighbors Classifier\n",
            "INFO:logs:Total runtime is 0.20800204277038575 minutes\n",
            "INFO:logs:SubProcess create_model() called ==================================\n",
            "INFO:logs:Initializing create_model()\n",
            "INFO:logs:create_model(self=<pycaret.classification.oop.ClassificationExperiment object at 0x7fdcae1f0810>, estimator=knn, fold=StratifiedKFold(n_splits=10, random_state=None, shuffle=False), round=4, cross_validation=True, predict=True, fit_kwargs={}, groups=None, refit=False, probability_threshold=None, experiment_custom_tags=None, verbose=False, system=False, add_to_model_list=True, metrics=None, display=<pycaret.internal.display.display.CommonDisplay object at 0x7fdcae200b90>, model_only=True, return_train_score=False, kwargs={})\n",
            "INFO:logs:Checking exceptions\n",
            "INFO:logs:Importing libraries\n",
            "INFO:logs:Copying training dataset\n",
            "INFO:logs:Defining folds\n",
            "INFO:logs:Declaring metric variables\n",
            "INFO:logs:Importing untrained model\n",
            "INFO:logs:K Neighbors Classifier Imported successfully\n",
            "INFO:logs:Starting cross validation\n",
            "INFO:logs:Cross validating with StratifiedKFold(n_splits=10, random_state=None, shuffle=False), n_jobs=-1\n",
            "INFO:logs:Calculating mean and std\n",
            "INFO:logs:Creating metrics dataframe\n",
            "INFO:logs:Uploading results into container\n",
            "INFO:logs:Uploading model into container now\n",
            "INFO:logs:master_model_container: 2\n",
            "INFO:logs:display_container: 2\n",
            "INFO:logs:KNeighborsClassifier(algorithm='auto', leaf_size=30, metric='minkowski',\n",
            "                     metric_params=None, n_jobs=-1, n_neighbors=5, p=2,\n",
            "                     weights='uniform')\n",
            "INFO:logs:create_model() successfully completed......................................\n",
            "INFO:logs:SubProcess create_model() end ==================================\n",
            "INFO:logs:Creating metrics dataframe\n",
            "INFO:logs:Initializing Naive Bayes\n",
            "INFO:logs:Total runtime is 0.5219445109367371 minutes\n",
            "INFO:logs:SubProcess create_model() called ==================================\n",
            "INFO:logs:Initializing create_model()\n",
            "INFO:logs:create_model(self=<pycaret.classification.oop.ClassificationExperiment object at 0x7fdcae1f0810>, estimator=nb, fold=StratifiedKFold(n_splits=10, random_state=None, shuffle=False), round=4, cross_validation=True, predict=True, fit_kwargs={}, groups=None, refit=False, probability_threshold=None, experiment_custom_tags=None, verbose=False, system=False, add_to_model_list=True, metrics=None, display=<pycaret.internal.display.display.CommonDisplay object at 0x7fdcae200b90>, model_only=True, return_train_score=False, kwargs={})\n",
            "INFO:logs:Checking exceptions\n",
            "INFO:logs:Importing libraries\n",
            "INFO:logs:Copying training dataset\n",
            "INFO:logs:Defining folds\n",
            "INFO:logs:Declaring metric variables\n",
            "INFO:logs:Importing untrained model\n",
            "INFO:logs:Naive Bayes Imported successfully\n",
            "INFO:logs:Starting cross validation\n",
            "INFO:logs:Cross validating with StratifiedKFold(n_splits=10, random_state=None, shuffle=False), n_jobs=-1\n",
            "INFO:logs:Calculating mean and std\n",
            "INFO:logs:Creating metrics dataframe\n",
            "INFO:logs:Uploading results into container\n",
            "INFO:logs:Uploading model into container now\n",
            "INFO:logs:master_model_container: 3\n",
            "INFO:logs:display_container: 2\n",
            "INFO:logs:GaussianNB(priors=None, var_smoothing=1e-09)\n",
            "INFO:logs:create_model() successfully completed......................................\n",
            "INFO:logs:SubProcess create_model() end ==================================\n",
            "INFO:logs:Creating metrics dataframe\n",
            "INFO:logs:Initializing Decision Tree Classifier\n",
            "INFO:logs:Total runtime is 0.5400103569030762 minutes\n",
            "INFO:logs:SubProcess create_model() called ==================================\n",
            "INFO:logs:Initializing create_model()\n",
            "INFO:logs:create_model(self=<pycaret.classification.oop.ClassificationExperiment object at 0x7fdcae1f0810>, estimator=dt, fold=StratifiedKFold(n_splits=10, random_state=None, shuffle=False), round=4, cross_validation=True, predict=True, fit_kwargs={}, groups=None, refit=False, probability_threshold=None, experiment_custom_tags=None, verbose=False, system=False, add_to_model_list=True, metrics=None, display=<pycaret.internal.display.display.CommonDisplay object at 0x7fdcae200b90>, model_only=True, return_train_score=False, kwargs={})\n",
            "INFO:logs:Checking exceptions\n",
            "INFO:logs:Importing libraries\n",
            "INFO:logs:Copying training dataset\n",
            "INFO:logs:Defining folds\n",
            "INFO:logs:Declaring metric variables\n",
            "INFO:logs:Importing untrained model\n",
            "INFO:logs:Decision Tree Classifier Imported successfully\n",
            "INFO:logs:Starting cross validation\n",
            "INFO:logs:Cross validating with StratifiedKFold(n_splits=10, random_state=None, shuffle=False), n_jobs=-1\n",
            "INFO:logs:Calculating mean and std\n",
            "INFO:logs:Creating metrics dataframe\n",
            "INFO:logs:Uploading results into container\n",
            "INFO:logs:Uploading model into container now\n",
            "INFO:logs:master_model_container: 4\n",
            "INFO:logs:display_container: 2\n",
            "INFO:logs:DecisionTreeClassifier(ccp_alpha=0.0, class_weight=None, criterion='gini',\n",
            "                       max_depth=None, max_features=None, max_leaf_nodes=None,\n",
            "                       min_impurity_decrease=0.0, min_samples_leaf=1,\n",
            "                       min_samples_split=2, min_weight_fraction_leaf=0.0,\n",
            "                       random_state=123, splitter='best')\n",
            "INFO:logs:create_model() successfully completed......................................\n",
            "INFO:logs:SubProcess create_model() end ==================================\n",
            "INFO:logs:Creating metrics dataframe\n",
            "INFO:logs:Initializing SVM - Linear Kernel\n",
            "INFO:logs:Total runtime is 0.6050737301508586 minutes\n",
            "INFO:logs:SubProcess create_model() called ==================================\n",
            "INFO:logs:Initializing create_model()\n",
            "INFO:logs:create_model(self=<pycaret.classification.oop.ClassificationExperiment object at 0x7fdcae1f0810>, estimator=svm, fold=StratifiedKFold(n_splits=10, random_state=None, shuffle=False), round=4, cross_validation=True, predict=True, fit_kwargs={}, groups=None, refit=False, probability_threshold=None, experiment_custom_tags=None, verbose=False, system=False, add_to_model_list=True, metrics=None, display=<pycaret.internal.display.display.CommonDisplay object at 0x7fdcae200b90>, model_only=True, return_train_score=False, kwargs={})\n",
            "INFO:logs:Checking exceptions\n",
            "INFO:logs:Importing libraries\n",
            "INFO:logs:Copying training dataset\n",
            "INFO:logs:Defining folds\n",
            "INFO:logs:Declaring metric variables\n",
            "INFO:logs:Importing untrained model\n",
            "INFO:logs:SVM - Linear Kernel Imported successfully\n",
            "INFO:logs:Starting cross validation\n",
            "INFO:logs:Cross validating with StratifiedKFold(n_splits=10, random_state=None, shuffle=False), n_jobs=-1\n",
            "INFO:logs:Calculating mean and std\n",
            "INFO:logs:Creating metrics dataframe\n",
            "INFO:logs:Uploading results into container\n",
            "INFO:logs:Uploading model into container now\n",
            "INFO:logs:master_model_container: 5\n",
            "INFO:logs:display_container: 2\n",
            "INFO:logs:SGDClassifier(alpha=0.0001, average=False, class_weight=None,\n",
            "              early_stopping=False, epsilon=0.1, eta0=0.001, fit_intercept=True,\n",
            "              l1_ratio=0.15, learning_rate='optimal', loss='hinge',\n",
            "              max_iter=1000, n_iter_no_change=5, n_jobs=-1, penalty='l2',\n",
            "              power_t=0.5, random_state=123, shuffle=True, tol=0.001,\n",
            "              validation_fraction=0.1, verbose=0, warm_start=False)\n",
            "INFO:logs:create_model() successfully completed......................................\n",
            "INFO:logs:SubProcess create_model() end ==================================\n",
            "INFO:logs:Creating metrics dataframe\n",
            "INFO:logs:Initializing Ridge Classifier\n",
            "INFO:logs:Total runtime is 0.6494585196177165 minutes\n",
            "INFO:logs:SubProcess create_model() called ==================================\n",
            "INFO:logs:Initializing create_model()\n",
            "INFO:logs:create_model(self=<pycaret.classification.oop.ClassificationExperiment object at 0x7fdcae1f0810>, estimator=ridge, fold=StratifiedKFold(n_splits=10, random_state=None, shuffle=False), round=4, cross_validation=True, predict=True, fit_kwargs={}, groups=None, refit=False, probability_threshold=None, experiment_custom_tags=None, verbose=False, system=False, add_to_model_list=True, metrics=None, display=<pycaret.internal.display.display.CommonDisplay object at 0x7fdcae200b90>, model_only=True, return_train_score=False, kwargs={})\n",
            "INFO:logs:Checking exceptions\n",
            "INFO:logs:Importing libraries\n",
            "INFO:logs:Copying training dataset\n",
            "INFO:logs:Defining folds\n",
            "INFO:logs:Declaring metric variables\n",
            "INFO:logs:Importing untrained model\n",
            "INFO:logs:Ridge Classifier Imported successfully\n",
            "INFO:logs:Starting cross validation\n",
            "INFO:logs:Cross validating with StratifiedKFold(n_splits=10, random_state=None, shuffle=False), n_jobs=-1\n",
            "INFO:logs:Calculating mean and std\n",
            "INFO:logs:Creating metrics dataframe\n",
            "INFO:logs:Uploading results into container\n",
            "INFO:logs:Uploading model into container now\n",
            "INFO:logs:master_model_container: 6\n",
            "INFO:logs:display_container: 2\n",
            "INFO:logs:RidgeClassifier(alpha=1.0, class_weight=None, copy_X=True, fit_intercept=True,\n",
            "                max_iter=None, normalize='deprecated', positive=False,\n",
            "                random_state=123, solver='auto', tol=0.001)\n",
            "INFO:logs:create_model() successfully completed......................................\n",
            "INFO:logs:SubProcess create_model() end ==================================\n",
            "INFO:logs:Creating metrics dataframe\n",
            "INFO:logs:Initializing Random Forest Classifier\n",
            "INFO:logs:Total runtime is 0.6653810501098633 minutes\n",
            "INFO:logs:SubProcess create_model() called ==================================\n",
            "INFO:logs:Initializing create_model()\n",
            "INFO:logs:create_model(self=<pycaret.classification.oop.ClassificationExperiment object at 0x7fdcae1f0810>, estimator=rf, fold=StratifiedKFold(n_splits=10, random_state=None, shuffle=False), round=4, cross_validation=True, predict=True, fit_kwargs={}, groups=None, refit=False, probability_threshold=None, experiment_custom_tags=None, verbose=False, system=False, add_to_model_list=True, metrics=None, display=<pycaret.internal.display.display.CommonDisplay object at 0x7fdcae200b90>, model_only=True, return_train_score=False, kwargs={})\n",
            "INFO:logs:Checking exceptions\n",
            "INFO:logs:Importing libraries\n",
            "INFO:logs:Copying training dataset\n",
            "INFO:logs:Defining folds\n",
            "INFO:logs:Declaring metric variables\n",
            "INFO:logs:Importing untrained model\n",
            "INFO:logs:Random Forest Classifier Imported successfully\n",
            "INFO:logs:Starting cross validation\n",
            "INFO:logs:Cross validating with StratifiedKFold(n_splits=10, random_state=None, shuffle=False), n_jobs=-1\n",
            "INFO:logs:Calculating mean and std\n",
            "INFO:logs:Creating metrics dataframe\n",
            "INFO:logs:Uploading results into container\n",
            "INFO:logs:Uploading model into container now\n",
            "INFO:logs:master_model_container: 7\n",
            "INFO:logs:display_container: 2\n",
            "INFO:logs:RandomForestClassifier(bootstrap=True, ccp_alpha=0.0, class_weight=None,\n",
            "                       criterion='gini', max_depth=None, max_features='auto',\n",
            "                       max_leaf_nodes=None, max_samples=None,\n",
            "                       min_impurity_decrease=0.0, min_samples_leaf=1,\n",
            "                       min_samples_split=2, min_weight_fraction_leaf=0.0,\n",
            "                       n_estimators=100, n_jobs=-1, oob_score=False,\n",
            "                       random_state=123, verbose=0, warm_start=False)\n",
            "INFO:logs:create_model() successfully completed......................................\n",
            "INFO:logs:SubProcess create_model() end ==================================\n",
            "INFO:logs:Creating metrics dataframe\n",
            "INFO:logs:Initializing Quadratic Discriminant Analysis\n",
            "INFO:logs:Total runtime is 1.2917917927106222 minutes\n",
            "INFO:logs:SubProcess create_model() called ==================================\n",
            "INFO:logs:Initializing create_model()\n",
            "INFO:logs:create_model(self=<pycaret.classification.oop.ClassificationExperiment object at 0x7fdcae1f0810>, estimator=qda, fold=StratifiedKFold(n_splits=10, random_state=None, shuffle=False), round=4, cross_validation=True, predict=True, fit_kwargs={}, groups=None, refit=False, probability_threshold=None, experiment_custom_tags=None, verbose=False, system=False, add_to_model_list=True, metrics=None, display=<pycaret.internal.display.display.CommonDisplay object at 0x7fdcae200b90>, model_only=True, return_train_score=False, kwargs={})\n",
            "INFO:logs:Checking exceptions\n",
            "INFO:logs:Importing libraries\n",
            "INFO:logs:Copying training dataset\n",
            "INFO:logs:Defining folds\n",
            "INFO:logs:Declaring metric variables\n",
            "INFO:logs:Importing untrained model\n",
            "INFO:logs:Quadratic Discriminant Analysis Imported successfully\n",
            "INFO:logs:Starting cross validation\n",
            "INFO:logs:Cross validating with StratifiedKFold(n_splits=10, random_state=None, shuffle=False), n_jobs=-1\n",
            "INFO:logs:Calculating mean and std\n",
            "INFO:logs:Creating metrics dataframe\n",
            "INFO:logs:Uploading results into container\n",
            "INFO:logs:Uploading model into container now\n",
            "INFO:logs:master_model_container: 8\n",
            "INFO:logs:display_container: 2\n",
            "INFO:logs:QuadraticDiscriminantAnalysis(priors=None, reg_param=0.0,\n",
            "                              store_covariance=False, tol=0.0001)\n",
            "INFO:logs:create_model() successfully completed......................................\n",
            "INFO:logs:SubProcess create_model() end ==================================\n",
            "INFO:logs:Creating metrics dataframe\n",
            "INFO:logs:Initializing Ada Boost Classifier\n",
            "INFO:logs:Total runtime is 1.3104747414588929 minutes\n",
            "INFO:logs:SubProcess create_model() called ==================================\n",
            "INFO:logs:Initializing create_model()\n",
            "INFO:logs:create_model(self=<pycaret.classification.oop.ClassificationExperiment object at 0x7fdcae1f0810>, estimator=ada, fold=StratifiedKFold(n_splits=10, random_state=None, shuffle=False), round=4, cross_validation=True, predict=True, fit_kwargs={}, groups=None, refit=False, probability_threshold=None, experiment_custom_tags=None, verbose=False, system=False, add_to_model_list=True, metrics=None, display=<pycaret.internal.display.display.CommonDisplay object at 0x7fdcae200b90>, model_only=True, return_train_score=False, kwargs={})\n",
            "INFO:logs:Checking exceptions\n",
            "INFO:logs:Importing libraries\n",
            "INFO:logs:Copying training dataset\n",
            "INFO:logs:Defining folds\n",
            "INFO:logs:Declaring metric variables\n",
            "INFO:logs:Importing untrained model\n",
            "INFO:logs:Ada Boost Classifier Imported successfully\n",
            "INFO:logs:Starting cross validation\n",
            "INFO:logs:Cross validating with StratifiedKFold(n_splits=10, random_state=None, shuffle=False), n_jobs=-1\n",
            "INFO:logs:Calculating mean and std\n",
            "INFO:logs:Creating metrics dataframe\n",
            "INFO:logs:Uploading results into container\n",
            "INFO:logs:Uploading model into container now\n",
            "INFO:logs:master_model_container: 9\n",
            "INFO:logs:display_container: 2\n",
            "INFO:logs:AdaBoostClassifier(algorithm='SAMME.R', base_estimator=None, learning_rate=1.0,\n",
            "                   n_estimators=50, random_state=123)\n",
            "INFO:logs:create_model() successfully completed......................................\n",
            "INFO:logs:SubProcess create_model() end ==================================\n",
            "INFO:logs:Creating metrics dataframe\n",
            "INFO:logs:Initializing Gradient Boosting Classifier\n",
            "INFO:logs:Total runtime is 1.510623359680176 minutes\n",
            "INFO:logs:SubProcess create_model() called ==================================\n",
            "INFO:logs:Initializing create_model()\n",
            "INFO:logs:create_model(self=<pycaret.classification.oop.ClassificationExperiment object at 0x7fdcae1f0810>, estimator=gbc, fold=StratifiedKFold(n_splits=10, random_state=None, shuffle=False), round=4, cross_validation=True, predict=True, fit_kwargs={}, groups=None, refit=False, probability_threshold=None, experiment_custom_tags=None, verbose=False, system=False, add_to_model_list=True, metrics=None, display=<pycaret.internal.display.display.CommonDisplay object at 0x7fdcae200b90>, model_only=True, return_train_score=False, kwargs={})\n",
            "INFO:logs:Checking exceptions\n",
            "INFO:logs:Importing libraries\n",
            "INFO:logs:Copying training dataset\n",
            "INFO:logs:Defining folds\n",
            "INFO:logs:Declaring metric variables\n",
            "INFO:logs:Importing untrained model\n",
            "INFO:logs:Gradient Boosting Classifier Imported successfully\n",
            "INFO:logs:Starting cross validation\n",
            "INFO:logs:Cross validating with StratifiedKFold(n_splits=10, random_state=None, shuffle=False), n_jobs=-1\n",
            "INFO:logs:Calculating mean and std\n",
            "INFO:logs:Creating metrics dataframe\n",
            "INFO:logs:Uploading results into container\n",
            "INFO:logs:Uploading model into container now\n",
            "INFO:logs:master_model_container: 10\n",
            "INFO:logs:display_container: 2\n",
            "INFO:logs:GradientBoostingClassifier(ccp_alpha=0.0, criterion='friedman_mse', init=None,\n",
            "                           learning_rate=0.1, loss='deviance', max_depth=3,\n",
            "                           max_features=None, max_leaf_nodes=None,\n",
            "                           min_impurity_decrease=0.0, min_samples_leaf=1,\n",
            "                           min_samples_split=2, min_weight_fraction_leaf=0.0,\n",
            "                           n_estimators=100, n_iter_no_change=None,\n",
            "                           random_state=123, subsample=1.0, tol=0.0001,\n",
            "                           validation_fraction=0.1, verbose=0,\n",
            "                           warm_start=False)\n",
            "INFO:logs:create_model() successfully completed......................................\n",
            "INFO:logs:SubProcess create_model() end ==================================\n",
            "INFO:logs:Creating metrics dataframe\n",
            "INFO:logs:Initializing Linear Discriminant Analysis\n",
            "INFO:logs:Total runtime is 2.3639326810836794 minutes\n",
            "INFO:logs:SubProcess create_model() called ==================================\n",
            "INFO:logs:Initializing create_model()\n",
            "INFO:logs:create_model(self=<pycaret.classification.oop.ClassificationExperiment object at 0x7fdcae1f0810>, estimator=lda, fold=StratifiedKFold(n_splits=10, random_state=None, shuffle=False), round=4, cross_validation=True, predict=True, fit_kwargs={}, groups=None, refit=False, probability_threshold=None, experiment_custom_tags=None, verbose=False, system=False, add_to_model_list=True, metrics=None, display=<pycaret.internal.display.display.CommonDisplay object at 0x7fdcae200b90>, model_only=True, return_train_score=False, kwargs={})\n",
            "INFO:logs:Checking exceptions\n",
            "INFO:logs:Importing libraries\n",
            "INFO:logs:Copying training dataset\n",
            "INFO:logs:Defining folds\n",
            "INFO:logs:Declaring metric variables\n",
            "INFO:logs:Importing untrained model\n",
            "INFO:logs:Linear Discriminant Analysis Imported successfully\n",
            "INFO:logs:Starting cross validation\n",
            "INFO:logs:Cross validating with StratifiedKFold(n_splits=10, random_state=None, shuffle=False), n_jobs=-1\n",
            "INFO:logs:Calculating mean and std\n",
            "INFO:logs:Creating metrics dataframe\n",
            "INFO:logs:Uploading results into container\n",
            "INFO:logs:Uploading model into container now\n",
            "INFO:logs:master_model_container: 11\n",
            "INFO:logs:display_container: 2\n",
            "INFO:logs:LinearDiscriminantAnalysis(covariance_estimator=None, n_components=None,\n",
            "                           priors=None, shrinkage=None, solver='svd',\n",
            "                           store_covariance=False, tol=0.0001)\n",
            "INFO:logs:create_model() successfully completed......................................\n",
            "INFO:logs:SubProcess create_model() end ==================================\n",
            "INFO:logs:Creating metrics dataframe\n",
            "INFO:logs:Initializing Extra Trees Classifier\n",
            "INFO:logs:Total runtime is 2.388647596041362 minutes\n",
            "INFO:logs:SubProcess create_model() called ==================================\n",
            "INFO:logs:Initializing create_model()\n",
            "INFO:logs:create_model(self=<pycaret.classification.oop.ClassificationExperiment object at 0x7fdcae1f0810>, estimator=et, fold=StratifiedKFold(n_splits=10, random_state=None, shuffle=False), round=4, cross_validation=True, predict=True, fit_kwargs={}, groups=None, refit=False, probability_threshold=None, experiment_custom_tags=None, verbose=False, system=False, add_to_model_list=True, metrics=None, display=<pycaret.internal.display.display.CommonDisplay object at 0x7fdcae200b90>, model_only=True, return_train_score=False, kwargs={})\n",
            "INFO:logs:Checking exceptions\n",
            "INFO:logs:Importing libraries\n",
            "INFO:logs:Copying training dataset\n",
            "INFO:logs:Defining folds\n",
            "INFO:logs:Declaring metric variables\n",
            "INFO:logs:Importing untrained model\n",
            "INFO:logs:Extra Trees Classifier Imported successfully\n",
            "INFO:logs:Starting cross validation\n",
            "INFO:logs:Cross validating with StratifiedKFold(n_splits=10, random_state=None, shuffle=False), n_jobs=-1\n",
            "INFO:logs:Calculating mean and std\n",
            "INFO:logs:Creating metrics dataframe\n",
            "INFO:logs:Uploading results into container\n",
            "INFO:logs:Uploading model into container now\n",
            "INFO:logs:master_model_container: 12\n",
            "INFO:logs:display_container: 2\n",
            "INFO:logs:ExtraTreesClassifier(bootstrap=False, ccp_alpha=0.0, class_weight=None,\n",
            "                     criterion='gini', max_depth=None, max_features='auto',\n",
            "                     max_leaf_nodes=None, max_samples=None,\n",
            "                     min_impurity_decrease=0.0, min_samples_leaf=1,\n",
            "                     min_samples_split=2, min_weight_fraction_leaf=0.0,\n",
            "                     n_estimators=100, n_jobs=-1, oob_score=False,\n",
            "                     random_state=123, verbose=0, warm_start=False)\n",
            "INFO:logs:create_model() successfully completed......................................\n",
            "INFO:logs:SubProcess create_model() end ==================================\n",
            "INFO:logs:Creating metrics dataframe\n",
            "INFO:logs:Initializing Light Gradient Boosting Machine\n",
            "INFO:logs:Total runtime is 2.7196068485577904 minutes\n",
            "INFO:logs:SubProcess create_model() called ==================================\n",
            "INFO:logs:Initializing create_model()\n",
            "INFO:logs:create_model(self=<pycaret.classification.oop.ClassificationExperiment object at 0x7fdcae1f0810>, estimator=lightgbm, fold=StratifiedKFold(n_splits=10, random_state=None, shuffle=False), round=4, cross_validation=True, predict=True, fit_kwargs={}, groups=None, refit=False, probability_threshold=None, experiment_custom_tags=None, verbose=False, system=False, add_to_model_list=True, metrics=None, display=<pycaret.internal.display.display.CommonDisplay object at 0x7fdcae200b90>, model_only=True, return_train_score=False, kwargs={})\n",
            "INFO:logs:Checking exceptions\n",
            "INFO:logs:Importing libraries\n",
            "INFO:logs:Copying training dataset\n",
            "INFO:logs:Defining folds\n",
            "INFO:logs:Declaring metric variables\n",
            "INFO:logs:Importing untrained model\n",
            "INFO:logs:Light Gradient Boosting Machine Imported successfully\n",
            "INFO:logs:Starting cross validation\n",
            "INFO:logs:Cross validating with StratifiedKFold(n_splits=10, random_state=None, shuffle=False), n_jobs=-1\n",
            "INFO:logs:Calculating mean and std\n",
            "INFO:logs:Creating metrics dataframe\n",
            "INFO:logs:Uploading results into container\n",
            "INFO:logs:Uploading model into container now\n",
            "INFO:logs:master_model_container: 13\n",
            "INFO:logs:display_container: 2\n",
            "INFO:logs:LGBMClassifier(boosting_type='gbdt', class_weight=None, colsample_bytree=1.0,\n",
            "               importance_type='split', learning_rate=0.1, max_depth=-1,\n",
            "               min_child_samples=20, min_child_weight=0.001, min_split_gain=0.0,\n",
            "               n_estimators=100, n_jobs=-1, num_leaves=31, objective=None,\n",
            "               random_state=123, reg_alpha=0.0, reg_lambda=0.0, silent='warn',\n",
            "               subsample=1.0, subsample_for_bin=200000, subsample_freq=0)\n",
            "INFO:logs:create_model() successfully completed......................................\n",
            "INFO:logs:SubProcess create_model() end ==================================\n",
            "INFO:logs:Creating metrics dataframe\n",
            "INFO:logs:Initializing Dummy Classifier\n",
            "INFO:logs:Total runtime is 2.807475845019023 minutes\n",
            "INFO:logs:SubProcess create_model() called ==================================\n",
            "INFO:logs:Initializing create_model()\n",
            "INFO:logs:create_model(self=<pycaret.classification.oop.ClassificationExperiment object at 0x7fdcae1f0810>, estimator=dummy, fold=StratifiedKFold(n_splits=10, random_state=None, shuffle=False), round=4, cross_validation=True, predict=True, fit_kwargs={}, groups=None, refit=False, probability_threshold=None, experiment_custom_tags=None, verbose=False, system=False, add_to_model_list=True, metrics=None, display=<pycaret.internal.display.display.CommonDisplay object at 0x7fdcae200b90>, model_only=True, return_train_score=False, kwargs={})\n",
            "INFO:logs:Checking exceptions\n",
            "INFO:logs:Importing libraries\n",
            "INFO:logs:Copying training dataset\n",
            "INFO:logs:Defining folds\n",
            "INFO:logs:Declaring metric variables\n",
            "INFO:logs:Importing untrained model\n",
            "INFO:logs:Dummy Classifier Imported successfully\n",
            "INFO:logs:Starting cross validation\n",
            "INFO:logs:Cross validating with StratifiedKFold(n_splits=10, random_state=None, shuffle=False), n_jobs=-1\n",
            "INFO:logs:Calculating mean and std\n",
            "INFO:logs:Creating metrics dataframe\n",
            "INFO:logs:Uploading results into container\n",
            "INFO:logs:Uploading model into container now\n",
            "INFO:logs:master_model_container: 14\n",
            "INFO:logs:display_container: 2\n",
            "INFO:logs:DummyClassifier(constant=None, random_state=123, strategy='prior')\n",
            "INFO:logs:create_model() successfully completed......................................\n",
            "INFO:logs:SubProcess create_model() end ==================================\n",
            "INFO:logs:Creating metrics dataframe\n",
            "INFO:logs:Initializing create_model()\n",
            "INFO:logs:create_model(self=<pycaret.classification.oop.ClassificationExperiment object at 0x7fdcae1f0810>, estimator=GradientBoostingClassifier(ccp_alpha=0.0, criterion='friedman_mse', init=None,\n",
            "                           learning_rate=0.1, loss='deviance', max_depth=3,\n",
            "                           max_features=None, max_leaf_nodes=None,\n",
            "                           min_impurity_decrease=0.0, min_samples_leaf=1,\n",
            "                           min_samples_split=2, min_weight_fraction_leaf=0.0,\n",
            "                           n_estimators=100, n_iter_no_change=None,\n",
            "                           random_state=123, subsample=1.0, tol=0.0001,\n",
            "                           validation_fraction=0.1, verbose=0,\n",
            "                           warm_start=False), fold=StratifiedKFold(n_splits=10, random_state=None, shuffle=False), round=4, cross_validation=False, predict=False, fit_kwargs={}, groups=None, refit=True, probability_threshold=None, experiment_custom_tags=None, verbose=False, system=False, add_to_model_list=True, metrics=None, display=None, model_only=True, return_train_score=False, kwargs={})\n",
            "INFO:logs:Checking exceptions\n",
            "INFO:logs:Importing libraries\n",
            "INFO:logs:Copying training dataset\n",
            "INFO:logs:Defining folds\n",
            "INFO:logs:Declaring metric variables\n",
            "INFO:logs:Importing untrained model\n",
            "INFO:logs:Declaring custom model\n",
            "INFO:logs:Gradient Boosting Classifier Imported successfully\n",
            "INFO:logs:Cross validation set to False\n",
            "INFO:logs:Fitting Model\n",
            "INFO:logs:GradientBoostingClassifier(ccp_alpha=0.0, criterion='friedman_mse', init=None,\n",
            "                           learning_rate=0.1, loss='deviance', max_depth=3,\n",
            "                           max_features=None, max_leaf_nodes=None,\n",
            "                           min_impurity_decrease=0.0, min_samples_leaf=1,\n",
            "                           min_samples_split=2, min_weight_fraction_leaf=0.0,\n",
            "                           n_estimators=100, n_iter_no_change=None,\n",
            "                           random_state=123, subsample=1.0, tol=0.0001,\n",
            "                           validation_fraction=0.1, verbose=0,\n",
            "                           warm_start=False)\n",
            "INFO:logs:create_model() successfully completed......................................\n"
          ]
        },
        {
          "data": {
            "text/html": [],
            "text/plain": [
              "<IPython.core.display.HTML object>"
            ]
          },
          "metadata": {},
          "output_type": "display_data"
        },
        {
          "name": "stderr",
          "output_type": "stream",
          "text": [
            "INFO:logs:master_model_container: 14\n",
            "INFO:logs:display_container: 2\n",
            "INFO:logs:GradientBoostingClassifier(ccp_alpha=0.0, criterion='friedman_mse', init=None,\n",
            "                           learning_rate=0.1, loss='deviance', max_depth=3,\n",
            "                           max_features=None, max_leaf_nodes=None,\n",
            "                           min_impurity_decrease=0.0, min_samples_leaf=1,\n",
            "                           min_samples_split=2, min_weight_fraction_leaf=0.0,\n",
            "                           n_estimators=100, n_iter_no_change=None,\n",
            "                           random_state=123, subsample=1.0, tol=0.0001,\n",
            "                           validation_fraction=0.1, verbose=0,\n",
            "                           warm_start=False)\n",
            "INFO:logs:compare_models() successfully completed......................................\n"
          ]
        }
      ],
      "source": [
        "best_model = compare_models()"
      ],
      "id": "wYjUYUM4uv5i"
    },
    {
      "cell_type": "code",
      "execution_count": null,
      "metadata": {
        "id": "Gj3JVj6juv7Y"
      },
      "outputs": [],
      "source": [
        "X_train,X_test,y_train,y_test = Scale_Split_Balance(df,features,target='DEF_PAY_NMO',scaled=False,balanced=False)"
      ],
      "id": "Gj3JVj6juv7Y"
    },
    {
      "cell_type": "markdown",
      "metadata": {
        "id": "QcnjP4Eqy-SQ"
      },
      "source": [
        "**Logistic regression**"
      ],
      "id": "QcnjP4Eqy-SQ"
    },
    {
      "cell_type": "code",
      "execution_count": null,
      "metadata": {
        "id": "K13CUt6buv9Y"
      },
      "outputs": [],
      "source": [
        "clf_lr = LogisticRegression()"
      ],
      "id": "K13CUt6buv9Y"
    },
    {
      "cell_type": "code",
      "execution_count": null,
      "metadata": {
        "colab": {
          "base_uri": "https://localhost:8080/"
        },
        "id": "ogEvtgysuv_5",
        "outputId": "59683e01-9490-46f1-b1a3-91baad0c3bdc"
      },
      "outputs": [
        {
          "name": "stdout",
          "output_type": "stream",
          "text": [
            "ROC_AUC -  0.7182149364319301\n",
            "\n",
            "\n",
            "[[3245 1428]\n",
            " [ 462  865]]\n",
            "              precision    recall  f1-score   support\n",
            "\n",
            "           0       0.88      0.69      0.77      4673\n",
            "           1       0.38      0.65      0.48      1327\n",
            "\n",
            "    accuracy                           0.69      6000\n",
            "   macro avg       0.63      0.67      0.63      6000\n",
            "weighted avg       0.77      0.69      0.71      6000\n",
            "\n"
          ]
        }
      ],
      "source": [
        "X_train,X_test,y_train,y_test = Scale_Split_Balance(df,features,target='DEF_PAY_NMO',scaled=True,balanced='random_os')\n",
        "clf_lr.fit(X_train,y_train)\n",
        "predictions = clf_lr.predict(X_test)\n",
        "scores = cross_val_score(clf_lr, X_train, y_train, scoring =\"roc_auc\", cv = 10)\n",
        "scores = np.mean(scores)\n",
        "print(\"ROC_AUC - \",scores)\n",
        "print('\\n')\n",
        "\n",
        "print(confusion_matrix(y_test,predictions))\n",
        "print(classification_report(y_test,predictions))"
      ],
      "id": "ogEvtgysuv_5"
    },
    {
      "cell_type": "code",
      "execution_count": null,
      "metadata": {
        "colab": {
          "base_uri": "https://localhost:8080/"
        },
        "id": "ft2U-Qb6uwCE",
        "outputId": "5a228bce-25b7-42a9-dcd1-92202d2231af"
      },
      "outputs": [
        {
          "name": "stdout",
          "output_type": "stream",
          "text": [
            "ROC_AUC -  0.7263021739283755\n",
            "\n",
            "\n",
            "[[3201 1472]\n",
            " [ 461  866]]\n",
            "              precision    recall  f1-score   support\n",
            "\n",
            "           0       0.87      0.68      0.77      4673\n",
            "           1       0.37      0.65      0.47      1327\n",
            "\n",
            "    accuracy                           0.68      6000\n",
            "   macro avg       0.62      0.67      0.62      6000\n",
            "weighted avg       0.76      0.68      0.70      6000\n",
            "\n"
          ]
        }
      ],
      "source": [
        "X_train,X_test,y_train,y_test = Scale_Split_Balance(df,features,target='DEF_PAY_NMO',scaled=True,balanced='smote')\n",
        "clf_lr.fit(X_train,y_train)\n",
        "predictions = clf_lr.predict(X_test)\n",
        "scores = cross_val_score(clf_lr, X_train, y_train, scoring =\"roc_auc\", cv = 10)\n",
        "scores = np.mean(scores)\n",
        "print(\"ROC_AUC - \",scores)\n",
        "print('\\n')\n",
        "\n",
        "print(confusion_matrix(y_test,predictions))\n",
        "print(classification_report(y_test,predictions))"
      ],
      "id": "ft2U-Qb6uwCE"
    },
    {
      "cell_type": "code",
      "execution_count": null,
      "metadata": {
        "colab": {
          "base_uri": "https://localhost:8080/"
        },
        "id": "RiLhuAfCuwD6",
        "outputId": "98ee640f-0d3b-4cef-8932-9e0cfc6efe5d"
      },
      "outputs": [
        {
          "name": "stdout",
          "output_type": "stream",
          "text": [
            "ROC_AUC -  0.6789763134618816\n",
            "\n",
            "\n",
            "[[2935 1738]\n",
            " [ 403  924]]\n",
            "              precision    recall  f1-score   support\n",
            "\n",
            "           0       0.88      0.63      0.73      4673\n",
            "           1       0.35      0.70      0.46      1327\n",
            "\n",
            "    accuracy                           0.64      6000\n",
            "   macro avg       0.61      0.66      0.60      6000\n",
            "weighted avg       0.76      0.64      0.67      6000\n",
            "\n"
          ]
        }
      ],
      "source": [
        "X_train,X_test,y_train,y_test = Scale_Split_Balance(df,features,target='DEF_PAY_NMO',scaled=True,balanced='adasyn')\n",
        "clf_lr.fit(X_train,y_train)\n",
        "predictions = clf_lr.predict(X_test)\n",
        "scores = cross_val_score(clf_lr, X_train, y_train, scoring =\"roc_auc\", cv = 10)\n",
        "scores = np.mean(scores)\n",
        "print(\"ROC_AUC - \",scores)\n",
        "print('\\n')\n",
        "\n",
        "print(confusion_matrix(y_test,predictions))\n",
        "print(classification_report(y_test,predictions))"
      ],
      "id": "RiLhuAfCuwD6"
    },
    {
      "cell_type": "code",
      "execution_count": null,
      "metadata": {
        "id": "AopWsjNnuwGF"
      },
      "outputs": [],
      "source": [
        "from sklearn.model_selection import RandomizedSearchCV\n",
        "from scipy.stats import uniform"
      ],
      "id": "AopWsjNnuwGF"
    },
    {
      "cell_type": "code",
      "execution_count": null,
      "metadata": {
        "id": "r-a1ANdAuwII"
      },
      "outputs": [],
      "source": [
        "logistic = LogisticRegression(solver='saga', tol=1e-2, max_iter=200,random_state=42)"
      ],
      "id": "r-a1ANdAuwII"
    },
    {
      "cell_type": "code",
      "execution_count": null,
      "metadata": {
        "id": "aDejuowFuwKq"
      },
      "outputs": [],
      "source": [
        "distributions = dict(C=uniform(loc=0, scale=4), penalty=['l2', 'l1'])"
      ],
      "id": "aDejuowFuwKq"
    },
    {
      "cell_type": "code",
      "execution_count": null,
      "metadata": {
        "id": "MFxJqJn_uwM3"
      },
      "outputs": [],
      "source": [
        "clf = RandomizedSearchCV(logistic, distributions, random_state=42)"
      ],
      "id": "MFxJqJn_uwM3"
    },
    {
      "cell_type": "code",
      "source": [
        "type(clf)"
      ],
      "metadata": {
        "colab": {
          "base_uri": "https://localhost:8080/"
        },
        "id": "Vl5OCUjbyQgX",
        "outputId": "8394de98-4c8d-4c50-e616-0ca23aeb4fea"
      },
      "id": "Vl5OCUjbyQgX",
      "execution_count": null,
      "outputs": [
        {
          "output_type": "execute_result",
          "data": {
            "text/plain": [
              "sklearn.model_selection._search.RandomizedSearchCV"
            ]
          },
          "metadata": {},
          "execution_count": 213
        }
      ]
    },
    {
      "cell_type": "code",
      "execution_count": null,
      "metadata": {
        "id": "IO8v09-KuwOc"
      },
      "outputs": [],
      "source": [
        "lr_best= clf.fit(X_train, y_train) "
      ],
      "id": "IO8v09-KuwOc"
    },
    {
      "cell_type": "code",
      "source": [
        "type(lr_best)"
      ],
      "metadata": {
        "colab": {
          "base_uri": "https://localhost:8080/"
        },
        "id": "pNUrZ9pUyWMp",
        "outputId": "564b03f0-0080-48ca-a9ed-cba9f7b66c3b"
      },
      "id": "pNUrZ9pUyWMp",
      "execution_count": null,
      "outputs": [
        {
          "output_type": "execute_result",
          "data": {
            "text/plain": [
              "sklearn.model_selection._search.RandomizedSearchCV"
            ]
          },
          "metadata": {},
          "execution_count": 214
        }
      ]
    },
    {
      "cell_type": "code",
      "execution_count": null,
      "metadata": {
        "colab": {
          "base_uri": "https://localhost:8080/"
        },
        "id": "TPBeFx7-uwR7",
        "outputId": "075b7d09-cb65-4ec5-c843-641529cf3986"
      },
      "outputs": [
        {
          "name": "stdout",
          "output_type": "stream",
          "text": [
            "ROC_AUC -  0.7016172091481422\n",
            "\n",
            "\n",
            "[[3981  692]\n",
            " [ 635  692]]\n",
            "              precision    recall  f1-score   support\n",
            "\n",
            "           0       0.86      0.85      0.86      4673\n",
            "           1       0.50      0.52      0.51      1327\n",
            "\n",
            "    accuracy                           0.78      6000\n",
            "   macro avg       0.68      0.69      0.68      6000\n",
            "weighted avg       0.78      0.78      0.78      6000\n",
            "\n"
          ]
        }
      ],
      "source": [
        "X_train,X_test,y_train,y_test = Scale_Split_Balance(df,features,target='DEF_PAY_NMO',scaled=True,balanced=\"random_os\")\n",
        "lr_best.fit(X_train,y_train)\n",
        "predictions = lr_best.predict(X_test)\n",
        "scores = cross_val_score(lr_best, X_train, y_train, scoring =\"roc_auc\", cv = 10)\n",
        "scores = np.mean(scores)\n",
        "print(\"ROC_AUC - \",scores)\n",
        "print('\\n')\n",
        "\n",
        "print(confusion_matrix(y_test,predictions))\n",
        "print(classification_report(y_test,predictions))"
      ],
      "id": "TPBeFx7-uwR7"
    },
    {
      "cell_type": "code",
      "execution_count": null,
      "metadata": {
        "colab": {
          "base_uri": "https://localhost:8080/"
        },
        "id": "_2ijzFiL0Icy",
        "outputId": "7901f2b4-8128-408e-e04c-46fd55b2fc3f"
      },
      "outputs": [
        {
          "name": "stdout",
          "output_type": "stream",
          "text": [
            "ROC_AUC -  0.7057403162494564\n",
            "\n",
            "\n",
            "[[3981  692]\n",
            " [ 635  692]]\n",
            "              precision    recall  f1-score   support\n",
            "\n",
            "           0       0.86      0.85      0.86      4673\n",
            "           1       0.50      0.52      0.51      1327\n",
            "\n",
            "    accuracy                           0.78      6000\n",
            "   macro avg       0.68      0.69      0.68      6000\n",
            "weighted avg       0.78      0.78      0.78      6000\n",
            "\n"
          ]
        }
      ],
      "source": [
        "X_train,X_test,y_train,y_test = Scale_Split_Balance(df,features,target='DEF_PAY_NMO',scaled=True,balanced=\"smote\")\n",
        "lr_best.fit(X_train,y_train)\n",
        "predictions = lr_best.predict(X_test)\n",
        "scores = cross_val_score(lr_best, X_train, y_train, scoring =\"roc_auc\", cv = 10)\n",
        "scores = np.mean(scores)\n",
        "print(\"ROC_AUC - \",scores)\n",
        "print('\\n')\n",
        "\n",
        "print(confusion_matrix(y_test,predictions))\n",
        "print(classification_report(y_test,predictions))"
      ],
      "id": "_2ijzFiL0Icy"
    },
    {
      "cell_type": "code",
      "execution_count": null,
      "metadata": {
        "colab": {
          "base_uri": "https://localhost:8080/"
        },
        "id": "Y4n5Ansk0Iep",
        "outputId": "9472df13-9b3f-4fb2-df0c-acc8577489d6"
      },
      "outputs": [
        {
          "name": "stdout",
          "output_type": "stream",
          "text": [
            "ROC_AUC -  0.6543409833682043\n",
            "\n",
            "\n",
            "[[3981  692]\n",
            " [ 635  692]]\n",
            "              precision    recall  f1-score   support\n",
            "\n",
            "           0       0.86      0.85      0.86      4673\n",
            "           1       0.50      0.52      0.51      1327\n",
            "\n",
            "    accuracy                           0.78      6000\n",
            "   macro avg       0.68      0.69      0.68      6000\n",
            "weighted avg       0.78      0.78      0.78      6000\n",
            "\n"
          ]
        }
      ],
      "source": [
        "X_train,X_test,y_train,y_test = Scale_Split_Balance(df,features,target='DEF_PAY_NMO',scaled=True,balanced=\"adasyn\")\n",
        "lr_best.fit(X_train,y_train)\n",
        "predictions = lr_best.predict(X_test)\n",
        "scores = cross_val_score(lr_best, X_train, y_train, scoring =\"roc_auc\", cv = 10)\n",
        "scores = np.mean(scores)\n",
        "print(\"ROC_AUC - \",scores)\n",
        "print('\\n')\n",
        "\n",
        "print(confusion_matrix(y_test,predictions))\n",
        "print(classification_report(y_test,predictions))"
      ],
      "id": "Y4n5Ansk0Iep"
    },
    {
      "cell_type": "code",
      "execution_count": null,
      "metadata": {
        "id": "wag0rj1l0IjA"
      },
      "outputs": [],
      "source": [],
      "id": "wag0rj1l0IjA"
    },
    {
      "cell_type": "code",
      "execution_count": null,
      "metadata": {
        "id": "KNY1MwPN0ImG"
      },
      "outputs": [],
      "source": [],
      "id": "KNY1MwPN0ImG"
    },
    {
      "cell_type": "code",
      "execution_count": null,
      "metadata": {
        "id": "mWOVt1vg0Inh"
      },
      "outputs": [],
      "source": [],
      "id": "mWOVt1vg0Inh"
    },
    {
      "cell_type": "code",
      "execution_count": null,
      "metadata": {
        "id": "uluKVE0G0IrR"
      },
      "outputs": [],
      "source": [],
      "id": "uluKVE0G0IrR"
    },
    {
      "cell_type": "code",
      "execution_count": null,
      "metadata": {
        "id": "LCsqghRr0Ite"
      },
      "outputs": [],
      "source": [],
      "id": "LCsqghRr0Ite"
    },
    {
      "cell_type": "code",
      "execution_count": null,
      "metadata": {
        "id": "shLO1E-20Ivr"
      },
      "outputs": [],
      "source": [],
      "id": "shLO1E-20Ivr"
    },
    {
      "cell_type": "code",
      "execution_count": null,
      "metadata": {
        "id": "dAvXZC0W0Ix4"
      },
      "outputs": [],
      "source": [],
      "id": "dAvXZC0W0Ix4"
    },
    {
      "cell_type": "code",
      "execution_count": null,
      "metadata": {
        "id": "mcyxDaGy0I0E"
      },
      "outputs": [],
      "source": [],
      "id": "mcyxDaGy0I0E"
    },
    {
      "cell_type": "code",
      "execution_count": null,
      "metadata": {
        "id": "pCHyDwZn0I22"
      },
      "outputs": [],
      "source": [],
      "id": "pCHyDwZn0I22"
    },
    {
      "cell_type": "code",
      "execution_count": null,
      "metadata": {
        "id": "03d24e48"
      },
      "outputs": [],
      "source": [],
      "id": "03d24e48"
    },
    {
      "cell_type": "code",
      "execution_count": null,
      "metadata": {
        "id": "24ff3a41"
      },
      "outputs": [],
      "source": [],
      "id": "24ff3a41"
    },
    {
      "cell_type": "code",
      "execution_count": null,
      "metadata": {
        "id": "89a9b362"
      },
      "outputs": [],
      "source": [],
      "id": "89a9b362"
    },
    {
      "cell_type": "code",
      "execution_count": null,
      "metadata": {
        "id": "eb613363"
      },
      "outputs": [],
      "source": [],
      "id": "eb613363"
    },
    {
      "cell_type": "code",
      "execution_count": null,
      "metadata": {
        "id": "fc80623f"
      },
      "outputs": [],
      "source": [],
      "id": "fc80623f"
    },
    {
      "cell_type": "markdown",
      "metadata": {
        "id": "3cb462e6"
      },
      "source": [
        "# Random Forest"
      ],
      "id": "3cb462e6"
    },
    {
      "cell_type": "code",
      "execution_count": null,
      "metadata": {
        "id": "a6bd1dea"
      },
      "outputs": [],
      "source": [
        "clf_rf = RandomForestClassifier()"
      ],
      "id": "a6bd1dea"
    },
    {
      "cell_type": "code",
      "execution_count": null,
      "metadata": {
        "colab": {
          "base_uri": "https://localhost:8080/"
        },
        "id": "67f94408",
        "outputId": "559730e3-5288-475e-8a1f-7a7d4983d52c"
      },
      "outputs": [
        {
          "name": "stdout",
          "output_type": "stream",
          "text": [
            "ROC_AUC -  0.990241010858824\n",
            "\n",
            "\n",
            "[[4259  414]\n",
            " [ 752  575]]\n",
            "              precision    recall  f1-score   support\n",
            "\n",
            "           0       0.85      0.91      0.88      4673\n",
            "           1       0.58      0.43      0.50      1327\n",
            "\n",
            "    accuracy                           0.81      6000\n",
            "   macro avg       0.72      0.67      0.69      6000\n",
            "weighted avg       0.79      0.81      0.79      6000\n",
            "\n"
          ]
        }
      ],
      "source": [
        "X_train,X_test,y_train,y_test = Scale_Split_Balance(df,features,target='DEF_PAY_NMO',scaled=False,balanced=\"random_os\")\n",
        "clf_rf.fit(X_train,y_train)\n",
        "predictions = clf_rf.predict(X_test)\n",
        "scores = cross_val_score(clf_rf, X_train, y_train, scoring =\"roc_auc\", cv = 10)\n",
        "scores = np.mean(scores)\n",
        "print(\"ROC_AUC - \",scores)\n",
        "print('\\n')\n",
        "\n",
        "print(confusion_matrix(y_test,predictions))\n",
        "print(classification_report(y_test,predictions))"
      ],
      "id": "67f94408"
    },
    {
      "cell_type": "code",
      "execution_count": null,
      "metadata": {
        "colab": {
          "base_uri": "https://localhost:8080/"
        },
        "id": "af9acc28",
        "outputId": "563c716e-99f5-4073-8706-a0bd3697fd23"
      },
      "outputs": [
        {
          "name": "stdout",
          "output_type": "stream",
          "text": [
            "ROC_AUC -  0.9218978086389361\n",
            "\n",
            "\n",
            "[[4006  667]\n",
            " [ 676  651]]\n",
            "              precision    recall  f1-score   support\n",
            "\n",
            "           0       0.86      0.86      0.86      4673\n",
            "           1       0.49      0.49      0.49      1327\n",
            "\n",
            "    accuracy                           0.78      6000\n",
            "   macro avg       0.67      0.67      0.67      6000\n",
            "weighted avg       0.78      0.78      0.78      6000\n",
            "\n"
          ]
        }
      ],
      "source": [
        "X_train,X_test,y_train,y_test = Scale_Split_Balance(df,features,target='DEF_PAY_NMO',scaled=False,balanced=\"smote\")\n",
        "clf_rf.fit(X_train,y_train)\n",
        "predictions = clf_rf.predict(X_test)\n",
        "scores = cross_val_score(clf_rf, X_train, y_train, scoring =\"roc_auc\", cv = 10)\n",
        "scores = np.mean(scores)\n",
        "print(\"ROC_AUC - \",scores)\n",
        "print('\\n')\n",
        "\n",
        "print(confusion_matrix(y_test,predictions))\n",
        "print(classification_report(y_test,predictions))"
      ],
      "id": "af9acc28"
    },
    {
      "cell_type": "code",
      "execution_count": null,
      "metadata": {
        "colab": {
          "base_uri": "https://localhost:8080/"
        },
        "id": "cbad79b3",
        "outputId": "88a74eb8-5f62-4308-ade7-afb6de22813f"
      },
      "outputs": [
        {
          "name": "stdout",
          "output_type": "stream",
          "text": [
            "ROC_AUC -  0.9116768108243848\n",
            "\n",
            "\n",
            "[[3988  685]\n",
            " [ 671  656]]\n",
            "              precision    recall  f1-score   support\n",
            "\n",
            "           0       0.86      0.85      0.85      4673\n",
            "           1       0.49      0.49      0.49      1327\n",
            "\n",
            "    accuracy                           0.77      6000\n",
            "   macro avg       0.67      0.67      0.67      6000\n",
            "weighted avg       0.77      0.77      0.77      6000\n",
            "\n"
          ]
        }
      ],
      "source": [
        "X_train,X_test,y_train,y_test = Scale_Split_Balance(df,features,target='DEF_PAY_NMO',scaled=False,balanced='adasyn')\n",
        "clf_rf.fit(X_train,y_train)\n",
        "predictions = clf_rf.predict(X_test)\n",
        "scores = cross_val_score(clf_rf, X_train, y_train, scoring =\"roc_auc\", cv = 10)\n",
        "scores = np.mean(scores)\n",
        "print(\"ROC_AUC - \",scores)\n",
        "print('\\n')\n",
        "\n",
        "print(confusion_matrix(y_test,predictions))\n",
        "print(classification_report(y_test,predictions))"
      ],
      "id": "cbad79b3"
    },
    {
      "cell_type": "markdown",
      "metadata": {
        "id": "d4a8c6d4"
      },
      "source": [],
      "id": "d4a8c6d4"
    },
    {
      "cell_type": "markdown",
      "metadata": {
        "id": "f8a646ac"
      },
      "source": [
        "## tuning random forest"
      ],
      "id": "f8a646ac"
    },
    {
      "cell_type": "code",
      "execution_count": null,
      "metadata": {
        "colab": {
          "base_uri": "https://localhost:8080/",
          "height": 380
        },
        "id": "3cdf8d4a",
        "outputId": "9bf8c90e-90d8-49af-895f-4be07ae181c1"
      },
      "outputs": [
        {
          "name": "stdout",
          "output_type": "stream",
          "text": [
            "Fitting 3 folds for each of 135 candidates, totalling 405 fits\n"
          ]
        },
        {
          "ename": "KeyboardInterrupt",
          "evalue": "ignored",
          "output_type": "error",
          "traceback": [
            "\u001b[0;31m---------------------------------------------------------------------------\u001b[0m",
            "\u001b[0;31mKeyboardInterrupt\u001b[0m                         Traceback (most recent call last)",
            "\u001b[0;32m<ipython-input-166-cc845439b2e7>\u001b[0m in \u001b[0;36m<module>\u001b[0;34m\u001b[0m\n\u001b[1;32m      7\u001b[0m \u001b[0;34m\u001b[0m\u001b[0m\n\u001b[1;32m      8\u001b[0m \u001b[0mgrid_search\u001b[0m \u001b[0;34m=\u001b[0m \u001b[0mGridSearchCV\u001b[0m\u001b[0;34m(\u001b[0m\u001b[0mestimator\u001b[0m \u001b[0;34m=\u001b[0m \u001b[0mclf_rf\u001b[0m\u001b[0;34m,\u001b[0m \u001b[0mparam_grid\u001b[0m \u001b[0;34m=\u001b[0m \u001b[0mparam_grid\u001b[0m\u001b[0;34m,\u001b[0m\u001b[0mcv\u001b[0m \u001b[0;34m=\u001b[0m \u001b[0;36m3\u001b[0m\u001b[0;34m,\u001b[0m \u001b[0mn_jobs\u001b[0m \u001b[0;34m=\u001b[0m \u001b[0;34m-\u001b[0m\u001b[0;36m1\u001b[0m\u001b[0;34m,\u001b[0m \u001b[0mverbose\u001b[0m \u001b[0;34m=\u001b[0m \u001b[0;36m1\u001b[0m\u001b[0;34m)\u001b[0m\u001b[0;34m\u001b[0m\u001b[0;34m\u001b[0m\u001b[0m\n\u001b[0;32m----> 9\u001b[0;31m \u001b[0mgrid_search\u001b[0m\u001b[0;34m.\u001b[0m\u001b[0mfit\u001b[0m\u001b[0;34m(\u001b[0m\u001b[0mX_train\u001b[0m\u001b[0;34m,\u001b[0m \u001b[0my_train\u001b[0m\u001b[0;34m)\u001b[0m\u001b[0;34m\u001b[0m\u001b[0;34m\u001b[0m\u001b[0m\n\u001b[0m\u001b[1;32m     10\u001b[0m \u001b[0mgrid_search\u001b[0m\u001b[0;34m.\u001b[0m\u001b[0mbest_params_\u001b[0m\u001b[0;34m\u001b[0m\u001b[0;34m\u001b[0m\u001b[0m\n",
            "\u001b[0;32m/usr/local/lib/python3.7/dist-packages/sklearn/model_selection/_search.py\u001b[0m in \u001b[0;36mfit\u001b[0;34m(self, X, y, groups, **fit_params)\u001b[0m\n\u001b[1;32m    889\u001b[0m                 \u001b[0;32mreturn\u001b[0m \u001b[0mresults\u001b[0m\u001b[0;34m\u001b[0m\u001b[0;34m\u001b[0m\u001b[0m\n\u001b[1;32m    890\u001b[0m \u001b[0;34m\u001b[0m\u001b[0m\n\u001b[0;32m--> 891\u001b[0;31m             \u001b[0mself\u001b[0m\u001b[0;34m.\u001b[0m\u001b[0m_run_search\u001b[0m\u001b[0;34m(\u001b[0m\u001b[0mevaluate_candidates\u001b[0m\u001b[0;34m)\u001b[0m\u001b[0;34m\u001b[0m\u001b[0;34m\u001b[0m\u001b[0m\n\u001b[0m\u001b[1;32m    892\u001b[0m \u001b[0;34m\u001b[0m\u001b[0m\n\u001b[1;32m    893\u001b[0m             \u001b[0;31m# multimetric is determined here because in the case of a callable\u001b[0m\u001b[0;34m\u001b[0m\u001b[0;34m\u001b[0m\u001b[0;34m\u001b[0m\u001b[0m\n",
            "\u001b[0;32m/usr/local/lib/python3.7/dist-packages/sklearn/model_selection/_search.py\u001b[0m in \u001b[0;36m_run_search\u001b[0;34m(self, evaluate_candidates)\u001b[0m\n\u001b[1;32m   1390\u001b[0m     \u001b[0;32mdef\u001b[0m \u001b[0m_run_search\u001b[0m\u001b[0;34m(\u001b[0m\u001b[0mself\u001b[0m\u001b[0;34m,\u001b[0m \u001b[0mevaluate_candidates\u001b[0m\u001b[0;34m)\u001b[0m\u001b[0;34m:\u001b[0m\u001b[0;34m\u001b[0m\u001b[0;34m\u001b[0m\u001b[0m\n\u001b[1;32m   1391\u001b[0m         \u001b[0;34m\"\"\"Search all candidates in param_grid\"\"\"\u001b[0m\u001b[0;34m\u001b[0m\u001b[0;34m\u001b[0m\u001b[0m\n\u001b[0;32m-> 1392\u001b[0;31m         \u001b[0mevaluate_candidates\u001b[0m\u001b[0;34m(\u001b[0m\u001b[0mParameterGrid\u001b[0m\u001b[0;34m(\u001b[0m\u001b[0mself\u001b[0m\u001b[0;34m.\u001b[0m\u001b[0mparam_grid\u001b[0m\u001b[0;34m)\u001b[0m\u001b[0;34m)\u001b[0m\u001b[0;34m\u001b[0m\u001b[0;34m\u001b[0m\u001b[0m\n\u001b[0m\u001b[1;32m   1393\u001b[0m \u001b[0;34m\u001b[0m\u001b[0m\n\u001b[1;32m   1394\u001b[0m \u001b[0;34m\u001b[0m\u001b[0m\n",
            "\u001b[0;32m/usr/local/lib/python3.7/dist-packages/sklearn/model_selection/_search.py\u001b[0m in \u001b[0;36mevaluate_candidates\u001b[0;34m(candidate_params, cv, more_results)\u001b[0m\n\u001b[1;32m    849\u001b[0m                     )\n\u001b[1;32m    850\u001b[0m                     for (cand_idx, parameters), (split_idx, (train, test)) in product(\n\u001b[0;32m--> 851\u001b[0;31m                         \u001b[0menumerate\u001b[0m\u001b[0;34m(\u001b[0m\u001b[0mcandidate_params\u001b[0m\u001b[0;34m)\u001b[0m\u001b[0;34m,\u001b[0m \u001b[0menumerate\u001b[0m\u001b[0;34m(\u001b[0m\u001b[0mcv\u001b[0m\u001b[0;34m.\u001b[0m\u001b[0msplit\u001b[0m\u001b[0;34m(\u001b[0m\u001b[0mX\u001b[0m\u001b[0;34m,\u001b[0m \u001b[0my\u001b[0m\u001b[0;34m,\u001b[0m \u001b[0mgroups\u001b[0m\u001b[0;34m)\u001b[0m\u001b[0;34m)\u001b[0m\u001b[0;34m\u001b[0m\u001b[0;34m\u001b[0m\u001b[0m\n\u001b[0m\u001b[1;32m    852\u001b[0m                     )\n\u001b[1;32m    853\u001b[0m                 )\n",
            "\u001b[0;32m/usr/local/lib/python3.7/dist-packages/joblib/parallel.py\u001b[0m in \u001b[0;36m__call__\u001b[0;34m(self, iterable)\u001b[0m\n\u001b[1;32m   1054\u001b[0m \u001b[0;34m\u001b[0m\u001b[0m\n\u001b[1;32m   1055\u001b[0m             \u001b[0;32mwith\u001b[0m \u001b[0mself\u001b[0m\u001b[0;34m.\u001b[0m\u001b[0m_backend\u001b[0m\u001b[0;34m.\u001b[0m\u001b[0mretrieval_context\u001b[0m\u001b[0;34m(\u001b[0m\u001b[0;34m)\u001b[0m\u001b[0;34m:\u001b[0m\u001b[0;34m\u001b[0m\u001b[0;34m\u001b[0m\u001b[0m\n\u001b[0;32m-> 1056\u001b[0;31m                 \u001b[0mself\u001b[0m\u001b[0;34m.\u001b[0m\u001b[0mretrieve\u001b[0m\u001b[0;34m(\u001b[0m\u001b[0;34m)\u001b[0m\u001b[0;34m\u001b[0m\u001b[0;34m\u001b[0m\u001b[0m\n\u001b[0m\u001b[1;32m   1057\u001b[0m             \u001b[0;31m# Make sure that we get a last message telling us we are done\u001b[0m\u001b[0;34m\u001b[0m\u001b[0;34m\u001b[0m\u001b[0;34m\u001b[0m\u001b[0m\n\u001b[1;32m   1058\u001b[0m             \u001b[0melapsed_time\u001b[0m \u001b[0;34m=\u001b[0m \u001b[0mtime\u001b[0m\u001b[0;34m.\u001b[0m\u001b[0mtime\u001b[0m\u001b[0;34m(\u001b[0m\u001b[0;34m)\u001b[0m \u001b[0;34m-\u001b[0m \u001b[0mself\u001b[0m\u001b[0;34m.\u001b[0m\u001b[0m_start_time\u001b[0m\u001b[0;34m\u001b[0m\u001b[0;34m\u001b[0m\u001b[0m\n",
            "\u001b[0;32m/usr/local/lib/python3.7/dist-packages/joblib/parallel.py\u001b[0m in \u001b[0;36mretrieve\u001b[0;34m(self)\u001b[0m\n\u001b[1;32m    933\u001b[0m             \u001b[0;32mtry\u001b[0m\u001b[0;34m:\u001b[0m\u001b[0;34m\u001b[0m\u001b[0;34m\u001b[0m\u001b[0m\n\u001b[1;32m    934\u001b[0m                 \u001b[0;32mif\u001b[0m \u001b[0mgetattr\u001b[0m\u001b[0;34m(\u001b[0m\u001b[0mself\u001b[0m\u001b[0;34m.\u001b[0m\u001b[0m_backend\u001b[0m\u001b[0;34m,\u001b[0m \u001b[0;34m'supports_timeout'\u001b[0m\u001b[0;34m,\u001b[0m \u001b[0;32mFalse\u001b[0m\u001b[0;34m)\u001b[0m\u001b[0;34m:\u001b[0m\u001b[0;34m\u001b[0m\u001b[0;34m\u001b[0m\u001b[0m\n\u001b[0;32m--> 935\u001b[0;31m                     \u001b[0mself\u001b[0m\u001b[0;34m.\u001b[0m\u001b[0m_output\u001b[0m\u001b[0;34m.\u001b[0m\u001b[0mextend\u001b[0m\u001b[0;34m(\u001b[0m\u001b[0mjob\u001b[0m\u001b[0;34m.\u001b[0m\u001b[0mget\u001b[0m\u001b[0;34m(\u001b[0m\u001b[0mtimeout\u001b[0m\u001b[0;34m=\u001b[0m\u001b[0mself\u001b[0m\u001b[0;34m.\u001b[0m\u001b[0mtimeout\u001b[0m\u001b[0;34m)\u001b[0m\u001b[0;34m)\u001b[0m\u001b[0;34m\u001b[0m\u001b[0;34m\u001b[0m\u001b[0m\n\u001b[0m\u001b[1;32m    936\u001b[0m                 \u001b[0;32melse\u001b[0m\u001b[0;34m:\u001b[0m\u001b[0;34m\u001b[0m\u001b[0;34m\u001b[0m\u001b[0m\n\u001b[1;32m    937\u001b[0m                     \u001b[0mself\u001b[0m\u001b[0;34m.\u001b[0m\u001b[0m_output\u001b[0m\u001b[0;34m.\u001b[0m\u001b[0mextend\u001b[0m\u001b[0;34m(\u001b[0m\u001b[0mjob\u001b[0m\u001b[0;34m.\u001b[0m\u001b[0mget\u001b[0m\u001b[0;34m(\u001b[0m\u001b[0;34m)\u001b[0m\u001b[0;34m)\u001b[0m\u001b[0;34m\u001b[0m\u001b[0;34m\u001b[0m\u001b[0m\n",
            "\u001b[0;32m/usr/local/lib/python3.7/dist-packages/joblib/_parallel_backends.py\u001b[0m in \u001b[0;36mwrap_future_result\u001b[0;34m(future, timeout)\u001b[0m\n\u001b[1;32m    540\u001b[0m         AsyncResults.get from multiprocessing.\"\"\"\n\u001b[1;32m    541\u001b[0m         \u001b[0;32mtry\u001b[0m\u001b[0;34m:\u001b[0m\u001b[0;34m\u001b[0m\u001b[0;34m\u001b[0m\u001b[0m\n\u001b[0;32m--> 542\u001b[0;31m             \u001b[0;32mreturn\u001b[0m \u001b[0mfuture\u001b[0m\u001b[0;34m.\u001b[0m\u001b[0mresult\u001b[0m\u001b[0;34m(\u001b[0m\u001b[0mtimeout\u001b[0m\u001b[0;34m=\u001b[0m\u001b[0mtimeout\u001b[0m\u001b[0;34m)\u001b[0m\u001b[0;34m\u001b[0m\u001b[0;34m\u001b[0m\u001b[0m\n\u001b[0m\u001b[1;32m    543\u001b[0m         \u001b[0;32mexcept\u001b[0m \u001b[0mCfTimeoutError\u001b[0m \u001b[0;32mas\u001b[0m \u001b[0me\u001b[0m\u001b[0;34m:\u001b[0m\u001b[0;34m\u001b[0m\u001b[0;34m\u001b[0m\u001b[0m\n\u001b[1;32m    544\u001b[0m             \u001b[0;32mraise\u001b[0m \u001b[0mTimeoutError\u001b[0m \u001b[0;32mfrom\u001b[0m \u001b[0me\u001b[0m\u001b[0;34m\u001b[0m\u001b[0;34m\u001b[0m\u001b[0m\n",
            "\u001b[0;32m/usr/lib/python3.7/concurrent/futures/_base.py\u001b[0m in \u001b[0;36mresult\u001b[0;34m(self, timeout)\u001b[0m\n\u001b[1;32m    428\u001b[0m                 \u001b[0;32mreturn\u001b[0m \u001b[0mself\u001b[0m\u001b[0;34m.\u001b[0m\u001b[0m__get_result\u001b[0m\u001b[0;34m(\u001b[0m\u001b[0;34m)\u001b[0m\u001b[0;34m\u001b[0m\u001b[0;34m\u001b[0m\u001b[0m\n\u001b[1;32m    429\u001b[0m \u001b[0;34m\u001b[0m\u001b[0m\n\u001b[0;32m--> 430\u001b[0;31m             \u001b[0mself\u001b[0m\u001b[0;34m.\u001b[0m\u001b[0m_condition\u001b[0m\u001b[0;34m.\u001b[0m\u001b[0mwait\u001b[0m\u001b[0;34m(\u001b[0m\u001b[0mtimeout\u001b[0m\u001b[0;34m)\u001b[0m\u001b[0;34m\u001b[0m\u001b[0;34m\u001b[0m\u001b[0m\n\u001b[0m\u001b[1;32m    431\u001b[0m \u001b[0;34m\u001b[0m\u001b[0m\n\u001b[1;32m    432\u001b[0m             \u001b[0;32mif\u001b[0m \u001b[0mself\u001b[0m\u001b[0;34m.\u001b[0m\u001b[0m_state\u001b[0m \u001b[0;32min\u001b[0m \u001b[0;34m[\u001b[0m\u001b[0mCANCELLED\u001b[0m\u001b[0;34m,\u001b[0m \u001b[0mCANCELLED_AND_NOTIFIED\u001b[0m\u001b[0;34m]\u001b[0m\u001b[0;34m:\u001b[0m\u001b[0;34m\u001b[0m\u001b[0;34m\u001b[0m\u001b[0m\n",
            "\u001b[0;32m/usr/lib/python3.7/threading.py\u001b[0m in \u001b[0;36mwait\u001b[0;34m(self, timeout)\u001b[0m\n\u001b[1;32m    294\u001b[0m         \u001b[0;32mtry\u001b[0m\u001b[0;34m:\u001b[0m    \u001b[0;31m# restore state no matter what (e.g., KeyboardInterrupt)\u001b[0m\u001b[0;34m\u001b[0m\u001b[0;34m\u001b[0m\u001b[0m\n\u001b[1;32m    295\u001b[0m             \u001b[0;32mif\u001b[0m \u001b[0mtimeout\u001b[0m \u001b[0;32mis\u001b[0m \u001b[0;32mNone\u001b[0m\u001b[0;34m:\u001b[0m\u001b[0;34m\u001b[0m\u001b[0;34m\u001b[0m\u001b[0m\n\u001b[0;32m--> 296\u001b[0;31m                 \u001b[0mwaiter\u001b[0m\u001b[0;34m.\u001b[0m\u001b[0macquire\u001b[0m\u001b[0;34m(\u001b[0m\u001b[0;34m)\u001b[0m\u001b[0;34m\u001b[0m\u001b[0;34m\u001b[0m\u001b[0m\n\u001b[0m\u001b[1;32m    297\u001b[0m                 \u001b[0mgotit\u001b[0m \u001b[0;34m=\u001b[0m \u001b[0;32mTrue\u001b[0m\u001b[0;34m\u001b[0m\u001b[0;34m\u001b[0m\u001b[0m\n\u001b[1;32m    298\u001b[0m             \u001b[0;32melse\u001b[0m\u001b[0;34m:\u001b[0m\u001b[0;34m\u001b[0m\u001b[0;34m\u001b[0m\u001b[0m\n",
            "\u001b[0;31mKeyboardInterrupt\u001b[0m: "
          ]
        }
      ],
      "source": [
        "param_grid = {\n",
        "    'max_depth': [50,60,110],\n",
        "    'min_samples_leaf': [3, 4, 5],\n",
        "    'min_samples_split': [8, 10, 12,14,16],\n",
        "    'n_estimators': [100, 200,300]\n",
        "}\n",
        "\n",
        "grid_search = GridSearchCV(estimator = clf_rf, param_grid = param_grid,cv = 3, n_jobs = -1, verbose = 1)\n",
        "grid_search.fit(X_train, y_train)\n",
        "grid_search.best_params_"
      ],
      "id": "3cdf8d4a"
    },
    {
      "cell_type": "code",
      "execution_count": null,
      "metadata": {
        "id": "63710940"
      },
      "outputs": [],
      "source": [
        "best_params_ = {'max_depth': 90,\n",
        " 'min_samples_leaf': 3,\n",
        " 'min_samples_split': 8,\n",
        " 'n_estimators': 200}"
      ],
      "id": "63710940"
    },
    {
      "cell_type": "code",
      "execution_count": null,
      "metadata": {
        "id": "f1f3ff42"
      },
      "outputs": [],
      "source": [
        "rf_best = RandomForestClassifier(**best_params_)"
      ],
      "id": "f1f3ff42"
    },
    {
      "cell_type": "code",
      "execution_count": null,
      "metadata": {
        "colab": {
          "base_uri": "https://localhost:8080/"
        },
        "id": "aef92123",
        "outputId": "c7c59246-d5da-4bff-d62f-6617dcfe4d70"
      },
      "outputs": [
        {
          "name": "stdout",
          "output_type": "stream",
          "text": [
            "ROC_AUC -  0.9124104948892903\n",
            "\n",
            "\n",
            "[[3991  682]\n",
            " [ 640  687]]\n",
            "              precision    recall  f1-score   support\n",
            "\n",
            "           0       0.86      0.85      0.86      4673\n",
            "           1       0.50      0.52      0.51      1327\n",
            "\n",
            "    accuracy                           0.78      6000\n",
            "   macro avg       0.68      0.69      0.68      6000\n",
            "weighted avg       0.78      0.78      0.78      6000\n",
            "\n"
          ]
        }
      ],
      "source": [
        "X_train,X_test,y_train,y_test = Scale_Split_Balance(df,features,target='DEF_PAY_NMO',scaled=False,balanced=\"smote\")\n",
        "rf_best.fit(X_train,y_train)\n",
        "predictions = rf_best.predict(X_test)\n",
        "scores = cross_val_score(rf_best, X_train, y_train, scoring =\"roc_auc\", cv = 10)\n",
        "scores = np.mean(scores)\n",
        "print(\"ROC_AUC - \",scores)\n",
        "print('\\n')\n",
        "\n",
        "print(confusion_matrix(y_test,predictions))\n",
        "print(classification_report(y_test,predictions))"
      ],
      "id": "aef92123"
    },
    {
      "cell_type": "code",
      "execution_count": null,
      "metadata": {
        "colab": {
          "base_uri": "https://localhost:8080/"
        },
        "id": "43a32f20",
        "outputId": "3c9f7e85-60c0-46a9-e10a-75305c25bbc3"
      },
      "outputs": [
        {
          "output_type": "stream",
          "name": "stdout",
          "text": [
            "ROC_AUC -  0.9682899186844554\n",
            "\n",
            "\n",
            "              precision    recall  f1-score   support\n",
            "\n",
            "           0       0.99      0.96      0.98     18691\n",
            "           1       0.96      0.99      0.98     18691\n",
            "\n",
            "    accuracy                           0.98     37382\n",
            "   macro avg       0.98      0.98      0.98     37382\n",
            "weighted avg       0.98      0.98      0.98     37382\n",
            "\n",
            "[[4120  553]\n",
            " [ 644  683]]\n",
            "              precision    recall  f1-score   support\n",
            "\n",
            "           0       0.86      0.88      0.87      4673\n",
            "           1       0.55      0.51      0.53      1327\n",
            "\n",
            "    accuracy                           0.80      6000\n",
            "   macro avg       0.71      0.70      0.70      6000\n",
            "weighted avg       0.80      0.80      0.80      6000\n",
            "\n"
          ]
        }
      ],
      "source": [
        "X_train,X_test,y_train,y_test = Scale_Split_Balance(df,features,target='DEF_PAY_NMO',scaled=False,balanced=\"random_os\")\n",
        "rf_best.fit(X_train,y_train)\n",
        "predictions = rf_best.predict(X_test)\n",
        "predictions_train = rf_best.predict(X_train)\n",
        "scores = cross_val_score(rf_best, X_train, y_train, scoring =\"roc_auc\", cv = 10)\n",
        "scores = np.mean(scores)\n",
        "print(\"ROC_AUC - \",scores)\n",
        "print('\\n')\n",
        "print(classification_report(y_train,predictions_train))\n",
        "print(confusion_matrix(y_test,predictions))\n",
        "print(classification_report(y_test,predictions))"
      ],
      "id": "43a32f20"
    },
    {
      "cell_type": "code",
      "execution_count": null,
      "metadata": {
        "colab": {
          "base_uri": "https://localhost:8080/"
        },
        "id": "6ad6084e",
        "outputId": "8f7752b8-e211-45a9-8fba-70ee8888ea2b"
      },
      "outputs": [
        {
          "name": "stdout",
          "output_type": "stream",
          "text": [
            "ROC_AUC -  0.9004637530820073\n",
            "\n",
            "\n",
            "[[3914  759]\n",
            " [ 632  695]]\n",
            "              precision    recall  f1-score   support\n",
            "\n",
            "           0       0.86      0.84      0.85      4673\n",
            "           1       0.48      0.52      0.50      1327\n",
            "\n",
            "    accuracy                           0.77      6000\n",
            "   macro avg       0.67      0.68      0.67      6000\n",
            "weighted avg       0.78      0.77      0.77      6000\n",
            "\n"
          ]
        }
      ],
      "source": [
        "X_train,X_test,y_train,y_test = Scale_Split_Balance(df,features,target='DEF_PAY_NMO',scaled=False,balanced=\"adasyn\")\n",
        "rf_best.fit(X_train,y_train)\n",
        "predictions = rf_best.predict(X_test)\n",
        "scores = cross_val_score(rf_best, X_train, y_train, scoring =\"roc_auc\", cv = 10)\n",
        "scores = np.mean(scores)\n",
        "print(\"ROC_AUC - \",scores)\n",
        "print('\\n')\n",
        "\n",
        "print(confusion_matrix(y_test,predictions))\n",
        "print(classification_report(y_test,predictions))"
      ],
      "id": "6ad6084e"
    },
    {
      "cell_type": "code",
      "source": [
        "import pickle"
      ],
      "metadata": {
        "id": "gq4xhkGpHgNi"
      },
      "id": "gq4xhkGpHgNi",
      "execution_count": null,
      "outputs": []
    },
    {
      "cell_type": "code",
      "source": [
        "# Saving the model to disk\n",
        "pickle.dump(rf_best, open('model.pkl', 'wb'))"
      ],
      "metadata": {
        "id": "pSrpWuMEG3kt"
      },
      "id": "pSrpWuMEG3kt",
      "execution_count": null,
      "outputs": []
    },
    {
      "cell_type": "markdown",
      "metadata": {
        "id": "c46fc9fe"
      },
      "source": [
        "## Xgboost"
      ],
      "id": "c46fc9fe"
    },
    {
      "cell_type": "code",
      "execution_count": null,
      "metadata": {
        "id": "2d350a45"
      },
      "outputs": [],
      "source": [
        "clf_xgb = XGBClassifier()"
      ],
      "id": "2d350a45"
    },
    {
      "cell_type": "code",
      "execution_count": null,
      "metadata": {
        "colab": {
          "base_uri": "https://localhost:8080/"
        },
        "id": "5fb53aa9",
        "outputId": "40938199-6fd5-428e-fdd2-ea2dc4843506"
      },
      "outputs": [
        {
          "name": "stdout",
          "output_type": "stream",
          "text": [
            "ROC_AUC -  0.8709516207886405\n",
            "\n",
            "\n",
            "[[4163  510]\n",
            " [ 677  650]]\n",
            "              precision    recall  f1-score   support\n",
            "\n",
            "           0       0.86      0.89      0.88      4673\n",
            "           1       0.56      0.49      0.52      1327\n",
            "\n",
            "    accuracy                           0.80      6000\n",
            "   macro avg       0.71      0.69      0.70      6000\n",
            "weighted avg       0.79      0.80      0.80      6000\n",
            "\n"
          ]
        }
      ],
      "source": [
        "X_train,X_test,y_train,y_test = Scale_Split_Balance(df,features,target='DEF_PAY_NMO',scaled=True,balanced='smote')\n",
        "clf_xgb.fit(X_train,y_train)\n",
        "predictions = clf_xgb.predict(X_test)\n",
        "scores = cross_val_score(clf_xgb, X_train, y_train, scoring =\"roc_auc\", cv = 10)\n",
        "scores = np.mean(scores)\n",
        "print(\"ROC_AUC - \",scores)\n",
        "print('\\n')\n",
        "\n",
        "print(confusion_matrix(y_test,predictions))\n",
        "print(classification_report(y_test,predictions))"
      ],
      "id": "5fb53aa9"
    },
    {
      "cell_type": "code",
      "execution_count": null,
      "metadata": {
        "id": "4ec1868b"
      },
      "outputs": [],
      "source": [],
      "id": "4ec1868b"
    },
    {
      "cell_type": "code",
      "execution_count": null,
      "metadata": {
        "id": "77d98c7c"
      },
      "outputs": [],
      "source": [],
      "id": "77d98c7c"
    },
    {
      "cell_type": "code",
      "execution_count": null,
      "metadata": {
        "colab": {
          "base_uri": "https://localhost:8080/"
        },
        "id": "2570b8d2",
        "outputId": "b810b6fa-4cf1-4921-8016-3612663a8e43"
      },
      "outputs": [
        {
          "name": "stdout",
          "output_type": "stream",
          "text": [
            "ROC_AUC -  0.8017486301005272\n",
            "\n",
            "\n",
            "[[3756  917]\n",
            " [ 501  826]]\n",
            "              precision    recall  f1-score   support\n",
            "\n",
            "           0       0.88      0.80      0.84      4673\n",
            "           1       0.47      0.62      0.54      1327\n",
            "\n",
            "    accuracy                           0.76      6000\n",
            "   macro avg       0.68      0.71      0.69      6000\n",
            "weighted avg       0.79      0.76      0.77      6000\n",
            "\n"
          ]
        }
      ],
      "source": [
        "X_train,X_test,y_train,y_test = Scale_Split_Balance(df,features,target='DEF_PAY_NMO',scaled=False,balanced=\"random_os\")\n",
        "clf_xgb.fit(X_train,y_train)\n",
        "predictions = clf_xgb.predict(X_test)\n",
        "scores = cross_val_score(clf_xgb, X_train, y_train, scoring =\"roc_auc\", cv = 10)\n",
        "scores = np.mean(scores)\n",
        "print(\"ROC_AUC - \",scores)\n",
        "print('\\n')\n",
        "\n",
        "print(confusion_matrix(y_test,predictions))\n",
        "print(classification_report(y_test,predictions))"
      ],
      "id": "2570b8d2"
    },
    {
      "cell_type": "code",
      "execution_count": null,
      "metadata": {
        "colab": {
          "base_uri": "https://localhost:8080/"
        },
        "id": "d039bf1d",
        "outputId": "5f9c19a6-ae26-42ba-9a51-0542c2d1ca66"
      },
      "outputs": [
        {
          "name": "stdout",
          "output_type": "stream",
          "text": [
            "ROC_AUC -  0.8507431744829675\n",
            "\n",
            "\n",
            "[[3765  908]\n",
            " [ 598  729]]\n",
            "              precision    recall  f1-score   support\n",
            "\n",
            "           0       0.86      0.81      0.83      4673\n",
            "           1       0.45      0.55      0.49      1327\n",
            "\n",
            "    accuracy                           0.75      6000\n",
            "   macro avg       0.65      0.68      0.66      6000\n",
            "weighted avg       0.77      0.75      0.76      6000\n",
            "\n"
          ]
        }
      ],
      "source": [
        "X_train,X_test,y_train,y_test = Scale_Split_Balance(df,features,target='DEF_PAY_NMO',scaled=False,balanced=\"adasyn\")\n",
        "clf_xgb.fit(X_train,y_train)\n",
        "predictions = clf_xgb.predict(X_test)\n",
        "scores = cross_val_score(clf_xgb, X_train, y_train, scoring =\"roc_auc\", cv = 10)\n",
        "scores = np.mean(scores)\n",
        "print(\"ROC_AUC - \",scores)\n",
        "print('\\n')\n",
        "\n",
        "print(confusion_matrix(y_test,predictions))\n",
        "print(classification_report(y_test,predictions))"
      ],
      "id": "d039bf1d"
    },
    {
      "cell_type": "code",
      "execution_count": null,
      "metadata": {
        "colab": {
          "base_uri": "https://localhost:8080/"
        },
        "id": "40e883a1",
        "outputId": "2dd124ba-d320-4370-f981-bdef1693fc30"
      },
      "outputs": [
        {
          "name": "stdout",
          "output_type": "stream",
          "text": [
            "ROC_AUC -  0.7814970089964132\n",
            "\n",
            "\n",
            "[[4425  248]\n",
            " [ 838  489]]\n",
            "              precision    recall  f1-score   support\n",
            "\n",
            "           0       0.84      0.95      0.89      4673\n",
            "           1       0.66      0.37      0.47      1327\n",
            "\n",
            "    accuracy                           0.82      6000\n",
            "   macro avg       0.75      0.66      0.68      6000\n",
            "weighted avg       0.80      0.82      0.80      6000\n",
            "\n"
          ]
        }
      ],
      "source": [
        "X_train,X_test,y_train,y_test = Scale_Split_Balance(df,features,target='DEF_PAY_NMO',scaled=False,balanced=False)\n",
        "clf_xgb.fit(X_train,y_train)\n",
        "predictions = clf_xgb.predict(X_test)\n",
        "scores = cross_val_score(clf_xgb, X_train, y_train, scoring =\"roc_auc\", cv = 10)\n",
        "scores = np.mean(scores)\n",
        "print(\"ROC_AUC - \",scores)\n",
        "print('\\n')\n",
        "\n",
        "print(confusion_matrix(y_test,predictions))\n",
        "print(classification_report(y_test,predictions))"
      ],
      "id": "40e883a1"
    },
    {
      "cell_type": "code",
      "execution_count": null,
      "metadata": {
        "id": "6e78a974"
      },
      "outputs": [],
      "source": [],
      "id": "6e78a974"
    },
    {
      "cell_type": "markdown",
      "metadata": {
        "id": "d0f5eb71"
      },
      "source": [
        "### tunnig xgb"
      ],
      "id": "d0f5eb71"
    },
    {
      "cell_type": "code",
      "execution_count": null,
      "metadata": {
        "id": "be00b024"
      },
      "outputs": [],
      "source": [
        "params = { 'gamma':0,\n",
        "    'learning_rate':0.01, \n",
        "    'max_depth':3, \n",
        "    'colsample_bytree':0.6,\n",
        "    'subsample':0.8,\n",
        "    'scale_pos_weight':3.5,\n",
        "    'n_estimators':1000,\n",
        "    'objective':'binary:logistic', \n",
        "    'reg_alpha':0.3    \n",
        "}\n"
      ],
      "id": "be00b024"
    },
    {
      "cell_type": "code",
      "execution_count": null,
      "metadata": {
        "id": "df60d56e"
      },
      "outputs": [],
      "source": [
        "# Instantiate model\n",
        "clf_xgb = XGBClassifier(**params)"
      ],
      "id": "df60d56e"
    },
    {
      "cell_type": "code",
      "execution_count": null,
      "metadata": {
        "id": "ddc35405"
      },
      "outputs": [],
      "source": [
        "# Use model's initial parameters to get cross validation score\n",
        "scores = cross_val_score(clf_xgb, X_train, y_train, scoring =\"roc_auc\", cv = 10)\n",
        "roc_auc_xgb = np.mean(scores)"
      ],
      "id": "ddc35405"
    },
    {
      "cell_type": "code",
      "execution_count": null,
      "metadata": {
        "colab": {
          "base_uri": "https://localhost:8080/"
        },
        "id": "a395d646",
        "outputId": "0d65474e-4980-4855-fd3c-e2f42b18ee65"
      },
      "outputs": [
        {
          "name": "stdout",
          "output_type": "stream",
          "text": [
            "ROC_AUC training score with initial best parameters for XGBoost: 0.783\n"
          ]
        }
      ],
      "source": [
        "print(f'ROC_AUC training score with initial best parameters for XGBoost: {roc_auc_xgb:.3f}')"
      ],
      "id": "a395d646"
    },
    {
      "cell_type": "code",
      "execution_count": null,
      "metadata": {
        "colab": {
          "base_uri": "https://localhost:8080/"
        },
        "id": "17947f45",
        "outputId": "31041ee9-9bbd-4cd8-80a4-ae83017b2cf0"
      },
      "outputs": [
        {
          "name": "stdout",
          "output_type": "stream",
          "text": [
            "{'n_estimators': array([200, 400, 600, 800]), 'gamma': array([0.1, 0.2, 0.3, 0.4, 0.5]), 'learning_rate': array([0.1, 0.2, 0.3, 0.4, 0.5]), 'max_depth': [3, 4, 5, 6, 7], 'subsample': array([0.5, 0.6, 0.7, 0.8]), 'colsample_bytree': array([0.5, 0.6, 0.7, 0.8]), 'scale_pos_weight': [1, 3.5]}\n"
          ]
        }
      ],
      "source": [
        "# Number of trees\n",
        "n_estimators = np.arange(200,1000,200)\n",
        "\n",
        "# Minimum loss reduction required to make a further partition on a leaf node of the tree\n",
        "# The larger gamma is, the more conservative the algorithm will be\n",
        "gamma = np.arange(0.1,0.6,0.1)\n",
        "\n",
        "# Default 0.3, range(0,1)\n",
        "learning_rate = np.arange(0.1,0.6,0.1)\n",
        "\n",
        "# Maximum number of levels in tree\n",
        "max_depth = list(range(3,8,1))\n",
        "\n",
        "# Subsample ratio of the training instances.Range(0,1)\n",
        "subsample = np.arange(0.5,0.9,0.1)\n",
        "\n",
        "# Subsample ratio of columns when constructing each tree. Range(0,1)\n",
        "colsample_bytree = np.arange(0.5,0.9,0.1)\n",
        "\n",
        "# Control the balance of positive and negative weights\n",
        "# Sum(negative instances) / sum(positive instances)\n",
        "scale_pos_weight = [1,3.5]\n",
        "\n",
        "\n",
        "# Create the random grid\n",
        "random_grid_xgb = {'n_estimators': n_estimators,\n",
        "                   'gamma': gamma,\n",
        "                   'learning_rate':learning_rate,\n",
        "                   'max_depth': max_depth,\n",
        "                   'subsample':subsample,\n",
        "                   'colsample_bytree':colsample_bytree,\n",
        "                   'scale_pos_weight':scale_pos_weight\n",
        "                  }\n",
        "print(random_grid_xgb)"
      ],
      "id": "17947f45"
    },
    {
      "cell_type": "code",
      "execution_count": null,
      "metadata": {
        "colab": {
          "base_uri": "https://localhost:8080/"
        },
        "id": "04b8edc0",
        "outputId": "908b1d58-daab-4ba6-847f-0ab54353ef0e"
      },
      "outputs": [
        {
          "name": "stdout",
          "output_type": "stream",
          "text": [
            "Fitting 3 folds for each of 100 candidates, totalling 300 fits\n",
            "{'subsample': 0.6, 'scale_pos_weight': 1, 'n_estimators': 200, 'max_depth': 4, 'learning_rate': 0.1, 'gamma': 0.4, 'colsample_bytree': 0.5} 0.7776264615334144\n"
          ]
        }
      ],
      "source": [
        "# Use randomized search to find best parameters\n",
        "\n",
        "xgboost = XGBClassifier()\n",
        "xgb_random = RandomizedSearchCV(estimator = xgboost, \n",
        "                                param_distributions = random_grid_xgb, \n",
        "                                n_iter = 100, \n",
        "                                cv = 3, \n",
        "                                verbose=1, \n",
        "                                random_state=42, \n",
        "                                n_jobs = -1,\n",
        "                                scoring ='roc_auc')\n",
        "\n",
        "\n",
        "xgb_random.fit(X_train, y_train)   \n",
        "xgb_random.best_params_, xgb_random.best_score_\n",
        "\n",
        "print(xgb_random.best_params_,xgb_random.best_score_)"
      ],
      "id": "04b8edc0"
    },
    {
      "cell_type": "code",
      "execution_count": null,
      "metadata": {
        "colab": {
          "base_uri": "https://localhost:8080/"
        },
        "id": "4eb4e446",
        "outputId": "5083799e-5de7-4b55-a5f9-ee23ef549e70"
      },
      "outputs": [
        {
          "data": {
            "text/plain": [
              "{'subsample': 0.6,\n",
              " 'scale_pos_weight': 1,\n",
              " 'n_estimators': 200,\n",
              " 'max_depth': 4,\n",
              " 'learning_rate': 0.1,\n",
              " 'gamma': 0.4,\n",
              " 'colsample_bytree': 0.5}"
            ]
          },
          "execution_count": 190,
          "metadata": {},
          "output_type": "execute_result"
        }
      ],
      "source": [
        "xgb_random.best_params_"
      ],
      "id": "4eb4e446"
    },
    {
      "cell_type": "code",
      "execution_count": null,
      "metadata": {
        "id": "1510e48d"
      },
      "outputs": [],
      "source": [
        "xgb_best = XGBClassifier(**xgb_random.best_params_)"
      ],
      "id": "1510e48d"
    },
    {
      "cell_type": "code",
      "execution_count": null,
      "metadata": {
        "colab": {
          "base_uri": "https://localhost:8080/"
        },
        "id": "d12dcb56",
        "outputId": "068b56ef-3b09-497f-8fe0-157d25abbb89"
      },
      "outputs": [
        {
          "name": "stdout",
          "output_type": "stream",
          "text": [
            "ROC_AUC -  0.7803211175336412\n",
            "\n",
            "\n",
            "[[4412  261]\n",
            " [ 817  510]]\n",
            "              precision    recall  f1-score   support\n",
            "\n",
            "           0       0.84      0.94      0.89      4673\n",
            "           1       0.66      0.38      0.49      1327\n",
            "\n",
            "    accuracy                           0.82      6000\n",
            "   macro avg       0.75      0.66      0.69      6000\n",
            "weighted avg       0.80      0.82      0.80      6000\n",
            "\n"
          ]
        }
      ],
      "source": [
        "X_train,X_test,y_train,y_test = Scale_Split_Balance(df,features,target='DEF_PAY_NMO',scaled=False,balanced=False)\n",
        "xgb_best.fit(X_train,y_train)\n",
        "predictions = xgb_best.predict(X_test)\n",
        "scores = cross_val_score(xgb_best, X_train, y_train, scoring =\"roc_auc\", cv = 10)\n",
        "scores = np.mean(scores)\n",
        "print(\"ROC_AUC - \",scores)\n",
        "print('\\n')\n",
        "\n",
        "print(confusion_matrix(y_test,predictions))\n",
        "print(classification_report(y_test,predictions))"
      ],
      "id": "d12dcb56"
    },
    {
      "cell_type": "code",
      "execution_count": null,
      "metadata": {
        "colab": {
          "base_uri": "https://localhost:8080/"
        },
        "id": "cf962c74",
        "outputId": "1158116c-6f53-40fd-cd02-b8be5924b608"
      },
      "outputs": [
        {
          "name": "stdout",
          "output_type": "stream",
          "text": [
            "ROC_AUC -  0.8334009176620191\n",
            "\n",
            "\n",
            "[[3729  944]\n",
            " [ 500  827]]\n",
            "              precision    recall  f1-score   support\n",
            "\n",
            "           0       0.88      0.80      0.84      4673\n",
            "           1       0.47      0.62      0.53      1327\n",
            "\n",
            "    accuracy                           0.76      6000\n",
            "   macro avg       0.67      0.71      0.69      6000\n",
            "weighted avg       0.79      0.76      0.77      6000\n",
            "\n"
          ]
        }
      ],
      "source": [
        "X_train,X_test,y_train,y_test = Scale_Split_Balance(df,features,target='DEF_PAY_NMO',scaled=False,balanced='random_os')\n",
        "xgb_best.fit(X_train,y_train)\n",
        "predictions = xgb_best.predict(X_test)\n",
        "scores = cross_val_score(xgb_best, X_train, y_train, scoring =\"roc_auc\", cv = 10)\n",
        "scores = np.mean(scores)\n",
        "print(\"ROC_AUC - \",scores)\n",
        "print('\\n')\n",
        "\n",
        "print(confusion_matrix(y_test,predictions))\n",
        "print(classification_report(y_test,predictions))"
      ],
      "id": "cf962c74"
    },
    {
      "cell_type": "code",
      "execution_count": null,
      "metadata": {
        "colab": {
          "base_uri": "https://localhost:8080/"
        },
        "id": "4dcd15e2",
        "outputId": "9ff921ba-832b-49e9-a430-92937b5cde6b"
      },
      "outputs": [
        {
          "name": "stdout",
          "output_type": "stream",
          "text": [
            "ROC_AUC -  0.8833491591768177\n",
            "\n",
            "\n",
            "[[3895  778]\n",
            " [ 642  685]]\n",
            "              precision    recall  f1-score   support\n",
            "\n",
            "           0       0.86      0.83      0.85      4673\n",
            "           1       0.47      0.52      0.49      1327\n",
            "\n",
            "    accuracy                           0.76      6000\n",
            "   macro avg       0.66      0.67      0.67      6000\n",
            "weighted avg       0.77      0.76      0.77      6000\n",
            "\n"
          ]
        }
      ],
      "source": [
        "X_train,X_test,y_train,y_test = Scale_Split_Balance(df,features,target='DEF_PAY_NMO',scaled=False,balanced='smote')\n",
        "xgb_best.fit(X_train,y_train)\n",
        "predictions = xgb_best.predict(X_test)\n",
        "scores = cross_val_score(xgb_best, X_train, y_train, scoring =\"roc_auc\", cv = 10)\n",
        "scores = np.mean(scores)\n",
        "print(\"ROC_AUC - \",scores)\n",
        "print('\\n')\n",
        "\n",
        "print(confusion_matrix(y_test,predictions))\n",
        "print(classification_report(y_test,predictions))"
      ],
      "id": "4dcd15e2"
    },
    {
      "cell_type": "code",
      "execution_count": null,
      "metadata": {
        "colab": {
          "base_uri": "https://localhost:8080/"
        },
        "id": "20052cc6",
        "outputId": "b9d97eec-c35c-4b60-9e7e-f1b7912d2e5e"
      },
      "outputs": [
        {
          "name": "stdout",
          "output_type": "stream",
          "text": [
            "ROC_AUC -  0.8776533703794875\n",
            "\n",
            "\n",
            "[[3876  797]\n",
            " [ 644  683]]\n",
            "              precision    recall  f1-score   support\n",
            "\n",
            "           0       0.86      0.83      0.84      4673\n",
            "           1       0.46      0.51      0.49      1327\n",
            "\n",
            "    accuracy                           0.76      6000\n",
            "   macro avg       0.66      0.67      0.66      6000\n",
            "weighted avg       0.77      0.76      0.76      6000\n",
            "\n"
          ]
        }
      ],
      "source": [
        "X_train,X_test,y_train,y_test = Scale_Split_Balance(df,features,target='DEF_PAY_NMO',scaled=False,balanced='adasyn')\n",
        "xgb_best.fit(X_train,y_train)\n",
        "predictions = xgb_best.predict(X_test)\n",
        "scores = cross_val_score(xgb_best, X_train, y_train, scoring =\"roc_auc\", cv = 10)\n",
        "scores = np.mean(scores)\n",
        "print(\"ROC_AUC - \",scores)\n",
        "print('\\n')\n",
        "\n",
        "print(confusion_matrix(y_test,predictions))\n",
        "print(classification_report(y_test,predictions))"
      ],
      "id": "20052cc6"
    },
    {
      "cell_type": "markdown",
      "metadata": {
        "id": "2085ec41"
      },
      "source": [
        "# adaboost"
      ],
      "id": "2085ec41"
    },
    {
      "cell_type": "code",
      "execution_count": null,
      "metadata": {
        "id": "605f7c3e"
      },
      "outputs": [],
      "source": [
        "from sklearn.ensemble import AdaBoostClassifier"
      ],
      "id": "605f7c3e"
    },
    {
      "cell_type": "code",
      "execution_count": null,
      "metadata": {
        "id": "47e59f6d"
      },
      "outputs": [],
      "source": [
        "clf_ada = AdaBoostClassifier()"
      ],
      "id": "47e59f6d"
    },
    {
      "cell_type": "code",
      "execution_count": null,
      "metadata": {
        "colab": {
          "base_uri": "https://localhost:8080/"
        },
        "id": "4c155397",
        "outputId": "8c20d900-7858-4ba5-89f5-1615f1fd9b2c"
      },
      "outputs": [
        {
          "name": "stdout",
          "output_type": "stream",
          "text": [
            "ROC_AUC -  0.8248719136459257\n",
            "\n",
            "\n",
            "[[3625 1048]\n",
            " [ 569  758]]\n",
            "              precision    recall  f1-score   support\n",
            "\n",
            "           0       0.86      0.78      0.82      4673\n",
            "           1       0.42      0.57      0.48      1327\n",
            "\n",
            "    accuracy                           0.73      6000\n",
            "   macro avg       0.64      0.67      0.65      6000\n",
            "weighted avg       0.77      0.73      0.74      6000\n",
            "\n"
          ]
        }
      ],
      "source": [
        "X_train,X_test,y_train,y_test = Scale_Split_Balance(df,features,target='DEF_PAY_NMO',scaled=False,balanced='smote')\n",
        "clf_ada.fit(X_train,y_train)\n",
        "predictions = clf_ada.predict(X_test)\n",
        "scores = cross_val_score(clf_ada, X_train, y_train, scoring =\"roc_auc\", cv = 10)\n",
        "scores = np.mean(scores)\n",
        "print(\"ROC_AUC - \",scores)\n",
        "print('\\n')\n",
        "\n",
        "print(confusion_matrix(y_test,predictions))\n",
        "print(classification_report(y_test,predictions))\n",
        "#plot_confusion_matrix(xgb_best,X_test,y_test)"
      ],
      "id": "4c155397"
    },
    {
      "cell_type": "code",
      "execution_count": null,
      "metadata": {
        "colab": {
          "base_uri": "https://localhost:8080/"
        },
        "id": "6b238834",
        "outputId": "be1376ca-4c85-4c39-95c5-28488c05807d"
      },
      "outputs": [
        {
          "name": "stdout",
          "output_type": "stream",
          "text": [
            "ROC_AUC -  0.7833775769281748\n",
            "\n",
            "\n",
            "[[3757  916]\n",
            " [ 531  796]]\n",
            "              precision    recall  f1-score   support\n",
            "\n",
            "           0       0.88      0.80      0.84      4673\n",
            "           1       0.46      0.60      0.52      1327\n",
            "\n",
            "    accuracy                           0.76      6000\n",
            "   macro avg       0.67      0.70      0.68      6000\n",
            "weighted avg       0.79      0.76      0.77      6000\n",
            "\n"
          ]
        }
      ],
      "source": [
        "X_train,X_test,y_train,y_test = Scale_Split_Balance(df,features,target='DEF_PAY_NMO',scaled=False,balanced='random_os')\n",
        "clf_ada.fit(X_train,y_train)\n",
        "predictions = clf_ada.predict(X_test)\n",
        "scores = cross_val_score(clf_ada, X_train, y_train, scoring =\"roc_auc\", cv = 10)\n",
        "scores = np.mean(scores)\n",
        "print(\"ROC_AUC - \",scores)\n",
        "print('\\n')\n",
        "\n",
        "print(confusion_matrix(y_test,predictions))\n",
        "print(classification_report(y_test,predictions))\n",
        "#plot_confusion_matrix(xgb_best,X_test,y_test)"
      ],
      "id": "6b238834"
    },
    {
      "cell_type": "code",
      "execution_count": null,
      "metadata": {
        "colab": {
          "base_uri": "https://localhost:8080/"
        },
        "id": "d7263893",
        "outputId": "a5af55dc-0fe5-4360-a6aa-248edeea1807"
      },
      "outputs": [
        {
          "name": "stdout",
          "output_type": "stream",
          "text": [
            "ROC_AUC -  0.8183170681669338\n",
            "\n",
            "\n",
            "[[3548 1125]\n",
            " [ 584  743]]\n",
            "              precision    recall  f1-score   support\n",
            "\n",
            "           0       0.86      0.76      0.81      4673\n",
            "           1       0.40      0.56      0.47      1327\n",
            "\n",
            "    accuracy                           0.72      6000\n",
            "   macro avg       0.63      0.66      0.64      6000\n",
            "weighted avg       0.76      0.72      0.73      6000\n",
            "\n"
          ]
        }
      ],
      "source": [
        "X_train,X_test,y_train,y_test = Scale_Split_Balance(df,features,target='DEF_PAY_NMO',scaled=False,balanced='adasyn')\n",
        "clf_ada.fit(X_train,y_train)\n",
        "predictions = clf_ada.predict(X_test)\n",
        "scores = cross_val_score(clf_ada, X_train, y_train, scoring =\"roc_auc\", cv = 10)\n",
        "scores = np.mean(scores)\n",
        "print(\"ROC_AUC - \",scores)\n",
        "print('\\n')\n",
        "\n",
        "print(confusion_matrix(y_test,predictions))\n",
        "print(classification_report(y_test,predictions))\n",
        "#plot_confusion_matrix(xgb_best,X_test,y_test)"
      ],
      "id": "d7263893"
    },
    {
      "cell_type": "code",
      "execution_count": null,
      "metadata": {
        "id": "dee6ea37"
      },
      "outputs": [],
      "source": [
        "para_grid = {'n_estimators': [100,200],'learning_rate':[0.001,0.01,0.1,0.2,0.5]}"
      ],
      "id": "dee6ea37"
    },
    {
      "cell_type": "code",
      "execution_count": null,
      "metadata": {
        "colab": {
          "background_save": true
        },
        "id": "385e00c9",
        "outputId": "2fc840f2-81ed-446f-be7c-fecc4271c3e1"
      },
      "outputs": [
        {
          "data": {
            "text/plain": [
              "<bound method BaseSearchCV.score of GridSearchCV(cv=None, error_score=nan,\n",
              "             estimator=AdaBoostClassifier(algorithm='SAMME.R',\n",
              "                                          base_estimator=None,\n",
              "                                          learning_rate=1.0, n_estimators=50,\n",
              "                                          random_state=None),\n",
              "             n_jobs=None,\n",
              "             param_grid={'learning_rate': [0.001, 0.01, 0.1, 0.2, 0.5],\n",
              "                         'n_estimators': [100, 200]},\n",
              "             pre_dispatch='2*n_jobs', refit=True, return_train_score=False,\n",
              "             scoring=None, verbose=0)>"
            ]
          },
          "execution_count": 202,
          "metadata": {},
          "output_type": "execute_result"
        }
      ],
      "source": [
        "ada_best = GridSearchCV(AdaBoostClassifier(),param_grid=para_grid)\n",
        "ada_best.fit(X_train, y_train)\n",
        "ada_best.best_estimator_\n",
        "ada_best.score"
      ],
      "id": "385e00c9"
    },
    {
      "cell_type": "code",
      "execution_count": null,
      "metadata": {
        "colab": {
          "background_save": true
        },
        "id": "fd66b9ab",
        "outputId": "02e0ca82-b669-4133-d1e5-06529d20b0fd"
      },
      "outputs": [
        {
          "data": {
            "text/plain": [
              "{'learning_rate': 0.5, 'n_estimators': 200}"
            ]
          },
          "execution_count": 203,
          "metadata": {},
          "output_type": "execute_result"
        }
      ],
      "source": [
        "ada_best.best_params_"
      ],
      "id": "fd66b9ab"
    },
    {
      "cell_type": "code",
      "execution_count": null,
      "metadata": {
        "colab": {
          "background_save": true
        },
        "id": "79c25d9a"
      },
      "outputs": [],
      "source": [
        "adaa_best = AdaBoostClassifier(**ada_best.best_params_)"
      ],
      "id": "79c25d9a"
    },
    {
      "cell_type": "code",
      "execution_count": null,
      "metadata": {
        "colab": {
          "background_save": true
        },
        "id": "ed3a679c",
        "outputId": "6089aa0d-fb37-44ef-8200-fa83ab860b62"
      },
      "outputs": [
        {
          "name": "stdout",
          "output_type": "stream",
          "text": [
            "ROC_AUC -  0.7899004116457615\n",
            "\n",
            "\n",
            "[[3764  909]\n",
            " [ 517  810]]\n",
            "              precision    recall  f1-score   support\n",
            "\n",
            "           0       0.88      0.81      0.84      4673\n",
            "           1       0.47      0.61      0.53      1327\n",
            "\n",
            "    accuracy                           0.76      6000\n",
            "   macro avg       0.68      0.71      0.69      6000\n",
            "weighted avg       0.79      0.76      0.77      6000\n",
            "\n"
          ]
        }
      ],
      "source": [
        "X_train,X_test,y_train,y_test = Scale_Split_Balance(df,features,target='DEF_PAY_NMO',scaled=False,balanced='random_os')\n",
        "adaa_best.fit(X_train,y_train)\n",
        "predictions = adaa_best.predict(X_test)\n",
        "scores = cross_val_score(adaa_best, X_train, y_train, scoring =\"roc_auc\", cv =10 )\n",
        "scores = np.mean(scores)\n",
        "print(\"ROC_AUC - \",scores)\n",
        "print('\\n')\n",
        "\n",
        "print(confusion_matrix(y_test,predictions))\n",
        "print(classification_report(y_test,predictions))\n",
        "#plot_confusion_matrix(xgb_best,X_test,y_test)"
      ],
      "id": "ed3a679c"
    },
    {
      "cell_type": "code",
      "execution_count": null,
      "metadata": {
        "colab": {
          "background_save": true
        },
        "id": "5901b5ac",
        "outputId": "a47b3da8-378d-4733-a0e1-6539f2d4d67d"
      },
      "outputs": [
        {
          "name": "stdout",
          "output_type": "stream",
          "text": [
            "ROC_AUC -  0.8271110232698808\n",
            "\n",
            "\n",
            "[[3631 1042]\n",
            " [ 582  745]]\n",
            "              precision    recall  f1-score   support\n",
            "\n",
            "           0       0.86      0.78      0.82      4673\n",
            "           1       0.42      0.56      0.48      1327\n",
            "\n",
            "    accuracy                           0.73      6000\n",
            "   macro avg       0.64      0.67      0.65      6000\n",
            "weighted avg       0.76      0.73      0.74      6000\n",
            "\n"
          ]
        }
      ],
      "source": [
        "X_train,X_test,y_train,y_test = Scale_Split_Balance(df,features,target='DEF_PAY_NMO',scaled=False,balanced='adasyn')\n",
        "adaa_best.fit(X_train,y_train)\n",
        "predictions = adaa_best.predict(X_test)\n",
        "scores = cross_val_score(adaa_best, X_train, y_train, scoring =\"roc_auc\", cv = 10)\n",
        "scores = np.mean(scores)\n",
        "print(\"ROC_AUC - \",scores)\n",
        "print('\\n')\n",
        "\n",
        "print(confusion_matrix(y_test,predictions))\n",
        "print(classification_report(y_test,predictions))\n",
        "#plot_confusion_matrix(xgb_best,X_test,y_test)"
      ],
      "id": "5901b5ac"
    },
    {
      "cell_type": "code",
      "execution_count": null,
      "metadata": {
        "colab": {
          "background_save": true
        },
        "id": "8c874756",
        "outputId": "ac3e2e7b-efb2-4077-f551-a141905212e7"
      },
      "outputs": [
        {
          "name": "stdout",
          "output_type": "stream",
          "text": [
            "ROC_AUC -  0.8360289524447347\n",
            "\n",
            "\n",
            "[[3726  947]\n",
            " [ 585  742]]\n",
            "              precision    recall  f1-score   support\n",
            "\n",
            "           0       0.86      0.80      0.83      4673\n",
            "           1       0.44      0.56      0.49      1327\n",
            "\n",
            "    accuracy                           0.74      6000\n",
            "   macro avg       0.65      0.68      0.66      6000\n",
            "weighted avg       0.77      0.74      0.75      6000\n",
            "\n"
          ]
        }
      ],
      "source": [
        "X_train,X_test,y_train,y_test = Scale_Split_Balance(df,features,target='DEF_PAY_NMO',scaled=False,balanced='smote')\n",
        "adaa_best.fit(X_train,y_train)\n",
        "predictions = adaa_best.predict(X_test)\n",
        "scores = cross_val_score(adaa_best, X_train, y_train, scoring =\"roc_auc\", cv = 10)\n",
        "scores = np.mean(scores)\n",
        "print(\"ROC_AUC - \",scores)\n",
        "print('\\n')\n",
        "\n",
        "print(confusion_matrix(y_test,predictions))\n",
        "print(classification_report(y_test,predictions))\n",
        "#plot_confusion_matrix(xgb_best,X_test,y_test)"
      ],
      "id": "8c874756"
    },
    {
      "cell_type": "code",
      "execution_count": null,
      "metadata": {
        "colab": {
          "background_save": true
        },
        "id": "1d467651"
      },
      "outputs": [],
      "source": [],
      "id": "1d467651"
    },
    {
      "cell_type": "code",
      "execution_count": null,
      "metadata": {
        "colab": {
          "background_save": true
        },
        "id": "73cf4472"
      },
      "outputs": [],
      "source": [],
      "id": "73cf4472"
    },
    {
      "cell_type": "code",
      "execution_count": null,
      "metadata": {
        "id": "300a0d28"
      },
      "outputs": [],
      "source": [
        "X_train,X_test,y_train,y_test = Scale_Split_Balance(df,features,target='DEF_PAY_NMO',scaled=False,balanced=False)"
      ],
      "id": "300a0d28"
    },
    {
      "cell_type": "code",
      "execution_count": null,
      "metadata": {
        "colab": {
          "background_save": true
        },
        "id": "1c179216"
      },
      "outputs": [],
      "source": [],
      "id": "1c179216"
    },
    {
      "cell_type": "code",
      "execution_count": null,
      "metadata": {
        "colab": {
          "background_save": true
        },
        "id": "6c7f52de"
      },
      "outputs": [],
      "source": [],
      "id": "6c7f52de"
    },
    {
      "cell_type": "code",
      "execution_count": null,
      "metadata": {
        "colab": {
          "base_uri": "https://localhost:8080/",
          "height": 801
        },
        "id": "77b92300",
        "outputId": "0d74155e-f81b-4b92-d48b-6c9586d9be0e"
      },
      "outputs": [
        {
          "output_type": "execute_result",
          "data": {
            "text/plain": [
              "Text(0.5, 1.0, 'AdaBoost')"
            ]
          },
          "metadata": {},
          "execution_count": 212
        },
        {
          "output_type": "display_data",
          "data": {
            "text/plain": [
              "<Figure size 648x936 with 8 Axes>"
            ],
            "image/png": "[encoded data removed]"
          },
          "metadata": {
            "needs_background": "light"
          }
        }
      ],
      "source": [
        "# Plot confusion matrix of 4 models\n",
        "\n",
        "fig,ax=plt.subplots(4,1, figsize=(9,13))\n",
        "\n",
        "plot_confusion_matrix(lr_best, X_test, y_test, ax = ax[0], values_format=\"d\")\n",
        "ax[0].set_title(\"Logistic Regression\")\n",
        "\n",
        "\n",
        "\n",
        "plot_confusion_matrix(rf_best, X_test, y_test, ax = ax[1], values_format=\"d\")\n",
        "ax[1].set_title(\"Random Forest\")\n",
        "\n",
        "\n",
        "plot_confusion_matrix(xgb_best, X_test, y_test, ax = ax[2], values_format=\"d\")\n",
        "ax[2].set_title(\"XGBoost\")\n",
        "\n",
        "\n",
        "plot_confusion_matrix(adaa_best, X_test, y_test, ax = ax[3], values_format=\"d\")\n",
        "ax[3].set_title(\"AdaBoost\")\n"
      ],
      "id": "77b92300"
    },
    {
      "cell_type": "code",
      "execution_count": null,
      "metadata": {
        "colab": {
          "background_save": true
        },
        "id": "574c0f9b",
        "outputId": "d26b911a-9029-4137-dbbf-79b43941ffa9"
      },
      "outputs": [
        {
          "data": {
            "image/png": "[encoded data removed]",
            "text/plain": [
              "<Figure size 720x360 with 1 Axes>"
            ]
          },
          "metadata": {},
          "output_type": "display_data"
        }
      ],
      "source": [
        "# Plot ROC_AUC curve of 4 models\n",
        " \n",
        "fig,ax=plt.subplots(figsize=(10,5))\n",
        "\n",
        "plot_roc_curve(lr_best, X_test, y_test,ax=ax, color=\"blue\",label='Logistic Regression')\n",
        "plot_roc_curve(rf_best, X_test, y_test,ax=ax, color=\"black\",label='Random Forest')\n",
        "plot_roc_curve(xgb_best, X_test, y_test,ax=ax, color=\"red\",label='XGBoost')\n",
        "plot_roc_curve(adaa_best, X_test, y_test,ax=ax, color=\"red\",label='Ada-Boost')\n",
        "plt.title('ROC/AUC of 4 models')\n",
        "plt.grid()"
      ],
      "id": "574c0f9b"
    },
    {
      "cell_type": "code",
      "execution_count": null,
      "metadata": {
        "colab": {
          "base_uri": "https://localhost:8080/",
          "height": 349
        },
        "id": "7a0409a6",
        "outputId": "ea5c7c1b-62a4-46cd-ab79-185b42fc0962"
      },
      "outputs": [
        {
          "output_type": "display_data",
          "data": {
            "text/plain": [
              "<Figure size 720x360 with 1 Axes>"
            ],
            "image/png": "[encoded data removed]"
          },
          "metadata": {
            "needs_background": "light"
          }
        }
      ],
      "source": [
        "# Compare 4 models' Precision_recall curves\n",
        "\n",
        "fig,ax=plt.subplots(figsize=(10,5))\n",
        "\n",
        "plot_precision_recall_curve(lr_best, X_test, y_test, ax=ax,color=\"blue\",label='Logistic Regression')\n",
        "plot_precision_recall_curve(rf_best, X_test, y_test, ax=ax,color=\"black\",label='Random Forest')\n",
        "plot_precision_recall_curve(xgb_best, X_test, y_test, ax=ax,color=\"red\",label='XGBoost')\n",
        "plot_precision_recall_curve(adaa_best, X_test, y_test, ax=ax,color=\"yellow\",label='Ada-boost')\n",
        "plt.title('Precision_Recall of 4 models')\n",
        "plt.grid()"
      ],
      "id": "7a0409a6"
    },
    {
      "cell_type": "code",
      "execution_count": null,
      "metadata": {
        "colab": {
          "base_uri": "https://localhost:8080/",
          "height": 517
        },
        "id": "c765d1c0",
        "outputId": "092ddefb-7866-49ee-ca99-3f0aa59ed088"
      },
      "outputs": [
        {
          "output_type": "execute_result",
          "data": {
            "text/plain": [
              "Text(0.5, 1.0, 'Features importance')"
            ]
          },
          "metadata": {},
          "execution_count": 218
        },
        {
          "output_type": "display_data",
          "data": {
            "text/plain": [
              "<Figure size 720x576 with 1 Axes>"
            ],
            "image/png": "[encoded data removed]"
          },
          "metadata": {
            "needs_background": "light"
          }
        }
      ],
      "source": [
        "# Plot feature importance of winner model - Random Forest\n",
        "\n",
        "fea_df = pd.DataFrame({'Feature': features, 'Feature importance': rf_best.feature_importances_})\n",
        "fea_df = fea_df.sort_values(by='Feature importance')\n",
        "\n",
        "figure, ax = plt.subplots(figsize = (10,8))\n",
        "fea_df.plot.barh(x='Feature',y='Feature importance', ax=ax)\n",
        "plt.title('Features importance',fontsize=14)"
      ],
      "id": "c765d1c0"
    },
    {
      "cell_type": "code",
      "source": [
        "# Plot feature importance of winner model - Random Forest\n",
        "\n",
        "fea_df = pd.DataFrame({'Feature': features, 'Feature importance': xgb_best.feature_importances_})\n",
        "fea_df = fea_df.sort_values(by='Feature importance')\n",
        "\n",
        "figure, ax = plt.subplots(figsize = (10,8))\n",
        "fea_df.plot.barh(x='Feature',y='Feature importance', ax=ax)\n",
        "plt.title('Features importance',fontsize=14)"
      ],
      "metadata": {
        "colab": {
          "base_uri": "https://localhost:8080/",
          "height": 517
        },
        "id": "UeB0MprL0ba5",
        "outputId": "719bb03b-ed45-4872-85f3-f815da56e8b0"
      },
      "id": "UeB0MprL0ba5",
      "execution_count": null,
      "outputs": [
        {
          "output_type": "execute_result",
          "data": {
            "text/plain": [
              "Text(0.5, 1.0, 'Features importance')"
            ]
          },
          "metadata": {},
          "execution_count": 220
        },
        {
          "output_type": "display_data",
          "data": {
            "text/plain": [
              "<Figure size 720x576 with 1 Axes>"
            ],
            "image/png": "[encoded data removed]"
          },
          "metadata": {
            "needs_background": "light"
          }
        }
      ]
    },
    {
      "cell_type": "code",
      "source": [
        "X_train,X_test,y_train,y_test = Scale_Split_Balance(df,features,target='DEF_PAY_NMO',scaled=True,balanced='random_os')"
      ],
      "metadata": {
        "id": "VIreH4xz9L9p"
      },
      "id": "VIreH4xz9L9p",
      "execution_count": null,
      "outputs": []
    },
    {
      "cell_type": "code",
      "source": [
        "# checking the version of tensorflow\n",
        "import tensorflow as tf"
      ],
      "metadata": {
        "id": "OgrCRsrL0mP8"
      },
      "id": "OgrCRsrL0mP8",
      "execution_count": null,
      "outputs": []
    },
    {
      "cell_type": "code",
      "source": [
        "from keras.models import Sequential"
      ],
      "metadata": {
        "id": "T_W2D2yH0mRx"
      },
      "id": "T_W2D2yH0mRx",
      "execution_count": null,
      "outputs": []
    },
    {
      "cell_type": "code",
      "source": [
        "from keras.layers import InputLayer, Dense "
      ],
      "metadata": {
        "id": "gGUB8Esf0mUh"
      },
      "id": "gGUB8Esf0mUh",
      "execution_count": null,
      "outputs": []
    },
    {
      "cell_type": "code",
      "source": [
        "X_train.shape"
      ],
      "metadata": {
        "colab": {
          "base_uri": "https://localhost:8080/"
        },
        "id": "LC4WN4kq0mWP",
        "outputId": "936de842-b09b-4eed-dbfd-42b519a59ecd"
      },
      "id": "LC4WN4kq0mWP",
      "execution_count": null,
      "outputs": [
        {
          "output_type": "execute_result",
          "data": {
            "text/plain": [
              "(37382, 23)"
            ]
          },
          "metadata": {},
          "execution_count": 33
        }
      ]
    },
    {
      "cell_type": "code",
      "source": [
        "y_train.shape"
      ],
      "metadata": {
        "colab": {
          "base_uri": "https://localhost:8080/"
        },
        "id": "sM_NX3k4-2aX",
        "outputId": "e9d1e5de-1623-410d-e06c-4d1286cc1d5c"
      },
      "id": "sM_NX3k4-2aX",
      "execution_count": null,
      "outputs": [
        {
          "output_type": "execute_result",
          "data": {
            "text/plain": [
              "(37382,)"
            ]
          },
          "metadata": {},
          "execution_count": 35
        }
      ]
    },
    {
      "cell_type": "code",
      "source": [
        "input_neurons = X_train.shape[1]\n"
      ],
      "metadata": {
        "id": "4F8BH_pn0mZM"
      },
      "id": "4F8BH_pn0mZM",
      "execution_count": null,
      "outputs": []
    },
    {
      "cell_type": "code",
      "source": [
        "output_neurons = 1"
      ],
      "metadata": {
        "id": "-SBpSboe0mbL"
      },
      "id": "-SBpSboe0mbL",
      "execution_count": null,
      "outputs": []
    },
    {
      "cell_type": "code",
      "source": [
        "number_of_hidden_layers = 4\n",
        "neuron_hidden_layer_1 = 18\n",
        "neuron_hidden_layer_2 = 15\n",
        "neuron_hidden_layer_3 = 10\n",
        "neuron_hidden_layer_4 = 8"
      ],
      "metadata": {
        "id": "iu4XZUeY0meq"
      },
      "id": "iu4XZUeY0meq",
      "execution_count": null,
      "outputs": []
    },
    {
      "cell_type": "code",
      "source": [
        "# defining the architecture of the model\n",
        "model = Sequential()\n",
        "model.add(InputLayer(input_shape=(input_neurons,)))\n",
        "model.add(Dense(units=neuron_hidden_layer_1, activation='relu'))\n",
        "model.add(Dense(units=neuron_hidden_layer_2, activation='relu'))\n",
        "model.add(Dense(units=neuron_hidden_layer_3, activation='relu'))\n",
        "model.add(Dense(units=neuron_hidden_layer_4, activation='relu'))\n",
        "model.add(Dense(units=output_neurons, activation='sigmoid'))"
      ],
      "metadata": {
        "id": "4HBLcdhY0mit"
      },
      "id": "4HBLcdhY0mit",
      "execution_count": null,
      "outputs": []
    },
    {
      "cell_type": "code",
      "source": [
        "# summary of the model\n",
        "model.summary()"
      ],
      "metadata": {
        "colab": {
          "base_uri": "https://localhost:8080/"
        },
        "id": "p-nAl_3x0mlN",
        "outputId": "7809baad-aa18-482d-b88e-7bd4dbc63009"
      },
      "id": "p-nAl_3x0mlN",
      "execution_count": null,
      "outputs": [
        {
          "output_type": "stream",
          "name": "stdout",
          "text": [
            "Model: \"sequential\"\n",
            "_________________________________________________________________\n",
            " Layer (type)                Output Shape              Param #   \n",
            "=================================================================\n",
            " dense (Dense)               (None, 18)                432       \n",
            "                                                                 \n",
            " dense_1 (Dense)             (None, 15)                285       \n",
            "                                                                 \n",
            " dense_2 (Dense)             (None, 10)                160       \n",
            "                                                                 \n",
            " dense_3 (Dense)             (None, 8)                 88        \n",
            "                                                                 \n",
            " dense_4 (Dense)             (None, 1)                 9         \n",
            "                                                                 \n",
            "=================================================================\n",
            "Total params: 974\n",
            "Trainable params: 974\n",
            "Non-trainable params: 0\n",
            "_________________________________________________________________\n"
          ]
        }
      ]
    },
    {
      "cell_type": "code",
      "source": [
        "model.compile(loss='binary_crossentropy',optimizer='Adam',metrics=['accuracy'])\n",
        "\n"
      ],
      "metadata": {
        "id": "qCVc9HjF4T8Q"
      },
      "id": "qCVc9HjF4T8Q",
      "execution_count": null,
      "outputs": []
    },
    {
      "cell_type": "code",
      "source": [
        "model.compile(metrics=[tf.keras.metrics.AUC(), tf.keras.metrics.Precision(), tf.keras.metrics.Recall()],\n",
        "              loss='binary_crossentropy',\n",
        "              optimizer='Adam')"
      ],
      "metadata": {
        "id": "_bLbJR_rAMgJ"
      },
      "id": "_bLbJR_rAMgJ",
      "execution_count": null,
      "outputs": []
    },
    {
      "cell_type": "code",
      "source": [
        "es = keras.callbacks.EarlyStopping(monitor='val_loss', mode='min', verbose=1, patience=30)\n",
        "model_history = model.fit(X_train, y_train, validation_data=(X_test, y_test),callbacks = es, epochs=100)"
      ],
      "metadata": {
        "colab": {
          "base_uri": "https://localhost:8080/"
        },
        "id": "4Ui8YxBJ4T-F",
        "outputId": "61f0af50-c09f-4ce1-a5e7-1a04403bb8cc"
      },
      "id": "4Ui8YxBJ4T-F",
      "execution_count": null,
      "outputs": [
        {
          "output_type": "stream",
          "name": "stdout",
          "text": [
            "Epoch 1/100\n",
            "1169/1169 [==============================] - 13s 5ms/step - loss: 0.6115 - auc: 0.7110 - precision: 0.7430 - recall: 0.5217 - val_loss: 0.5796 - val_auc: 0.7445 - val_precision: 0.4705 - val_recall: 0.5411\n",
            "Epoch 2/100\n",
            "1169/1169 [==============================] - 5s 5ms/step - loss: 0.5856 - auc: 0.7420 - precision: 0.7709 - recall: 0.5549 - val_loss: 0.5833 - val_auc: 0.7529 - val_precision: 0.4709 - val_recall: 0.5674\n",
            "Epoch 3/100\n",
            "1169/1169 [==============================] - 5s 5ms/step - loss: 0.5795 - auc: 0.7514 - precision: 0.7711 - recall: 0.5683 - val_loss: 0.6030 - val_auc: 0.7610 - val_precision: 0.4357 - val_recall: 0.6255\n",
            "Epoch 4/100\n",
            "1169/1169 [==============================] - 6s 5ms/step - loss: 0.5733 - auc: 0.7622 - precision: 0.7634 - recall: 0.5921 - val_loss: 0.5490 - val_auc: 0.7689 - val_precision: 0.5091 - val_recall: 0.5690\n",
            "Epoch 5/100\n",
            "1169/1169 [==============================] - 5s 5ms/step - loss: 0.5674 - auc: 0.7699 - precision: 0.7658 - recall: 0.6018 - val_loss: 0.5643 - val_auc: 0.7695 - val_precision: 0.4848 - val_recall: 0.5901\n",
            "Epoch 6/100\n",
            "1169/1169 [==============================] - 6s 5ms/step - loss: 0.5643 - auc: 0.7742 - precision: 0.7606 - recall: 0.6108 - val_loss: 0.5602 - val_auc: 0.7744 - val_precision: 0.4820 - val_recall: 0.6044\n",
            "Epoch 7/100\n",
            "1169/1169 [==============================] - 5s 5ms/step - loss: 0.5629 - auc: 0.7760 - precision: 0.7633 - recall: 0.6117 - val_loss: 0.5427 - val_auc: 0.7733 - val_precision: 0.4861 - val_recall: 0.5916\n",
            "Epoch 8/100\n",
            "1169/1169 [==============================] - 6s 5ms/step - loss: 0.5612 - auc: 0.7778 - precision: 0.7611 - recall: 0.6186 - val_loss: 0.5568 - val_auc: 0.7696 - val_precision: 0.4848 - val_recall: 0.6006\n",
            "Epoch 9/100\n",
            "1169/1169 [==============================] - 5s 5ms/step - loss: 0.5599 - auc: 0.7796 - precision: 0.7603 - recall: 0.6159 - val_loss: 0.6034 - val_auc: 0.7738 - val_precision: 0.4092 - val_recall: 0.6745\n",
            "Epoch 10/100\n",
            "1169/1169 [==============================] - 5s 5ms/step - loss: 0.5590 - auc: 0.7808 - precision: 0.7578 - recall: 0.6247 - val_loss: 0.5319 - val_auc: 0.7724 - val_precision: 0.5036 - val_recall: 0.5757\n",
            "Epoch 11/100\n",
            "1169/1169 [==============================] - 6s 5ms/step - loss: 0.5579 - auc: 0.7818 - precision: 0.7583 - recall: 0.6283 - val_loss: 0.5597 - val_auc: 0.7717 - val_precision: 0.4695 - val_recall: 0.6157\n",
            "Epoch 12/100\n",
            "1169/1169 [==============================] - 6s 5ms/step - loss: 0.5570 - auc: 0.7824 - precision: 0.7588 - recall: 0.6290 - val_loss: 0.5680 - val_auc: 0.7739 - val_precision: 0.4755 - val_recall: 0.6081\n",
            "Epoch 13/100\n",
            "1169/1169 [==============================] - 5s 5ms/step - loss: 0.5569 - auc: 0.7828 - precision: 0.7592 - recall: 0.6278 - val_loss: 0.5875 - val_auc: 0.7677 - val_precision: 0.4478 - val_recall: 0.6330\n",
            "Epoch 14/100\n",
            "1169/1169 [==============================] - 5s 5ms/step - loss: 0.5558 - auc: 0.7840 - precision: 0.7607 - recall: 0.6279 - val_loss: 0.5749 - val_auc: 0.7722 - val_precision: 0.4401 - val_recall: 0.6338\n",
            "Epoch 15/100\n",
            "1169/1169 [==============================] - 5s 5ms/step - loss: 0.5551 - auc: 0.7846 - precision: 0.7600 - recall: 0.6268 - val_loss: 0.6216 - val_auc: 0.7743 - val_precision: 0.4027 - val_recall: 0.6865\n",
            "Epoch 16/100\n",
            "1169/1169 [==============================] - 6s 5ms/step - loss: 0.5541 - auc: 0.7855 - precision: 0.7597 - recall: 0.6262 - val_loss: 0.6021 - val_auc: 0.7683 - val_precision: 0.4317 - val_recall: 0.6647\n",
            "Epoch 17/100\n",
            "1169/1169 [==============================] - 6s 5ms/step - loss: 0.5537 - auc: 0.7860 - precision: 0.7592 - recall: 0.6288 - val_loss: 0.5712 - val_auc: 0.7738 - val_precision: 0.4465 - val_recall: 0.6285\n",
            "Epoch 18/100\n",
            "1169/1169 [==============================] - 5s 5ms/step - loss: 0.5538 - auc: 0.7859 - precision: 0.7569 - recall: 0.6311 - val_loss: 0.5937 - val_auc: 0.7752 - val_precision: 0.4447 - val_recall: 0.6398\n",
            "Epoch 19/100\n",
            "1169/1169 [==============================] - 6s 5ms/step - loss: 0.5529 - auc: 0.7866 - precision: 0.7598 - recall: 0.6298 - val_loss: 0.5594 - val_auc: 0.7751 - val_precision: 0.4687 - val_recall: 0.6209\n",
            "Epoch 20/100\n",
            "1169/1169 [==============================] - 5s 5ms/step - loss: 0.5516 - auc: 0.7885 - precision: 0.7602 - recall: 0.6296 - val_loss: 0.5595 - val_auc: 0.7737 - val_precision: 0.4660 - val_recall: 0.6142\n",
            "Epoch 21/100\n",
            "1169/1169 [==============================] - 6s 5ms/step - loss: 0.5513 - auc: 0.7882 - precision: 0.7574 - recall: 0.6319 - val_loss: 0.5377 - val_auc: 0.7740 - val_precision: 0.4772 - val_recall: 0.6059\n",
            "Epoch 22/100\n",
            "1169/1169 [==============================] - 5s 5ms/step - loss: 0.5503 - auc: 0.7896 - precision: 0.7604 - recall: 0.6352 - val_loss: 0.5643 - val_auc: 0.7736 - val_precision: 0.4674 - val_recall: 0.6096\n",
            "Epoch 23/100\n",
            "1169/1169 [==============================] - 5s 5ms/step - loss: 0.5504 - auc: 0.7892 - precision: 0.7585 - recall: 0.6317 - val_loss: 0.5790 - val_auc: 0.7748 - val_precision: 0.4354 - val_recall: 0.6503\n",
            "Epoch 24/100\n",
            "1169/1169 [==============================] - 6s 5ms/step - loss: 0.5502 - auc: 0.7896 - precision: 0.7574 - recall: 0.6359 - val_loss: 0.5438 - val_auc: 0.7688 - val_precision: 0.4716 - val_recall: 0.6074\n",
            "Epoch 25/100\n",
            "1169/1169 [==============================] - 6s 5ms/step - loss: 0.5494 - auc: 0.7903 - precision: 0.7603 - recall: 0.6372 - val_loss: 0.5217 - val_auc: 0.7703 - val_precision: 0.4927 - val_recall: 0.5825\n",
            "Epoch 26/100\n",
            "1169/1169 [==============================] - 5s 5ms/step - loss: 0.5486 - auc: 0.7912 - precision: 0.7597 - recall: 0.6393 - val_loss: 0.5710 - val_auc: 0.7750 - val_precision: 0.4519 - val_recall: 0.6413\n",
            "Epoch 27/100\n",
            "1169/1169 [==============================] - 5s 5ms/step - loss: 0.5480 - auc: 0.7918 - precision: 0.7582 - recall: 0.6401 - val_loss: 0.6216 - val_auc: 0.7741 - val_precision: 0.3949 - val_recall: 0.6978\n",
            "Epoch 28/100\n",
            "1169/1169 [==============================] - 6s 5ms/step - loss: 0.5478 - auc: 0.7920 - precision: 0.7572 - recall: 0.6413 - val_loss: 0.5579 - val_auc: 0.7732 - val_precision: 0.4518 - val_recall: 0.6285\n",
            "Epoch 29/100\n",
            "1169/1169 [==============================] - 5s 5ms/step - loss: 0.5473 - auc: 0.7924 - precision: 0.7586 - recall: 0.6420 - val_loss: 0.5591 - val_auc: 0.7732 - val_precision: 0.4600 - val_recall: 0.6240\n",
            "Epoch 30/100\n",
            "1169/1169 [==============================] - 5s 5ms/step - loss: 0.5461 - auc: 0.7937 - precision: 0.7569 - recall: 0.6414 - val_loss: 0.6281 - val_auc: 0.7603 - val_precision: 0.3742 - val_recall: 0.7091\n",
            "Epoch 31/100\n",
            "1169/1169 [==============================] - 6s 5ms/step - loss: 0.5469 - auc: 0.7930 - precision: 0.7534 - recall: 0.6480 - val_loss: 0.6024 - val_auc: 0.7700 - val_precision: 0.4090 - val_recall: 0.6737\n",
            "Epoch 32/100\n",
            "1169/1169 [==============================] - 5s 5ms/step - loss: 0.5456 - auc: 0.7945 - precision: 0.7577 - recall: 0.6490 - val_loss: 0.5243 - val_auc: 0.7685 - val_precision: 0.4987 - val_recall: 0.5840\n",
            "Epoch 33/100\n",
            "1169/1169 [==============================] - 5s 5ms/step - loss: 0.5454 - auc: 0.7947 - precision: 0.7558 - recall: 0.6493 - val_loss: 0.5674 - val_auc: 0.7737 - val_precision: 0.4583 - val_recall: 0.6330\n",
            "Epoch 34/100\n",
            "1169/1169 [==============================] - 5s 5ms/step - loss: 0.5447 - auc: 0.7952 - precision: 0.7548 - recall: 0.6468 - val_loss: 0.5510 - val_auc: 0.7718 - val_precision: 0.4645 - val_recall: 0.6164\n",
            "Epoch 35/100\n",
            "1169/1169 [==============================] - 6s 5ms/step - loss: 0.5457 - auc: 0.7942 - precision: 0.7569 - recall: 0.6484 - val_loss: 0.5996 - val_auc: 0.7730 - val_precision: 0.3997 - val_recall: 0.6865\n",
            "Epoch 36/100\n",
            "1169/1169 [==============================] - 5s 5ms/step - loss: 0.5447 - auc: 0.7955 - precision: 0.7544 - recall: 0.6538 - val_loss: 0.5473 - val_auc: 0.7683 - val_precision: 0.4716 - val_recall: 0.5953\n",
            "Epoch 37/100\n",
            "1169/1169 [==============================] - 6s 5ms/step - loss: 0.5436 - auc: 0.7964 - precision: 0.7575 - recall: 0.6498 - val_loss: 0.5595 - val_auc: 0.7719 - val_precision: 0.4655 - val_recall: 0.6194\n",
            "Epoch 38/100\n",
            "1169/1169 [==============================] - 5s 5ms/step - loss: 0.5437 - auc: 0.7964 - precision: 0.7565 - recall: 0.6521 - val_loss: 0.5513 - val_auc: 0.7718 - val_precision: 0.4639 - val_recall: 0.6240\n",
            "Epoch 39/100\n",
            "1169/1169 [==============================] - 5s 5ms/step - loss: 0.5434 - auc: 0.7966 - precision: 0.7557 - recall: 0.6551 - val_loss: 0.5667 - val_auc: 0.7663 - val_precision: 0.4361 - val_recall: 0.6300\n",
            "Epoch 40/100\n",
            "1169/1169 [==============================] - 6s 5ms/step - loss: 0.5434 - auc: 0.7964 - precision: 0.7521 - recall: 0.6585 - val_loss: 0.5965 - val_auc: 0.7686 - val_precision: 0.4128 - val_recall: 0.6760\n",
            "Epoch 41/100\n",
            "1169/1169 [==============================] - 6s 5ms/step - loss: 0.5422 - auc: 0.7975 - precision: 0.7552 - recall: 0.6595 - val_loss: 0.5304 - val_auc: 0.7651 - val_precision: 0.5027 - val_recall: 0.5576\n",
            "Epoch 42/100\n",
            "1169/1169 [==============================] - 5s 5ms/step - loss: 0.5428 - auc: 0.7972 - precision: 0.7563 - recall: 0.6551 - val_loss: 0.5960 - val_auc: 0.7669 - val_precision: 0.4129 - val_recall: 0.6647\n",
            "Epoch 43/100\n",
            "1169/1169 [==============================] - 5s 5ms/step - loss: 0.5419 - auc: 0.7982 - precision: 0.7534 - recall: 0.6608 - val_loss: 0.5488 - val_auc: 0.7733 - val_precision: 0.4662 - val_recall: 0.6179\n",
            "Epoch 44/100\n",
            "1169/1169 [==============================] - 5s 5ms/step - loss: 0.5416 - auc: 0.7986 - precision: 0.7534 - recall: 0.6561 - val_loss: 0.5580 - val_auc: 0.7702 - val_precision: 0.4368 - val_recall: 0.6383\n",
            "Epoch 45/100\n",
            "1169/1169 [==============================] - 5s 5ms/step - loss: 0.5409 - auc: 0.7992 - precision: 0.7519 - recall: 0.6661 - val_loss: 0.6127 - val_auc: 0.7703 - val_precision: 0.3871 - val_recall: 0.6986\n",
            "Epoch 46/100\n",
            "1169/1169 [==============================] - 6s 5ms/step - loss: 0.5408 - auc: 0.7993 - precision: 0.7532 - recall: 0.6620 - val_loss: 0.6148 - val_auc: 0.7712 - val_precision: 0.3827 - val_recall: 0.7121\n",
            "Epoch 47/100\n",
            "1169/1169 [==============================] - 6s 5ms/step - loss: 0.5403 - auc: 0.7999 - precision: 0.7539 - recall: 0.6642 - val_loss: 0.5810 - val_auc: 0.7694 - val_precision: 0.4148 - val_recall: 0.6692\n",
            "Epoch 48/100\n",
            "1169/1169 [==============================] - 6s 5ms/step - loss: 0.5406 - auc: 0.7995 - precision: 0.7543 - recall: 0.6671 - val_loss: 0.5606 - val_auc: 0.7697 - val_precision: 0.4508 - val_recall: 0.6353\n",
            "Epoch 49/100\n",
            "1169/1169 [==============================] - 6s 5ms/step - loss: 0.5398 - auc: 0.8004 - precision: 0.7546 - recall: 0.6638 - val_loss: 0.5515 - val_auc: 0.7689 - val_precision: 0.4639 - val_recall: 0.6240\n",
            "Epoch 50/100\n",
            "1169/1169 [==============================] - 6s 5ms/step - loss: 0.5392 - auc: 0.8012 - precision: 0.7526 - recall: 0.6682 - val_loss: 0.6159 - val_auc: 0.7703 - val_precision: 0.3915 - val_recall: 0.7031\n",
            "Epoch 51/100\n",
            "1169/1169 [==============================] - 6s 5ms/step - loss: 0.5393 - auc: 0.8011 - precision: 0.7536 - recall: 0.6674 - val_loss: 0.5821 - val_auc: 0.7695 - val_precision: 0.4223 - val_recall: 0.6631\n",
            "Epoch 52/100\n",
            "1169/1169 [==============================] - 6s 5ms/step - loss: 0.5392 - auc: 0.8009 - precision: 0.7566 - recall: 0.6635 - val_loss: 0.6243 - val_auc: 0.7718 - val_precision: 0.3859 - val_recall: 0.7197\n",
            "Epoch 53/100\n",
            "1169/1169 [==============================] - 6s 5ms/step - loss: 0.5382 - auc: 0.8017 - precision: 0.7554 - recall: 0.6660 - val_loss: 0.5549 - val_auc: 0.7700 - val_precision: 0.4640 - val_recall: 0.6270\n",
            "Epoch 54/100\n",
            "1169/1169 [==============================] - 6s 5ms/step - loss: 0.5384 - auc: 0.8017 - precision: 0.7535 - recall: 0.6698 - val_loss: 0.5645 - val_auc: 0.7679 - val_precision: 0.4563 - val_recall: 0.6255\n",
            "Epoch 55/100\n",
            "1169/1169 [==============================] - 6s 5ms/step - loss: 0.5378 - auc: 0.8026 - precision: 0.7542 - recall: 0.6678 - val_loss: 0.6085 - val_auc: 0.7673 - val_precision: 0.3965 - val_recall: 0.6910\n",
            "Epoch 55: early stopping\n"
          ]
        }
      ]
    },
    {
      "cell_type": "code",
      "source": [
        "prediction = model.predict(X_test)"
      ],
      "metadata": {
        "id": "Ej4D3I_25hQn"
      },
      "id": "Ej4D3I_25hQn",
      "execution_count": null,
      "outputs": []
    },
    {
      "cell_type": "code",
      "source": [
        "X_train,X_test,y_train,y_test = Scale_Split_Balance(df,features,target='DEF_PAY_NMO',scaled=False,balanced='adasyn')\n",
        "adaa_best.fit(X_train,y_train)\n",
        "predictions = adaa_best.predict(X_test)\n",
        "scores = cross_val_score(adaa_best, X_train, y_train, scoring =\"roc_auc\", cv = 10)\n",
        "scores = np.mean(scores)\n",
        "print(\"ROC_AUC - \",scores)\n",
        "print('\\n')\n",
        "\n",
        "print(confusion_matrix(y_test,predictions))\n",
        "print(classification_report(y_test,predictions))\n",
        "#plot_confusion_matrix(xgb_best,X_test,y_test)"
      ],
      "metadata": {
        "id": "J7ylp7GoDvQi"
      },
      "id": "J7ylp7GoDvQi",
      "execution_count": null,
      "outputs": []
    },
    {
      "cell_type": "code",
      "source": [
        "confusion_matrix(y_test,prediction.round())"
      ],
      "metadata": {
        "colab": {
          "base_uri": "https://localhost:8080/"
        },
        "id": "Jyd_j6t45r7-",
        "outputId": "dfdfd1d4-14b1-4601-cbb3-cd57eefd13a9"
      },
      "id": "Jyd_j6t45r7-",
      "execution_count": null,
      "outputs": [
        {
          "output_type": "execute_result",
          "data": {
            "text/plain": [
              "array([[3277, 1396],\n",
              "       [ 410,  917]])"
            ]
          },
          "metadata": {},
          "execution_count": 52
        }
      ]
    },
    {
      "cell_type": "code",
      "source": [
        "print(classification_report(y_test,prediction.round()))"
      ],
      "metadata": {
        "colab": {
          "base_uri": "https://localhost:8080/"
        },
        "id": "i1_V1-5-8-5Q",
        "outputId": "bbf572a3-8bcf-4b19-876a-72b3083b9efe"
      },
      "id": "i1_V1-5-8-5Q",
      "execution_count": null,
      "outputs": [
        {
          "output_type": "stream",
          "name": "stdout",
          "text": [
            "              precision    recall  f1-score   support\n",
            "\n",
            "           0       0.89      0.70      0.78      4673\n",
            "           1       0.40      0.69      0.50      1327\n",
            "\n",
            "    accuracy                           0.70      6000\n",
            "   macro avg       0.64      0.70      0.64      6000\n",
            "weighted avg       0.78      0.70      0.72      6000\n",
            "\n"
          ]
        }
      ]
    },
    {
      "cell_type": "markdown",
      "source": [
        "For example, for our dataset, we can consider that achieving a high recall is more important than getting a high precision – we would like to detect as many heart patients as possible. For some other models, like classifying whether a bank customer is a loan defaulter or not, it is desirable to have a high precision since the bank wouldn’t want to lose customers who were denied a loan based on the model’s prediction that they would be defaulters."
      ],
      "metadata": {
        "id": "X-4Z4ZDXEhIj"
      },
      "id": "X-4Z4ZDXEhIj"
    },
    {
      "cell_type": "code",
      "source": [],
      "metadata": {
        "id": "onaf4ksL8_DC"
      },
      "id": "onaf4ksL8_DC",
      "execution_count": null,
      "outputs": []
    },
    {
      "cell_type": "code",
      "source": [],
      "metadata": {
        "id": "_ujbfPiU8_F1"
      },
      "id": "_ujbfPiU8_F1",
      "execution_count": null,
      "outputs": []
    }
  ],
  "metadata": {
    "accelerator": "GPU",
    "colab": {
      "name": "ccd.ipynb",
      "provenance": []
    },
    "gpuClass": "standard",
    "kernelspec": {
      "display_name": "Python 3",
      "language": "python",
      "name": "python3"
    },
    "language_info": {
      "codemirror_mode": {
        "name": "ipython",
        "version": 3
      },
      "file_extension": ".py",
      "mimetype": "text/x-python",
      "name": "python",
      "nbconvert_exporter": "python",
      "pygments_lexer": "ipython3",
      "version": "3.8.8"
    },
    "widgets": {
      "application/vnd.jupyter.widget-state+json": {
        "01b7d0b5721640c99f85d192b12613a1": {
          "model_module": "@jupyter-widgets/base",
          "model_module_version": "1.2.0",
          "model_name": "LayoutModel",
          "state": {
            "_model_module": "@jupyter-widgets/base",
            "_model_module_version": "1.2.0",
            "_model_name": "LayoutModel",
            "_view_count": null,
            "_view_module": "@jupyter-widgets/base",
            "_view_module_version": "1.2.0",
            "_view_name": "LayoutView",
            "align_content": null,
            "align_items": null,
            "align_self": null,
            "border": null,
            "bottom": null,
            "display": null,
            "flex": null,
            "flex_flow": null,
            "grid_area": null,
            "grid_auto_columns": null,
            "grid_auto_flow": null,
            "grid_auto_rows": null,
            "grid_column": null,
            "grid_gap": null,
            "grid_row": null,
            "grid_template_areas": null,
            "grid_template_columns": null,
            "grid_template_rows": null,
            "height": null,
            "justify_content": null,
            "justify_items": null,
            "left": null,
            "margin": null,
            "max_height": null,
            "max_width": null,
            "min_height": null,
            "min_width": null,
            "object_fit": null,
            "object_position": null,
            "order": null,
            "overflow": null,
            "overflow_x": null,
            "overflow_y": null,
            "padding": null,
            "right": null,
            "top": null,
            "visibility": null,
            "width": null
          }
        },
        "0f34bc7800c2448e8ec1c99af83b9e06": {
          "model_module": "@jupyter-widgets/controls",
          "model_module_version": "1.5.0",
          "model_name": "HBoxModel",
          "state": {
            "_dom_classes": [],
            "_model_module": "@jupyter-widgets/controls",
            "_model_module_version": "1.5.0",
            "_model_name": "HBoxModel",
            "_view_count": null,
            "_view_module": "@jupyter-widgets/controls",
            "_view_module_version": "1.5.0",
            "_view_name": "HBoxView",
            "box_style": "",
            "children": [
              "IPY_MODEL_a1d9ee72693d4083ac0104c78583d698",
              "IPY_MODEL_50ca8b646ef74de78de3ec90c5150801",
              "IPY_MODEL_ebbed9bf007b47798182bd6e241c92d2"
            ],
            "layout": "IPY_MODEL_01b7d0b5721640c99f85d192b12613a1"
          }
        },
        "1e0dc19e5bec4d979fb52e68ae9673b0": {
          "model_module": "@jupyter-widgets/base",
          "model_module_version": "1.2.0",
          "model_name": "LayoutModel",
          "state": {
            "_model_module": "@jupyter-widgets/base",
            "_model_module_version": "1.2.0",
            "_model_name": "LayoutModel",
            "_view_count": null,
            "_view_module": "@jupyter-widgets/base",
            "_view_module_version": "1.2.0",
            "_view_name": "LayoutView",
            "align_content": null,
            "align_items": null,
            "align_self": null,
            "border": null,
            "bottom": null,
            "display": null,
            "flex": null,
            "flex_flow": null,
            "grid_area": null,
            "grid_auto_columns": null,
            "grid_auto_flow": null,
            "grid_auto_rows": null,
            "grid_column": null,
            "grid_gap": null,
            "grid_row": null,
            "grid_template_areas": null,
            "grid_template_columns": null,
            "grid_template_rows": null,
            "height": null,
            "justify_content": null,
            "justify_items": null,
            "left": null,
            "margin": null,
            "max_height": null,
            "max_width": null,
            "min_height": null,
            "min_width": null,
            "object_fit": null,
            "object_position": null,
            "order": null,
            "overflow": null,
            "overflow_x": null,
            "overflow_y": null,
            "padding": null,
            "right": null,
            "top": null,
            "visibility": null,
            "width": null
          }
        },
        "3a0fb135c4904de5a16e56a8e4d7763c": {
          "model_module": "@jupyter-widgets/controls",
          "model_module_version": "1.5.0",
          "model_name": "ProgressStyleModel",
          "state": {
            "_model_module": "@jupyter-widgets/controls",
            "_model_module_version": "1.5.0",
            "_model_name": "ProgressStyleModel",
            "_view_count": null,
            "_view_module": "@jupyter-widgets/base",
            "_view_module_version": "1.2.0",
            "_view_name": "StyleView",
            "bar_color": null,
            "description_width": ""
          }
        },
        "50ca8b646ef74de78de3ec90c5150801": {
          "model_module": "@jupyter-widgets/controls",
          "model_module_version": "1.5.0",
          "model_name": "FloatProgressModel",
          "state": {
            "_dom_classes": [],
            "_model_module": "@jupyter-widgets/controls",
            "_model_module_version": "1.5.0",
            "_model_name": "FloatProgressModel",
            "_view_count": null,
            "_view_module": "@jupyter-widgets/controls",
            "_view_module_version": "1.5.0",
            "_view_name": "ProgressView",
            "bar_style": "",
            "description": "",
            "description_tooltip": null,
            "layout": "IPY_MODEL_e779260b8e7c41b5afea67ece8e257bc",
            "max": 61,
            "min": 0,
            "orientation": "horizontal",
            "style": "IPY_MODEL_3a0fb135c4904de5a16e56a8e4d7763c",
            "value": 61
          }
        },
        "5c211800ece34aec8c8ad26080c1222c": {
          "model_module": "@jupyter-widgets/controls",
          "model_module_version": "1.5.0",
          "model_name": "DescriptionStyleModel",
          "state": {
            "_model_module": "@jupyter-widgets/controls",
            "_model_module_version": "1.5.0",
            "_model_name": "DescriptionStyleModel",
            "_view_count": null,
            "_view_module": "@jupyter-widgets/base",
            "_view_module_version": "1.2.0",
            "_view_name": "StyleView",
            "description_width": ""
          }
        },
        "9f9a998ca5e04ab68a242b9ab18eda76": {
          "model_module": "@jupyter-widgets/controls",
          "model_module_version": "1.5.0",
          "model_name": "DescriptionStyleModel",
          "state": {
            "_model_module": "@jupyter-widgets/controls",
            "_model_module_version": "1.5.0",
            "_model_name": "DescriptionStyleModel",
            "_view_count": null,
            "_view_module": "@jupyter-widgets/base",
            "_view_module_version": "1.2.0",
            "_view_name": "StyleView",
            "description_width": ""
          }
        },
        "a1d9ee72693d4083ac0104c78583d698": {
          "model_module": "@jupyter-widgets/controls",
          "model_module_version": "1.5.0",
          "model_name": "HTMLModel",
          "state": {
            "_dom_classes": [],
            "_model_module": "@jupyter-widgets/controls",
            "_model_module_version": "1.5.0",
            "_model_name": "HTMLModel",
            "_view_count": null,
            "_view_module": "@jupyter-widgets/controls",
            "_view_module_version": "1.5.0",
            "_view_name": "HTMLView",
            "description": "",
            "description_tooltip": null,
            "layout": "IPY_MODEL_1e0dc19e5bec4d979fb52e68ae9673b0",
            "placeholder": "​",
            "style": "IPY_MODEL_9f9a998ca5e04ab68a242b9ab18eda76",
            "value": "Processing: 100%"
          }
        },
        "a7ceed42276d4c1ca812535cb830049c": {
          "model_module": "@jupyter-widgets/base",
          "model_module_version": "1.2.0",
          "model_name": "LayoutModel",
          "state": {
            "_model_module": "@jupyter-widgets/base",
            "_model_module_version": "1.2.0",
            "_model_name": "LayoutModel",
            "_view_count": null,
            "_view_module": "@jupyter-widgets/base",
            "_view_module_version": "1.2.0",
            "_view_name": "LayoutView",
            "align_content": null,
            "align_items": null,
            "align_self": null,
            "border": null,
            "bottom": null,
            "display": null,
            "flex": null,
            "flex_flow": null,
            "grid_area": null,
            "grid_auto_columns": null,
            "grid_auto_flow": null,
            "grid_auto_rows": null,
            "grid_column": null,
            "grid_gap": null,
            "grid_row": null,
            "grid_template_areas": null,
            "grid_template_columns": null,
            "grid_template_rows": null,
            "height": null,
            "justify_content": null,
            "justify_items": null,
            "left": null,
            "margin": null,
            "max_height": null,
            "max_width": null,
            "min_height": null,
            "min_width": null,
            "object_fit": null,
            "object_position": null,
            "order": null,
            "overflow": null,
            "overflow_x": null,
            "overflow_y": null,
            "padding": null,
            "right": null,
            "top": null,
            "visibility": null,
            "width": null
          }
        },
        "e779260b8e7c41b5afea67ece8e257bc": {
          "model_module": "@jupyter-widgets/base",
          "model_module_version": "1.2.0",
          "model_name": "LayoutModel",
          "state": {
            "_model_module": "@jupyter-widgets/base",
            "_model_module_version": "1.2.0",
            "_model_name": "LayoutModel",
            "_view_count": null,
            "_view_module": "@jupyter-widgets/base",
            "_view_module_version": "1.2.0",
            "_view_name": "LayoutView",
            "align_content": null,
            "align_items": null,
            "align_self": null,
            "border": null,
            "bottom": null,
            "display": null,
            "flex": null,
            "flex_flow": null,
            "grid_area": null,
            "grid_auto_columns": null,
            "grid_auto_flow": null,
            "grid_auto_rows": null,
            "grid_column": null,
            "grid_gap": null,
            "grid_row": null,
            "grid_template_areas": null,
            "grid_template_columns": null,
            "grid_template_rows": null,
            "height": null,
            "justify_content": null,
            "justify_items": null,
            "left": null,
            "margin": null,
            "max_height": null,
            "max_width": null,
            "min_height": null,
            "min_width": null,
            "object_fit": null,
            "object_position": null,
            "order": null,
            "overflow": null,
            "overflow_x": null,
            "overflow_y": null,
            "padding": null,
            "right": null,
            "top": null,
            "visibility": null,
            "width": null
          }
        },
        "ebbed9bf007b47798182bd6e241c92d2": {
          "model_module": "@jupyter-widgets/controls",
          "model_module_version": "1.5.0",
          "model_name": "HTMLModel",
          "state": {
            "_dom_classes": [],
            "_model_module": "@jupyter-widgets/controls",
            "_model_module_version": "1.5.0",
            "_model_name": "HTMLModel",
            "_view_count": null,
            "_view_module": "@jupyter-widgets/controls",
            "_view_module_version": "1.5.0",
            "_view_name": "HTMLView",
            "description": "",
            "description_tooltip": null,
            "layout": "IPY_MODEL_a7ceed42276d4c1ca812535cb830049c",
            "placeholder": "​",
            "style": "IPY_MODEL_5c211800ece34aec8c8ad26080c1222c",
            "value": " 61/61 [02:57&lt;00:00,  2.09s/it]"
          }
        }
      }
    }
  },
  "nbformat": 4,
  "nbformat_minor": 5
}